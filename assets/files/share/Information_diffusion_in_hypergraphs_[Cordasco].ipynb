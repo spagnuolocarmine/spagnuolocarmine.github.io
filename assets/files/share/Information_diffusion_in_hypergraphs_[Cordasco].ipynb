{
  "cells": [
    {
      "cell_type": "markdown",
      "source": [
        "![nawa](https://nawa.gov.pl/images/rozszerzenia/szablony/siteb3/logo-komputer.png)\n",
        "\n",
        "**WORKSHOP ON HYPERGRAPH MODELLING** @ 17th Workshop on Algorithms and Models for the Web Graph\n",
        "\n",
        "Prof. _Gennaro Cordasco_"
      ],
      "metadata": {}
    },
    {
      "cell_type": "markdown",
      "source": [
        "## Target set selection heuristics\n",
        "Three greedy-based heuristics for the **Diffusion on Hypergraphs** problem,\n",
        "i.e. finding the minimum influence target set *S in V* of a hypergraph *H=(V,E)*\n",
        "able to influence the whole network."
      ],
      "metadata": {}
    },
    {
      "cell_type": "markdown",
      "source": [
        "## Compute the target set according to the following algorithm.\n",
        "\n",
        "**_Dynamic greedy heuristic on hypergraph 2-section view_**\n",
        "\n",
        "The degree of nodes is computed on the [H]₂ of the residual hypergraph Hⁱ of *H*.\n",
        "Hⁱ is the hypergraph obtained by removing all hyperedges that are already influenced\n",
        "by the nodes in *S* at stage *i*.\n"
      ],
      "metadata": {}
    },
    {
      "cell_type": "code",
      "source": [
        "function dynamic_greedy_2section(h, metaV, metaE)\n",
        "    S = Dict{Int,Int}()\n",
        "    U = Dict{Int,Int}()\n",
        "\n",
        "    #init U set\n",
        "    for v=1:nhv(h)\n",
        "        heus = gethyperedges(h,v)\n",
        "        d = Set{Int}()\n",
        "        for he in heus\n",
        "            push!.(Ref(d),keys(getvertices(h,he.first)))\n",
        "        end\n",
        "        push!(U, v => length(d))\n",
        "    end\n",
        "\n",
        "    while length(U) != 0\n",
        "\t\t maxv_val, maxv_key = findmax(U)\n",
        "         delete!(U, maxv_key)\n",
        "         S[maxv_key] = maxv_val\n",
        "         actE = zeros(Bool, nhe(h))\n",
        "         actV = zeros(Bool, nhv(h))\n",
        "         for s in S\n",
        "              actV[s.first] = true\n",
        "         end\n",
        "\t     simres = simulate!(h, actV, actE, metaV, metaE; printme = false)\n",
        "\n",
        "         if simres.actvs == nhv(h)\n",
        "             break\n",
        "         end\n",
        "\n",
        "         visited = Set{Int}()\n",
        "         for he in gethyperedges(h, maxv_key)\n",
        "\n",
        "             for nv in getvertices(h,he.first)\n",
        "\n",
        "                 if !haskey(U,nv.first) || nv.first in visited\n",
        "                     continue\n",
        "                 end\n",
        "                 push!(visited, nv.first)\n",
        "\n",
        "                 d = Set{Int}()\n",
        "                 for he2 in gethyperedges(h, nv.first)\n",
        "                     if ! actE[he2.first]\n",
        "                         push!.(Ref(d), keys(getvertices(h, he2.first)))\n",
        "                     end\n",
        "                 end\n",
        "                 U[nv.first] = length(d)\n",
        "             end\n",
        "         end\n",
        "\n",
        "\n",
        "    end\n",
        "    length(S)\n",
        "end\n",
        ";"
      ],
      "outputs": [],
      "execution_count": 5,
      "metadata": {}
    },
    {
      "cell_type": "markdown",
      "source": [
        "_**Binary search based heuristic on hypergraph**_"
      ],
      "metadata": {}
    },
    {
      "cell_type": "code",
      "source": [
        "\n",
        "function static_greedy(h, metaV, metaE)\n",
        "    degrees = length.(h.v2he)\n",
        "    sortedVind = sortperm(degrees, rev=true)\n",
        "\n",
        "    left = 1\n",
        "    @assert length(sortedVind) == length(degrees)\n",
        "    right = length(sortedVind)\n",
        "    while left < right\n",
        "        location = Int(ceil( (left + right)/2))\n",
        "        actE = zeros(Bool, nhe(h))\n",
        "        actV = zeros(Bool, nhv(h))\n",
        "        # up to the first location true and remainder zeros\n",
        "        actV[sortedVind[1:location]] .= true\n",
        "        sres = simulate!(h, actV, actE, metaV, metaE; printme = false)\n",
        "        if sres.actvs != nhv(h)\n",
        "            left = location\n",
        "        else\n",
        "            right = location-1\n",
        "        end\n",
        "    end\n",
        "    left+1\n",
        "end\n",
        ";"
      ],
      "outputs": [],
      "execution_count": 7,
      "metadata": {}
    },
    {
      "cell_type": "markdown",
      "source": [
        "**_Dynamic greedy heuristic on hypergraph_**\n",
        "\n",
        "Initially, all nodes are added to the candidates set *U*.\n",
        "At each stage, the node of maximum degree is added to the target set *S* and removed from *U*.\n",
        "At this point, some nodes and/or hyperedges become infected.\n",
        "\n",
        "The algorithm simulates the diffusion process, and the influenced edges are pruned from the network.\n",
        "Consequentially, the degree of nodes δ(v) is updated."
      ],
      "metadata": {}
    },
    {
      "cell_type": "code",
      "source": [
        "\n",
        "function dynamic_greedy(h, metaV, metaE)\n",
        "\n",
        "    S = Dict{Int,Int}()\n",
        "    U = Dict{Int,Int}()\n",
        "\n",
        "    #init U set\n",
        "    for v=1:nhv(h)\n",
        "        heus = gethyperedges(h,v)\n",
        "        d = 0\n",
        "        for he in heus\n",
        "                d+=1\n",
        "        end\n",
        "        push!(U, v => d)\n",
        "    end\n",
        "\n",
        "    while length(U) != 0\n",
        "         #maxv = sort!(collect(U), by=x->x[2], rev = true)[1]\n",
        "\t\t maxv_val, maxv_key = findmax(U)\n",
        "         delete!(U, maxv_key)\n",
        "         S[maxv_key] = maxv_val\n",
        "         actE = zeros(Bool, nhe(h))\n",
        "         actV = zeros(Bool, nhv(h))\n",
        "\n",
        "         for s in S\n",
        "              actV[s.first] = true\n",
        "         end\n",
        "\n",
        "         simres = simulate!(h, actV, actE, metaV, metaE; printme = false)\n",
        "\n",
        "         if simres.actvs == nhv(h)\n",
        "             break\n",
        "         end\n",
        "\n",
        "         for he in gethyperedges(h,maxv_key)\n",
        "             for nv in getvertices(h,he.first)\n",
        "                 if !haskey(U,nv.first)\n",
        "                     continue\n",
        "                 end\n",
        "                 d = 0\n",
        "                 for he2 in gethyperedges(h, nv.first)\n",
        "                     if ! actE[he2.first]\n",
        "                         d+=1\n",
        "                     end\n",
        "                 end\n",
        "\n",
        "                 push!(U, nv.first => d)\n",
        "\n",
        "             end\n",
        "         end\n",
        "\n",
        "\n",
        "    end\n",
        "\n",
        "    actE = zeros(Bool, nhe(h))\n",
        "    actV = zeros(Bool, nhv(h))\n",
        "\n",
        "    for s in S\n",
        "         actV[s.first] = true\n",
        "    end\n",
        "\n",
        "    simres = simulate!(h, actV, actE, metaV, metaE; printme = false)\n",
        "\n",
        "    if simres.actvs != nhv(h)\n",
        "        println(\"Some problems here \", simres.actvs, \" \", nhv(h))\n",
        "    end\n",
        "\n",
        "    length(S)\n",
        "end\n",
        ";"
      ],
      "outputs": [],
      "execution_count": 8,
      "metadata": {}
    },
    {
      "cell_type": "markdown",
      "source": [
        "## Utility functions\n",
        "\n",
        "**_Simulation function._** It simulates the spreading of influence in a hypergraph, considering the nodes and hyperedges thresholds."
      ],
      "metadata": {}
    },
    {
      "cell_type": "code",
      "source": [
        "function simulate!(\n",
        "        h::Hypergraph{Bool},\n",
        "        actV::Vector{Bool}, actE::Vector{Bool},\n",
        "        metaV::Vector{Int}, metaE::Vector{Int};\n",
        "        printme = true, max_step=1_000_000 \n",
        "    )\n",
        "    step = 0\n",
        "    while true && step < max_step\n",
        "        step += 1\n",
        "        actE_cp = deepcopy(actE)\n",
        "        #deb = DataFrame(step=Int[], aSum)\n",
        "        for e in 1:nhe(h)\n",
        "            aSum = sum(actV[ collect(keys(getvertices(h,e))) ])\n",
        "            if aSum >= metaE[e]\n",
        "                actE_cp[e] = true\n",
        "            end\n",
        "            printme && println(\"$step e=$e $aSum $(metaE[e]) $(actE_cp[e])\")\n",
        "        end\n",
        "        #sum(actE_cp) == sum(actE) && return (actvs = sum(actV), step=step-1)\n",
        "        actE .= actE_cp\n",
        "        actV_cp = deepcopy(actV)\n",
        "        for v in 1:nhv(h)\n",
        "            aSum = sum(actE[ collect(keys(gethyperedges(h,v))) ])\n",
        "            if aSum >= metaV[v]\n",
        "                actV_cp[v] = true\n",
        "            end\n",
        "            printme && println(\"$step v=$v $aSum $(metaV[v]) $(actV_cp[v])\")\n",
        "        end\n",
        "        sum(actV_cp) == sum(actV) && return (actvs = sum(actV), step=step-1)\n",
        "        actV .= actV_cp\n",
        "    end\n",
        "    step\n",
        "end\n",
        ";"
      ],
      "outputs": [],
      "execution_count": 21,
      "metadata": {}
    },
    {
      "cell_type": "markdown",
      "source": [
        "**_Generate nodes thresholds proportionally to the degree._**"
      ],
      "metadata": {}
    },
    {
      "cell_type": "code",
      "source": [
        "function proportionalMetaV(h::Hypergraph,prop)\n",
        "    @assert 0.0 < prop <= 1.0\n",
        "    metaV = Vector{Int}(undef, nhv(h))\n",
        "    for v in 1:nhv(h)\n",
        "        metaV[v] = ceil(length(h.v2he[v])*prop)\n",
        "    end\n",
        "    metaV\n",
        "end\n",
        ";"
      ],
      "outputs": [],
      "execution_count": 17,
      "metadata": {}
    },
    {
      "cell_type": "markdown",
      "source": [
        "**_ Generate hyperedges thresholds proportionally to the size._**"
      ],
      "metadata": {}
    },
    {
      "cell_type": "code",
      "source": [
        "function proportionalMetaE(h::Hypergraph,prop)\n",
        "    @assert 0.0 < prop <= 1.0\n",
        "    metaE = Vector{Int}(undef, nhe(h))\n",
        "    for e in 1:nhe(h)\n",
        "        metaE[e] = ceil(length(h.he2v[e])*prop)\n",
        "    end\n",
        "    metaE\n",
        "end\n",
        ";"
      ],
      "outputs": [],
      "execution_count": 18,
      "metadata": {}
    },
    {
      "cell_type": "markdown",
      "source": [
        "## Experiment\n",
        "\n",
        "Here, we will evaluate the above heuristics with a hypergraph describing the interaction between the Game of Thrones TV series characters. \n",
        "\n",
        "First, we load a hypergraph studying characters' co-occurences within seasons. Here, the hyperedges are the GoT seasons and the characters who appear in each eason are the nodes."
      ],
      "metadata": {}
    },
    {
      "cell_type": "code",
      "source": [
        "using Pkg"
      ],
      "outputs": [],
      "execution_count": 35,
      "metadata": {}
    },
    {
      "cell_type": "code",
      "source": [
        "pkg\"add SimpleHypergraphs Statistics PyPlot LaTeXStrings\"\n",
        ";"
      ],
      "outputs": [
        {
          "output_type": "stream",
          "name": "stdout",
          "text": [
            "\u001b[32m\u001b[1m Resolving\u001b[22m\u001b[39m package versions...\n",
            "\u001b[32m\u001b[1m  Updating\u001b[22m\u001b[39m `~/.julia/environments/v1.3/Project.toml`\n",
            "\u001b[90m [no changes]\u001b[39m\n",
            "\u001b[32m\u001b[1m  Updating\u001b[22m\u001b[39m `~/.julia/environments/v1.3/Manifest.toml`\n",
            "\u001b[90m [no changes]\u001b[39m\n"
          ]
        }
      ],
      "execution_count": 42,
      "metadata": {}
    },
    {
      "cell_type": "code",
      "source": [
        "using SimpleHypergraphs\n",
        "using Statistics\n",
        "using PyPlot\n",
        "using LaTeXStrings"
      ],
      "outputs": [],
      "execution_count": 43,
      "metadata": {}
    },
    {
      "cell_type": "code",
      "source": [
        "file = download(\n",
        "    \"https://raw.githubusercontent.com/spagnuolocarmine/spagnuolocarmine.github.io/master/assets/files/share/got.hgf\",\n",
        "    \"got.hgf\"\n",
        ");"
      ],
      "outputs": [],
      "execution_count": 48,
      "metadata": {}
    },
    {
      "cell_type": "code",
      "source": [
        "h = hg_load(\"got.hgf\");"
      ],
      "outputs": [],
      "execution_count": 49,
      "metadata": {}
    },
    {
      "cell_type": "code",
      "source": [
        "nvalues = range(0.1, stop=0.9, step=0.1)\n",
        "runs = 10;"
      ],
      "outputs": [],
      "execution_count": 26,
      "metadata": {}
    },
    {
      "cell_type": "code",
      "source": [
        "data = Dict{String, Vector{Vector{Int}}}()\n",
        "\n",
        "push!(data, \"BinarySearch(H)\" => Vector{Vector{Int}}())\n",
        "push!(data, \"Greedy(H)\" => Vector{Vector{Int}}())\n",
        "push!(data, \"Greedy([H]₂)\" => Vector{Vector{Int}}())"
      ],
      "outputs": [
        {
          "output_type": "execute_result",
          "execution_count": 27,
          "data": {
            "text/plain": [
              "Dict{String,Array{Array{Int64,1},1}} with 3 entries:\n",
              "  \"Greedy([H]₂)\"    => Array{Int64,1}[]\n",
              "  \"BinarySearch(H)\" => Array{Int64,1}[]\n",
              "  \"Greedy(H)\"       => Array{Int64,1}[]"
            ]
          },
          "metadata": {}
        }
      ],
      "execution_count": 27,
      "metadata": {}
    },
    {
      "cell_type": "markdown",
      "source": [
        "After, we run each heuristics on the obtained hypergraph."
      ],
      "metadata": {}
    },
    {
      "cell_type": "code",
      "source": [
        "for n=nvalues\n",
        "\n",
        "    results1 = Vector{Int}()\n",
        "    results2 = Vector{Int}()\n",
        "    results3 = Vector{Int}()\n",
        "\n",
        "    for run=1:runs\n",
        "        metaV = proportionalMetaV(h, n)\n",
        "        metaE = proportionalMetaE(h, 0.5)\n",
        "\n",
        "        r1 = dynamic_greedy_2section(h, metaV, metaE)\n",
        "        r2 = static_greedy(h, metaV, metaE)\n",
        "        r3 = dynamic_greedy(h, metaV, metaE)\n",
        "\n",
        "        push!(results1, r1)\n",
        "        push!(results2, r2)\n",
        "        push!(results3, r3)\n",
        "    end\n",
        "    push!(data[\"Greedy([H]₂)\"], results1)\n",
        "    push!(data[\"BinarySearch(H)\"], results2)\n",
        "    push!(data[\"Greedy(H)\"], results3)\n",
        "\n",
        "    println(\"end \", n)\n",
        "end"
      ],
      "outputs": [
        {
          "output_type": "stream",
          "name": "stdout",
          "text": [
            "end 0.1\n",
            "end 0.2\n",
            "end 0.3\n",
            "end 0.4\n",
            "end 0.5\n",
            "end 0.6\n",
            "end 0.7\n",
            "end 0.8\n",
            "end 0.9\n"
          ]
        }
      ],
      "execution_count": 28,
      "metadata": {}
    },
    {
      "cell_type": "markdown",
      "source": [
        "## Plotting the results"
      ],
      "metadata": {}
    },
    {
      "cell_type": "code",
      "source": [
        "labels_dict = Dict{String, String}(\n",
        "    \"BinarySearch(H)\" => \"StaticGreedy\",\n",
        "    \"Greedy(H)\" => \"DynamicGreedy\",\n",
        "    \"Greedy([H]₂)\" => L\"DynamicGreedy_{[H]_2}\",\n",
        ")"
      ],
      "outputs": [
        {
          "output_type": "execute_result",
          "execution_count": 50,
          "data": {
            "text/plain": [
              "Dict{String,String} with 3 entries:\n",
              "  \"Greedy([H]₂)\"    => \"\\$DynamicGreedy_{[H]_2}\\$\"\n",
              "  \"BinarySearch(H)\" => \"StaticGreedy\"\n",
              "  \"Greedy(H)\"       => \"DynamicGreedy\""
            ]
          },
          "metadata": {}
        }
      ],
      "execution_count": 50,
      "metadata": {}
    },
    {
      "cell_type": "code",
      "source": [
        "ticks = nvalues"
      ],
      "outputs": [
        {
          "output_type": "execute_result",
          "execution_count": 51,
          "data": {
            "text/plain": [
              "0.1:0.1:0.9"
            ]
          },
          "metadata": {}
        }
      ],
      "execution_count": 51,
      "metadata": {}
    },
    {
      "cell_type": "code",
      "source": [
        "clf()\n",
        "\n",
        "plt.figure(figsize=(7,5))\n",
        "\n",
        "val = -0.4\n",
        "c = 1\n",
        "\n",
        "colorz=[\"#2C7BB6\", \"#D7191C\", \"#FF8900\"]"
      ],
      "outputs": [
        {
          "output_type": "execute_result",
          "execution_count": 61,
          "data": {
            "text/plain": [
              "3-element Array{String,1}:\n",
              " \"#2C7BB6\"\n",
              " \"#D7191C\"\n",
              " \"#FF8900\""
            ]
          },
          "metadata": {}
        }
      ],
      "execution_count": 61,
      "metadata": {}
    },
    {
      "cell_type": "code",
      "source": [
        "labels = Array{String, 1}()\n",
        "\n",
        "for algo in [\"BinarySearch(H)\", \"Greedy([H]₂)\", \"Greedy(H)\"]\n",
        "    global val, c\n",
        "\n",
        "    y = Array{Float64, 1}()\n",
        "\n",
        "    for v=1:length(collect((nvalues)))\n",
        "        push!(y, mean(data[algo][v]))\n",
        "    end\n",
        "\n",
        "    push!(\n",
        "        labels,\n",
        "        labels_dict[algo]\n",
        "    )\n",
        "\n",
        "    b = plt.plot(collect(nvalues), y, color=colorz[c])\n",
        "\n",
        "    c+=1\n",
        "end\n",
        "\n",
        "plt.legend(labels, fontsize=\"x-large\")\n",
        "\n",
        "plt.xticks(ticks, fontsize=\"x-large\") \n",
        "plt.yticks(fontsize=\"x-large\")\n",
        "\n",
        "plt.ylim(0, 600)\n",
        "\n",
        "ylabel(\"Influence set size\", fontstyle = \"italic\", fontsize=\"xx-large\", labelpad=10) \n",
        "xlabel(\"Thresholds\", fontstyle = \"italic\", fontsize=\"xx-large\", labelpad=10) \n",
        "\n",
        "plt.tight_layout()"
      ],
      "outputs": [
        {
          "output_type": "display_data",
          "data": {
            "image/png": "[encoded data removed]",
            "text/plain": [
              "Figure(PyObject <Figure size 640x480 with 1 Axes>)"
            ]
          },
          "metadata": {}
        }
      ],
      "execution_count": 62,
      "metadata": {}
    },
    {
      "cell_type": "code",
      "source": [],
      "outputs": [],
      "execution_count": null,
      "metadata": {}
    }
  ],
  "metadata": {
    "kernelspec": {
      "display_name": "Julia 1.3.1",
      "language": "julia",
      "name": "julia-1.3"
    },
    "language_info": {
      "file_extension": ".jl",
      "mimetype": "application/julia",
      "name": "julia",
      "version": "1.3.1"
    },
    "nteract": {
      "version": "0.15.0"
    }
  },
  "nbformat": 4,
  "nbformat_minor": 4
}