{
 "cells": [
  {
   "cell_type": "markdown",
   "metadata": {
    "slideshow": {
     "slide_type": "slide"
    }
   },
   "source": [
    "<center style=\"font-size:70px;  font-family:League Gothic, Impact, sans-serif;\"> SimpleHypergraph.jl </center>\n",
    "<br><br><br><br><br>\n",
    "<center style=\"font-size:30px;font-family:League Gothic, Impact, sans-serif;\">Carmine Spagnuolo,</center><br>\n",
    "<center style=\"font-size:30px;font-family:League Gothic, Impact, sans-serif;\">ISISLab, Università degli Studi di Salerno</center>\n"
   ]
  },
  {
   "cell_type": "markdown",
   "metadata": {
    "slideshow": {
     "slide_type": "slide"
    }
   },
   "source": [
    "# SimpleHypergraph.jl\n",
    "\n",
    "- A Julia library for hypegraphs manipulation. \n",
    "- Version v0.1.6, October 2019.\n",
    "- Available on a GitHub public  repository: [https://github.com/pszufe/SimpleHypergrap\n",
    "hs.jl](https://github.com/pszufe/SimpleHypergraphs.jl)\n",
    "-  APIs are designed in similar fashion of the popular library for graph manipulation `LightGraphs.jl`.\n",
    "- Documentation: [https://pszufe.github.io/SimpleHypergraphs.jl/stable](https://pszufe.github.io/SimpleHypergraphs.jl/stable)\n",
    "- *SimpleHypergraphs.jl --- Novel Software Framework for Modelling and Analysis of Hypergraphs*. A. Antelmi, G. Cordasco, B. Kaminski, P. Pralat, V. Scarano, C. Spagnuolo, and P. Szufel. Proceedings of the 16th Workshop on Algorithms and Models for the Web Graph (WAW 2019), Lecture Notes in Computer Science 11631, Springer, 2019."
   ]
  },
  {
   "cell_type": "markdown",
   "metadata": {
    "slideshow": {
     "slide_type": "slide"
    }
   },
   "source": [
    "# State-of-the-Art (1)\n",
    "\n",
    "* _Chapel HyperGraph Library (CHGL)_ is a library for the emerging parallel language Chapel.\n",
    "\n",
    "* _HyperX_ is a scalable framework for processing hypergraphs and learning algorithm built on top of Apache Spark. \n",
    "\n",
    "* _Pygraph_ is a pure Python library for graph manipulation released under the MIT license. \n",
    "\n",
    "* _Multihypergraph_ is a Python package for graphs released under GPL license. \n",
    "\n",
    "* _HyperNetX_  is a Python preliminary library released in 2018 under the Battelle Memorial Institute licence.\n"
   ]
  },
  {
   "cell_type": "markdown",
   "metadata": {
    "slideshow": {
     "slide_type": "slide"
    }
   },
   "source": [
    "# State-of-the-Art (2)\n",
    "\n",
    "* _Halp_ is a Python software package providing both a directed and an undirected hypergraph implementation as well as several important and classical algorithms.\n",
    "\n",
    "* _HyperGraphLib_ is a C++ implementation of hypergraphs that exploits the Boost Library.\n",
    "\n",
    "* _Iper_ is a JavaScript library for hypergraphs released under MIT license. \n",
    "\n",
    "* _NetworkR_  is an R package with a set of functions for analyzing social and economic networks including hypergraphs.\n",
    "\n",
    "* _Gspbox_ is an easy to use Matlab toolbox that performs a wide variety of operations on a graph.\n"
   ]
  },
  {
   "cell_type": "markdown",
   "metadata": {
    "slideshow": {
     "slide_type": "slide"
    }
   },
   "source": [
    "# Yet Another Hypergraphs Library?\n",
    "\n",
    "- Chapel, C and C++ based libraries provide  good performance but do not provide any kind of visualization.\n",
    "-  Python  and JavaScript based libraries do not allow programmers to easily manage big hypergraphs.\n",
    "- Many of them do not provide algorithms for hypergraphs.\n",
    "- All libraries do not support meta-data information for vertices and hyperedges!"
   ]
  },
  {
   "cell_type": "markdown",
   "metadata": {
    "slideshow": {
     "slide_type": "slide"
    }
   },
   "source": [
    "# Let's start using SimpleHypergraph.jl\n",
    "\n",
    "- Download and install the package `SimpleHypergraphs.jl` in your project using the Julia Package manager."
   ]
  },
  {
   "cell_type": "code",
   "execution_count": 48,
   "metadata": {
    "slideshow": {
     "slide_type": "skip"
    }
   },
   "outputs": [
    {
     "name": "stdout",
     "output_type": "stream",
     "text": [
      "\u001b[32m\u001b[1m  Updating\u001b[22m\u001b[39m `C:\\Users\\aless\\.julia\\environments\\v1.0\\Project.toml`\n",
      " \u001b[90m [aa4a32ff]\u001b[39m\u001b[91m - SimpleHypergraphs v0.1.6 #hg_visualization (https://github.com/pszufe/SimpleHypergraphs.jl.git)\u001b[39m\n",
      "\u001b[32m\u001b[1m  Updating\u001b[22m\u001b[39m `C:\\Users\\aless\\.julia\\environments\\v1.0\\Manifest.toml`\n",
      " \u001b[90m [aa4a32ff]\u001b[39m\u001b[91m - SimpleHypergraphs v0.1.6 #hg_visualization (https://github.com/pszufe/SimpleHypergraphs.jl.git)\u001b[39m\n"
     ]
    }
   ],
   "source": [
    "] rm SimpleHypergraphs.jl"
   ]
  },
  {
   "cell_type": "code",
   "execution_count": 49,
   "metadata": {
    "scrolled": true,
    "slideshow": {
     "slide_type": "fragment"
    }
   },
   "outputs": [
    {
     "name": "stdout",
     "output_type": "stream",
     "text": [
      "\u001b[32m\u001b[1m  Updating\u001b[22m\u001b[39m git-repo `https://github.com/pszufe/SimpleHypergraphs.jl.git`\n",
      "\u001b[?25l\u001b[2K\u001b[?25h\u001b[32m\u001b[1m Resolving\u001b[22m\u001b[39m package versions...\n",
      "\u001b[32m\u001b[1m  Updating\u001b[22m\u001b[39m `C:\\Users\\aless\\.julia\\environments\\v1.0\\Project.toml`\n",
      " \u001b[90m [aa4a32ff]\u001b[39m\u001b[92m + SimpleHypergraphs v0.1.6 #hg_visualization (https://github.com/pszufe/SimpleHypergraphs.jl.git)\u001b[39m\n",
      "\u001b[32m\u001b[1m  Updating\u001b[22m\u001b[39m `C:\\Users\\aless\\.julia\\environments\\v1.0\\Manifest.toml`\n",
      " \u001b[90m [aa4a32ff]\u001b[39m\u001b[92m + SimpleHypergraphs v0.1.6 #hg_visualization (https://github.com/pszufe/SimpleHypergraphs.jl.git)\u001b[39m\n"
     ]
    }
   ],
   "source": [
    "] add SimpleHypergraphs.jl#hg_visualization"
   ]
  },
  {
   "cell_type": "markdown",
   "metadata": {
    "slideshow": {
     "slide_type": "fragment"
    }
   },
   "source": [
    "- Include the package in your code by through the keyword **using**;\n",
    "- You cannot modify or extend a function of the included module."
   ]
  },
  {
   "cell_type": "code",
   "execution_count": 2,
   "metadata": {
    "scrolled": true,
    "slideshow": {
     "slide_type": "fragment"
    }
   },
   "outputs": [],
   "source": [
    "using SimpleHypergraphs"
   ]
  },
  {
   "cell_type": "markdown",
   "metadata": {
    "slideshow": {
     "slide_type": "slide"
    }
   },
   "source": [
    "# Hypergraph representation\n",
    "- `H=(V,E)` as an `n x k` matrix, where `n` is the number of vertices and `k` is the number of hyperedges.\n",
    "- Stores in-memory a hypergraph using its matrix representation.\n",
    "- Vertices and hyperedges are uniquely identified by progressive integer ids, corresponding to rows `(1,...,n)` and columns `(1,...,k)`, respectively.\n",
    "-  Each position `(i,j)` of the matrix denotes the weight of vertex `i` within the hyperedge `j`."
   ]
  },
  {
   "cell_type": "markdown",
   "metadata": {
    "slideshow": {
     "slide_type": "slide"
    }
   },
   "source": [
    "# Creating your first hypergraph...\n",
    "\n",
    "- Hypergraph of *5 nodes and 4 hyperedges*.\n",
    "- Hyperedges have a real value as weight, we use the Julia type *Float64*."
   ]
  },
  {
   "cell_type": "code",
   "execution_count": 3,
   "metadata": {
    "scrolled": true,
    "slideshow": {
     "slide_type": "fragment"
    }
   },
   "outputs": [
    {
     "data": {
      "text/plain": [
       "5×4 Hypergraph{Float64,Nothing,Nothing}:\n",
       " 1.5        nothing   nothing   nothing\n",
       " 1.5        nothing  3.5        nothing\n",
       " 1.5        nothing   nothing  2.5     \n",
       "  nothing   nothing  4.5       4.5     \n",
       "  nothing  6.5        nothing  5.5     "
      ]
     },
     "execution_count": 3,
     "metadata": {},
     "output_type": "execute_result"
    }
   ],
   "source": [
    "#Hypergraph{T}(n,k) where {T<:Real}\n",
    "h = Hypergraph{Float64}(5,4)\n",
    "h[1:3,1] .= 1.5\n",
    "h[3,4] = 2.5\n",
    "h[2,3] = 3.5\n",
    "h[4,3:4] .= 4.5\n",
    "h[5,4] = 5.5\n",
    "h[5,2] = 6.5\n",
    "\n",
    "h"
   ]
  },
  {
   "cell_type": "markdown",
   "metadata": {
    "slideshow": {
     "slide_type": "slide"
    }
   },
   "source": [
    "# ...And visualizing it"
   ]
  },
  {
   "cell_type": "code",
   "execution_count": 5,
   "metadata": {
    "scrolled": true,
    "slideshow": {
     "slide_type": "fragment"
    }
   },
   "outputs": [
    {
     "data": {
      "text/html": [
       "<head>\n",
       "<link rel=\"stylesheet\" type=\"text/css\" href=\"https://isislab-unisa.github.io/hypergraphs-plot/css/color-edge-style.css\">\n",
       "</head>\n",
       "<div class=\"hg-plot2\"></div>\n",
       "<script src=\"https://isislab-unisa.github.io/hypergraphs-plot//bundle.v1.0.js\"></script>\n",
       "<script>\n",
       "hgplot.drawing.hgColorEdgePlot({graph:{\n",
       "    \"nodes\":[\n",
       "        {\"id\":\"1\" , \"links\":[\"1\"]},\n",
       "        {\"id\":\"2\" , \"links\":[\"1\",\"3\"]},\n",
       "        {\"id\":\"3\" , \"links\":[\"1\",\"4\"]},\n",
       "        {\"id\":\"4\" , \"links\":[\"3\",\"4\"]},\n",
       "        {\"id\":\"5\" , \"links\":[\"2\",\"4\"]}\n",
       "    ],\n",
       "    \"links\":[\n",
       "        {\"id\":\"1\", \"nodes\": [\"1\",\"2\",\"3\"]},\n",
       "        {\"id\":\"2\", \"nodes\": [\"5\"]},\n",
       "        {\"id\":\"3\", \"nodes\": [\"2\",\"4\"]},\n",
       "        {\"id\":\"4\", \"nodes\": [\"3\",\"4\",\"5\"]}\n",
       "    ],\n",
       "    \"nodelinks\":[\n",
       "                    {\"node\":\"1\",\"link\":\"1\",\"value\":\"1.5\"},\n",
       "                    {\"node\":\"2\",\"link\":\"1\",\"value\":\"1.5\"},\n",
       "                    {\"node\":\"2\",\"link\":\"3\",\"value\":\"3.5\"},\n",
       "                    {\"node\":\"3\",\"link\":\"1\",\"value\":\"1.5\"},\n",
       "                    {\"node\":\"3\",\"link\":\"4\",\"value\":\"2.5\"},\n",
       "                    {\"node\":\"4\",\"link\":\"3\",\"value\":\"4.5\"},\n",
       "                    {\"node\":\"4\",\"link\":\"4\",\"value\":\"4.5\"},\n",
       "                    {\"node\":\"5\",\"link\":\"2\",\"value\":\"6.5\"},\n",
       "                    {\"node\":\"5\",\"link\":\"4\",\"value\":\"5.5\"}\n",
       "        ]\n",
       "    }},{preferences:{\"colorEdges\":\"default\",\"colorNodes\":\"default\",\"sizeNodes\":\"default\"}},{idColorEdge:\"2\"});\n",
       "</script>\n"
      ],
      "text/plain": [
       "HTML{String}(\"<head>\\n<link rel=\\\"stylesheet\\\" type=\\\"text/css\\\" href=\\\"https://isislab-unisa.github.io/hypergraphs-plot/css/color-edge-style.css\\\">\\n</head>\\n<div class=\\\"hg-plot2\\\"></div>\\n<script src=\\\"https://isislab-unisa.github.io/hypergraphs-plot//bundle.v1.0.js\\\"></script>\\n<script>\\nhgplot.drawing.hgColorEdgePlot({graph:{\\n    \\\"nodes\\\":[\\n        {\\\"id\\\":\\\"1\\\" , \\\"links\\\":[\\\"1\\\"]},\\n        {\\\"id\\\":\\\"2\\\" , \\\"links\\\":[\\\"1\\\",\\\"3\\\"]},\\n        {\\\"id\\\":\\\"3\\\" , \\\"links\\\":[\\\"1\\\",\\\"4\\\"]},\\n        {\\\"id\\\":\\\"4\\\" , \\\"links\\\":[\\\"3\\\",\\\"4\\\"]},\\n        {\\\"id\\\":\\\"5\\\" , \\\"links\\\":[\\\"2\\\",\\\"4\\\"]}\\n    ],\\n    \\\"links\\\":[\\n        {\\\"id\\\":\\\"1\\\", \\\"nodes\\\": [\\\"1\\\",\\\"2\\\",\\\"3\\\"]},\\n        {\\\"id\\\":\\\"2\\\", \\\"nodes\\\": [\\\"5\\\"]},\\n        {\\\"id\\\":\\\"3\\\", \\\"nodes\\\": [\\\"2\\\",\\\"4\\\"]},\\n        {\\\"id\\\":\\\"4\\\", \\\"nodes\\\": [\\\"3\\\",\\\"4\\\",\\\"5\\\"]}\\n    ],\\n    \\\"nodelinks\\\":[\\n                    {\\\"node\\\":\\\"1\\\",\\\"link\\\":\\\"1\\\",\\\"value\\\":\\\"1.5\\\"},\\n                    {\\\"node\\\":\\\"2\\\",\\\"link\\\":\\\"1\\\",\\\"value\\\":\\\"1.5\\\"},\\n                    {\\\"node\\\":\\\"2\\\",\\\"link\\\":\\\"3\\\",\\\"value\\\":\\\"3.5\\\"},\\n                    {\\\"node\\\":\\\"3\\\",\\\"link\\\":\\\"1\\\",\\\"value\\\":\\\"1.5\\\"},\\n                    {\\\"node\\\":\\\"3\\\",\\\"link\\\":\\\"4\\\",\\\"value\\\":\\\"2.5\\\"},\\n                    {\\\"node\\\":\\\"4\\\",\\\"link\\\":\\\"3\\\",\\\"value\\\":\\\"4.5\\\"},\\n                    {\\\"node\\\":\\\"4\\\",\\\"link\\\":\\\"4\\\",\\\"value\\\":\\\"4.5\\\"},\\n                    {\\\"node\\\":\\\"5\\\",\\\"link\\\":\\\"2\\\",\\\"value\\\":\\\"6.5\\\"},\\n                    {\\\"node\\\":\\\"5\\\",\\\"link\\\":\\\"4\\\",\\\"value\\\":\\\"5.5\\\"}\\n        ]\\n    }},{preferences:{\\\"colorEdges\\\":\\\"default\\\",\\\"colorNodes\\\":\\\"default\\\",\\\"sizeNodes\\\":\\\"default\\\"}},{idColorEdge:\\\"2\\\"});\\n</script>\\n\")"
      ]
     },
     "execution_count": 5,
     "metadata": {},
     "output_type": "execute_result"
    }
   ],
   "source": [
    "plot(h, type=\"color-edge\")"
   ]
  },
  {
   "cell_type": "markdown",
   "metadata": {
    "slideshow": {
     "slide_type": "slide"
    }
   },
   "source": [
    "# Basic Functionalities\n",
    "\n",
    "- **add\\_vertex!**, adds a vertex to a given hypergraph _H_.\n",
    "- **add\\_hyperedge!**, adds a hyperedge to a given hypergraph _H_.\n"
   ]
  },
  {
   "cell_type": "code",
   "execution_count": 6,
   "metadata": {
    "slideshow": {
     "slide_type": "fragment"
    }
   },
   "outputs": [
    {
     "data": {
      "text/plain": [
       "6×5 Hypergraph{Float64,Nothing,Nothing}:\n",
       " 1.5        nothing   nothing   nothing   nothing\n",
       " 1.5        nothing  3.5        nothing   nothing\n",
       " 1.5        nothing   nothing  2.5        nothing\n",
       "  nothing   nothing  4.5       4.5        nothing\n",
       "  nothing  6.5        nothing  5.5       1.2     \n",
       "  nothing   nothing   nothing   nothing  1.3     "
      ]
     },
     "execution_count": 6,
     "metadata": {},
     "output_type": "execute_result"
    }
   ],
   "source": [
    "add_vertex!(h) == 6\n",
    "add_hyperedge!(h) == 5\n",
    "\n",
    "h[5,5] = 1.2\n",
    "h[6,5] = 1.3\n",
    "\n",
    "h"
   ]
  },
  {
   "cell_type": "markdown",
   "metadata": {
    "slideshow": {
     "slide_type": "slide"
    }
   },
   "source": [
    "# Basic Functionalities (2)\n",
    "\n",
    "- **set\\_vertex\\_meta!**, sets a new meta value new\\_value for vertex id in _H_.\n",
    "- **get\\_vertex\\_meta** returns a meta value stored at vertex _id_ in _H_.\n"
   ]
  },
  {
   "cell_type": "code",
   "execution_count": 7,
   "metadata": {
    "slideshow": {
     "slide_type": "fragment"
    }
   },
   "outputs": [
    {
     "data": {
      "text/plain": [
       "\"Bob\""
      ]
     },
     "execution_count": 7,
     "metadata": {},
     "output_type": "execute_result"
    }
   ],
   "source": [
    "h = Hypergraph{Float64,String,String}(5,4)\n",
    "h[1:3,1] .= 1.5\n",
    "h[3,4] = 2.5\n",
    "h[2,3] = 3.5\n",
    "h[4,3:4] .= 4.5\n",
    "h[5,4] = 5.5\n",
    "h[5,2] = 6.5\n",
    "\n",
    "set_vertex_meta!(h,\"Bob\",1)\n",
    "get_vertex_meta(h,1)"
   ]
  },
  {
   "cell_type": "markdown",
   "metadata": {
    "slideshow": {
     "slide_type": "fragment"
    }
   },
   "source": [
    "- **set\\_hyperedge\\_meta!**, sets a new meta value new\\_value for hyperedge id in _H_.\n",
    "- **get\\_hyperedge\\_meta** returns a meta value stored at hyperedge _id_ in _H_."
   ]
  },
  {
   "cell_type": "code",
   "execution_count": 8,
   "metadata": {
    "slideshow": {
     "slide_type": "fragment"
    }
   },
   "outputs": [
    {
     "data": {
      "text/plain": [
       "\"Home\""
      ]
     },
     "execution_count": 8,
     "metadata": {},
     "output_type": "execute_result"
    }
   ],
   "source": [
    "set_hyperedge_meta!(h,\"Home\",1)\n",
    "get_hyperedge_meta(h,1)"
   ]
  },
  {
   "cell_type": "markdown",
   "metadata": {
    "slideshow": {
     "slide_type": "slide"
    }
   },
   "source": [
    "# Other ways to create a hypergraph\n",
    "- You can create a hypergraph `H` from a matrix `m`\n",
    "- You can either attach metadata to vertices and hyperedges directly when you create the hypergraph `H` from its matrix representation."
   ]
  },
  {
   "cell_type": "code",
   "execution_count": 9,
   "metadata": {
    "slideshow": {
     "slide_type": "fragment"
    }
   },
   "outputs": [
    {
     "data": {
      "text/plain": [
       "4×4 Hypergraph{Int64,String,Nothing}:\n",
       " 1          nothing  4         nothing\n",
       " 2         3          nothing  nothing\n",
       "  nothing   nothing  5         nothing\n",
       "  nothing   nothing  6         nothing"
      ]
     },
     "execution_count": 9,
     "metadata": {},
     "output_type": "execute_result"
    }
   ],
   "source": [
    "m = [1       nothing 4       nothing\n",
    "     2       3       nothing nothing\n",
    "     nothing nothing 5       nothing\n",
    "     nothing nothing 6       nothing]\n",
    "\n",
    "h1 = Hypergraph{String}(m; v_meta=[\"a\", \"b\", \"c\", \"d\"])\n",
    "\n",
    "h1"
   ]
  },
  {
   "cell_type": "code",
   "execution_count": 10,
   "metadata": {
    "slideshow": {
     "slide_type": "fragment"
    }
   },
   "outputs": [
    {
     "data": {
      "text/plain": [
       "\"a\""
      ]
     },
     "execution_count": 10,
     "metadata": {},
     "output_type": "execute_result"
    }
   ],
   "source": [
    "get_vertex_meta(h1, 1)"
   ]
  },
  {
   "cell_type": "code",
   "execution_count": 11,
   "metadata": {
    "slideshow": {
     "slide_type": "slide"
    }
   },
   "outputs": [
    {
     "data": {
      "text/plain": [
       "4×4 Hypergraph{Int64,String,Float64}:\n",
       " 1          nothing  4         nothing\n",
       " 2         3          nothing  nothing\n",
       "  nothing   nothing  5         nothing\n",
       "  nothing   nothing  6         nothing"
      ]
     },
     "execution_count": 11,
     "metadata": {},
     "output_type": "execute_result"
    }
   ],
   "source": [
    "h2 = Hypergraph{String, Float64}(m; v_meta=[\"a\", \"b\", \"c\", \"d\"], he_meta=[10.2, 11.3, 12.4, 13.5])\n",
    "\n",
    "h2"
   ]
  },
  {
   "cell_type": "code",
   "execution_count": 12,
   "metadata": {
    "slideshow": {
     "slide_type": "fragment"
    }
   },
   "outputs": [
    {
     "data": {
      "text/plain": [
       "10.2"
      ]
     },
     "execution_count": 12,
     "metadata": {},
     "output_type": "execute_result"
    }
   ],
   "source": [
    "get_hyperedge_meta(h2,1)"
   ]
  },
  {
   "cell_type": "markdown",
   "metadata": {
    "slideshow": {
     "slide_type": "slide"
    }
   },
   "source": [
    "# Other ways to create a hypergraph  (1)\n",
    "- You can create a hypergraph `H` from a LightGraph.Graph `g`"
   ]
  },
  {
   "cell_type": "code",
   "execution_count": 60,
   "metadata": {},
   "outputs": [
    {
     "name": "stdout",
     "output_type": "stream",
     "text": [
      "\u001b[32m\u001b[1m Resolving\u001b[22m\u001b[39m package versions...\n",
      "\u001b[32m\u001b[1m  Updating\u001b[22m\u001b[39m `C:\\Users\\aless\\.julia\\environments\\v1.0\\Project.toml`\n",
      "\u001b[90m [no changes]\u001b[39m\n",
      "\u001b[32m\u001b[1m  Updating\u001b[22m\u001b[39m `C:\\Users\\aless\\.julia\\environments\\v1.0\\Manifest.toml`\n",
      "\u001b[90m [no changes]\u001b[39m\n"
     ]
    }
   ],
   "source": [
    "] add LightGraphs"
   ]
  },
  {
   "cell_type": "code",
   "execution_count": 13,
   "metadata": {},
   "outputs": [],
   "source": [
    "using LightGraphs"
   ]
  },
  {
   "cell_type": "code",
   "execution_count": 14,
   "metadata": {},
   "outputs": [
    {
     "data": {
      "text/plain": [
       "3×2 Hypergraph{Bool,Nothing,Nothing}:\n",
       " true             nothing\n",
       " true         true       \n",
       "     nothing  true       "
      ]
     },
     "execution_count": 14,
     "metadata": {},
     "output_type": "execute_result"
    }
   ],
   "source": [
    "g = SimpleGraph(3);\n",
    "\n",
    "add_edge!(g, 1, 2);\n",
    "add_edge!(g, 2, 3);\n",
    "\n",
    "hg = Hypergraph(g)\n",
    "\n",
    "hg"
   ]
  },
  {
   "cell_type": "markdown",
   "metadata": {
    "slideshow": {
     "slide_type": "slide"
    }
   },
   "source": [
    "# Basic Functionalities (3)\n",
    "\n",
    "- Get vertices from a hypergraph a for a given hyperedge `he_id`.\n"
   ]
  },
  {
   "cell_type": "code",
   "execution_count": 15,
   "metadata": {
    "slideshow": {
     "slide_type": "fragment"
    }
   },
   "outputs": [
    {
     "data": {
      "text/plain": [
       "Dict{Int64,Float64} with 3 entries:\n",
       "  2 => 1.5\n",
       "  3 => 1.5\n",
       "  1 => 1.5"
      ]
     },
     "execution_count": 15,
     "metadata": {},
     "output_type": "execute_result"
    }
   ],
   "source": [
    "getvertices(h,1)"
   ]
  },
  {
   "cell_type": "code",
   "execution_count": 16,
   "metadata": {
    "slideshow": {
     "slide_type": "fragment"
    }
   },
   "outputs": [
    {
     "data": {
      "text/plain": [
       "5×4 Hypergraph{Float64,String,String}:\n",
       " 1.5        nothing   nothing   nothing\n",
       " 1.5        nothing  3.5        nothing\n",
       " 1.5        nothing   nothing  2.5     \n",
       "  nothing   nothing  4.5       4.5     \n",
       "  nothing  6.5        nothing  5.5     "
      ]
     },
     "execution_count": 16,
     "metadata": {},
     "output_type": "execute_result"
    }
   ],
   "source": [
    "h"
   ]
  },
  {
   "cell_type": "markdown",
   "metadata": {
    "slideshow": {
     "slide_type": "fragment"
    }
   },
   "source": [
    "- Get hyperedges for a given vertex `v_id` in a hypergraph `h`."
   ]
  },
  {
   "cell_type": "code",
   "execution_count": 17,
   "metadata": {
    "slideshow": {
     "slide_type": "fragment"
    }
   },
   "outputs": [
    {
     "data": {
      "text/plain": [
       "Dict{Int64,Float64} with 1 entry:\n",
       "  1 => 1.5"
      ]
     },
     "execution_count": 17,
     "metadata": {},
     "output_type": "execute_result"
    }
   ],
   "source": [
    "gethyperedges(h,1)"
   ]
  },
  {
   "cell_type": "markdown",
   "metadata": {
    "slideshow": {
     "slide_type": "slide"
    }
   },
   "source": [
    "# Basic functionalities (4)\n",
    "- Remove a vertex `v` from a hypergraph `h`"
   ]
  },
  {
   "cell_type": "code",
   "execution_count": 18,
   "metadata": {
    "slideshow": {
     "slide_type": "fragment"
    }
   },
   "outputs": [
    {
     "data": {
      "text/plain": [
       "5×4 Hypergraph{Float64,String,String}:\n",
       " 1.5        nothing   nothing   nothing\n",
       " 1.5        nothing  3.5        nothing\n",
       " 1.5        nothing   nothing  2.5     \n",
       "  nothing   nothing  4.5       4.5     \n",
       "  nothing  6.5        nothing  5.5     "
      ]
     },
     "execution_count": 18,
     "metadata": {},
     "output_type": "execute_result"
    }
   ],
   "source": [
    "h"
   ]
  },
  {
   "cell_type": "code",
   "execution_count": 19,
   "metadata": {
    "slideshow": {
     "slide_type": "fragment"
    }
   },
   "outputs": [
    {
     "data": {
      "text/plain": [
       "4×4 Hypergraph{Float64,String,String}:\n",
       "  nothing  6.5        nothing  5.5     \n",
       " 1.5        nothing  3.5        nothing\n",
       " 1.5        nothing   nothing  2.5     \n",
       "  nothing   nothing  4.5       4.5     "
      ]
     },
     "execution_count": 19,
     "metadata": {},
     "output_type": "execute_result"
    }
   ],
   "source": [
    "remove_vertex!(h, 1)\n",
    "\n",
    "h"
   ]
  },
  {
   "cell_type": "markdown",
   "metadata": {
    "slideshow": {
     "slide_type": "fragment"
    }
   },
   "source": [
    "Note that running this function will cause reordering of vertices in the hypergraph `h`: the vertex `v` will replaced by the last vertex of the hypergraph and the list of vertices will be shrunk."
   ]
  },
  {
   "cell_type": "markdown",
   "metadata": {
    "slideshow": {
     "slide_type": "slide"
    }
   },
   "source": [
    "# Hypergraph info\n",
    "\n",
    "- `size`: returns the size of Hypergraph `h`. The result is a tuple of the number of vertices and the number of hyperedges."
   ]
  },
  {
   "cell_type": "code",
   "execution_count": 20,
   "metadata": {
    "slideshow": {
     "slide_type": "fragment"
    }
   },
   "outputs": [
    {
     "data": {
      "text/plain": [
       "(4, 4)"
      ]
     },
     "execution_count": 20,
     "metadata": {},
     "output_type": "execute_result"
    }
   ],
   "source": [
    "size(h)"
   ]
  },
  {
   "cell_type": "markdown",
   "metadata": {
    "slideshow": {
     "slide_type": "fragment"
    }
   },
   "source": [
    "- `nhv`  and `nhe`: return the number of vertices and hyperedges in the hypergraph `h`, respectively."
   ]
  },
  {
   "cell_type": "code",
   "execution_count": 21,
   "metadata": {
    "slideshow": {
     "slide_type": "fragment"
    }
   },
   "outputs": [
    {
     "data": {
      "text/plain": [
       "4"
      ]
     },
     "execution_count": 21,
     "metadata": {},
     "output_type": "execute_result"
    }
   ],
   "source": [
    "nhv(h)"
   ]
  },
  {
   "cell_type": "code",
   "execution_count": 22,
   "metadata": {
    "slideshow": {
     "slide_type": "fragment"
    }
   },
   "outputs": [
    {
     "data": {
      "text/plain": [
       "4"
      ]
     },
     "execution_count": 22,
     "metadata": {},
     "output_type": "execute_result"
    }
   ],
   "source": [
    "nhe(h)"
   ]
  },
  {
   "cell_type": "markdown",
   "metadata": {
    "slideshow": {
     "slide_type": "slide"
    }
   },
   "source": [
    "# Hypergraph Transformations as LightGraphs' simple graphs\n",
    "The goal of those methods is to provide a way to manipulate a hypergraph using the methods from the `LightGraphs.jl` library. This has been achieved by providing types that are subtypes of the `LightGraphs.SimpleGraphs.AbstractSimpleGraph{Int}` type along with appropiate methods."
   ]
  },
  {
   "cell_type": "markdown",
   "metadata": {
    "slideshow": {
     "slide_type": "slide"
    }
   },
   "source": [
    "# Hypergraph Transformations\n",
    "\n",
    "## BipartiteView\n",
    "\n",
    "Bipartite representation of a hypergraph `H`.  An incidence graph of hypergraph `H=(V,E)`; that is, a bipartite graph `IG(H)` with vertex set `S=V union E` , and where `v in V` and `e in E` are adjacent if and only if `v in e`.\n",
    "\n",
    "![](assets/res/hytac-2019/hbipartite.png)"
   ]
  },
  {
   "cell_type": "markdown",
   "metadata": {
    "slideshow": {
     "slide_type": "slide"
    }
   },
   "source": [
    "## BipartiteView\n",
    "\n",
    "- Create a graph `G` from the  `BipartiteView` of `H`.\n",
    "- We need to import the library `LightGraphs` for manipulating graph objects.\n",
    "- Note this is a view - changes to the original hypergraph will be automatically reflected in the view."
   ]
  },
  {
   "cell_type": "code",
   "execution_count": 23,
   "metadata": {
    "scrolled": true,
    "slideshow": {
     "slide_type": "slide"
    }
   },
   "outputs": [
    {
     "data": {
      "text/html": [
       "<head>\n",
       "<link rel=\"stylesheet\" type=\"text/css\" href=\"https://isislab-unisa.github.io/hypergraphs-plot/css/color-edge-style.css\">\n",
       "</head>\n",
       "<div class=\"hg-plot3\"></div>\n",
       "<script src=\"https://isislab-unisa.github.io/hypergraphs-plot//bundle.v1.0.js\"></script>\n",
       "<script>\n",
       "hgplot.drawing.hgColorEdgePlot({graph:{\n",
       "    \"nodes\":[\n",
       "        {\"id\":\"1\" , \"links\":[\"1\"]},\n",
       "        {\"id\":\"2\" , \"links\":[\"1\",\"3\"]},\n",
       "        {\"id\":\"3\" , \"links\":[\"1\",\"4\"]},\n",
       "        {\"id\":\"4\" , \"links\":[\"3\",\"4\"]},\n",
       "        {\"id\":\"5\" , \"links\":[\"2\",\"4\",\"5\"]},\n",
       "        {\"id\":\"6\" , \"links\":[\"5\"]}\n",
       "    ],\n",
       "    \"links\":[\n",
       "        {\"id\":\"1\", \"nodes\": [\"1\",\"2\",\"3\"]},\n",
       "        {\"id\":\"2\", \"nodes\": [\"5\"]},\n",
       "        {\"id\":\"3\", \"nodes\": [\"2\",\"4\"]},\n",
       "        {\"id\":\"4\", \"nodes\": [\"3\",\"4\",\"5\"]},\n",
       "        {\"id\":\"5\", \"nodes\": [\"5\",\"6\"]}\n",
       "    ],\n",
       "    \"nodelinks\":[\n",
       "                    {\"node\":\"1\",\"link\":\"1\",\"value\":\"1.5\"},\n",
       "                    {\"node\":\"2\",\"link\":\"1\",\"value\":\"1.5\"},\n",
       "                    {\"node\":\"2\",\"link\":\"3\",\"value\":\"3.5\"},\n",
       "                    {\"node\":\"3\",\"link\":\"1\",\"value\":\"1.5\"},\n",
       "                    {\"node\":\"3\",\"link\":\"4\",\"value\":\"2.5\"},\n",
       "                    {\"node\":\"4\",\"link\":\"3\",\"value\":\"4.5\"},\n",
       "                    {\"node\":\"4\",\"link\":\"4\",\"value\":\"4.5\"},\n",
       "                    {\"node\":\"5\",\"link\":\"2\",\"value\":\"6.5\"},\n",
       "                    {\"node\":\"5\",\"link\":\"4\",\"value\":\"5.5\"},\n",
       "                    {\"node\":\"5\",\"link\":\"5\",\"value\":\"1.2\"},\n",
       "                    {\"node\":\"6\",\"link\":\"5\",\"value\":\"1.3\"}\n",
       "        ]\n",
       "    }},{preferences:{\"colorEdges\":\"default\",\"colorNodes\":\"default\",\"sizeNodes\":\"default\"}},{idColorEdge:\"3\"});\n",
       "</script>\n"
      ],
      "text/plain": [
       "HTML{String}(\"<head>\\n<link rel=\\\"stylesheet\\\" type=\\\"text/css\\\" href=\\\"https://isislab-unisa.github.io/hypergraphs-plot/css/color-edge-style.css\\\">\\n</head>\\n<div class=\\\"hg-plot3\\\"></div>\\n<script src=\\\"https://isislab-unisa.github.io/hypergraphs-plot//bundle.v1.0.js\\\"></script>\\n<script>\\nhgplot.drawing.hgColorEdgePlot({graph:{\\n    \\\"nodes\\\":[\\n        {\\\"id\\\":\\\"1\\\" , \\\"links\\\":[\\\"1\\\"]},\\n        {\\\"id\\\":\\\"2\\\" , \\\"links\\\":[\\\"1\\\",\\\"3\\\"]},\\n        {\\\"id\\\":\\\"3\\\" , \\\"links\\\":[\\\"1\\\",\\\"4\\\"]},\\n        {\\\"id\\\":\\\"4\\\" , \\\"links\\\":[\\\"3\\\",\\\"4\\\"]},\\n        {\\\"id\\\":\\\"5\\\" , \\\"links\\\":[\\\"2\\\",\\\"4\\\",\\\"5\\\"]},\\n        {\\\"id\\\":\\\"6\\\" , \\\"links\\\":[\\\"5\\\"]}\\n    ],\\n    \\\"links\\\":[\\n        {\\\"id\\\":\\\"1\\\", \\\"nodes\\\": [\\\"1\\\",\\\"2\\\",\\\"3\\\"]},\\n        {\\\"id\\\":\\\"2\\\", \\\"nodes\\\": [\\\"5\\\"]},\\n        {\\\"id\\\":\\\"3\\\", \\\"nodes\\\": [\\\"2\\\",\\\"4\\\"]},\\n        {\\\"id\\\":\\\"4\\\", \\\"nodes\\\": [\\\"3\\\",\\\"4\\\",\\\"5\\\"]},\\n        {\\\"id\\\":\\\"5\\\", \\\"nodes\\\": [\\\"5\\\",\\\"6\\\"]}\\n    ],\\n    \\\"nodelinks\\\":[\\n                    {\\\"node\\\":\\\"1\\\",\\\"link\\\":\\\"1\\\",\\\"value\\\":\\\"1.5\\\"},\\n                    {\\\"node\\\":\\\"2\\\",\\\"link\\\":\\\"1\\\",\\\"value\\\":\\\"1.5\\\"},\\n                    {\\\"node\\\":\\\"2\\\",\\\"link\\\":\\\"3\\\",\\\"value\\\":\\\"3.5\\\"},\\n                    {\\\"node\\\":\\\"3\\\",\\\"link\\\":\\\"1\\\",\\\"value\\\":\\\"1.5\\\"},\\n                    {\\\"node\\\":\\\"3\\\",\\\"link\\\":\\\"4\\\",\\\"value\\\":\\\"2.5\\\"},\\n                    {\\\"node\\\":\\\"4\\\",\\\"link\\\":\\\"3\\\",\\\"value\\\":\\\"4.5\\\"},\\n                    {\\\"node\\\":\\\"4\\\",\\\"link\\\":\\\"4\\\",\\\"value\\\":\\\"4.5\\\"},\\n                    {\\\"node\\\":\\\"5\\\",\\\"link\\\":\\\"2\\\",\\\"value\\\":\\\"6.5\\\"},\\n                    {\\\"node\\\":\\\"5\\\",\\\"link\\\":\\\"4\\\",\\\"value\\\":\\\"5.5\\\"},\\n                    {\\\"node\\\":\\\"5\\\",\\\"link\\\":\\\"5\\\",\\\"value\\\":\\\"1.2\\\"},\\n                    {\\\"node\\\":\\\"6\\\",\\\"link\\\":\\\"5\\\",\\\"value\\\":\\\"1.3\\\"}\\n        ]\\n    }},{preferences:{\\\"colorEdges\\\":\\\"default\\\",\\\"colorNodes\\\":\\\"default\\\",\\\"sizeNodes\\\":\\\"default\\\"}},{idColorEdge:\\\"3\\\"});\\n</script>\\n\")"
      ]
     },
     "execution_count": 23,
     "metadata": {},
     "output_type": "execute_result"
    }
   ],
   "source": [
    "import LightGraphs\n",
    "\n",
    "h = Hypergraph{Float64}(5,4)\n",
    "h[1:3,1] .= 1.5\n",
    "h[3,4] = 2.5\n",
    "h[2,3] = 3.5\n",
    "h[4,3:4] .= 4.5\n",
    "h[5,4] = 5.5\n",
    "h[5,2] = 6.5\n",
    "\n",
    "add_vertex!(h) == 6\n",
    "add_hyperedge!(h) == 5\n",
    "\n",
    "h[5,5] = 1.2\n",
    "h[6,5] = 1.3\n",
    "\n",
    "h\n",
    "\n",
    "plot(h, type=\"color-edge\")"
   ]
  },
  {
   "cell_type": "markdown",
   "metadata": {
    "slideshow": {
     "slide_type": "slide"
    }
   },
   "source": [
    "## Creating a Bipartite View of H.."
   ]
  },
  {
   "cell_type": "code",
   "execution_count": 24,
   "metadata": {
    "slideshow": {
     "slide_type": "fragment"
    }
   },
   "outputs": [
    {
     "data": {
      "text/plain": [
       "{11, 11} undirected simple Int64 graph"
      ]
     },
     "execution_count": 24,
     "metadata": {},
     "output_type": "execute_result"
    }
   ],
   "source": [
    "b = LightGraphs.SimpleGraph(BipartiteView(h))"
   ]
  },
  {
   "cell_type": "markdown",
   "metadata": {
    "slideshow": {
     "slide_type": "fragment"
    }
   },
   "source": [
    "## ... and visualizing it\n",
    "- Import the `GraphPlot` modulte to visualize the graph `G`."
   ]
  },
  {
   "cell_type": "code",
   "execution_count": 25,
   "metadata": {
    "slideshow": {
     "slide_type": "fragment"
    }
   },
   "outputs": [
    {
     "name": "stdout",
     "output_type": "stream",
     "text": [
      "\u001b[32m\u001b[1m  Updating\u001b[22m\u001b[39m registry at `~/.julia/registries/General`\n",
      "\u001b[32m\u001b[1m  Updating\u001b[22m\u001b[39m git-repo `https://github.com/JuliaRegistries/General.git`\n",
      "\u001b[2K\u001b[?25h[1mFetching:\u001b[22m\u001b[39m [========================================>]  100.0 %.0 %          ]  72.7 %\u001b[32m\u001b[1m Resolving\u001b[22m\u001b[39m package versions...\n",
      "\u001b[32m\u001b[1m Installed\u001b[22m\u001b[39m Parsers ──────── v0.3.8\n",
      "\u001b[32m\u001b[1m Installed\u001b[22m\u001b[39m BinaryProvider ─ v0.5.8\n",
      "\u001b[32m\u001b[1m Installed\u001b[22m\u001b[39m JuliaFormatter ─ v0.1.25\n",
      "\u001b[32m\u001b[1m  Updating\u001b[22m\u001b[39m `~/.julia/environments/v1.1/Project.toml`\n",
      "\u001b[90m [no changes]\u001b[39m\n",
      "\u001b[32m\u001b[1m  Updating\u001b[22m\u001b[39m `~/.julia/environments/v1.1/Manifest.toml`\n",
      " \u001b[90m [b99e7846]\u001b[39m\u001b[93m ↑ BinaryProvider v0.5.7 ⇒ v0.5.8\u001b[39m\n",
      " \u001b[90m [98e50ef6]\u001b[39m\u001b[93m ↑ JuliaFormatter v0.1.22 ⇒ v0.1.25\u001b[39m\n",
      " \u001b[90m [69de0a69]\u001b[39m\u001b[93m ↑ Parsers v0.3.7 ⇒ v0.3.8\u001b[39m\n"
     ]
    }
   ],
   "source": [
    "] add GraphPlot"
   ]
  },
  {
   "cell_type": "code",
   "execution_count": 26,
   "metadata": {
    "slideshow": {
     "slide_type": "fragment"
    }
   },
   "outputs": [],
   "source": [
    "using GraphPlot"
   ]
  },
  {
   "cell_type": "code",
   "execution_count": 27,
   "metadata": {
    "slideshow": {
     "slide_type": "slide"
    }
   },
   "outputs": [
    {
     "data": {
      "image/svg+xml": [
       "<?xml version=\"1.0\" encoding=\"UTF-8\"?>\n",
       "<svg xmlns=\"http://www.w3.org/2000/svg\"\n",
       "     xmlns:xlink=\"http://www.w3.org/1999/xlink\"\n",
       "     version=\"1.2\"\n",
       "     width=\"141.42mm\" height=\"100mm\" viewBox=\"0 0 141.42 100\"\n",
       "     stroke=\"none\"\n",
       "     fill=\"#000000\"\n",
       "     stroke-width=\"0.3\"\n",
       "     font-size=\"3.88\"\n",
       ">\n",
       "<defs>\n",
       "  <marker id=\"arrow\" markerWidth=\"15\" markerHeight=\"7\" refX=\"5\" refY=\"3.5\" orient=\"auto\" markerUnits=\"strokeWidth\">\n",
       "    <path d=\"M0,0 L15,3.5 L0,7 z\" stroke=\"context-stroke\" fill=\"context-stroke\"/>\n",
       "  </marker>\n",
       "</defs>\n",
       "<g stroke-width=\"0.9\" fill=\"#000000\" fill-opacity=\"0.000\" stroke=\"#D3D3D3\" id=\"img-8a30309a-1\">\n",
       "  <g transform=\"translate(70.71,44.07)\">\n",
       "    <path fill=\"none\" d=\"M54.53,5.49 L -54.53 -5.49\" class=\"primitive\"/>\n",
       "  </g>\n",
       "  <g transform=\"translate(65.94,55.45)\">\n",
       "    <path fill=\"none\" d=\"M50.1,16.02 L -50.1 -16.02\" class=\"primitive\"/>\n",
       "  </g>\n",
       "  <g transform=\"translate(90.51,40.55)\">\n",
       "    <path fill=\"none\" d=\"M27.16,29.58 L -27.16 -29.58\" class=\"primitive\"/>\n",
       "  </g>\n",
       "  <g transform=\"translate(53.13,63.22)\">\n",
       "    <path fill=\"none\" d=\"M37.97,23.03 L -37.97 -23.03\" class=\"primitive\"/>\n",
       "  </g>\n",
       "  <g transform=\"translate(94.48,50)\">\n",
       "    <path fill=\"none\" d=\"M0,35.15 L -0 -35.15\" class=\"primitive\"/>\n",
       "  </g>\n",
       "  <g transform=\"translate(60.93,50)\">\n",
       "    <path fill=\"none\" d=\"M0,38.53 L -0 -38.53\" class=\"primitive\"/>\n",
       "  </g>\n",
       "  <g transform=\"translate(77.71,51.69)\">\n",
       "    <path fill=\"none\" d=\"M-15.51,36.97 L 15.51 -36.97\" class=\"primitive\"/>\n",
       "  </g>\n",
       "  <g transform=\"translate(30.11,50)\">\n",
       "    <path fill=\"none\" d=\"M0,28.67 L -0 -28.67\" class=\"primitive\"/>\n",
       "  </g>\n",
       "  <g transform=\"translate(62.29,46.76)\">\n",
       "    <path fill=\"none\" d=\"M-29.77,32.42 L 29.77 -32.42\" class=\"primitive\"/>\n",
       "  </g>\n",
       "  <g transform=\"translate(75.1,54.53)\">\n",
       "    <path fill=\"none\" d=\"M-41.62,25.24 L 41.62 -25.24\" class=\"primitive\"/>\n",
       "  </g>\n",
       "  <g transform=\"translate(65.94,44.55)\">\n",
       "    <path fill=\"none\" d=\"M-50.1,16.02 L 50.1 -16.02\" class=\"primitive\"/>\n",
       "  </g>\n",
       "</g>\n",
       "<g stroke-width=\"0.9\" stroke=\"#D3D3D3\" id=\"img-8a30309a-2\">\n",
       "</g>\n",
       "<g font-size=\"4\" stroke=\"#000000\" stroke-opacity=\"0.000\" fill=\"#000000\" id=\"img-8a30309a-3\">\n",
       "</g>\n",
       "<g stroke-width=\"0\" stroke=\"#000000\" stroke-opacity=\"0.000\" id=\"img-8a30309a-4\">\n",
       "  <g transform=\"translate(129.64,50)\" fill=\"#20B2AA\">\n",
       "    <circle cx=\"0\" cy=\"0\" r=\"4.26\" class=\"primitive\"/>\n",
       "  </g>\n",
       "  <g transform=\"translate(120.09,72.76)\" fill=\"#20B2AA\">\n",
       "    <circle cx=\"0\" cy=\"0\" r=\"4.26\" class=\"primitive\"/>\n",
       "  </g>\n",
       "  <g transform=\"translate(94.48,88.29)\" fill=\"#20B2AA\">\n",
       "    <circle cx=\"0\" cy=\"0\" r=\"4.26\" class=\"primitive\"/>\n",
       "  </g>\n",
       "  <g transform=\"translate(60.93,91.67)\" fill=\"#20B2AA\">\n",
       "    <circle cx=\"0\" cy=\"0\" r=\"4.26\" class=\"primitive\"/>\n",
       "  </g>\n",
       "  <g transform=\"translate(30.11,81.81)\" fill=\"#20B2AA\">\n",
       "    <circle cx=\"0\" cy=\"0\" r=\"4.26\" class=\"primitive\"/>\n",
       "  </g>\n",
       "  <g transform=\"translate(11.79,61.86)\" fill=\"#20B2AA\">\n",
       "    <circle cx=\"0\" cy=\"0\" r=\"4.26\" class=\"primitive\"/>\n",
       "  </g>\n",
       "  <g transform=\"translate(11.79,38.14)\" fill=\"#FFA500\">\n",
       "    <circle cx=\"0\" cy=\"0\" r=\"4.26\" class=\"primitive\"/>\n",
       "  </g>\n",
       "  <g transform=\"translate(30.11,18.19)\" fill=\"#FFA500\">\n",
       "    <circle cx=\"0\" cy=\"0\" r=\"4.26\" class=\"primitive\"/>\n",
       "  </g>\n",
       "  <g transform=\"translate(60.93,8.33)\" fill=\"#FFA500\">\n",
       "    <circle cx=\"0\" cy=\"0\" r=\"4.26\" class=\"primitive\"/>\n",
       "  </g>\n",
       "  <g transform=\"translate(94.48,11.71)\" fill=\"#FFA500\">\n",
       "    <circle cx=\"0\" cy=\"0\" r=\"4.26\" class=\"primitive\"/>\n",
       "  </g>\n",
       "  <g transform=\"translate(120.09,27.24)\" fill=\"#FFA500\">\n",
       "    <circle cx=\"0\" cy=\"0\" r=\"4.26\" class=\"primitive\"/>\n",
       "  </g>\n",
       "</g>\n",
       "<g font-size=\"4\" stroke=\"#000000\" stroke-opacity=\"0.000\" fill=\"#000000\" id=\"img-8a30309a-5\">\n",
       "  <g transform=\"translate(129.64,50)\">\n",
       "    <g class=\"primitive\">\n",
       "      <text text-anchor=\"middle\" dy=\"0.35em\">1</text>\n",
       "    </g>\n",
       "  </g>\n",
       "  <g transform=\"translate(120.09,72.76)\">\n",
       "    <g class=\"primitive\">\n",
       "      <text text-anchor=\"middle\" dy=\"0.35em\">2</text>\n",
       "    </g>\n",
       "  </g>\n",
       "  <g transform=\"translate(94.48,88.29)\">\n",
       "    <g class=\"primitive\">\n",
       "      <text text-anchor=\"middle\" dy=\"0.35em\">3</text>\n",
       "    </g>\n",
       "  </g>\n",
       "  <g transform=\"translate(60.93,91.67)\">\n",
       "    <g class=\"primitive\">\n",
       "      <text text-anchor=\"middle\" dy=\"0.35em\">4</text>\n",
       "    </g>\n",
       "  </g>\n",
       "  <g transform=\"translate(30.11,81.81)\">\n",
       "    <g class=\"primitive\">\n",
       "      <text text-anchor=\"middle\" dy=\"0.35em\">5</text>\n",
       "    </g>\n",
       "  </g>\n",
       "  <g transform=\"translate(11.79,61.86)\">\n",
       "    <g class=\"primitive\">\n",
       "      <text text-anchor=\"middle\" dy=\"0.35em\">6</text>\n",
       "    </g>\n",
       "  </g>\n",
       "  <g transform=\"translate(11.79,38.14)\">\n",
       "    <g class=\"primitive\">\n",
       "      <text text-anchor=\"middle\" dy=\"0.35em\">7</text>\n",
       "    </g>\n",
       "  </g>\n",
       "  <g transform=\"translate(30.11,18.19)\">\n",
       "    <g class=\"primitive\">\n",
       "      <text text-anchor=\"middle\" dy=\"0.35em\">8</text>\n",
       "    </g>\n",
       "  </g>\n",
       "  <g transform=\"translate(60.93,8.33)\">\n",
       "    <g class=\"primitive\">\n",
       "      <text text-anchor=\"middle\" dy=\"0.35em\">9</text>\n",
       "    </g>\n",
       "  </g>\n",
       "  <g transform=\"translate(94.48,11.71)\">\n",
       "    <g class=\"primitive\">\n",
       "      <text text-anchor=\"middle\" dy=\"0.35em\">10</text>\n",
       "    </g>\n",
       "  </g>\n",
       "  <g transform=\"translate(120.09,27.24)\">\n",
       "    <g class=\"primitive\">\n",
       "      <text text-anchor=\"middle\" dy=\"0.35em\">11</text>\n",
       "    </g>\n",
       "  </g>\n",
       "</g>\n",
       "</svg>\n"
      ],
      "text/html": [
       "<?xml version=\"1.0\" encoding=\"UTF-8\"?>\n",
       "<svg xmlns=\"http://www.w3.org/2000/svg\"\n",
       "     xmlns:xlink=\"http://www.w3.org/1999/xlink\"\n",
       "     version=\"1.2\"\n",
       "     width=\"141.42mm\" height=\"100mm\" viewBox=\"0 0 141.42 100\"\n",
       "     stroke=\"none\"\n",
       "     fill=\"#000000\"\n",
       "     stroke-width=\"0.3\"\n",
       "     font-size=\"3.88\"\n",
       "\n",
       "     id=\"img-928d74e9\">\n",
       "<defs>\n",
       "  <marker id=\"arrow\" markerWidth=\"15\" markerHeight=\"7\" refX=\"5\" refY=\"3.5\" orient=\"auto\" markerUnits=\"strokeWidth\">\n",
       "    <path d=\"M0,0 L15,3.5 L0,7 z\" stroke=\"context-stroke\" fill=\"context-stroke\"/>\n",
       "  </marker>\n",
       "</defs>\n",
       "<g stroke-width=\"0.9\" fill=\"#000000\" fill-opacity=\"0.000\" stroke=\"#D3D3D3\" id=\"img-928d74e9-1\">\n",
       "  <g transform=\"translate(70.71,44.07)\">\n",
       "    <path fill=\"none\" d=\"M54.53,5.49 L -54.53 -5.49\" class=\"primitive\"/>\n",
       "  </g>\n",
       "  <g transform=\"translate(65.94,55.45)\">\n",
       "    <path fill=\"none\" d=\"M50.1,16.02 L -50.1 -16.02\" class=\"primitive\"/>\n",
       "  </g>\n",
       "  <g transform=\"translate(90.51,40.55)\">\n",
       "    <path fill=\"none\" d=\"M27.16,29.58 L -27.16 -29.58\" class=\"primitive\"/>\n",
       "  </g>\n",
       "  <g transform=\"translate(53.13,63.22)\">\n",
       "    <path fill=\"none\" d=\"M37.97,23.03 L -37.97 -23.03\" class=\"primitive\"/>\n",
       "  </g>\n",
       "  <g transform=\"translate(94.48,50)\">\n",
       "    <path fill=\"none\" d=\"M0,35.15 L -0 -35.15\" class=\"primitive\"/>\n",
       "  </g>\n",
       "  <g transform=\"translate(60.93,50)\">\n",
       "    <path fill=\"none\" d=\"M0,38.53 L -0 -38.53\" class=\"primitive\"/>\n",
       "  </g>\n",
       "  <g transform=\"translate(77.71,51.69)\">\n",
       "    <path fill=\"none\" d=\"M-15.51,36.97 L 15.51 -36.97\" class=\"primitive\"/>\n",
       "  </g>\n",
       "  <g transform=\"translate(30.11,50)\">\n",
       "    <path fill=\"none\" d=\"M0,28.67 L -0 -28.67\" class=\"primitive\"/>\n",
       "  </g>\n",
       "  <g transform=\"translate(62.29,46.76)\">\n",
       "    <path fill=\"none\" d=\"M-29.77,32.42 L 29.77 -32.42\" class=\"primitive\"/>\n",
       "  </g>\n",
       "  <g transform=\"translate(75.1,54.53)\">\n",
       "    <path fill=\"none\" d=\"M-41.62,25.24 L 41.62 -25.24\" class=\"primitive\"/>\n",
       "  </g>\n",
       "  <g transform=\"translate(65.94,44.55)\">\n",
       "    <path fill=\"none\" d=\"M-50.1,16.02 L 50.1 -16.02\" class=\"primitive\"/>\n",
       "  </g>\n",
       "</g>\n",
       "<g stroke-width=\"0.9\" stroke=\"#D3D3D3\" id=\"img-928d74e9-2\">\n",
       "</g>\n",
       "<g font-size=\"4\" stroke=\"#000000\" stroke-opacity=\"0.000\" fill=\"#000000\" id=\"img-928d74e9-3\">\n",
       "</g>\n",
       "<g stroke-width=\"0\" stroke=\"#000000\" stroke-opacity=\"0.000\" id=\"img-928d74e9-4\">\n",
       "  <g transform=\"translate(129.64,50)\" fill=\"#20B2AA\">\n",
       "    <circle cx=\"0\" cy=\"0\" r=\"4.26\" class=\"primitive\"/>\n",
       "  </g>\n",
       "  <g transform=\"translate(120.09,72.76)\" fill=\"#20B2AA\">\n",
       "    <circle cx=\"0\" cy=\"0\" r=\"4.26\" class=\"primitive\"/>\n",
       "  </g>\n",
       "  <g transform=\"translate(94.48,88.29)\" fill=\"#20B2AA\">\n",
       "    <circle cx=\"0\" cy=\"0\" r=\"4.26\" class=\"primitive\"/>\n",
       "  </g>\n",
       "  <g transform=\"translate(60.93,91.67)\" fill=\"#20B2AA\">\n",
       "    <circle cx=\"0\" cy=\"0\" r=\"4.26\" class=\"primitive\"/>\n",
       "  </g>\n",
       "  <g transform=\"translate(30.11,81.81)\" fill=\"#20B2AA\">\n",
       "    <circle cx=\"0\" cy=\"0\" r=\"4.26\" class=\"primitive\"/>\n",
       "  </g>\n",
       "  <g transform=\"translate(11.79,61.86)\" fill=\"#20B2AA\">\n",
       "    <circle cx=\"0\" cy=\"0\" r=\"4.26\" class=\"primitive\"/>\n",
       "  </g>\n",
       "  <g transform=\"translate(11.79,38.14)\" fill=\"#FFA500\">\n",
       "    <circle cx=\"0\" cy=\"0\" r=\"4.26\" class=\"primitive\"/>\n",
       "  </g>\n",
       "  <g transform=\"translate(30.11,18.19)\" fill=\"#FFA500\">\n",
       "    <circle cx=\"0\" cy=\"0\" r=\"4.26\" class=\"primitive\"/>\n",
       "  </g>\n",
       "  <g transform=\"translate(60.93,8.33)\" fill=\"#FFA500\">\n",
       "    <circle cx=\"0\" cy=\"0\" r=\"4.26\" class=\"primitive\"/>\n",
       "  </g>\n",
       "  <g transform=\"translate(94.48,11.71)\" fill=\"#FFA500\">\n",
       "    <circle cx=\"0\" cy=\"0\" r=\"4.26\" class=\"primitive\"/>\n",
       "  </g>\n",
       "  <g transform=\"translate(120.09,27.24)\" fill=\"#FFA500\">\n",
       "    <circle cx=\"0\" cy=\"0\" r=\"4.26\" class=\"primitive\"/>\n",
       "  </g>\n",
       "</g>\n",
       "<g font-size=\"4\" stroke=\"#000000\" stroke-opacity=\"0.000\" fill=\"#000000\" id=\"img-928d74e9-5\">\n",
       "  <g transform=\"translate(129.64,50)\">\n",
       "    <g class=\"primitive\">\n",
       "      <text text-anchor=\"middle\" dy=\"0.35em\">1</text>\n",
       "    </g>\n",
       "  </g>\n",
       "  <g transform=\"translate(120.09,72.76)\">\n",
       "    <g class=\"primitive\">\n",
       "      <text text-anchor=\"middle\" dy=\"0.35em\">2</text>\n",
       "    </g>\n",
       "  </g>\n",
       "  <g transform=\"translate(94.48,88.29)\">\n",
       "    <g class=\"primitive\">\n",
       "      <text text-anchor=\"middle\" dy=\"0.35em\">3</text>\n",
       "    </g>\n",
       "  </g>\n",
       "  <g transform=\"translate(60.93,91.67)\">\n",
       "    <g class=\"primitive\">\n",
       "      <text text-anchor=\"middle\" dy=\"0.35em\">4</text>\n",
       "    </g>\n",
       "  </g>\n",
       "  <g transform=\"translate(30.11,81.81)\">\n",
       "    <g class=\"primitive\">\n",
       "      <text text-anchor=\"middle\" dy=\"0.35em\">5</text>\n",
       "    </g>\n",
       "  </g>\n",
       "  <g transform=\"translate(11.79,61.86)\">\n",
       "    <g class=\"primitive\">\n",
       "      <text text-anchor=\"middle\" dy=\"0.35em\">6</text>\n",
       "    </g>\n",
       "  </g>\n",
       "  <g transform=\"translate(11.79,38.14)\">\n",
       "    <g class=\"primitive\">\n",
       "      <text text-anchor=\"middle\" dy=\"0.35em\">7</text>\n",
       "    </g>\n",
       "  </g>\n",
       "  <g transform=\"translate(30.11,18.19)\">\n",
       "    <g class=\"primitive\">\n",
       "      <text text-anchor=\"middle\" dy=\"0.35em\">8</text>\n",
       "    </g>\n",
       "  </g>\n",
       "  <g transform=\"translate(60.93,8.33)\">\n",
       "    <g class=\"primitive\">\n",
       "      <text text-anchor=\"middle\" dy=\"0.35em\">9</text>\n",
       "    </g>\n",
       "  </g>\n",
       "  <g transform=\"translate(94.48,11.71)\">\n",
       "    <g class=\"primitive\">\n",
       "      <text text-anchor=\"middle\" dy=\"0.35em\">10</text>\n",
       "    </g>\n",
       "  </g>\n",
       "  <g transform=\"translate(120.09,27.24)\">\n",
       "    <g class=\"primitive\">\n",
       "      <text text-anchor=\"middle\" dy=\"0.35em\">11</text>\n",
       "    </g>\n",
       "  </g>\n",
       "</g>\n",
       "<script> <![CDATA[\n",
       "(function(N){var k=/[\\.\\/]/,L=/\\s*,\\s*/,C=function(a,d){return a-d},a,v,y={n:{}},M=function(){for(var a=0,d=this.length;a<d;a++)if(\"undefined\"!=typeof this[a])return this[a]},A=function(){for(var a=this.length;--a;)if(\"undefined\"!=typeof this[a])return this[a]},w=function(k,d){k=String(k);var f=v,n=Array.prototype.slice.call(arguments,2),u=w.listeners(k),p=0,b,q=[],e={},l=[],r=a;l.firstDefined=M;l.lastDefined=A;a=k;for(var s=v=0,x=u.length;s<x;s++)\"zIndex\"in u[s]&&(q.push(u[s].zIndex),0>u[s].zIndex&&\n",
       "(e[u[s].zIndex]=u[s]));for(q.sort(C);0>q[p];)if(b=e[q[p++] ],l.push(b.apply(d,n)),v)return v=f,l;for(s=0;s<x;s++)if(b=u[s],\"zIndex\"in b)if(b.zIndex==q[p]){l.push(b.apply(d,n));if(v)break;do if(p++,(b=e[q[p] ])&&l.push(b.apply(d,n)),v)break;while(b)}else e[b.zIndex]=b;else if(l.push(b.apply(d,n)),v)break;v=f;a=r;return l};w._events=y;w.listeners=function(a){a=a.split(k);var d=y,f,n,u,p,b,q,e,l=[d],r=[];u=0;for(p=a.length;u<p;u++){e=[];b=0;for(q=l.length;b<q;b++)for(d=l[b].n,f=[d[a[u] ],d[\"*\"] ],n=2;n--;)if(d=\n",
       "f[n])e.push(d),r=r.concat(d.f||[]);l=e}return r};w.on=function(a,d){a=String(a);if(\"function\"!=typeof d)return function(){};for(var f=a.split(L),n=0,u=f.length;n<u;n++)(function(a){a=a.split(k);for(var b=y,f,e=0,l=a.length;e<l;e++)b=b.n,b=b.hasOwnProperty(a[e])&&b[a[e] ]||(b[a[e] ]={n:{}});b.f=b.f||[];e=0;for(l=b.f.length;e<l;e++)if(b.f[e]==d){f=!0;break}!f&&b.f.push(d)})(f[n]);return function(a){+a==+a&&(d.zIndex=+a)}};w.f=function(a){var d=[].slice.call(arguments,1);return function(){w.apply(null,\n",
       "[a,null].concat(d).concat([].slice.call(arguments,0)))}};w.stop=function(){v=1};w.nt=function(k){return k?(new RegExp(\"(?:\\\\.|\\\\/|^)\"+k+\"(?:\\\\.|\\\\/|$)\")).test(a):a};w.nts=function(){return a.split(k)};w.off=w.unbind=function(a,d){if(a){var f=a.split(L);if(1<f.length)for(var n=0,u=f.length;n<u;n++)w.off(f[n],d);else{for(var f=a.split(k),p,b,q,e,l=[y],n=0,u=f.length;n<u;n++)for(e=0;e<l.length;e+=q.length-2){q=[e,1];p=l[e].n;if(\"*\"!=f[n])p[f[n] ]&&q.push(p[f[n] ]);else for(b in p)p.hasOwnProperty(b)&&\n",
       "q.push(p[b]);l.splice.apply(l,q)}n=0;for(u=l.length;n<u;n++)for(p=l[n];p.n;){if(d){if(p.f){e=0;for(f=p.f.length;e<f;e++)if(p.f[e]==d){p.f.splice(e,1);break}!p.f.length&&delete p.f}for(b in p.n)if(p.n.hasOwnProperty(b)&&p.n[b].f){q=p.n[b].f;e=0;for(f=q.length;e<f;e++)if(q[e]==d){q.splice(e,1);break}!q.length&&delete p.n[b].f}}else for(b in delete p.f,p.n)p.n.hasOwnProperty(b)&&p.n[b].f&&delete p.n[b].f;p=p.n}}}else w._events=y={n:{}}};w.once=function(a,d){var f=function(){w.unbind(a,f);return d.apply(this,\n",
       "arguments)};return w.on(a,f)};w.version=\"0.4.2\";w.toString=function(){return\"You are running Eve 0.4.2\"};\"undefined\"!=typeof module&&module.exports?module.exports=w:\"function\"===typeof define&&define.amd?define(\"eve\",[],function(){return w}):N.eve=w})(this);\n",
       "(function(N,k){\"function\"===typeof define&&define.amd?define(\"Snap.svg\",[\"eve\"],function(L){return k(N,L)}):k(N,N.eve)})(this,function(N,k){var L=function(a){var k={},y=N.requestAnimationFrame||N.webkitRequestAnimationFrame||N.mozRequestAnimationFrame||N.oRequestAnimationFrame||N.msRequestAnimationFrame||function(a){setTimeout(a,16)},M=Array.isArray||function(a){return a instanceof Array||\"[object Array]\"==Object.prototype.toString.call(a)},A=0,w=\"M\"+(+new Date).toString(36),z=function(a){if(null==\n",
       "a)return this.s;var b=this.s-a;this.b+=this.dur*b;this.B+=this.dur*b;this.s=a},d=function(a){if(null==a)return this.spd;this.spd=a},f=function(a){if(null==a)return this.dur;this.s=this.s*a/this.dur;this.dur=a},n=function(){delete k[this.id];this.update();a(\"mina.stop.\"+this.id,this)},u=function(){this.pdif||(delete k[this.id],this.update(),this.pdif=this.get()-this.b)},p=function(){this.pdif&&(this.b=this.get()-this.pdif,delete this.pdif,k[this.id]=this)},b=function(){var a;if(M(this.start)){a=[];\n",
       "for(var b=0,e=this.start.length;b<e;b++)a[b]=+this.start[b]+(this.end[b]-this.start[b])*this.easing(this.s)}else a=+this.start+(this.end-this.start)*this.easing(this.s);this.set(a)},q=function(){var l=0,b;for(b in k)if(k.hasOwnProperty(b)){var e=k[b],f=e.get();l++;e.s=(f-e.b)/(e.dur/e.spd);1<=e.s&&(delete k[b],e.s=1,l--,function(b){setTimeout(function(){a(\"mina.finish.\"+b.id,b)})}(e));e.update()}l&&y(q)},e=function(a,r,s,x,G,h,J){a={id:w+(A++).toString(36),start:a,end:r,b:s,s:0,dur:x-s,spd:1,get:G,\n",
       "set:h,easing:J||e.linear,status:z,speed:d,duration:f,stop:n,pause:u,resume:p,update:b};k[a.id]=a;r=0;for(var K in k)if(k.hasOwnProperty(K)&&(r++,2==r))break;1==r&&y(q);return a};e.time=Date.now||function(){return+new Date};e.getById=function(a){return k[a]||null};e.linear=function(a){return a};e.easeout=function(a){return Math.pow(a,1.7)};e.easein=function(a){return Math.pow(a,0.48)};e.easeinout=function(a){if(1==a)return 1;if(0==a)return 0;var b=0.48-a/1.04,e=Math.sqrt(0.1734+b*b);a=e-b;a=Math.pow(Math.abs(a),\n",
       "1/3)*(0>a?-1:1);b=-e-b;b=Math.pow(Math.abs(b),1/3)*(0>b?-1:1);a=a+b+0.5;return 3*(1-a)*a*a+a*a*a};e.backin=function(a){return 1==a?1:a*a*(2.70158*a-1.70158)};e.backout=function(a){if(0==a)return 0;a-=1;return a*a*(2.70158*a+1.70158)+1};e.elastic=function(a){return a==!!a?a:Math.pow(2,-10*a)*Math.sin(2*(a-0.075)*Math.PI/0.3)+1};e.bounce=function(a){a<1/2.75?a*=7.5625*a:a<2/2.75?(a-=1.5/2.75,a=7.5625*a*a+0.75):a<2.5/2.75?(a-=2.25/2.75,a=7.5625*a*a+0.9375):(a-=2.625/2.75,a=7.5625*a*a+0.984375);return a};\n",
       "return N.mina=e}(\"undefined\"==typeof k?function(){}:k),C=function(){function a(c,t){if(c){if(c.tagName)return x(c);if(y(c,\"array\")&&a.set)return a.set.apply(a,c);if(c instanceof e)return c;if(null==t)return c=G.doc.querySelector(c),x(c)}return new s(null==c?\"100%\":c,null==t?\"100%\":t)}function v(c,a){if(a){\"#text\"==c&&(c=G.doc.createTextNode(a.text||\"\"));\"string\"==typeof c&&(c=v(c));if(\"string\"==typeof a)return\"xlink:\"==a.substring(0,6)?c.getAttributeNS(m,a.substring(6)):\"xml:\"==a.substring(0,4)?c.getAttributeNS(la,\n",
       "a.substring(4)):c.getAttribute(a);for(var da in a)if(a[h](da)){var b=J(a[da]);b?\"xlink:\"==da.substring(0,6)?c.setAttributeNS(m,da.substring(6),b):\"xml:\"==da.substring(0,4)?c.setAttributeNS(la,da.substring(4),b):c.setAttribute(da,b):c.removeAttribute(da)}}else c=G.doc.createElementNS(la,c);return c}function y(c,a){a=J.prototype.toLowerCase.call(a);return\"finite\"==a?isFinite(c):\"array\"==a&&(c instanceof Array||Array.isArray&&Array.isArray(c))?!0:\"null\"==a&&null===c||a==typeof c&&null!==c||\"object\"==\n",
       "a&&c===Object(c)||$.call(c).slice(8,-1).toLowerCase()==a}function M(c){if(\"function\"==typeof c||Object(c)!==c)return c;var a=new c.constructor,b;for(b in c)c[h](b)&&(a[b]=M(c[b]));return a}function A(c,a,b){function m(){var e=Array.prototype.slice.call(arguments,0),f=e.join(\"\\u2400\"),d=m.cache=m.cache||{},l=m.count=m.count||[];if(d[h](f)){a:for(var e=l,l=f,B=0,H=e.length;B<H;B++)if(e[B]===l){e.push(e.splice(B,1)[0]);break a}return b?b(d[f]):d[f]}1E3<=l.length&&delete d[l.shift()];l.push(f);d[f]=c.apply(a,\n",
       "e);return b?b(d[f]):d[f]}return m}function w(c,a,b,m,e,f){return null==e?(c-=b,a-=m,c||a?(180*I.atan2(-a,-c)/C+540)%360:0):w(c,a,e,f)-w(b,m,e,f)}function z(c){return c%360*C/180}function d(c){var a=[];c=c.replace(/(?:^|\\s)(\\w+)\\(([^)]+)\\)/g,function(c,b,m){m=m.split(/\\s*,\\s*|\\s+/);\"rotate\"==b&&1==m.length&&m.push(0,0);\"scale\"==b&&(2<m.length?m=m.slice(0,2):2==m.length&&m.push(0,0),1==m.length&&m.push(m[0],0,0));\"skewX\"==b?a.push([\"m\",1,0,I.tan(z(m[0])),1,0,0]):\"skewY\"==b?a.push([\"m\",1,I.tan(z(m[0])),\n",
       "0,1,0,0]):a.push([b.charAt(0)].concat(m));return c});return a}function f(c,t){var b=O(c),m=new a.Matrix;if(b)for(var e=0,f=b.length;e<f;e++){var h=b[e],d=h.length,B=J(h[0]).toLowerCase(),H=h[0]!=B,l=H?m.invert():0,E;\"t\"==B&&2==d?m.translate(h[1],0):\"t\"==B&&3==d?H?(d=l.x(0,0),B=l.y(0,0),H=l.x(h[1],h[2]),l=l.y(h[1],h[2]),m.translate(H-d,l-B)):m.translate(h[1],h[2]):\"r\"==B?2==d?(E=E||t,m.rotate(h[1],E.x+E.width/2,E.y+E.height/2)):4==d&&(H?(H=l.x(h[2],h[3]),l=l.y(h[2],h[3]),m.rotate(h[1],H,l)):m.rotate(h[1],\n",
       "h[2],h[3])):\"s\"==B?2==d||3==d?(E=E||t,m.scale(h[1],h[d-1],E.x+E.width/2,E.y+E.height/2)):4==d?H?(H=l.x(h[2],h[3]),l=l.y(h[2],h[3]),m.scale(h[1],h[1],H,l)):m.scale(h[1],h[1],h[2],h[3]):5==d&&(H?(H=l.x(h[3],h[4]),l=l.y(h[3],h[4]),m.scale(h[1],h[2],H,l)):m.scale(h[1],h[2],h[3],h[4])):\"m\"==B&&7==d&&m.add(h[1],h[2],h[3],h[4],h[5],h[6])}return m}function n(c,t){if(null==t){var m=!0;t=\"linearGradient\"==c.type||\"radialGradient\"==c.type?c.node.getAttribute(\"gradientTransform\"):\"pattern\"==c.type?c.node.getAttribute(\"patternTransform\"):\n",
       "c.node.getAttribute(\"transform\");if(!t)return new a.Matrix;t=d(t)}else t=a._.rgTransform.test(t)?J(t).replace(/\\.{3}|\\u2026/g,c._.transform||aa):d(t),y(t,\"array\")&&(t=a.path?a.path.toString.call(t):J(t)),c._.transform=t;var b=f(t,c.getBBox(1));if(m)return b;c.matrix=b}function u(c){c=c.node.ownerSVGElement&&x(c.node.ownerSVGElement)||c.node.parentNode&&x(c.node.parentNode)||a.select(\"svg\")||a(0,0);var t=c.select(\"defs\"),t=null==t?!1:t.node;t||(t=r(\"defs\",c.node).node);return t}function p(c){return c.node.ownerSVGElement&&\n",
       "x(c.node.ownerSVGElement)||a.select(\"svg\")}function b(c,a,m){function b(c){if(null==c)return aa;if(c==+c)return c;v(B,{width:c});try{return B.getBBox().width}catch(a){return 0}}function h(c){if(null==c)return aa;if(c==+c)return c;v(B,{height:c});try{return B.getBBox().height}catch(a){return 0}}function e(b,B){null==a?d[b]=B(c.attr(b)||0):b==a&&(d=B(null==m?c.attr(b)||0:m))}var f=p(c).node,d={},B=f.querySelector(\".svg---mgr\");B||(B=v(\"rect\"),v(B,{x:-9E9,y:-9E9,width:10,height:10,\"class\":\"svg---mgr\",\n",
       "fill:\"none\"}),f.appendChild(B));switch(c.type){case \"rect\":e(\"rx\",b),e(\"ry\",h);case \"image\":e(\"width\",b),e(\"height\",h);case \"text\":e(\"x\",b);e(\"y\",h);break;case \"circle\":e(\"cx\",b);e(\"cy\",h);e(\"r\",b);break;case \"ellipse\":e(\"cx\",b);e(\"cy\",h);e(\"rx\",b);e(\"ry\",h);break;case \"line\":e(\"x1\",b);e(\"x2\",b);e(\"y1\",h);e(\"y2\",h);break;case \"marker\":e(\"refX\",b);e(\"markerWidth\",b);e(\"refY\",h);e(\"markerHeight\",h);break;case \"radialGradient\":e(\"fx\",b);e(\"fy\",h);break;case \"tspan\":e(\"dx\",b);e(\"dy\",h);break;default:e(a,\n",
       "b)}f.removeChild(B);return d}function q(c){y(c,\"array\")||(c=Array.prototype.slice.call(arguments,0));for(var a=0,b=0,m=this.node;this[a];)delete this[a++];for(a=0;a<c.length;a++)\"set\"==c[a].type?c[a].forEach(function(c){m.appendChild(c.node)}):m.appendChild(c[a].node);for(var h=m.childNodes,a=0;a<h.length;a++)this[b++]=x(h[a]);return this}function e(c){if(c.snap in E)return E[c.snap];var a=this.id=V(),b;try{b=c.ownerSVGElement}catch(m){}this.node=c;b&&(this.paper=new s(b));this.type=c.tagName;this.anims=\n",
       "{};this._={transform:[]};c.snap=a;E[a]=this;\"g\"==this.type&&(this.add=q);if(this.type in{g:1,mask:1,pattern:1})for(var e in s.prototype)s.prototype[h](e)&&(this[e]=s.prototype[e])}function l(c){this.node=c}function r(c,a){var b=v(c);a.appendChild(b);return x(b)}function s(c,a){var b,m,f,d=s.prototype;if(c&&\"svg\"==c.tagName){if(c.snap in E)return E[c.snap];var l=c.ownerDocument;b=new e(c);m=c.getElementsByTagName(\"desc\")[0];f=c.getElementsByTagName(\"defs\")[0];m||(m=v(\"desc\"),m.appendChild(l.createTextNode(\"Created with Snap\")),\n",
       "b.node.appendChild(m));f||(f=v(\"defs\"),b.node.appendChild(f));b.defs=f;for(var ca in d)d[h](ca)&&(b[ca]=d[ca]);b.paper=b.root=b}else b=r(\"svg\",G.doc.body),v(b.node,{height:a,version:1.1,width:c,xmlns:la});return b}function x(c){return!c||c instanceof e||c instanceof l?c:c.tagName&&\"svg\"==c.tagName.toLowerCase()?new s(c):c.tagName&&\"object\"==c.tagName.toLowerCase()&&\"image/svg+xml\"==c.type?new s(c.contentDocument.getElementsByTagName(\"svg\")[0]):new e(c)}a.version=\"0.3.0\";a.toString=function(){return\"Snap v\"+\n",
       "this.version};a._={};var G={win:N,doc:N.document};a._.glob=G;var h=\"hasOwnProperty\",J=String,K=parseFloat,U=parseInt,I=Math,P=I.max,Q=I.min,Y=I.abs,C=I.PI,aa=\"\",$=Object.prototype.toString,F=/^\\s*((#[a-f\\d]{6})|(#[a-f\\d]{3})|rgba?\\(\\s*([\\d\\.]+%?\\s*,\\s*[\\d\\.]+%?\\s*,\\s*[\\d\\.]+%?(?:\\s*,\\s*[\\d\\.]+%?)?)\\s*\\)|hsba?\\(\\s*([\\d\\.]+(?:deg|\\xb0|%)?\\s*,\\s*[\\d\\.]+%?\\s*,\\s*[\\d\\.]+(?:%?\\s*,\\s*[\\d\\.]+)?%?)\\s*\\)|hsla?\\(\\s*([\\d\\.]+(?:deg|\\xb0|%)?\\s*,\\s*[\\d\\.]+%?\\s*,\\s*[\\d\\.]+(?:%?\\s*,\\s*[\\d\\.]+)?%?)\\s*\\))\\s*$/i;a._.separator=\n",
       "RegExp(\"[,\\t\\n\\x0B\\f\\r \\u00a0\\u1680\\u180e\\u2000\\u2001\\u2002\\u2003\\u2004\\u2005\\u2006\\u2007\\u2008\\u2009\\u200a\\u202f\\u205f\\u3000\\u2028\\u2029]+\");var S=RegExp(\"[\\t\\n\\x0B\\f\\r \\u00a0\\u1680\\u180e\\u2000\\u2001\\u2002\\u2003\\u2004\\u2005\\u2006\\u2007\\u2008\\u2009\\u200a\\u202f\\u205f\\u3000\\u2028\\u2029]*,[\\t\\n\\x0B\\f\\r \\u00a0\\u1680\\u180e\\u2000\\u2001\\u2002\\u2003\\u2004\\u2005\\u2006\\u2007\\u2008\\u2009\\u200a\\u202f\\u205f\\u3000\\u2028\\u2029]*\"),X={hs:1,rg:1},W=RegExp(\"([a-z])[\\t\\n\\x0B\\f\\r \\u00a0\\u1680\\u180e\\u2000\\u2001\\u2002\\u2003\\u2004\\u2005\\u2006\\u2007\\u2008\\u2009\\u200a\\u202f\\u205f\\u3000\\u2028\\u2029,]*((-?\\\\d*\\\\.?\\\\d*(?:e[\\\\-+]?\\\\d+)?[\\t\\n\\x0B\\f\\r \\u00a0\\u1680\\u180e\\u2000\\u2001\\u2002\\u2003\\u2004\\u2005\\u2006\\u2007\\u2008\\u2009\\u200a\\u202f\\u205f\\u3000\\u2028\\u2029]*,?[\\t\\n\\x0B\\f\\r \\u00a0\\u1680\\u180e\\u2000\\u2001\\u2002\\u2003\\u2004\\u2005\\u2006\\u2007\\u2008\\u2009\\u200a\\u202f\\u205f\\u3000\\u2028\\u2029]*)+)\",\n",
       "\"ig\"),ma=RegExp(\"([rstm])[\\t\\n\\x0B\\f\\r \\u00a0\\u1680\\u180e\\u2000\\u2001\\u2002\\u2003\\u2004\\u2005\\u2006\\u2007\\u2008\\u2009\\u200a\\u202f\\u205f\\u3000\\u2028\\u2029,]*((-?\\\\d*\\\\.?\\\\d*(?:e[\\\\-+]?\\\\d+)?[\\t\\n\\x0B\\f\\r \\u00a0\\u1680\\u180e\\u2000\\u2001\\u2002\\u2003\\u2004\\u2005\\u2006\\u2007\\u2008\\u2009\\u200a\\u202f\\u205f\\u3000\\u2028\\u2029]*,?[\\t\\n\\x0B\\f\\r \\u00a0\\u1680\\u180e\\u2000\\u2001\\u2002\\u2003\\u2004\\u2005\\u2006\\u2007\\u2008\\u2009\\u200a\\u202f\\u205f\\u3000\\u2028\\u2029]*)+)\",\"ig\"),Z=RegExp(\"(-?\\\\d*\\\\.?\\\\d*(?:e[\\\\-+]?\\\\d+)?)[\\t\\n\\x0B\\f\\r \\u00a0\\u1680\\u180e\\u2000\\u2001\\u2002\\u2003\\u2004\\u2005\\u2006\\u2007\\u2008\\u2009\\u200a\\u202f\\u205f\\u3000\\u2028\\u2029]*,?[\\t\\n\\x0B\\f\\r \\u00a0\\u1680\\u180e\\u2000\\u2001\\u2002\\u2003\\u2004\\u2005\\u2006\\u2007\\u2008\\u2009\\u200a\\u202f\\u205f\\u3000\\u2028\\u2029]*\",\n",
       "\"ig\"),na=0,ba=\"S\"+(+new Date).toString(36),V=function(){return ba+(na++).toString(36)},m=\"http://www.w3.org/1999/xlink\",la=\"http://www.w3.org/2000/svg\",E={},ca=a.url=function(c){return\"url('#\"+c+\"')\"};a._.$=v;a._.id=V;a.format=function(){var c=/\\{([^\\}]+)\\}/g,a=/(?:(?:^|\\.)(.+?)(?=\\[|\\.|$|\\()|\\[('|\")(.+?)\\2\\])(\\(\\))?/g,b=function(c,b,m){var h=m;b.replace(a,function(c,a,b,m,t){a=a||m;h&&(a in h&&(h=h[a]),\"function\"==typeof h&&t&&(h=h()))});return h=(null==h||h==m?c:h)+\"\"};return function(a,m){return J(a).replace(c,\n",
       "function(c,a){return b(c,a,m)})}}();a._.clone=M;a._.cacher=A;a.rad=z;a.deg=function(c){return 180*c/C%360};a.angle=w;a.is=y;a.snapTo=function(c,a,b){b=y(b,\"finite\")?b:10;if(y(c,\"array\"))for(var m=c.length;m--;){if(Y(c[m]-a)<=b)return c[m]}else{c=+c;m=a%c;if(m<b)return a-m;if(m>c-b)return a-m+c}return a};a.getRGB=A(function(c){if(!c||(c=J(c)).indexOf(\"-\")+1)return{r:-1,g:-1,b:-1,hex:\"none\",error:1,toString:ka};if(\"none\"==c)return{r:-1,g:-1,b:-1,hex:\"none\",toString:ka};!X[h](c.toLowerCase().substring(0,\n",
       "2))&&\"#\"!=c.charAt()&&(c=T(c));if(!c)return{r:-1,g:-1,b:-1,hex:\"none\",error:1,toString:ka};var b,m,e,f,d;if(c=c.match(F)){c[2]&&(e=U(c[2].substring(5),16),m=U(c[2].substring(3,5),16),b=U(c[2].substring(1,3),16));c[3]&&(e=U((d=c[3].charAt(3))+d,16),m=U((d=c[3].charAt(2))+d,16),b=U((d=c[3].charAt(1))+d,16));c[4]&&(d=c[4].split(S),b=K(d[0]),\"%\"==d[0].slice(-1)&&(b*=2.55),m=K(d[1]),\"%\"==d[1].slice(-1)&&(m*=2.55),e=K(d[2]),\"%\"==d[2].slice(-1)&&(e*=2.55),\"rgba\"==c[1].toLowerCase().slice(0,4)&&(f=K(d[3])),\n",
       "d[3]&&\"%\"==d[3].slice(-1)&&(f/=100));if(c[5])return d=c[5].split(S),b=K(d[0]),\"%\"==d[0].slice(-1)&&(b/=100),m=K(d[1]),\"%\"==d[1].slice(-1)&&(m/=100),e=K(d[2]),\"%\"==d[2].slice(-1)&&(e/=100),\"deg\"!=d[0].slice(-3)&&\"\\u00b0\"!=d[0].slice(-1)||(b/=360),\"hsba\"==c[1].toLowerCase().slice(0,4)&&(f=K(d[3])),d[3]&&\"%\"==d[3].slice(-1)&&(f/=100),a.hsb2rgb(b,m,e,f);if(c[6])return d=c[6].split(S),b=K(d[0]),\"%\"==d[0].slice(-1)&&(b/=100),m=K(d[1]),\"%\"==d[1].slice(-1)&&(m/=100),e=K(d[2]),\"%\"==d[2].slice(-1)&&(e/=100),\n",
       "\"deg\"!=d[0].slice(-3)&&\"\\u00b0\"!=d[0].slice(-1)||(b/=360),\"hsla\"==c[1].toLowerCase().slice(0,4)&&(f=K(d[3])),d[3]&&\"%\"==d[3].slice(-1)&&(f/=100),a.hsl2rgb(b,m,e,f);b=Q(I.round(b),255);m=Q(I.round(m),255);e=Q(I.round(e),255);f=Q(P(f,0),1);c={r:b,g:m,b:e,toString:ka};c.hex=\"#\"+(16777216|e|m<<8|b<<16).toString(16).slice(1);c.opacity=y(f,\"finite\")?f:1;return c}return{r:-1,g:-1,b:-1,hex:\"none\",error:1,toString:ka}},a);a.hsb=A(function(c,b,m){return a.hsb2rgb(c,b,m).hex});a.hsl=A(function(c,b,m){return a.hsl2rgb(c,\n",
       "b,m).hex});a.rgb=A(function(c,a,b,m){if(y(m,\"finite\")){var e=I.round;return\"rgba(\"+[e(c),e(a),e(b),+m.toFixed(2)]+\")\"}return\"#\"+(16777216|b|a<<8|c<<16).toString(16).slice(1)});var T=function(c){var a=G.doc.getElementsByTagName(\"head\")[0]||G.doc.getElementsByTagName(\"svg\")[0];T=A(function(c){if(\"red\"==c.toLowerCase())return\"rgb(255, 0, 0)\";a.style.color=\"rgb(255, 0, 0)\";a.style.color=c;c=G.doc.defaultView.getComputedStyle(a,aa).getPropertyValue(\"color\");return\"rgb(255, 0, 0)\"==c?null:c});return T(c)},\n",
       "qa=function(){return\"hsb(\"+[this.h,this.s,this.b]+\")\"},ra=function(){return\"hsl(\"+[this.h,this.s,this.l]+\")\"},ka=function(){return 1==this.opacity||null==this.opacity?this.hex:\"rgba(\"+[this.r,this.g,this.b,this.opacity]+\")\"},D=function(c,b,m){null==b&&y(c,\"object\")&&\"r\"in c&&\"g\"in c&&\"b\"in c&&(m=c.b,b=c.g,c=c.r);null==b&&y(c,string)&&(m=a.getRGB(c),c=m.r,b=m.g,m=m.b);if(1<c||1<b||1<m)c/=255,b/=255,m/=255;return[c,b,m]},oa=function(c,b,m,e){c=I.round(255*c);b=I.round(255*b);m=I.round(255*m);c={r:c,\n",
       "g:b,b:m,opacity:y(e,\"finite\")?e:1,hex:a.rgb(c,b,m),toString:ka};y(e,\"finite\")&&(c.opacity=e);return c};a.color=function(c){var b;y(c,\"object\")&&\"h\"in c&&\"s\"in c&&\"b\"in c?(b=a.hsb2rgb(c),c.r=b.r,c.g=b.g,c.b=b.b,c.opacity=1,c.hex=b.hex):y(c,\"object\")&&\"h\"in c&&\"s\"in c&&\"l\"in c?(b=a.hsl2rgb(c),c.r=b.r,c.g=b.g,c.b=b.b,c.opacity=1,c.hex=b.hex):(y(c,\"string\")&&(c=a.getRGB(c)),y(c,\"object\")&&\"r\"in c&&\"g\"in c&&\"b\"in c&&!(\"error\"in c)?(b=a.rgb2hsl(c),c.h=b.h,c.s=b.s,c.l=b.l,b=a.rgb2hsb(c),c.v=b.b):(c={hex:\"none\"},\n",
       "c.r=c.g=c.b=c.h=c.s=c.v=c.l=-1,c.error=1));c.toString=ka;return c};a.hsb2rgb=function(c,a,b,m){y(c,\"object\")&&\"h\"in c&&\"s\"in c&&\"b\"in c&&(b=c.b,a=c.s,c=c.h,m=c.o);var e,h,d;c=360*c%360/60;d=b*a;a=d*(1-Y(c%2-1));b=e=h=b-d;c=~~c;b+=[d,a,0,0,a,d][c];e+=[a,d,d,a,0,0][c];h+=[0,0,a,d,d,a][c];return oa(b,e,h,m)};a.hsl2rgb=function(c,a,b,m){y(c,\"object\")&&\"h\"in c&&\"s\"in c&&\"l\"in c&&(b=c.l,a=c.s,c=c.h);if(1<c||1<a||1<b)c/=360,a/=100,b/=100;var e,h,d;c=360*c%360/60;d=2*a*(0.5>b?b:1-b);a=d*(1-Y(c%2-1));b=e=\n",
       "h=b-d/2;c=~~c;b+=[d,a,0,0,a,d][c];e+=[a,d,d,a,0,0][c];h+=[0,0,a,d,d,a][c];return oa(b,e,h,m)};a.rgb2hsb=function(c,a,b){b=D(c,a,b);c=b[0];a=b[1];b=b[2];var m,e;m=P(c,a,b);e=m-Q(c,a,b);c=((0==e?0:m==c?(a-b)/e:m==a?(b-c)/e+2:(c-a)/e+4)+360)%6*60/360;return{h:c,s:0==e?0:e/m,b:m,toString:qa}};a.rgb2hsl=function(c,a,b){b=D(c,a,b);c=b[0];a=b[1];b=b[2];var m,e,h;m=P(c,a,b);e=Q(c,a,b);h=m-e;c=((0==h?0:m==c?(a-b)/h:m==a?(b-c)/h+2:(c-a)/h+4)+360)%6*60/360;m=(m+e)/2;return{h:c,s:0==h?0:0.5>m?h/(2*m):h/(2-2*\n",
       "m),l:m,toString:ra}};a.parsePathString=function(c){if(!c)return null;var b=a.path(c);if(b.arr)return a.path.clone(b.arr);var m={a:7,c:6,o:2,h:1,l:2,m:2,r:4,q:4,s:4,t:2,v:1,u:3,z:0},e=[];y(c,\"array\")&&y(c[0],\"array\")&&(e=a.path.clone(c));e.length||J(c).replace(W,function(c,a,b){var h=[];c=a.toLowerCase();b.replace(Z,function(c,a){a&&h.push(+a)});\"m\"==c&&2<h.length&&(e.push([a].concat(h.splice(0,2))),c=\"l\",a=\"m\"==a?\"l\":\"L\");\"o\"==c&&1==h.length&&e.push([a,h[0] ]);if(\"r\"==c)e.push([a].concat(h));else for(;h.length>=\n",
       "m[c]&&(e.push([a].concat(h.splice(0,m[c]))),m[c]););});e.toString=a.path.toString;b.arr=a.path.clone(e);return e};var O=a.parseTransformString=function(c){if(!c)return null;var b=[];y(c,\"array\")&&y(c[0],\"array\")&&(b=a.path.clone(c));b.length||J(c).replace(ma,function(c,a,m){var e=[];a.toLowerCase();m.replace(Z,function(c,a){a&&e.push(+a)});b.push([a].concat(e))});b.toString=a.path.toString;return b};a._.svgTransform2string=d;a._.rgTransform=RegExp(\"^[a-z][\\t\\n\\x0B\\f\\r \\u00a0\\u1680\\u180e\\u2000\\u2001\\u2002\\u2003\\u2004\\u2005\\u2006\\u2007\\u2008\\u2009\\u200a\\u202f\\u205f\\u3000\\u2028\\u2029]*-?\\\\.?\\\\d\",\n",
       "\"i\");a._.transform2matrix=f;a._unit2px=b;a._.getSomeDefs=u;a._.getSomeSVG=p;a.select=function(c){return x(G.doc.querySelector(c))};a.selectAll=function(c){c=G.doc.querySelectorAll(c);for(var b=(a.set||Array)(),m=0;m<c.length;m++)b.push(x(c[m]));return b};setInterval(function(){for(var c in E)if(E[h](c)){var a=E[c],b=a.node;(\"svg\"!=a.type&&!b.ownerSVGElement||\"svg\"==a.type&&(!b.parentNode||\"ownerSVGElement\"in b.parentNode&&!b.ownerSVGElement))&&delete E[c]}},1E4);(function(c){function m(c){function a(c,\n",
       "b){var m=v(c.node,b);(m=(m=m&&m.match(d))&&m[2])&&\"#\"==m.charAt()&&(m=m.substring(1))&&(f[m]=(f[m]||[]).concat(function(a){var m={};m[b]=ca(a);v(c.node,m)}))}function b(c){var a=v(c.node,\"xlink:href\");a&&\"#\"==a.charAt()&&(a=a.substring(1))&&(f[a]=(f[a]||[]).concat(function(a){c.attr(\"xlink:href\",\"#\"+a)}))}var e=c.selectAll(\"*\"),h,d=/^\\s*url\\((\"|'|)(.*)\\1\\)\\s*$/;c=[];for(var f={},l=0,E=e.length;l<E;l++){h=e[l];a(h,\"fill\");a(h,\"stroke\");a(h,\"filter\");a(h,\"mask\");a(h,\"clip-path\");b(h);var t=v(h.node,\n",
       "\"id\");t&&(v(h.node,{id:h.id}),c.push({old:t,id:h.id}))}l=0;for(E=c.length;l<E;l++)if(e=f[c[l].old])for(h=0,t=e.length;h<t;h++)e[h](c[l].id)}function e(c,a,b){return function(m){m=m.slice(c,a);1==m.length&&(m=m[0]);return b?b(m):m}}function d(c){return function(){var a=c?\"<\"+this.type:\"\",b=this.node.attributes,m=this.node.childNodes;if(c)for(var e=0,h=b.length;e<h;e++)a+=\" \"+b[e].name+'=\"'+b[e].value.replace(/\"/g,'\\\\\"')+'\"';if(m.length){c&&(a+=\">\");e=0;for(h=m.length;e<h;e++)3==m[e].nodeType?a+=m[e].nodeValue:\n",
       "1==m[e].nodeType&&(a+=x(m[e]).toString());c&&(a+=\"</\"+this.type+\">\")}else c&&(a+=\"/>\");return a}}c.attr=function(c,a){if(!c)return this;if(y(c,\"string\"))if(1<arguments.length){var b={};b[c]=a;c=b}else return k(\"snap.util.getattr.\"+c,this).firstDefined();for(var m in c)c[h](m)&&k(\"snap.util.attr.\"+m,this,c[m]);return this};c.getBBox=function(c){if(!a.Matrix||!a.path)return this.node.getBBox();var b=this,m=new a.Matrix;if(b.removed)return a._.box();for(;\"use\"==b.type;)if(c||(m=m.add(b.transform().localMatrix.translate(b.attr(\"x\")||\n",
       "0,b.attr(\"y\")||0))),b.original)b=b.original;else var e=b.attr(\"xlink:href\"),b=b.original=b.node.ownerDocument.getElementById(e.substring(e.indexOf(\"#\")+1));var e=b._,h=a.path.get[b.type]||a.path.get.deflt;try{if(c)return e.bboxwt=h?a.path.getBBox(b.realPath=h(b)):a._.box(b.node.getBBox()),a._.box(e.bboxwt);b.realPath=h(b);b.matrix=b.transform().localMatrix;e.bbox=a.path.getBBox(a.path.map(b.realPath,m.add(b.matrix)));return a._.box(e.bbox)}catch(d){return a._.box()}};var f=function(){return this.string};\n",
       "c.transform=function(c){var b=this._;if(null==c){var m=this;c=new a.Matrix(this.node.getCTM());for(var e=n(this),h=[e],d=new a.Matrix,l=e.toTransformString(),b=J(e)==J(this.matrix)?J(b.transform):l;\"svg\"!=m.type&&(m=m.parent());)h.push(n(m));for(m=h.length;m--;)d.add(h[m]);return{string:b,globalMatrix:c,totalMatrix:d,localMatrix:e,diffMatrix:c.clone().add(e.invert()),global:c.toTransformString(),total:d.toTransformString(),local:l,toString:f}}c instanceof a.Matrix?this.matrix=c:n(this,c);this.node&&\n",
       "(\"linearGradient\"==this.type||\"radialGradient\"==this.type?v(this.node,{gradientTransform:this.matrix}):\"pattern\"==this.type?v(this.node,{patternTransform:this.matrix}):v(this.node,{transform:this.matrix}));return this};c.parent=function(){return x(this.node.parentNode)};c.append=c.add=function(c){if(c){if(\"set\"==c.type){var a=this;c.forEach(function(c){a.add(c)});return this}c=x(c);this.node.appendChild(c.node);c.paper=this.paper}return this};c.appendTo=function(c){c&&(c=x(c),c.append(this));return this};\n",
       "c.prepend=function(c){if(c){if(\"set\"==c.type){var a=this,b;c.forEach(function(c){b?b.after(c):a.prepend(c);b=c});return this}c=x(c);var m=c.parent();this.node.insertBefore(c.node,this.node.firstChild);this.add&&this.add();c.paper=this.paper;this.parent()&&this.parent().add();m&&m.add()}return this};c.prependTo=function(c){c=x(c);c.prepend(this);return this};c.before=function(c){if(\"set\"==c.type){var a=this;c.forEach(function(c){var b=c.parent();a.node.parentNode.insertBefore(c.node,a.node);b&&b.add()});\n",
       "this.parent().add();return this}c=x(c);var b=c.parent();this.node.parentNode.insertBefore(c.node,this.node);this.parent()&&this.parent().add();b&&b.add();c.paper=this.paper;return this};c.after=function(c){c=x(c);var a=c.parent();this.node.nextSibling?this.node.parentNode.insertBefore(c.node,this.node.nextSibling):this.node.parentNode.appendChild(c.node);this.parent()&&this.parent().add();a&&a.add();c.paper=this.paper;return this};c.insertBefore=function(c){c=x(c);var a=this.parent();c.node.parentNode.insertBefore(this.node,\n",
       "c.node);this.paper=c.paper;a&&a.add();c.parent()&&c.parent().add();return this};c.insertAfter=function(c){c=x(c);var a=this.parent();c.node.parentNode.insertBefore(this.node,c.node.nextSibling);this.paper=c.paper;a&&a.add();c.parent()&&c.parent().add();return this};c.remove=function(){var c=this.parent();this.node.parentNode&&this.node.parentNode.removeChild(this.node);delete this.paper;this.removed=!0;c&&c.add();return this};c.select=function(c){return x(this.node.querySelector(c))};c.selectAll=\n",
       "function(c){c=this.node.querySelectorAll(c);for(var b=(a.set||Array)(),m=0;m<c.length;m++)b.push(x(c[m]));return b};c.asPX=function(c,a){null==a&&(a=this.attr(c));return+b(this,c,a)};c.use=function(){var c,a=this.node.id;a||(a=this.id,v(this.node,{id:a}));c=\"linearGradient\"==this.type||\"radialGradient\"==this.type||\"pattern\"==this.type?r(this.type,this.node.parentNode):r(\"use\",this.node.parentNode);v(c.node,{\"xlink:href\":\"#\"+a});c.original=this;return c};var l=/\\S+/g;c.addClass=function(c){var a=(c||\n",
       "\"\").match(l)||[];c=this.node;var b=c.className.baseVal,m=b.match(l)||[],e,h,d;if(a.length){for(e=0;d=a[e++];)h=m.indexOf(d),~h||m.push(d);a=m.join(\" \");b!=a&&(c.className.baseVal=a)}return this};c.removeClass=function(c){var a=(c||\"\").match(l)||[];c=this.node;var b=c.className.baseVal,m=b.match(l)||[],e,h;if(m.length){for(e=0;h=a[e++];)h=m.indexOf(h),~h&&m.splice(h,1);a=m.join(\" \");b!=a&&(c.className.baseVal=a)}return this};c.hasClass=function(c){return!!~(this.node.className.baseVal.match(l)||[]).indexOf(c)};\n",
       "c.toggleClass=function(c,a){if(null!=a)return a?this.addClass(c):this.removeClass(c);var b=(c||\"\").match(l)||[],m=this.node,e=m.className.baseVal,h=e.match(l)||[],d,f,E;for(d=0;E=b[d++];)f=h.indexOf(E),~f?h.splice(f,1):h.push(E);b=h.join(\" \");e!=b&&(m.className.baseVal=b);return this};c.clone=function(){var c=x(this.node.cloneNode(!0));v(c.node,\"id\")&&v(c.node,{id:c.id});m(c);c.insertAfter(this);return c};c.toDefs=function(){u(this).appendChild(this.node);return this};c.pattern=c.toPattern=function(c,\n",
       "a,b,m){var e=r(\"pattern\",u(this));null==c&&(c=this.getBBox());y(c,\"object\")&&\"x\"in c&&(a=c.y,b=c.width,m=c.height,c=c.x);v(e.node,{x:c,y:a,width:b,height:m,patternUnits:\"userSpaceOnUse\",id:e.id,viewBox:[c,a,b,m].join(\" \")});e.node.appendChild(this.node);return e};c.marker=function(c,a,b,m,e,h){var d=r(\"marker\",u(this));null==c&&(c=this.getBBox());y(c,\"object\")&&\"x\"in c&&(a=c.y,b=c.width,m=c.height,e=c.refX||c.cx,h=c.refY||c.cy,c=c.x);v(d.node,{viewBox:[c,a,b,m].join(\" \"),markerWidth:b,markerHeight:m,\n",
       "orient:\"auto\",refX:e||0,refY:h||0,id:d.id});d.node.appendChild(this.node);return d};var E=function(c,a,b,m){\"function\"!=typeof b||b.length||(m=b,b=L.linear);this.attr=c;this.dur=a;b&&(this.easing=b);m&&(this.callback=m)};a._.Animation=E;a.animation=function(c,a,b,m){return new E(c,a,b,m)};c.inAnim=function(){var c=[],a;for(a in this.anims)this.anims[h](a)&&function(a){c.push({anim:new E(a._attrs,a.dur,a.easing,a._callback),mina:a,curStatus:a.status(),status:function(c){return a.status(c)},stop:function(){a.stop()}})}(this.anims[a]);\n",
       "return c};a.animate=function(c,a,b,m,e,h){\"function\"!=typeof e||e.length||(h=e,e=L.linear);var d=L.time();c=L(c,a,d,d+m,L.time,b,e);h&&k.once(\"mina.finish.\"+c.id,h);return c};c.stop=function(){for(var c=this.inAnim(),a=0,b=c.length;a<b;a++)c[a].stop();return this};c.animate=function(c,a,b,m){\"function\"!=typeof b||b.length||(m=b,b=L.linear);c instanceof E&&(m=c.callback,b=c.easing,a=b.dur,c=c.attr);var d=[],f=[],l={},t,ca,n,T=this,q;for(q in c)if(c[h](q)){T.equal?(n=T.equal(q,J(c[q])),t=n.from,ca=\n",
       "n.to,n=n.f):(t=+T.attr(q),ca=+c[q]);var la=y(t,\"array\")?t.length:1;l[q]=e(d.length,d.length+la,n);d=d.concat(t);f=f.concat(ca)}t=L.time();var p=L(d,f,t,t+a,L.time,function(c){var a={},b;for(b in l)l[h](b)&&(a[b]=l[b](c));T.attr(a)},b);T.anims[p.id]=p;p._attrs=c;p._callback=m;k(\"snap.animcreated.\"+T.id,p);k.once(\"mina.finish.\"+p.id,function(){delete T.anims[p.id];m&&m.call(T)});k.once(\"mina.stop.\"+p.id,function(){delete T.anims[p.id]});return T};var T={};c.data=function(c,b){var m=T[this.id]=T[this.id]||\n",
       "{};if(0==arguments.length)return k(\"snap.data.get.\"+this.id,this,m,null),m;if(1==arguments.length){if(a.is(c,\"object\")){for(var e in c)c[h](e)&&this.data(e,c[e]);return this}k(\"snap.data.get.\"+this.id,this,m[c],c);return m[c]}m[c]=b;k(\"snap.data.set.\"+this.id,this,b,c);return this};c.removeData=function(c){null==c?T[this.id]={}:T[this.id]&&delete T[this.id][c];return this};c.outerSVG=c.toString=d(1);c.innerSVG=d()})(e.prototype);a.parse=function(c){var a=G.doc.createDocumentFragment(),b=!0,m=G.doc.createElement(\"div\");\n",
       "c=J(c);c.match(/^\\s*<\\s*svg(?:\\s|>)/)||(c=\"<svg>\"+c+\"</svg>\",b=!1);m.innerHTML=c;if(c=m.getElementsByTagName(\"svg\")[0])if(b)a=c;else for(;c.firstChild;)a.appendChild(c.firstChild);m.innerHTML=aa;return new l(a)};l.prototype.select=e.prototype.select;l.prototype.selectAll=e.prototype.selectAll;a.fragment=function(){for(var c=Array.prototype.slice.call(arguments,0),b=G.doc.createDocumentFragment(),m=0,e=c.length;m<e;m++){var h=c[m];h.node&&h.node.nodeType&&b.appendChild(h.node);h.nodeType&&b.appendChild(h);\n",
       "\"string\"==typeof h&&b.appendChild(a.parse(h).node)}return new l(b)};a._.make=r;a._.wrap=x;s.prototype.el=function(c,a){var b=r(c,this.node);a&&b.attr(a);return b};k.on(\"snap.util.getattr\",function(){var c=k.nt(),c=c.substring(c.lastIndexOf(\".\")+1),a=c.replace(/[A-Z]/g,function(c){return\"-\"+c.toLowerCase()});return pa[h](a)?this.node.ownerDocument.defaultView.getComputedStyle(this.node,null).getPropertyValue(a):v(this.node,c)});var pa={\"alignment-baseline\":0,\"baseline-shift\":0,clip:0,\"clip-path\":0,\n",
       "\"clip-rule\":0,color:0,\"color-interpolation\":0,\"color-interpolation-filters\":0,\"color-profile\":0,\"color-rendering\":0,cursor:0,direction:0,display:0,\"dominant-baseline\":0,\"enable-background\":0,fill:0,\"fill-opacity\":0,\"fill-rule\":0,filter:0,\"flood-color\":0,\"flood-opacity\":0,font:0,\"font-family\":0,\"font-size\":0,\"font-size-adjust\":0,\"font-stretch\":0,\"font-style\":0,\"font-variant\":0,\"font-weight\":0,\"glyph-orientation-horizontal\":0,\"glyph-orientation-vertical\":0,\"image-rendering\":0,kerning:0,\"letter-spacing\":0,\n",
       "\"lighting-color\":0,marker:0,\"marker-end\":0,\"marker-mid\":0,\"marker-start\":0,mask:0,opacity:0,overflow:0,\"pointer-events\":0,\"shape-rendering\":0,\"stop-color\":0,\"stop-opacity\":0,stroke:0,\"stroke-dasharray\":0,\"stroke-dashoffset\":0,\"stroke-linecap\":0,\"stroke-linejoin\":0,\"stroke-miterlimit\":0,\"stroke-opacity\":0,\"stroke-width\":0,\"text-anchor\":0,\"text-decoration\":0,\"text-rendering\":0,\"unicode-bidi\":0,visibility:0,\"word-spacing\":0,\"writing-mode\":0};k.on(\"snap.util.attr\",function(c){var a=k.nt(),b={},a=a.substring(a.lastIndexOf(\".\")+\n",
       "1);b[a]=c;var m=a.replace(/-(\\w)/gi,function(c,a){return a.toUpperCase()}),a=a.replace(/[A-Z]/g,function(c){return\"-\"+c.toLowerCase()});pa[h](a)?this.node.style[m]=null==c?aa:c:v(this.node,b)});a.ajax=function(c,a,b,m){var e=new XMLHttpRequest,h=V();if(e){if(y(a,\"function\"))m=b,b=a,a=null;else if(y(a,\"object\")){var d=[],f;for(f in a)a.hasOwnProperty(f)&&d.push(encodeURIComponent(f)+\"=\"+encodeURIComponent(a[f]));a=d.join(\"&\")}e.open(a?\"POST\":\"GET\",c,!0);a&&(e.setRequestHeader(\"X-Requested-With\",\"XMLHttpRequest\"),\n",
       "e.setRequestHeader(\"Content-type\",\"application/x-www-form-urlencoded\"));b&&(k.once(\"snap.ajax.\"+h+\".0\",b),k.once(\"snap.ajax.\"+h+\".200\",b),k.once(\"snap.ajax.\"+h+\".304\",b));e.onreadystatechange=function(){4==e.readyState&&k(\"snap.ajax.\"+h+\".\"+e.status,m,e)};if(4==e.readyState)return e;e.send(a);return e}};a.load=function(c,b,m){a.ajax(c,function(c){c=a.parse(c.responseText);m?b.call(m,c):b(c)})};a.getElementByPoint=function(c,a){var b,m,e=G.doc.elementFromPoint(c,a);if(G.win.opera&&\"svg\"==e.tagName){b=\n",
       "e;m=b.getBoundingClientRect();b=b.ownerDocument;var h=b.body,d=b.documentElement;b=m.top+(g.win.pageYOffset||d.scrollTop||h.scrollTop)-(d.clientTop||h.clientTop||0);m=m.left+(g.win.pageXOffset||d.scrollLeft||h.scrollLeft)-(d.clientLeft||h.clientLeft||0);h=e.createSVGRect();h.x=c-m;h.y=a-b;h.width=h.height=1;b=e.getIntersectionList(h,null);b.length&&(e=b[b.length-1])}return e?x(e):null};a.plugin=function(c){c(a,e,s,G,l)};return G.win.Snap=a}();C.plugin(function(a,k,y,M,A){function w(a,d,f,b,q,e){null==\n",
       "d&&\"[object SVGMatrix]\"==z.call(a)?(this.a=a.a,this.b=a.b,this.c=a.c,this.d=a.d,this.e=a.e,this.f=a.f):null!=a?(this.a=+a,this.b=+d,this.c=+f,this.d=+b,this.e=+q,this.f=+e):(this.a=1,this.c=this.b=0,this.d=1,this.f=this.e=0)}var z=Object.prototype.toString,d=String,f=Math;(function(n){function k(a){return a[0]*a[0]+a[1]*a[1]}function p(a){var d=f.sqrt(k(a));a[0]&&(a[0]/=d);a[1]&&(a[1]/=d)}n.add=function(a,d,e,f,n,p){var k=[[],[],[] ],u=[[this.a,this.c,this.e],[this.b,this.d,this.f],[0,0,1] ];d=[[a,\n",
       "e,n],[d,f,p],[0,0,1] ];a&&a instanceof w&&(d=[[a.a,a.c,a.e],[a.b,a.d,a.f],[0,0,1] ]);for(a=0;3>a;a++)for(e=0;3>e;e++){for(f=n=0;3>f;f++)n+=u[a][f]*d[f][e];k[a][e]=n}this.a=k[0][0];this.b=k[1][0];this.c=k[0][1];this.d=k[1][1];this.e=k[0][2];this.f=k[1][2];return this};n.invert=function(){var a=this.a*this.d-this.b*this.c;return new w(this.d/a,-this.b/a,-this.c/a,this.a/a,(this.c*this.f-this.d*this.e)/a,(this.b*this.e-this.a*this.f)/a)};n.clone=function(){return new w(this.a,this.b,this.c,this.d,this.e,\n",
       "this.f)};n.translate=function(a,d){return this.add(1,0,0,1,a,d)};n.scale=function(a,d,e,f){null==d&&(d=a);(e||f)&&this.add(1,0,0,1,e,f);this.add(a,0,0,d,0,0);(e||f)&&this.add(1,0,0,1,-e,-f);return this};n.rotate=function(b,d,e){b=a.rad(b);d=d||0;e=e||0;var l=+f.cos(b).toFixed(9);b=+f.sin(b).toFixed(9);this.add(l,b,-b,l,d,e);return this.add(1,0,0,1,-d,-e)};n.x=function(a,d){return a*this.a+d*this.c+this.e};n.y=function(a,d){return a*this.b+d*this.d+this.f};n.get=function(a){return+this[d.fromCharCode(97+\n",
       "a)].toFixed(4)};n.toString=function(){return\"matrix(\"+[this.get(0),this.get(1),this.get(2),this.get(3),this.get(4),this.get(5)].join()+\")\"};n.offset=function(){return[this.e.toFixed(4),this.f.toFixed(4)]};n.determinant=function(){return this.a*this.d-this.b*this.c};n.split=function(){var b={};b.dx=this.e;b.dy=this.f;var d=[[this.a,this.c],[this.b,this.d] ];b.scalex=f.sqrt(k(d[0]));p(d[0]);b.shear=d[0][0]*d[1][0]+d[0][1]*d[1][1];d[1]=[d[1][0]-d[0][0]*b.shear,d[1][1]-d[0][1]*b.shear];b.scaley=f.sqrt(k(d[1]));\n",
       "p(d[1]);b.shear/=b.scaley;0>this.determinant()&&(b.scalex=-b.scalex);var e=-d[0][1],d=d[1][1];0>d?(b.rotate=a.deg(f.acos(d)),0>e&&(b.rotate=360-b.rotate)):b.rotate=a.deg(f.asin(e));b.isSimple=!+b.shear.toFixed(9)&&(b.scalex.toFixed(9)==b.scaley.toFixed(9)||!b.rotate);b.isSuperSimple=!+b.shear.toFixed(9)&&b.scalex.toFixed(9)==b.scaley.toFixed(9)&&!b.rotate;b.noRotation=!+b.shear.toFixed(9)&&!b.rotate;return b};n.toTransformString=function(a){a=a||this.split();if(+a.shear.toFixed(9))return\"m\"+[this.get(0),\n",
       "this.get(1),this.get(2),this.get(3),this.get(4),this.get(5)];a.scalex=+a.scalex.toFixed(4);a.scaley=+a.scaley.toFixed(4);a.rotate=+a.rotate.toFixed(4);return(a.dx||a.dy?\"t\"+[+a.dx.toFixed(4),+a.dy.toFixed(4)]:\"\")+(1!=a.scalex||1!=a.scaley?\"s\"+[a.scalex,a.scaley,0,0]:\"\")+(a.rotate?\"r\"+[+a.rotate.toFixed(4),0,0]:\"\")}})(w.prototype);a.Matrix=w;a.matrix=function(a,d,f,b,k,e){return new w(a,d,f,b,k,e)}});C.plugin(function(a,v,y,M,A){function w(h){return function(d){k.stop();d instanceof A&&1==d.node.childNodes.length&&\n",
       "(\"radialGradient\"==d.node.firstChild.tagName||\"linearGradient\"==d.node.firstChild.tagName||\"pattern\"==d.node.firstChild.tagName)&&(d=d.node.firstChild,b(this).appendChild(d),d=u(d));if(d instanceof v)if(\"radialGradient\"==d.type||\"linearGradient\"==d.type||\"pattern\"==d.type){d.node.id||e(d.node,{id:d.id});var f=l(d.node.id)}else f=d.attr(h);else f=a.color(d),f.error?(f=a(b(this).ownerSVGElement).gradient(d))?(f.node.id||e(f.node,{id:f.id}),f=l(f.node.id)):f=d:f=r(f);d={};d[h]=f;e(this.node,d);this.node.style[h]=\n",
       "x}}function z(a){k.stop();a==+a&&(a+=\"px\");this.node.style.fontSize=a}function d(a){var b=[];a=a.childNodes;for(var e=0,f=a.length;e<f;e++){var l=a[e];3==l.nodeType&&b.push(l.nodeValue);\"tspan\"==l.tagName&&(1==l.childNodes.length&&3==l.firstChild.nodeType?b.push(l.firstChild.nodeValue):b.push(d(l)))}return b}function f(){k.stop();return this.node.style.fontSize}var n=a._.make,u=a._.wrap,p=a.is,b=a._.getSomeDefs,q=/^url\\(#?([^)]+)\\)$/,e=a._.$,l=a.url,r=String,s=a._.separator,x=\"\";k.on(\"snap.util.attr.mask\",\n",
       "function(a){if(a instanceof v||a instanceof A){k.stop();a instanceof A&&1==a.node.childNodes.length&&(a=a.node.firstChild,b(this).appendChild(a),a=u(a));if(\"mask\"==a.type)var d=a;else d=n(\"mask\",b(this)),d.node.appendChild(a.node);!d.node.id&&e(d.node,{id:d.id});e(this.node,{mask:l(d.id)})}});(function(a){k.on(\"snap.util.attr.clip\",a);k.on(\"snap.util.attr.clip-path\",a);k.on(\"snap.util.attr.clipPath\",a)})(function(a){if(a instanceof v||a instanceof A){k.stop();if(\"clipPath\"==a.type)var d=a;else d=\n",
       "n(\"clipPath\",b(this)),d.node.appendChild(a.node),!d.node.id&&e(d.node,{id:d.id});e(this.node,{\"clip-path\":l(d.id)})}});k.on(\"snap.util.attr.fill\",w(\"fill\"));k.on(\"snap.util.attr.stroke\",w(\"stroke\"));var G=/^([lr])(?:\\(([^)]*)\\))?(.*)$/i;k.on(\"snap.util.grad.parse\",function(a){a=r(a);var b=a.match(G);if(!b)return null;a=b[1];var e=b[2],b=b[3],e=e.split(/\\s*,\\s*/).map(function(a){return+a==a?+a:a});1==e.length&&0==e[0]&&(e=[]);b=b.split(\"-\");b=b.map(function(a){a=a.split(\":\");var b={color:a[0]};a[1]&&\n",
       "(b.offset=parseFloat(a[1]));return b});return{type:a,params:e,stops:b}});k.on(\"snap.util.attr.d\",function(b){k.stop();p(b,\"array\")&&p(b[0],\"array\")&&(b=a.path.toString.call(b));b=r(b);b.match(/[ruo]/i)&&(b=a.path.toAbsolute(b));e(this.node,{d:b})})(-1);k.on(\"snap.util.attr.#text\",function(a){k.stop();a=r(a);for(a=M.doc.createTextNode(a);this.node.firstChild;)this.node.removeChild(this.node.firstChild);this.node.appendChild(a)})(-1);k.on(\"snap.util.attr.path\",function(a){k.stop();this.attr({d:a})})(-1);\n",
       "k.on(\"snap.util.attr.class\",function(a){k.stop();this.node.className.baseVal=a})(-1);k.on(\"snap.util.attr.viewBox\",function(a){a=p(a,\"object\")&&\"x\"in a?[a.x,a.y,a.width,a.height].join(\" \"):p(a,\"array\")?a.join(\" \"):a;e(this.node,{viewBox:a});k.stop()})(-1);k.on(\"snap.util.attr.transform\",function(a){this.transform(a);k.stop()})(-1);k.on(\"snap.util.attr.r\",function(a){\"rect\"==this.type&&(k.stop(),e(this.node,{rx:a,ry:a}))})(-1);k.on(\"snap.util.attr.textpath\",function(a){k.stop();if(\"text\"==this.type){var d,\n",
       "f;if(!a&&this.textPath){for(a=this.textPath;a.node.firstChild;)this.node.appendChild(a.node.firstChild);a.remove();delete this.textPath}else if(p(a,\"string\")?(d=b(this),a=u(d.parentNode).path(a),d.appendChild(a.node),d=a.id,a.attr({id:d})):(a=u(a),a instanceof v&&(d=a.attr(\"id\"),d||(d=a.id,a.attr({id:d})))),d)if(a=this.textPath,f=this.node,a)a.attr({\"xlink:href\":\"#\"+d});else{for(a=e(\"textPath\",{\"xlink:href\":\"#\"+d});f.firstChild;)a.appendChild(f.firstChild);f.appendChild(a);this.textPath=u(a)}}})(-1);\n",
       "k.on(\"snap.util.attr.text\",function(a){if(\"text\"==this.type){for(var b=this.node,d=function(a){var b=e(\"tspan\");if(p(a,\"array\"))for(var f=0;f<a.length;f++)b.appendChild(d(a[f]));else b.appendChild(M.doc.createTextNode(a));b.normalize&&b.normalize();return b};b.firstChild;)b.removeChild(b.firstChild);for(a=d(a);a.firstChild;)b.appendChild(a.firstChild)}k.stop()})(-1);k.on(\"snap.util.attr.fontSize\",z)(-1);k.on(\"snap.util.attr.font-size\",z)(-1);k.on(\"snap.util.getattr.transform\",function(){k.stop();\n",
       "return this.transform()})(-1);k.on(\"snap.util.getattr.textpath\",function(){k.stop();return this.textPath})(-1);(function(){function b(d){return function(){k.stop();var b=M.doc.defaultView.getComputedStyle(this.node,null).getPropertyValue(\"marker-\"+d);return\"none\"==b?b:a(M.doc.getElementById(b.match(q)[1]))}}function d(a){return function(b){k.stop();var d=\"marker\"+a.charAt(0).toUpperCase()+a.substring(1);if(\"\"==b||!b)this.node.style[d]=\"none\";else if(\"marker\"==b.type){var f=b.node.id;f||e(b.node,{id:b.id});\n",
       "this.node.style[d]=l(f)}}}k.on(\"snap.util.getattr.marker-end\",b(\"end\"))(-1);k.on(\"snap.util.getattr.markerEnd\",b(\"end\"))(-1);k.on(\"snap.util.getattr.marker-start\",b(\"start\"))(-1);k.on(\"snap.util.getattr.markerStart\",b(\"start\"))(-1);k.on(\"snap.util.getattr.marker-mid\",b(\"mid\"))(-1);k.on(\"snap.util.getattr.markerMid\",b(\"mid\"))(-1);k.on(\"snap.util.attr.marker-end\",d(\"end\"))(-1);k.on(\"snap.util.attr.markerEnd\",d(\"end\"))(-1);k.on(\"snap.util.attr.marker-start\",d(\"start\"))(-1);k.on(\"snap.util.attr.markerStart\",\n",
       "d(\"start\"))(-1);k.on(\"snap.util.attr.marker-mid\",d(\"mid\"))(-1);k.on(\"snap.util.attr.markerMid\",d(\"mid\"))(-1)})();k.on(\"snap.util.getattr.r\",function(){if(\"rect\"==this.type&&e(this.node,\"rx\")==e(this.node,\"ry\"))return k.stop(),e(this.node,\"rx\")})(-1);k.on(\"snap.util.getattr.text\",function(){if(\"text\"==this.type||\"tspan\"==this.type){k.stop();var a=d(this.node);return 1==a.length?a[0]:a}})(-1);k.on(\"snap.util.getattr.#text\",function(){return this.node.textContent})(-1);k.on(\"snap.util.getattr.viewBox\",\n",
       "function(){k.stop();var b=e(this.node,\"viewBox\");if(b)return b=b.split(s),a._.box(+b[0],+b[1],+b[2],+b[3])})(-1);k.on(\"snap.util.getattr.points\",function(){var a=e(this.node,\"points\");k.stop();if(a)return a.split(s)})(-1);k.on(\"snap.util.getattr.path\",function(){var a=e(this.node,\"d\");k.stop();return a})(-1);k.on(\"snap.util.getattr.class\",function(){return this.node.className.baseVal})(-1);k.on(\"snap.util.getattr.fontSize\",f)(-1);k.on(\"snap.util.getattr.font-size\",f)(-1)});C.plugin(function(a,v,y,\n",
       "M,A){function w(a){return a}function z(a){return function(b){return+b.toFixed(3)+a}}var d={\"+\":function(a,b){return a+b},\"-\":function(a,b){return a-b},\"/\":function(a,b){return a/b},\"*\":function(a,b){return a*b}},f=String,n=/[a-z]+$/i,u=/^\\s*([+\\-\\/*])\\s*=\\s*([\\d.eE+\\-]+)\\s*([^\\d\\s]+)?\\s*$/;k.on(\"snap.util.attr\",function(a){if(a=f(a).match(u)){var b=k.nt(),b=b.substring(b.lastIndexOf(\".\")+1),q=this.attr(b),e={};k.stop();var l=a[3]||\"\",r=q.match(n),s=d[a[1] ];r&&r==l?a=s(parseFloat(q),+a[2]):(q=this.asPX(b),\n",
       "a=s(this.asPX(b),this.asPX(b,a[2]+l)));isNaN(q)||isNaN(a)||(e[b]=a,this.attr(e))}})(-10);k.on(\"snap.util.equal\",function(a,b){var q=f(this.attr(a)||\"\"),e=f(b).match(u);if(e){k.stop();var l=e[3]||\"\",r=q.match(n),s=d[e[1] ];if(r&&r==l)return{from:parseFloat(q),to:s(parseFloat(q),+e[2]),f:z(r)};q=this.asPX(a);return{from:q,to:s(q,this.asPX(a,e[2]+l)),f:w}}})(-10)});C.plugin(function(a,v,y,M,A){var w=y.prototype,z=a.is;w.rect=function(a,d,k,p,b,q){var e;null==q&&(q=b);z(a,\"object\")&&\"[object Object]\"==\n",
       "a?e=a:null!=a&&(e={x:a,y:d,width:k,height:p},null!=b&&(e.rx=b,e.ry=q));return this.el(\"rect\",e)};w.circle=function(a,d,k){var p;z(a,\"object\")&&\"[object Object]\"==a?p=a:null!=a&&(p={cx:a,cy:d,r:k});return this.el(\"circle\",p)};var d=function(){function a(){this.parentNode.removeChild(this)}return function(d,k){var p=M.doc.createElement(\"img\"),b=M.doc.body;p.style.cssText=\"position:absolute;left:-9999em;top:-9999em\";p.onload=function(){k.call(p);p.onload=p.onerror=null;b.removeChild(p)};p.onerror=a;\n",
       "b.appendChild(p);p.src=d}}();w.image=function(f,n,k,p,b){var q=this.el(\"image\");if(z(f,\"object\")&&\"src\"in f)q.attr(f);else if(null!=f){var e={\"xlink:href\":f,preserveAspectRatio:\"none\"};null!=n&&null!=k&&(e.x=n,e.y=k);null!=p&&null!=b?(e.width=p,e.height=b):d(f,function(){a._.$(q.node,{width:this.offsetWidth,height:this.offsetHeight})});a._.$(q.node,e)}return q};w.ellipse=function(a,d,k,p){var b;z(a,\"object\")&&\"[object Object]\"==a?b=a:null!=a&&(b={cx:a,cy:d,rx:k,ry:p});return this.el(\"ellipse\",b)};\n",
       "w.path=function(a){var d;z(a,\"object\")&&!z(a,\"array\")?d=a:a&&(d={d:a});return this.el(\"path\",d)};w.group=w.g=function(a){var d=this.el(\"g\");1==arguments.length&&a&&!a.type?d.attr(a):arguments.length&&d.add(Array.prototype.slice.call(arguments,0));return d};w.svg=function(a,d,k,p,b,q,e,l){var r={};z(a,\"object\")&&null==d?r=a:(null!=a&&(r.x=a),null!=d&&(r.y=d),null!=k&&(r.width=k),null!=p&&(r.height=p),null!=b&&null!=q&&null!=e&&null!=l&&(r.viewBox=[b,q,e,l]));return this.el(\"svg\",r)};w.mask=function(a){var d=\n",
       "this.el(\"mask\");1==arguments.length&&a&&!a.type?d.attr(a):arguments.length&&d.add(Array.prototype.slice.call(arguments,0));return d};w.ptrn=function(a,d,k,p,b,q,e,l){if(z(a,\"object\"))var r=a;else arguments.length?(r={},null!=a&&(r.x=a),null!=d&&(r.y=d),null!=k&&(r.width=k),null!=p&&(r.height=p),null!=b&&null!=q&&null!=e&&null!=l&&(r.viewBox=[b,q,e,l])):r={patternUnits:\"userSpaceOnUse\"};return this.el(\"pattern\",r)};w.use=function(a){return null!=a?(make(\"use\",this.node),a instanceof v&&(a.attr(\"id\")||\n",
       "a.attr({id:ID()}),a=a.attr(\"id\")),this.el(\"use\",{\"xlink:href\":a})):v.prototype.use.call(this)};w.text=function(a,d,k){var p={};z(a,\"object\")?p=a:null!=a&&(p={x:a,y:d,text:k||\"\"});return this.el(\"text\",p)};w.line=function(a,d,k,p){var b={};z(a,\"object\")?b=a:null!=a&&(b={x1:a,x2:k,y1:d,y2:p});return this.el(\"line\",b)};w.polyline=function(a){1<arguments.length&&(a=Array.prototype.slice.call(arguments,0));var d={};z(a,\"object\")&&!z(a,\"array\")?d=a:null!=a&&(d={points:a});return this.el(\"polyline\",d)};\n",
       "w.polygon=function(a){1<arguments.length&&(a=Array.prototype.slice.call(arguments,0));var d={};z(a,\"object\")&&!z(a,\"array\")?d=a:null!=a&&(d={points:a});return this.el(\"polygon\",d)};(function(){function d(){return this.selectAll(\"stop\")}function n(b,d){var f=e(\"stop\"),k={offset:+d+\"%\"};b=a.color(b);k[\"stop-color\"]=b.hex;1>b.opacity&&(k[\"stop-opacity\"]=b.opacity);e(f,k);this.node.appendChild(f);return this}function u(){if(\"linearGradient\"==this.type){var b=e(this.node,\"x1\")||0,d=e(this.node,\"x2\")||\n",
       "1,f=e(this.node,\"y1\")||0,k=e(this.node,\"y2\")||0;return a._.box(b,f,math.abs(d-b),math.abs(k-f))}b=this.node.r||0;return a._.box((this.node.cx||0.5)-b,(this.node.cy||0.5)-b,2*b,2*b)}function p(a,d){function f(a,b){for(var d=(b-u)/(a-w),e=w;e<a;e++)h[e].offset=+(+u+d*(e-w)).toFixed(2);w=a;u=b}var n=k(\"snap.util.grad.parse\",null,d).firstDefined(),p;if(!n)return null;n.params.unshift(a);p=\"l\"==n.type.toLowerCase()?b.apply(0,n.params):q.apply(0,n.params);n.type!=n.type.toLowerCase()&&e(p.node,{gradientUnits:\"userSpaceOnUse\"});\n",
       "var h=n.stops,n=h.length,u=0,w=0;n--;for(var v=0;v<n;v++)\"offset\"in h[v]&&f(v,h[v].offset);h[n].offset=h[n].offset||100;f(n,h[n].offset);for(v=0;v<=n;v++){var y=h[v];p.addStop(y.color,y.offset)}return p}function b(b,k,p,q,w){b=a._.make(\"linearGradient\",b);b.stops=d;b.addStop=n;b.getBBox=u;null!=k&&e(b.node,{x1:k,y1:p,x2:q,y2:w});return b}function q(b,k,p,q,w,h){b=a._.make(\"radialGradient\",b);b.stops=d;b.addStop=n;b.getBBox=u;null!=k&&e(b.node,{cx:k,cy:p,r:q});null!=w&&null!=h&&e(b.node,{fx:w,fy:h});\n",
       "return b}var e=a._.$;w.gradient=function(a){return p(this.defs,a)};w.gradientLinear=function(a,d,e,f){return b(this.defs,a,d,e,f)};w.gradientRadial=function(a,b,d,e,f){return q(this.defs,a,b,d,e,f)};w.toString=function(){var b=this.node.ownerDocument,d=b.createDocumentFragment(),b=b.createElement(\"div\"),e=this.node.cloneNode(!0);d.appendChild(b);b.appendChild(e);a._.$(e,{xmlns:\"http://www.w3.org/2000/svg\"});b=b.innerHTML;d.removeChild(d.firstChild);return b};w.clear=function(){for(var a=this.node.firstChild,\n",
       "b;a;)b=a.nextSibling,\"defs\"!=a.tagName?a.parentNode.removeChild(a):w.clear.call({node:a}),a=b}})()});C.plugin(function(a,k,y,M){function A(a){var b=A.ps=A.ps||{};b[a]?b[a].sleep=100:b[a]={sleep:100};setTimeout(function(){for(var d in b)b[L](d)&&d!=a&&(b[d].sleep--,!b[d].sleep&&delete b[d])});return b[a]}function w(a,b,d,e){null==a&&(a=b=d=e=0);null==b&&(b=a.y,d=a.width,e=a.height,a=a.x);return{x:a,y:b,width:d,w:d,height:e,h:e,x2:a+d,y2:b+e,cx:a+d/2,cy:b+e/2,r1:F.min(d,e)/2,r2:F.max(d,e)/2,r0:F.sqrt(d*\n",
       "d+e*e)/2,path:s(a,b,d,e),vb:[a,b,d,e].join(\" \")}}function z(){return this.join(\",\").replace(N,\"$1\")}function d(a){a=C(a);a.toString=z;return a}function f(a,b,d,h,f,k,l,n,p){if(null==p)return e(a,b,d,h,f,k,l,n);if(0>p||e(a,b,d,h,f,k,l,n)<p)p=void 0;else{var q=0.5,O=1-q,s;for(s=e(a,b,d,h,f,k,l,n,O);0.01<Z(s-p);)q/=2,O+=(s<p?1:-1)*q,s=e(a,b,d,h,f,k,l,n,O);p=O}return u(a,b,d,h,f,k,l,n,p)}function n(b,d){function e(a){return+(+a).toFixed(3)}return a._.cacher(function(a,h,l){a instanceof k&&(a=a.attr(\"d\"));\n",
       "a=I(a);for(var n,p,D,q,O=\"\",s={},c=0,t=0,r=a.length;t<r;t++){D=a[t];if(\"M\"==D[0])n=+D[1],p=+D[2];else{q=f(n,p,D[1],D[2],D[3],D[4],D[5],D[6]);if(c+q>h){if(d&&!s.start){n=f(n,p,D[1],D[2],D[3],D[4],D[5],D[6],h-c);O+=[\"C\"+e(n.start.x),e(n.start.y),e(n.m.x),e(n.m.y),e(n.x),e(n.y)];if(l)return O;s.start=O;O=[\"M\"+e(n.x),e(n.y)+\"C\"+e(n.n.x),e(n.n.y),e(n.end.x),e(n.end.y),e(D[5]),e(D[6])].join();c+=q;n=+D[5];p=+D[6];continue}if(!b&&!d)return n=f(n,p,D[1],D[2],D[3],D[4],D[5],D[6],h-c)}c+=q;n=+D[5];p=+D[6]}O+=\n",
       "D.shift()+D}s.end=O;return n=b?c:d?s:u(n,p,D[0],D[1],D[2],D[3],D[4],D[5],1)},null,a._.clone)}function u(a,b,d,e,h,f,k,l,n){var p=1-n,q=ma(p,3),s=ma(p,2),c=n*n,t=c*n,r=q*a+3*s*n*d+3*p*n*n*h+t*k,q=q*b+3*s*n*e+3*p*n*n*f+t*l,s=a+2*n*(d-a)+c*(h-2*d+a),t=b+2*n*(e-b)+c*(f-2*e+b),x=d+2*n*(h-d)+c*(k-2*h+d),c=e+2*n*(f-e)+c*(l-2*f+e);a=p*a+n*d;b=p*b+n*e;h=p*h+n*k;f=p*f+n*l;l=90-180*F.atan2(s-x,t-c)/S;return{x:r,y:q,m:{x:s,y:t},n:{x:x,y:c},start:{x:a,y:b},end:{x:h,y:f},alpha:l}}function p(b,d,e,h,f,n,k,l){a.is(b,\n",
       "\"array\")||(b=[b,d,e,h,f,n,k,l]);b=U.apply(null,b);return w(b.min.x,b.min.y,b.max.x-b.min.x,b.max.y-b.min.y)}function b(a,b,d){return b>=a.x&&b<=a.x+a.width&&d>=a.y&&d<=a.y+a.height}function q(a,d){a=w(a);d=w(d);return b(d,a.x,a.y)||b(d,a.x2,a.y)||b(d,a.x,a.y2)||b(d,a.x2,a.y2)||b(a,d.x,d.y)||b(a,d.x2,d.y)||b(a,d.x,d.y2)||b(a,d.x2,d.y2)||(a.x<d.x2&&a.x>d.x||d.x<a.x2&&d.x>a.x)&&(a.y<d.y2&&a.y>d.y||d.y<a.y2&&d.y>a.y)}function e(a,b,d,e,h,f,n,k,l){null==l&&(l=1);l=(1<l?1:0>l?0:l)/2;for(var p=[-0.1252,\n",
       "0.1252,-0.3678,0.3678,-0.5873,0.5873,-0.7699,0.7699,-0.9041,0.9041,-0.9816,0.9816],q=[0.2491,0.2491,0.2335,0.2335,0.2032,0.2032,0.1601,0.1601,0.1069,0.1069,0.0472,0.0472],s=0,c=0;12>c;c++)var t=l*p[c]+l,r=t*(t*(-3*a+9*d-9*h+3*n)+6*a-12*d+6*h)-3*a+3*d,t=t*(t*(-3*b+9*e-9*f+3*k)+6*b-12*e+6*f)-3*b+3*e,s=s+q[c]*F.sqrt(r*r+t*t);return l*s}function l(a,b,d){a=I(a);b=I(b);for(var h,f,l,n,k,s,r,O,x,c,t=d?0:[],w=0,v=a.length;w<v;w++)if(x=a[w],\"M\"==x[0])h=k=x[1],f=s=x[2];else{\"C\"==x[0]?(x=[h,f].concat(x.slice(1)),\n",
       "h=x[6],f=x[7]):(x=[h,f,h,f,k,s,k,s],h=k,f=s);for(var G=0,y=b.length;G<y;G++)if(c=b[G],\"M\"==c[0])l=r=c[1],n=O=c[2];else{\"C\"==c[0]?(c=[l,n].concat(c.slice(1)),l=c[6],n=c[7]):(c=[l,n,l,n,r,O,r,O],l=r,n=O);var z;var K=x,B=c;z=d;var H=p(K),J=p(B);if(q(H,J)){for(var H=e.apply(0,K),J=e.apply(0,B),H=~~(H/8),J=~~(J/8),U=[],A=[],F={},M=z?0:[],P=0;P<H+1;P++){var C=u.apply(0,K.concat(P/H));U.push({x:C.x,y:C.y,t:P/H})}for(P=0;P<J+1;P++)C=u.apply(0,B.concat(P/J)),A.push({x:C.x,y:C.y,t:P/J});for(P=0;P<H;P++)for(K=\n",
       "0;K<J;K++){var Q=U[P],L=U[P+1],B=A[K],C=A[K+1],N=0.001>Z(L.x-Q.x)?\"y\":\"x\",S=0.001>Z(C.x-B.x)?\"y\":\"x\",R;R=Q.x;var Y=Q.y,V=L.x,ea=L.y,fa=B.x,ga=B.y,ha=C.x,ia=C.y;if(W(R,V)<X(fa,ha)||X(R,V)>W(fa,ha)||W(Y,ea)<X(ga,ia)||X(Y,ea)>W(ga,ia))R=void 0;else{var $=(R*ea-Y*V)*(fa-ha)-(R-V)*(fa*ia-ga*ha),aa=(R*ea-Y*V)*(ga-ia)-(Y-ea)*(fa*ia-ga*ha),ja=(R-V)*(ga-ia)-(Y-ea)*(fa-ha);if(ja){var $=$/ja,aa=aa/ja,ja=+$.toFixed(2),ba=+aa.toFixed(2);R=ja<+X(R,V).toFixed(2)||ja>+W(R,V).toFixed(2)||ja<+X(fa,ha).toFixed(2)||\n",
       "ja>+W(fa,ha).toFixed(2)||ba<+X(Y,ea).toFixed(2)||ba>+W(Y,ea).toFixed(2)||ba<+X(ga,ia).toFixed(2)||ba>+W(ga,ia).toFixed(2)?void 0:{x:$,y:aa}}else R=void 0}R&&F[R.x.toFixed(4)]!=R.y.toFixed(4)&&(F[R.x.toFixed(4)]=R.y.toFixed(4),Q=Q.t+Z((R[N]-Q[N])/(L[N]-Q[N]))*(L.t-Q.t),B=B.t+Z((R[S]-B[S])/(C[S]-B[S]))*(C.t-B.t),0<=Q&&1>=Q&&0<=B&&1>=B&&(z?M++:M.push({x:R.x,y:R.y,t1:Q,t2:B})))}z=M}else z=z?0:[];if(d)t+=z;else{H=0;for(J=z.length;H<J;H++)z[H].segment1=w,z[H].segment2=G,z[H].bez1=x,z[H].bez2=c;t=t.concat(z)}}}return t}\n",
       "function r(a){var b=A(a);if(b.bbox)return C(b.bbox);if(!a)return w();a=I(a);for(var d=0,e=0,h=[],f=[],l,n=0,k=a.length;n<k;n++)l=a[n],\"M\"==l[0]?(d=l[1],e=l[2],h.push(d),f.push(e)):(d=U(d,e,l[1],l[2],l[3],l[4],l[5],l[6]),h=h.concat(d.min.x,d.max.x),f=f.concat(d.min.y,d.max.y),d=l[5],e=l[6]);a=X.apply(0,h);l=X.apply(0,f);h=W.apply(0,h);f=W.apply(0,f);f=w(a,l,h-a,f-l);b.bbox=C(f);return f}function s(a,b,d,e,h){if(h)return[[\"M\",+a+ +h,b],[\"l\",d-2*h,0],[\"a\",h,h,0,0,1,h,h],[\"l\",0,e-2*h],[\"a\",h,h,0,0,1,\n",
       "-h,h],[\"l\",2*h-d,0],[\"a\",h,h,0,0,1,-h,-h],[\"l\",0,2*h-e],[\"a\",h,h,0,0,1,h,-h],[\"z\"] ];a=[[\"M\",a,b],[\"l\",d,0],[\"l\",0,e],[\"l\",-d,0],[\"z\"] ];a.toString=z;return a}function x(a,b,d,e,h){null==h&&null==e&&(e=d);a=+a;b=+b;d=+d;e=+e;if(null!=h){var f=Math.PI/180,l=a+d*Math.cos(-e*f);a+=d*Math.cos(-h*f);var n=b+d*Math.sin(-e*f);b+=d*Math.sin(-h*f);d=[[\"M\",l,n],[\"A\",d,d,0,+(180<h-e),0,a,b] ]}else d=[[\"M\",a,b],[\"m\",0,-e],[\"a\",d,e,0,1,1,0,2*e],[\"a\",d,e,0,1,1,0,-2*e],[\"z\"] ];d.toString=z;return d}function G(b){var e=\n",
       "A(b);if(e.abs)return d(e.abs);Q(b,\"array\")&&Q(b&&b[0],\"array\")||(b=a.parsePathString(b));if(!b||!b.length)return[[\"M\",0,0] ];var h=[],f=0,l=0,n=0,k=0,p=0;\"M\"==b[0][0]&&(f=+b[0][1],l=+b[0][2],n=f,k=l,p++,h[0]=[\"M\",f,l]);for(var q=3==b.length&&\"M\"==b[0][0]&&\"R\"==b[1][0].toUpperCase()&&\"Z\"==b[2][0].toUpperCase(),s,r,w=p,c=b.length;w<c;w++){h.push(s=[]);r=b[w];p=r[0];if(p!=p.toUpperCase())switch(s[0]=p.toUpperCase(),s[0]){case \"A\":s[1]=r[1];s[2]=r[2];s[3]=r[3];s[4]=r[4];s[5]=r[5];s[6]=+r[6]+f;s[7]=+r[7]+\n",
       "l;break;case \"V\":s[1]=+r[1]+l;break;case \"H\":s[1]=+r[1]+f;break;case \"R\":for(var t=[f,l].concat(r.slice(1)),u=2,v=t.length;u<v;u++)t[u]=+t[u]+f,t[++u]=+t[u]+l;h.pop();h=h.concat(P(t,q));break;case \"O\":h.pop();t=x(f,l,r[1],r[2]);t.push(t[0]);h=h.concat(t);break;case \"U\":h.pop();h=h.concat(x(f,l,r[1],r[2],r[3]));s=[\"U\"].concat(h[h.length-1].slice(-2));break;case \"M\":n=+r[1]+f,k=+r[2]+l;default:for(u=1,v=r.length;u<v;u++)s[u]=+r[u]+(u%2?f:l)}else if(\"R\"==p)t=[f,l].concat(r.slice(1)),h.pop(),h=h.concat(P(t,\n",
       "q)),s=[\"R\"].concat(r.slice(-2));else if(\"O\"==p)h.pop(),t=x(f,l,r[1],r[2]),t.push(t[0]),h=h.concat(t);else if(\"U\"==p)h.pop(),h=h.concat(x(f,l,r[1],r[2],r[3])),s=[\"U\"].concat(h[h.length-1].slice(-2));else for(t=0,u=r.length;t<u;t++)s[t]=r[t];p=p.toUpperCase();if(\"O\"!=p)switch(s[0]){case \"Z\":f=+n;l=+k;break;case \"H\":f=s[1];break;case \"V\":l=s[1];break;case \"M\":n=s[s.length-2],k=s[s.length-1];default:f=s[s.length-2],l=s[s.length-1]}}h.toString=z;e.abs=d(h);return h}function h(a,b,d,e){return[a,b,d,e,d,\n",
       "e]}function J(a,b,d,e,h,f){var l=1/3,n=2/3;return[l*a+n*d,l*b+n*e,l*h+n*d,l*f+n*e,h,f]}function K(b,d,e,h,f,l,n,k,p,s){var r=120*S/180,q=S/180*(+f||0),c=[],t,x=a._.cacher(function(a,b,c){var d=a*F.cos(c)-b*F.sin(c);a=a*F.sin(c)+b*F.cos(c);return{x:d,y:a}});if(s)v=s[0],t=s[1],l=s[2],u=s[3];else{t=x(b,d,-q);b=t.x;d=t.y;t=x(k,p,-q);k=t.x;p=t.y;F.cos(S/180*f);F.sin(S/180*f);t=(b-k)/2;v=(d-p)/2;u=t*t/(e*e)+v*v/(h*h);1<u&&(u=F.sqrt(u),e*=u,h*=u);var u=e*e,w=h*h,u=(l==n?-1:1)*F.sqrt(Z((u*w-u*v*v-w*t*t)/\n",
       "(u*v*v+w*t*t)));l=u*e*v/h+(b+k)/2;var u=u*-h*t/e+(d+p)/2,v=F.asin(((d-u)/h).toFixed(9));t=F.asin(((p-u)/h).toFixed(9));v=b<l?S-v:v;t=k<l?S-t:t;0>v&&(v=2*S+v);0>t&&(t=2*S+t);n&&v>t&&(v-=2*S);!n&&t>v&&(t-=2*S)}if(Z(t-v)>r){var c=t,w=k,G=p;t=v+r*(n&&t>v?1:-1);k=l+e*F.cos(t);p=u+h*F.sin(t);c=K(k,p,e,h,f,0,n,w,G,[t,c,l,u])}l=t-v;f=F.cos(v);r=F.sin(v);n=F.cos(t);t=F.sin(t);l=F.tan(l/4);e=4/3*e*l;l*=4/3*h;h=[b,d];b=[b+e*r,d-l*f];d=[k+e*t,p-l*n];k=[k,p];b[0]=2*h[0]-b[0];b[1]=2*h[1]-b[1];if(s)return[b,d,k].concat(c);\n",
       "c=[b,d,k].concat(c).join().split(\",\");s=[];k=0;for(p=c.length;k<p;k++)s[k]=k%2?x(c[k-1],c[k],q).y:x(c[k],c[k+1],q).x;return s}function U(a,b,d,e,h,f,l,k){for(var n=[],p=[[],[] ],s,r,c,t,q=0;2>q;++q)0==q?(r=6*a-12*d+6*h,s=-3*a+9*d-9*h+3*l,c=3*d-3*a):(r=6*b-12*e+6*f,s=-3*b+9*e-9*f+3*k,c=3*e-3*b),1E-12>Z(s)?1E-12>Z(r)||(s=-c/r,0<s&&1>s&&n.push(s)):(t=r*r-4*c*s,c=F.sqrt(t),0>t||(t=(-r+c)/(2*s),0<t&&1>t&&n.push(t),s=(-r-c)/(2*s),0<s&&1>s&&n.push(s)));for(r=q=n.length;q--;)s=n[q],c=1-s,p[0][q]=c*c*c*a+3*\n",
       "c*c*s*d+3*c*s*s*h+s*s*s*l,p[1][q]=c*c*c*b+3*c*c*s*e+3*c*s*s*f+s*s*s*k;p[0][r]=a;p[1][r]=b;p[0][r+1]=l;p[1][r+1]=k;p[0].length=p[1].length=r+2;return{min:{x:X.apply(0,p[0]),y:X.apply(0,p[1])},max:{x:W.apply(0,p[0]),y:W.apply(0,p[1])}}}function I(a,b){var e=!b&&A(a);if(!b&&e.curve)return d(e.curve);var f=G(a),l=b&&G(b),n={x:0,y:0,bx:0,by:0,X:0,Y:0,qx:null,qy:null},k={x:0,y:0,bx:0,by:0,X:0,Y:0,qx:null,qy:null},p=function(a,b,c){if(!a)return[\"C\",b.x,b.y,b.x,b.y,b.x,b.y];a[0]in{T:1,Q:1}||(b.qx=b.qy=null);\n",
       "switch(a[0]){case \"M\":b.X=a[1];b.Y=a[2];break;case \"A\":a=[\"C\"].concat(K.apply(0,[b.x,b.y].concat(a.slice(1))));break;case \"S\":\"C\"==c||\"S\"==c?(c=2*b.x-b.bx,b=2*b.y-b.by):(c=b.x,b=b.y);a=[\"C\",c,b].concat(a.slice(1));break;case \"T\":\"Q\"==c||\"T\"==c?(b.qx=2*b.x-b.qx,b.qy=2*b.y-b.qy):(b.qx=b.x,b.qy=b.y);a=[\"C\"].concat(J(b.x,b.y,b.qx,b.qy,a[1],a[2]));break;case \"Q\":b.qx=a[1];b.qy=a[2];a=[\"C\"].concat(J(b.x,b.y,a[1],a[2],a[3],a[4]));break;case \"L\":a=[\"C\"].concat(h(b.x,b.y,a[1],a[2]));break;case \"H\":a=[\"C\"].concat(h(b.x,\n",
       "b.y,a[1],b.y));break;case \"V\":a=[\"C\"].concat(h(b.x,b.y,b.x,a[1]));break;case \"Z\":a=[\"C\"].concat(h(b.x,b.y,b.X,b.Y))}return a},s=function(a,b){if(7<a[b].length){a[b].shift();for(var c=a[b];c.length;)q[b]=\"A\",l&&(u[b]=\"A\"),a.splice(b++,0,[\"C\"].concat(c.splice(0,6)));a.splice(b,1);v=W(f.length,l&&l.length||0)}},r=function(a,b,c,d,e){a&&b&&\"M\"==a[e][0]&&\"M\"!=b[e][0]&&(b.splice(e,0,[\"M\",d.x,d.y]),c.bx=0,c.by=0,c.x=a[e][1],c.y=a[e][2],v=W(f.length,l&&l.length||0))},q=[],u=[],c=\"\",t=\"\",x=0,v=W(f.length,\n",
       "l&&l.length||0);for(;x<v;x++){f[x]&&(c=f[x][0]);\"C\"!=c&&(q[x]=c,x&&(t=q[x-1]));f[x]=p(f[x],n,t);\"A\"!=q[x]&&\"C\"==c&&(q[x]=\"C\");s(f,x);l&&(l[x]&&(c=l[x][0]),\"C\"!=c&&(u[x]=c,x&&(t=u[x-1])),l[x]=p(l[x],k,t),\"A\"!=u[x]&&\"C\"==c&&(u[x]=\"C\"),s(l,x));r(f,l,n,k,x);r(l,f,k,n,x);var w=f[x],z=l&&l[x],y=w.length,U=l&&z.length;n.x=w[y-2];n.y=w[y-1];n.bx=$(w[y-4])||n.x;n.by=$(w[y-3])||n.y;k.bx=l&&($(z[U-4])||k.x);k.by=l&&($(z[U-3])||k.y);k.x=l&&z[U-2];k.y=l&&z[U-1]}l||(e.curve=d(f));return l?[f,l]:f}function P(a,\n",
       "b){for(var d=[],e=0,h=a.length;h-2*!b>e;e+=2){var f=[{x:+a[e-2],y:+a[e-1]},{x:+a[e],y:+a[e+1]},{x:+a[e+2],y:+a[e+3]},{x:+a[e+4],y:+a[e+5]}];b?e?h-4==e?f[3]={x:+a[0],y:+a[1]}:h-2==e&&(f[2]={x:+a[0],y:+a[1]},f[3]={x:+a[2],y:+a[3]}):f[0]={x:+a[h-2],y:+a[h-1]}:h-4==e?f[3]=f[2]:e||(f[0]={x:+a[e],y:+a[e+1]});d.push([\"C\",(-f[0].x+6*f[1].x+f[2].x)/6,(-f[0].y+6*f[1].y+f[2].y)/6,(f[1].x+6*f[2].x-f[3].x)/6,(f[1].y+6*f[2].y-f[3].y)/6,f[2].x,f[2].y])}return d}y=k.prototype;var Q=a.is,C=a._.clone,L=\"hasOwnProperty\",\n",
       "N=/,?([a-z]),?/gi,$=parseFloat,F=Math,S=F.PI,X=F.min,W=F.max,ma=F.pow,Z=F.abs;M=n(1);var na=n(),ba=n(0,1),V=a._unit2px;a.path=A;a.path.getTotalLength=M;a.path.getPointAtLength=na;a.path.getSubpath=function(a,b,d){if(1E-6>this.getTotalLength(a)-d)return ba(a,b).end;a=ba(a,d,1);return b?ba(a,b).end:a};y.getTotalLength=function(){if(this.node.getTotalLength)return this.node.getTotalLength()};y.getPointAtLength=function(a){return na(this.attr(\"d\"),a)};y.getSubpath=function(b,d){return a.path.getSubpath(this.attr(\"d\"),\n",
       "b,d)};a._.box=w;a.path.findDotsAtSegment=u;a.path.bezierBBox=p;a.path.isPointInsideBBox=b;a.path.isBBoxIntersect=q;a.path.intersection=function(a,b){return l(a,b)};a.path.intersectionNumber=function(a,b){return l(a,b,1)};a.path.isPointInside=function(a,d,e){var h=r(a);return b(h,d,e)&&1==l(a,[[\"M\",d,e],[\"H\",h.x2+10] ],1)%2};a.path.getBBox=r;a.path.get={path:function(a){return a.attr(\"path\")},circle:function(a){a=V(a);return x(a.cx,a.cy,a.r)},ellipse:function(a){a=V(a);return x(a.cx||0,a.cy||0,a.rx,\n",
       "a.ry)},rect:function(a){a=V(a);return s(a.x||0,a.y||0,a.width,a.height,a.rx,a.ry)},image:function(a){a=V(a);return s(a.x||0,a.y||0,a.width,a.height)},line:function(a){return\"M\"+[a.attr(\"x1\")||0,a.attr(\"y1\")||0,a.attr(\"x2\"),a.attr(\"y2\")]},polyline:function(a){return\"M\"+a.attr(\"points\")},polygon:function(a){return\"M\"+a.attr(\"points\")+\"z\"},deflt:function(a){a=a.node.getBBox();return s(a.x,a.y,a.width,a.height)}};a.path.toRelative=function(b){var e=A(b),h=String.prototype.toLowerCase;if(e.rel)return d(e.rel);\n",
       "a.is(b,\"array\")&&a.is(b&&b[0],\"array\")||(b=a.parsePathString(b));var f=[],l=0,n=0,k=0,p=0,s=0;\"M\"==b[0][0]&&(l=b[0][1],n=b[0][2],k=l,p=n,s++,f.push([\"M\",l,n]));for(var r=b.length;s<r;s++){var q=f[s]=[],x=b[s];if(x[0]!=h.call(x[0]))switch(q[0]=h.call(x[0]),q[0]){case \"a\":q[1]=x[1];q[2]=x[2];q[3]=x[3];q[4]=x[4];q[5]=x[5];q[6]=+(x[6]-l).toFixed(3);q[7]=+(x[7]-n).toFixed(3);break;case \"v\":q[1]=+(x[1]-n).toFixed(3);break;case \"m\":k=x[1],p=x[2];default:for(var c=1,t=x.length;c<t;c++)q[c]=+(x[c]-(c%2?l:\n",
       "n)).toFixed(3)}else for(f[s]=[],\"m\"==x[0]&&(k=x[1]+l,p=x[2]+n),q=0,c=x.length;q<c;q++)f[s][q]=x[q];x=f[s].length;switch(f[s][0]){case \"z\":l=k;n=p;break;case \"h\":l+=+f[s][x-1];break;case \"v\":n+=+f[s][x-1];break;default:l+=+f[s][x-2],n+=+f[s][x-1]}}f.toString=z;e.rel=d(f);return f};a.path.toAbsolute=G;a.path.toCubic=I;a.path.map=function(a,b){if(!b)return a;var d,e,h,f,l,n,k;a=I(a);h=0;for(l=a.length;h<l;h++)for(k=a[h],f=1,n=k.length;f<n;f+=2)d=b.x(k[f],k[f+1]),e=b.y(k[f],k[f+1]),k[f]=d,k[f+1]=e;return a};\n",
       "a.path.toString=z;a.path.clone=d});C.plugin(function(a,v,y,C){var A=Math.max,w=Math.min,z=function(a){this.items=[];this.bindings={};this.length=0;this.type=\"set\";if(a)for(var f=0,n=a.length;f<n;f++)a[f]&&(this[this.items.length]=this.items[this.items.length]=a[f],this.length++)};v=z.prototype;v.push=function(){for(var a,f,n=0,k=arguments.length;n<k;n++)if(a=arguments[n])f=this.items.length,this[f]=this.items[f]=a,this.length++;return this};v.pop=function(){this.length&&delete this[this.length--];\n",
       "return this.items.pop()};v.forEach=function(a,f){for(var n=0,k=this.items.length;n<k&&!1!==a.call(f,this.items[n],n);n++);return this};v.animate=function(d,f,n,u){\"function\"!=typeof n||n.length||(u=n,n=L.linear);d instanceof a._.Animation&&(u=d.callback,n=d.easing,f=n.dur,d=d.attr);var p=arguments;if(a.is(d,\"array\")&&a.is(p[p.length-1],\"array\"))var b=!0;var q,e=function(){q?this.b=q:q=this.b},l=0,r=u&&function(){l++==this.length&&u.call(this)};return this.forEach(function(a,l){k.once(\"snap.animcreated.\"+\n",
       "a.id,e);b?p[l]&&a.animate.apply(a,p[l]):a.animate(d,f,n,r)})};v.remove=function(){for(;this.length;)this.pop().remove();return this};v.bind=function(a,f,k){var u={};if(\"function\"==typeof f)this.bindings[a]=f;else{var p=k||a;this.bindings[a]=function(a){u[p]=a;f.attr(u)}}return this};v.attr=function(a){var f={},k;for(k in a)if(this.bindings[k])this.bindings[k](a[k]);else f[k]=a[k];a=0;for(k=this.items.length;a<k;a++)this.items[a].attr(f);return this};v.clear=function(){for(;this.length;)this.pop()};\n",
       "v.splice=function(a,f,k){a=0>a?A(this.length+a,0):a;f=A(0,w(this.length-a,f));var u=[],p=[],b=[],q;for(q=2;q<arguments.length;q++)b.push(arguments[q]);for(q=0;q<f;q++)p.push(this[a+q]);for(;q<this.length-a;q++)u.push(this[a+q]);var e=b.length;for(q=0;q<e+u.length;q++)this.items[a+q]=this[a+q]=q<e?b[q]:u[q-e];for(q=this.items.length=this.length-=f-e;this[q];)delete this[q++];return new z(p)};v.exclude=function(a){for(var f=0,k=this.length;f<k;f++)if(this[f]==a)return this.splice(f,1),!0;return!1};\n",
       "v.insertAfter=function(a){for(var f=this.items.length;f--;)this.items[f].insertAfter(a);return this};v.getBBox=function(){for(var a=[],f=[],k=[],u=[],p=this.items.length;p--;)if(!this.items[p].removed){var b=this.items[p].getBBox();a.push(b.x);f.push(b.y);k.push(b.x+b.width);u.push(b.y+b.height)}a=w.apply(0,a);f=w.apply(0,f);k=A.apply(0,k);u=A.apply(0,u);return{x:a,y:f,x2:k,y2:u,width:k-a,height:u-f,cx:a+(k-a)/2,cy:f+(u-f)/2}};v.clone=function(a){a=new z;for(var f=0,k=this.items.length;f<k;f++)a.push(this.items[f].clone());\n",
       "return a};v.toString=function(){return\"Snap\\u2018s set\"};v.type=\"set\";a.set=function(){var a=new z;arguments.length&&a.push.apply(a,Array.prototype.slice.call(arguments,0));return a}});C.plugin(function(a,v,y,C){function A(a){var b=a[0];switch(b.toLowerCase()){case \"t\":return[b,0,0];case \"m\":return[b,1,0,0,1,0,0];case \"r\":return 4==a.length?[b,0,a[2],a[3] ]:[b,0];case \"s\":return 5==a.length?[b,1,1,a[3],a[4] ]:3==a.length?[b,1,1]:[b,1]}}function w(b,d,f){d=q(d).replace(/\\.{3}|\\u2026/g,b);b=a.parseTransformString(b)||\n",
       "[];d=a.parseTransformString(d)||[];for(var k=Math.max(b.length,d.length),p=[],v=[],h=0,w,z,y,I;h<k;h++){y=b[h]||A(d[h]);I=d[h]||A(y);if(y[0]!=I[0]||\"r\"==y[0].toLowerCase()&&(y[2]!=I[2]||y[3]!=I[3])||\"s\"==y[0].toLowerCase()&&(y[3]!=I[3]||y[4]!=I[4])){b=a._.transform2matrix(b,f());d=a._.transform2matrix(d,f());p=[[\"m\",b.a,b.b,b.c,b.d,b.e,b.f] ];v=[[\"m\",d.a,d.b,d.c,d.d,d.e,d.f] ];break}p[h]=[];v[h]=[];w=0;for(z=Math.max(y.length,I.length);w<z;w++)w in y&&(p[h][w]=y[w]),w in I&&(v[h][w]=I[w])}return{from:u(p),\n",
       "to:u(v),f:n(p)}}function z(a){return a}function d(a){return function(b){return+b.toFixed(3)+a}}function f(b){return a.rgb(b[0],b[1],b[2])}function n(a){var b=0,d,f,k,n,h,p,q=[];d=0;for(f=a.length;d<f;d++){h=\"[\";p=['\"'+a[d][0]+'\"'];k=1;for(n=a[d].length;k<n;k++)p[k]=\"val[\"+b++ +\"]\";h+=p+\"]\";q[d]=h}return Function(\"val\",\"return Snap.path.toString.call([\"+q+\"])\")}function u(a){for(var b=[],d=0,f=a.length;d<f;d++)for(var k=1,n=a[d].length;k<n;k++)b.push(a[d][k]);return b}var p={},b=/[a-z]+$/i,q=String;\n",
       "p.stroke=p.fill=\"colour\";v.prototype.equal=function(a,b){return k(\"snap.util.equal\",this,a,b).firstDefined()};k.on(\"snap.util.equal\",function(e,k){var r,s;r=q(this.attr(e)||\"\");var x=this;if(r==+r&&k==+k)return{from:+r,to:+k,f:z};if(\"colour\"==p[e])return r=a.color(r),s=a.color(k),{from:[r.r,r.g,r.b,r.opacity],to:[s.r,s.g,s.b,s.opacity],f:f};if(\"transform\"==e||\"gradientTransform\"==e||\"patternTransform\"==e)return k instanceof a.Matrix&&(k=k.toTransformString()),a._.rgTransform.test(k)||(k=a._.svgTransform2string(k)),\n",
       "w(r,k,function(){return x.getBBox(1)});if(\"d\"==e||\"path\"==e)return r=a.path.toCubic(r,k),{from:u(r[0]),to:u(r[1]),f:n(r[0])};if(\"points\"==e)return r=q(r).split(a._.separator),s=q(k).split(a._.separator),{from:r,to:s,f:function(a){return a}};aUnit=r.match(b);s=q(k).match(b);return aUnit&&aUnit==s?{from:parseFloat(r),to:parseFloat(k),f:d(aUnit)}:{from:this.asPX(e),to:this.asPX(e,k),f:z}})});C.plugin(function(a,v,y,C){var A=v.prototype,w=\"createTouch\"in C.doc;v=\"click dblclick mousedown mousemove mouseout mouseover mouseup touchstart touchmove touchend touchcancel\".split(\" \");\n",
       "var z={mousedown:\"touchstart\",mousemove:\"touchmove\",mouseup:\"touchend\"},d=function(a,b){var d=\"y\"==a?\"scrollTop\":\"scrollLeft\",e=b&&b.node?b.node.ownerDocument:C.doc;return e[d in e.documentElement?\"documentElement\":\"body\"][d]},f=function(){this.returnValue=!1},n=function(){return this.originalEvent.preventDefault()},u=function(){this.cancelBubble=!0},p=function(){return this.originalEvent.stopPropagation()},b=function(){if(C.doc.addEventListener)return function(a,b,e,f){var k=w&&z[b]?z[b]:b,l=function(k){var l=\n",
       "d(\"y\",f),q=d(\"x\",f);if(w&&z.hasOwnProperty(b))for(var r=0,u=k.targetTouches&&k.targetTouches.length;r<u;r++)if(k.targetTouches[r].target==a||a.contains(k.targetTouches[r].target)){u=k;k=k.targetTouches[r];k.originalEvent=u;k.preventDefault=n;k.stopPropagation=p;break}return e.call(f,k,k.clientX+q,k.clientY+l)};b!==k&&a.addEventListener(b,l,!1);a.addEventListener(k,l,!1);return function(){b!==k&&a.removeEventListener(b,l,!1);a.removeEventListener(k,l,!1);return!0}};if(C.doc.attachEvent)return function(a,\n",
       "b,e,h){var k=function(a){a=a||h.node.ownerDocument.window.event;var b=d(\"y\",h),k=d(\"x\",h),k=a.clientX+k,b=a.clientY+b;a.preventDefault=a.preventDefault||f;a.stopPropagation=a.stopPropagation||u;return e.call(h,a,k,b)};a.attachEvent(\"on\"+b,k);return function(){a.detachEvent(\"on\"+b,k);return!0}}}(),q=[],e=function(a){for(var b=a.clientX,e=a.clientY,f=d(\"y\"),l=d(\"x\"),n,p=q.length;p--;){n=q[p];if(w)for(var r=a.touches&&a.touches.length,u;r--;){if(u=a.touches[r],u.identifier==n.el._drag.id||n.el.node.contains(u.target)){b=\n",
       "u.clientX;e=u.clientY;(a.originalEvent?a.originalEvent:a).preventDefault();break}}else a.preventDefault();b+=l;e+=f;k(\"snap.drag.move.\"+n.el.id,n.move_scope||n.el,b-n.el._drag.x,e-n.el._drag.y,b,e,a)}},l=function(b){a.unmousemove(e).unmouseup(l);for(var d=q.length,f;d--;)f=q[d],f.el._drag={},k(\"snap.drag.end.\"+f.el.id,f.end_scope||f.start_scope||f.move_scope||f.el,b);q=[]};for(y=v.length;y--;)(function(d){a[d]=A[d]=function(e,f){a.is(e,\"function\")&&(this.events=this.events||[],this.events.push({name:d,\n",
       "f:e,unbind:b(this.node||document,d,e,f||this)}));return this};a[\"un\"+d]=A[\"un\"+d]=function(a){for(var b=this.events||[],e=b.length;e--;)if(b[e].name==d&&(b[e].f==a||!a)){b[e].unbind();b.splice(e,1);!b.length&&delete this.events;break}return this}})(v[y]);A.hover=function(a,b,d,e){return this.mouseover(a,d).mouseout(b,e||d)};A.unhover=function(a,b){return this.unmouseover(a).unmouseout(b)};var r=[];A.drag=function(b,d,f,h,n,p){function u(r,v,w){(r.originalEvent||r).preventDefault();this._drag.x=v;\n",
       "this._drag.y=w;this._drag.id=r.identifier;!q.length&&a.mousemove(e).mouseup(l);q.push({el:this,move_scope:h,start_scope:n,end_scope:p});d&&k.on(\"snap.drag.start.\"+this.id,d);b&&k.on(\"snap.drag.move.\"+this.id,b);f&&k.on(\"snap.drag.end.\"+this.id,f);k(\"snap.drag.start.\"+this.id,n||h||this,v,w,r)}if(!arguments.length){var v;return this.drag(function(a,b){this.attr({transform:v+(v?\"T\":\"t\")+[a,b]})},function(){v=this.transform().local})}this._drag={};r.push({el:this,start:u});this.mousedown(u);return this};\n",
       "A.undrag=function(){for(var b=r.length;b--;)r[b].el==this&&(this.unmousedown(r[b].start),r.splice(b,1),k.unbind(\"snap.drag.*.\"+this.id));!r.length&&a.unmousemove(e).unmouseup(l);return this}});C.plugin(function(a,v,y,C){y=y.prototype;var A=/^\\s*url\\((.+)\\)/,w=String,z=a._.$;a.filter={};y.filter=function(d){var f=this;\"svg\"!=f.type&&(f=f.paper);d=a.parse(w(d));var k=a._.id(),u=z(\"filter\");z(u,{id:k,filterUnits:\"userSpaceOnUse\"});u.appendChild(d.node);f.defs.appendChild(u);return new v(u)};k.on(\"snap.util.getattr.filter\",\n",
       "function(){k.stop();var d=z(this.node,\"filter\");if(d)return(d=w(d).match(A))&&a.select(d[1])});k.on(\"snap.util.attr.filter\",function(d){if(d instanceof v&&\"filter\"==d.type){k.stop();var f=d.node.id;f||(z(d.node,{id:d.id}),f=d.id);z(this.node,{filter:a.url(f)})}d&&\"none\"!=d||(k.stop(),this.node.removeAttribute(\"filter\"))});a.filter.blur=function(d,f){null==d&&(d=2);return a.format('<feGaussianBlur stdDeviation=\"{def}\"/>',{def:null==f?d:[d,f]})};a.filter.blur.toString=function(){return this()};a.filter.shadow=\n",
       "function(d,f,k,u,p){\"string\"==typeof k&&(p=u=k,k=4);\"string\"!=typeof u&&(p=u,u=\"#000\");null==k&&(k=4);null==p&&(p=1);null==d&&(d=0,f=2);null==f&&(f=d);u=a.color(u||\"#000\");return a.format('<feGaussianBlur in=\"SourceAlpha\" stdDeviation=\"{blur}\"/><feOffset dx=\"{dx}\" dy=\"{dy}\" result=\"offsetblur\"/><feFlood flood-color=\"{color}\"/><feComposite in2=\"offsetblur\" operator=\"in\"/><feComponentTransfer><feFuncA type=\"linear\" slope=\"{opacity}\"/></feComponentTransfer><feMerge><feMergeNode/><feMergeNode in=\"SourceGraphic\"/></feMerge>',\n",
       "{color:u,dx:d,dy:f,blur:k,opacity:p})};a.filter.shadow.toString=function(){return this()};a.filter.grayscale=function(d){null==d&&(d=1);return a.format('<feColorMatrix type=\"matrix\" values=\"{a} {b} {c} 0 0 {d} {e} {f} 0 0 {g} {b} {h} 0 0 0 0 0 1 0\"/>',{a:0.2126+0.7874*(1-d),b:0.7152-0.7152*(1-d),c:0.0722-0.0722*(1-d),d:0.2126-0.2126*(1-d),e:0.7152+0.2848*(1-d),f:0.0722-0.0722*(1-d),g:0.2126-0.2126*(1-d),h:0.0722+0.9278*(1-d)})};a.filter.grayscale.toString=function(){return this()};a.filter.sepia=\n",
       "function(d){null==d&&(d=1);return a.format('<feColorMatrix type=\"matrix\" values=\"{a} {b} {c} 0 0 {d} {e} {f} 0 0 {g} {h} {i} 0 0 0 0 0 1 0\"/>',{a:0.393+0.607*(1-d),b:0.769-0.769*(1-d),c:0.189-0.189*(1-d),d:0.349-0.349*(1-d),e:0.686+0.314*(1-d),f:0.168-0.168*(1-d),g:0.272-0.272*(1-d),h:0.534-0.534*(1-d),i:0.131+0.869*(1-d)})};a.filter.sepia.toString=function(){return this()};a.filter.saturate=function(d){null==d&&(d=1);return a.format('<feColorMatrix type=\"saturate\" values=\"{amount}\"/>',{amount:1-\n",
       "d})};a.filter.saturate.toString=function(){return this()};a.filter.hueRotate=function(d){return a.format('<feColorMatrix type=\"hueRotate\" values=\"{angle}\"/>',{angle:d||0})};a.filter.hueRotate.toString=function(){return this()};a.filter.invert=function(d){null==d&&(d=1);return a.format('<feComponentTransfer><feFuncR type=\"table\" tableValues=\"{amount} {amount2}\"/><feFuncG type=\"table\" tableValues=\"{amount} {amount2}\"/><feFuncB type=\"table\" tableValues=\"{amount} {amount2}\"/></feComponentTransfer>',{amount:d,\n",
       "amount2:1-d})};a.filter.invert.toString=function(){return this()};a.filter.brightness=function(d){null==d&&(d=1);return a.format('<feComponentTransfer><feFuncR type=\"linear\" slope=\"{amount}\"/><feFuncG type=\"linear\" slope=\"{amount}\"/><feFuncB type=\"linear\" slope=\"{amount}\"/></feComponentTransfer>',{amount:d})};a.filter.brightness.toString=function(){return this()};a.filter.contrast=function(d){null==d&&(d=1);return a.format('<feComponentTransfer><feFuncR type=\"linear\" slope=\"{amount}\" intercept=\"{amount2}\"/><feFuncG type=\"linear\" slope=\"{amount}\" intercept=\"{amount2}\"/><feFuncB type=\"linear\" slope=\"{amount}\" intercept=\"{amount2}\"/></feComponentTransfer>',\n",
       "{amount:d,amount2:0.5-d/2})};a.filter.contrast.toString=function(){return this()}});return C});\n",
       "\n",
       "]]> </script>\n",
       "</svg>\n"
      ],
      "text/plain": [
       "Compose.Context(Measures.BoundingBox{Tuple{Measures.Length{:w,Float64},Measures.Length{:h,Float64}},Tuple{Measures.Length{:w,Float64},Measures.Length{:h,Float64}}}((0.0w, 0.0h), (1.0w, 1.0h)), Compose.UnitBox{Float64,Float64,Float64,Float64}(-1.2, -1.2, 2.4, 2.4, 0.0mm, 0.0mm, 0.0mm, 0.0mm), nothing, nothing, nothing, List([Compose.Context(Measures.BoundingBox{Tuple{Measures.Length{:w,Float64},Measures.Length{:h,Float64}},Tuple{Measures.Length{:w,Float64},Measures.Length{:h,Float64}}}((0.0w, 0.0h), (1.0w, 1.0h)), nothing, nothing, nothing, nothing, List([]), List([Compose.Form{Compose.LinePrimitive}(Compose.LinePrimitive[LinePrimitive{Tuple{Measure,Measure}}(Tuple{Measures.Measure,Measures.Measure}[(0.925374cx, -0.0106204cy), (-0.925374cx, -0.274009cy)]), LinePrimitive{Tuple{Measure,Measure}}(Tuple{Measures.Measure,Measures.Measure}[(0.769286cx, 0.515152cy), (-0.931314cx, -0.253581cy)]), LinePrimitive{Tuple{Measure,Measure}}(Tuple{Measures.Measure,Measures.Measure}[(0.796924cx, 0.482979cy), (-0.124881cx, -0.936779cy)]), LinePrimitive{Tuple{Measure,Measure}}(Tuple{Measures.Measure,Measures.Measure}[(0.346115cx, 0.869913cy), (-0.942784cx, -0.235557cy)]), LinePrimitive{Tuple{Measure,Measure}}(Tuple{Measures.Measure,Measures.Measure}[(0.40333cx, 0.843608cy), (0.40333cx, -0.843608cy)]), LinePrimitive{Tuple{Measure,Measure}}(Tuple{Measures.Measure,Measures.Measure}[(-0.165929cx, 0.924622cy), (-0.165929cx, -0.924622cy)]), LinePrimitive{Tuple{Measure,Measure}}(Tuple{Measures.Measure,Measures.Measure}[(-0.144492cx, 0.927735cy), (0.381893cx, -0.846721cy)]), LinePrimitive{Tuple{Measure,Measure}}(Tuple{Measures.Measure,Measures.Measure}[(-0.68907cx, 0.688143cy), (-0.68907cx, -0.688143cy)]), LinePrimitive{Tuple{Measure,Measure}}(Tuple{Measures.Measure,Measures.Measure}[(-0.648023cx, 0.7003cy), (0.362283cx, -0.855765cy)]), LinePrimitive{Tuple{Measure,Measure}}(Tuple{Measures.Measure,Measures.Measure}[(-0.631855cx, 0.714448cy), (0.780756cx, -0.497127cy)]), LinePrimitive{Tuple{Measure,Measure}}(Tuple{Measures.Measure,Measures.Measure}[(-0.931314cx, 0.253581cy), (0.769286cx, -0.515152cy)])], Symbol(\"\"))]), List([Compose.Property{Compose.LineWidthPrimitive}(Compose.LineWidthPrimitive[LineWidthPrimitive(0.904534mm)]), Compose.Property{Compose.FillPrimitive}(Compose.FillPrimitive[FillPrimitive(RGBA{Float64}(0.0,0.0,0.0,0.0))]), Compose.Property{Compose.StrokePrimitive}(Compose.StrokePrimitive[StrokePrimitive(RGBA{Float64}(0.827451,0.827451,0.827451,1.0))])]), 0, false, false, false, false, nothing, nothing, 0.0, Symbol(\"\")), Compose.Context(Measures.BoundingBox{Tuple{Measures.Length{:w,Float64},Measures.Length{:h,Float64}},Tuple{Measures.Length{:w,Float64},Measures.Length{:h,Float64}}}((0.0w, 0.0h), (1.0w, 1.0h)), nothing, nothing, nothing, nothing, List([]), List([]), List([Compose.Property{Compose.LineWidthPrimitive}(Compose.LineWidthPrimitive[LineWidthPrimitive(0.904534mm)]), Compose.Property{Compose.StrokePrimitive}(Compose.StrokePrimitive[StrokePrimitive(RGBA{Float64}(0.827451,0.827451,0.827451,1.0))])]), 0, false, false, false, false, nothing, nothing, 0.0, Symbol(\"\")), Compose.Context(Measures.BoundingBox{Tuple{Measures.Length{:w,Float64},Measures.Length{:h,Float64}},Tuple{Measures.Length{:w,Float64},Measures.Length{:h,Float64}}}((0.0w, 0.0h), (1.0w, 1.0h)), nothing, nothing, nothing, nothing, List([]), List([]), List([Compose.Property{Compose.FontSizePrimitive}(Compose.FontSizePrimitive[FontSizePrimitive(4.0mm)]), Compose.Property{Compose.StrokePrimitive}(Compose.StrokePrimitive[StrokePrimitive(RGBA{Float64}(0.0,0.0,0.0,0.0))]), Compose.Property{Compose.FillPrimitive}(Compose.FillPrimitive[FillPrimitive(RGBA{Float64}(0.0,0.0,0.0,1.0))])]), 0, false, false, false, false, nothing, nothing, 0.0, Symbol(\"\")), Compose.Context(Measures.BoundingBox{Tuple{Measures.Length{:w,Float64},Measures.Length{:h,Float64}},Tuple{Measures.Length{:w,Float64},Measures.Length{:h,Float64}}}((0.0w, 0.0h), (1.0w, 1.0h)), nothing, nothing, nothing, nothing, List([]), List([Compose.Form{Compose.CirclePrimitive{Tuple{Measures.Measure,Measures.Measure},Measures.Measure}}(Compose.CirclePrimitive{Tuple{Measures.Measure,Measures.Measure},Measures.Measure}[CirclePrimitive{Tuple{Measure,Measure},Measure}((1.0cx, -1.11022e-16cy), 0.0301511w), CirclePrimitive{Tuple{Measure,Measure},Measure}((0.837972cx, 0.5462cy), 0.0301511w), CirclePrimitive{Tuple{Measure,Measure},Measure}((0.40333cx, 0.918986cy), 0.0301511w), CirclePrimitive{Tuple{Measure,Measure},Measure}((-0.165929cx, 1.0cy), 0.0301511w), CirclePrimitive{Tuple{Measure,Measure},Measure}((-0.68907cx, 0.763521cy), 0.0301511w), CirclePrimitive{Tuple{Measure,Measure},Measure}((-1.0cx, 0.28463cy), 0.0301511w), CirclePrimitive{Tuple{Measure,Measure},Measure}((-1.0cx, -0.28463cy), 0.0301511w), CirclePrimitive{Tuple{Measure,Measure},Measure}((-0.68907cx, -0.763521cy), 0.0301511w), CirclePrimitive{Tuple{Measure,Measure},Measure}((-0.165929cx, -1.0cy), 0.0301511w), CirclePrimitive{Tuple{Measure,Measure},Measure}((0.40333cx, -0.918986cy), 0.0301511w), CirclePrimitive{Tuple{Measure,Measure},Measure}((0.837972cx, -0.5462cy), 0.0301511w)], Symbol(\"\"))]), List([Compose.Property{Compose.LineWidthPrimitive}(Compose.LineWidthPrimitive[LineWidthPrimitive(0.0mm)]), Compose.Property{Compose.StrokePrimitive}(Compose.StrokePrimitive[StrokePrimitive(RGBA{Float64}(0.0,0.0,0.0,0.0))]), Compose.Property{Compose.FillPrimitive}(Compose.FillPrimitive[FillPrimitive(RGBA{Float64}(0.12549,0.698039,0.666667,1.0)), FillPrimitive(RGBA{Float64}(0.12549,0.698039,0.666667,1.0)), FillPrimitive(RGBA{Float64}(0.12549,0.698039,0.666667,1.0)), FillPrimitive(RGBA{Float64}(0.12549,0.698039,0.666667,1.0)), FillPrimitive(RGBA{Float64}(0.12549,0.698039,0.666667,1.0)), FillPrimitive(RGBA{Float64}(0.12549,0.698039,0.666667,1.0)), FillPrimitive(RGBA{Float64}(1.0,0.647059,0.0,1.0)), FillPrimitive(RGBA{Float64}(1.0,0.647059,0.0,1.0)), FillPrimitive(RGBA{Float64}(1.0,0.647059,0.0,1.0)), FillPrimitive(RGBA{Float64}(1.0,0.647059,0.0,1.0)), FillPrimitive(RGBA{Float64}(1.0,0.647059,0.0,1.0))])]), 0, false, false, false, false, nothing, nothing, 0.0, Symbol(\"\")), Compose.Context(Measures.BoundingBox{Tuple{Measures.Length{:w,Float64},Measures.Length{:h,Float64}},Tuple{Measures.Length{:w,Float64},Measures.Length{:h,Float64}}}((0.0w, 0.0h), (1.0w, 1.0h)), nothing, nothing, nothing, nothing, List([]), List([Compose.Form{Compose.TextPrimitive{Tuple{Measures.Length{:cx,Float64},Measures.Length{:cy,Float64}},Compose.Rotation{Tuple{Measures.Length{:w,Float64},Measures.Length{:h,Float64}}},Tuple{Measures.Length{:mm,Float64},Measures.Length{:mm,Float64}}}}(Compose.TextPrimitive{Tuple{Measures.Length{:cx,Float64},Measures.Length{:cy,Float64}},Compose.Rotation{Tuple{Measures.Length{:w,Float64},Measures.Length{:h,Float64}}},Tuple{Measures.Length{:mm,Float64},Measures.Length{:mm,Float64}}}[TextPrimitive{Tuple{Length{:cx,Float64},Length{:cy,Float64}},Rotation{Tuple{Length{:w,Float64},Length{:h,Float64}}},Tuple{Length{:mm,Float64},Length{:mm,Float64}}}((1.0cx, -1.11022e-16cy), \"1\", HCenter(), VCenter(), Rotation{Tuple{Length{:w,Float64},Length{:h,Float64}}}(0.0, (0.5w, 0.5h)), (0.0mm, 0.0mm)), TextPrimitive{Tuple{Length{:cx,Float64},Length{:cy,Float64}},Rotation{Tuple{Length{:w,Float64},Length{:h,Float64}}},Tuple{Length{:mm,Float64},Length{:mm,Float64}}}((0.837972cx, 0.5462cy), \"2\", HCenter(), VCenter(), Rotation{Tuple{Length{:w,Float64},Length{:h,Float64}}}(0.0, (0.5w, 0.5h)), (0.0mm, 0.0mm)), TextPrimitive{Tuple{Length{:cx,Float64},Length{:cy,Float64}},Rotation{Tuple{Length{:w,Float64},Length{:h,Float64}}},Tuple{Length{:mm,Float64},Length{:mm,Float64}}}((0.40333cx, 0.918986cy), \"3\", HCenter(), VCenter(), Rotation{Tuple{Length{:w,Float64},Length{:h,Float64}}}(0.0, (0.5w, 0.5h)), (0.0mm, 0.0mm)), TextPrimitive{Tuple{Length{:cx,Float64},Length{:cy,Float64}},Rotation{Tuple{Length{:w,Float64},Length{:h,Float64}}},Tuple{Length{:mm,Float64},Length{:mm,Float64}}}((-0.165929cx, 1.0cy), \"4\", HCenter(), VCenter(), Rotation{Tuple{Length{:w,Float64},Length{:h,Float64}}}(0.0, (0.5w, 0.5h)), (0.0mm, 0.0mm)), TextPrimitive{Tuple{Length{:cx,Float64},Length{:cy,Float64}},Rotation{Tuple{Length{:w,Float64},Length{:h,Float64}}},Tuple{Length{:mm,Float64},Length{:mm,Float64}}}((-0.68907cx, 0.763521cy), \"5\", HCenter(), VCenter(), Rotation{Tuple{Length{:w,Float64},Length{:h,Float64}}}(0.0, (0.5w, 0.5h)), (0.0mm, 0.0mm)), TextPrimitive{Tuple{Length{:cx,Float64},Length{:cy,Float64}},Rotation{Tuple{Length{:w,Float64},Length{:h,Float64}}},Tuple{Length{:mm,Float64},Length{:mm,Float64}}}((-1.0cx, 0.28463cy), \"6\", HCenter(), VCenter(), Rotation{Tuple{Length{:w,Float64},Length{:h,Float64}}}(0.0, (0.5w, 0.5h)), (0.0mm, 0.0mm)), TextPrimitive{Tuple{Length{:cx,Float64},Length{:cy,Float64}},Rotation{Tuple{Length{:w,Float64},Length{:h,Float64}}},Tuple{Length{:mm,Float64},Length{:mm,Float64}}}((-1.0cx, -0.28463cy), \"7\", HCenter(), VCenter(), Rotation{Tuple{Length{:w,Float64},Length{:h,Float64}}}(0.0, (0.5w, 0.5h)), (0.0mm, 0.0mm)), TextPrimitive{Tuple{Length{:cx,Float64},Length{:cy,Float64}},Rotation{Tuple{Length{:w,Float64},Length{:h,Float64}}},Tuple{Length{:mm,Float64},Length{:mm,Float64}}}((-0.68907cx, -0.763521cy), \"8\", HCenter(), VCenter(), Rotation{Tuple{Length{:w,Float64},Length{:h,Float64}}}(0.0, (0.5w, 0.5h)), (0.0mm, 0.0mm)), TextPrimitive{Tuple{Length{:cx,Float64},Length{:cy,Float64}},Rotation{Tuple{Length{:w,Float64},Length{:h,Float64}}},Tuple{Length{:mm,Float64},Length{:mm,Float64}}}((-0.165929cx, -1.0cy), \"9\", HCenter(), VCenter(), Rotation{Tuple{Length{:w,Float64},Length{:h,Float64}}}(0.0, (0.5w, 0.5h)), (0.0mm, 0.0mm)), TextPrimitive{Tuple{Length{:cx,Float64},Length{:cy,Float64}},Rotation{Tuple{Length{:w,Float64},Length{:h,Float64}}},Tuple{Length{:mm,Float64},Length{:mm,Float64}}}((0.40333cx, -0.918986cy), \"10\", HCenter(), VCenter(), Rotation{Tuple{Length{:w,Float64},Length{:h,Float64}}}(0.0, (0.5w, 0.5h)), (0.0mm, 0.0mm)), TextPrimitive{Tuple{Length{:cx,Float64},Length{:cy,Float64}},Rotation{Tuple{Length{:w,Float64},Length{:h,Float64}}},Tuple{Length{:mm,Float64},Length{:mm,Float64}}}((0.837972cx, -0.5462cy), \"11\", HCenter(), VCenter(), Rotation{Tuple{Length{:w,Float64},Length{:h,Float64}}}(0.0, (0.5w, 0.5h)), (0.0mm, 0.0mm))], Symbol(\"\"))]), List([Compose.Property{Compose.FontSizePrimitive}(Compose.FontSizePrimitive[FontSizePrimitive(4.0mm)]), Compose.Property{Compose.StrokePrimitive}(Compose.StrokePrimitive[StrokePrimitive(RGBA{Float64}(0.0,0.0,0.0,0.0))]), Compose.Property{Compose.FillPrimitive}(Compose.FillPrimitive[FillPrimitive(RGBA{Float64}(0.0,0.0,0.0,1.0))])]), 0, false, false, false, false, nothing, nothing, 0.0, Symbol(\"\"))]), List([]), List([]), 0, false, false, false, false, nothing, nothing, 0.0, Symbol(\"\"))"
      ]
     },
     "execution_count": 27,
     "metadata": {},
     "output_type": "execute_result"
    }
   ],
   "source": [
    "#nodes membership\n",
    "nodes, hyperedges = size(h)\n",
    "nodes_membership = fill(1, nodes)\n",
    "hyperedges_membership = fill(2, hyperedges)\n",
    "\n",
    "membership = vcat(nodes_membership, hyperedges_membership)\n",
    "\n",
    "nodecolor = [\"lightseagreen\", \"orange\"]\n",
    "#membership color\n",
    "nodefillc = nodecolor[membership]\n",
    "\n",
    "gplot(b, nodefillc=nodefillc, nodelabel=1:LightGraphs.nv(b), layout=circular_layout)"
   ]
  },
  {
   "cell_type": "markdown",
   "metadata": {
    "slideshow": {
     "slide_type": "slide"
    }
   },
   "source": [
    "# Hypergraph Transformations\n",
    "\n",
    "## TwosectionView\n",
    "\n",
    "2-section representation of a hypergraph `H` .  Denoted by `[H]2` , it is a graph whose vertices are the vertices of `H` and where two distinct vertices form an edge if and only if they are in the same hyperedge of `H`.  The weight of an edge  corresponds to the number of hyperedges that contain both the endpoints of the edge.\n",
    "\n",
    "![](assets/res/hytac-2019/h2section.png)\n"
   ]
  },
  {
   "cell_type": "markdown",
   "metadata": {
    "slideshow": {
     "slide_type": "slide"
    }
   },
   "source": [
    "## TwosectionView\n",
    "\n",
    "- Create a graph `G` from the  `TwosectionView` of `H`.\n",
    "- We need to import the library `LightGraphs` for manipulating graph objects.\n",
    "- This is a view - changes to the original hypergraph will be automatically reflected in the view."
   ]
  },
  {
   "cell_type": "markdown",
   "metadata": {
    "slideshow": {
     "slide_type": "skip"
    }
   },
   "source": [
    "<section data-background-transition=\"zoom\">\n",
    "<br>"
   ]
  },
  {
   "cell_type": "markdown",
   "metadata": {
    "slideshow": {
     "slide_type": "slide"
    }
   },
   "source": [
    "## Creating a TwoSection View of H"
   ]
  },
  {
   "cell_type": "code",
   "execution_count": 28,
   "metadata": {
    "slideshow": {
     "slide_type": "fragment"
    }
   },
   "outputs": [
    {
     "data": {
      "text/plain": [
       "6×5 Hypergraph{Float64,Nothing,Nothing}:\n",
       " 1.5        nothing   nothing   nothing   nothing\n",
       " 1.5        nothing  3.5        nothing   nothing\n",
       " 1.5        nothing   nothing  2.5        nothing\n",
       "  nothing   nothing  4.5       4.5        nothing\n",
       "  nothing  6.5        nothing  5.5       1.2     \n",
       "  nothing   nothing   nothing   nothing  1.3     "
      ]
     },
     "execution_count": 28,
     "metadata": {},
     "output_type": "execute_result"
    }
   ],
   "source": [
    "h"
   ]
  },
  {
   "cell_type": "code",
   "execution_count": 29,
   "metadata": {
    "slideshow": {
     "slide_type": "fragment"
    }
   },
   "outputs": [],
   "source": [
    "t = LightGraphs.SimpleGraph(TwoSectionView(h));"
   ]
  },
  {
   "cell_type": "code",
   "execution_count": 30,
   "metadata": {
    "slideshow": {
     "slide_type": "slide"
    }
   },
   "outputs": [
    {
     "data": {
      "image/svg+xml": [
       "<?xml version=\"1.0\" encoding=\"UTF-8\"?>\n",
       "<svg xmlns=\"http://www.w3.org/2000/svg\"\n",
       "     xmlns:xlink=\"http://www.w3.org/1999/xlink\"\n",
       "     version=\"1.2\"\n",
       "     width=\"141.42mm\" height=\"100mm\" viewBox=\"0 0 141.42 100\"\n",
       "     stroke=\"none\"\n",
       "     fill=\"#000000\"\n",
       "     stroke-width=\"0.3\"\n",
       "     font-size=\"3.88\"\n",
       ">\n",
       "<defs>\n",
       "  <marker id=\"arrow\" markerWidth=\"15\" markerHeight=\"7\" refX=\"5\" refY=\"3.5\" orient=\"auto\" markerUnits=\"strokeWidth\">\n",
       "    <path d=\"M0,0 L15,3.5 L0,7 z\" stroke=\"context-stroke\" fill=\"context-stroke\"/>\n",
       "  </marker>\n",
       "</defs>\n",
       "<g stroke-width=\"1.22\" fill=\"#000000\" fill-opacity=\"0.000\" stroke=\"#D3D3D3\" id=\"img-48bbf539-1\">\n",
       "  <g transform=\"translate(84.19,87.58)\">\n",
       "    <path fill=\"none\" d=\"M39.48,3.55 L -39.48 -3.55\" class=\"primitive\"/>\n",
       "  </g>\n",
       "  <g transform=\"translate(112.14,78.8)\">\n",
       "    <path fill=\"none\" d=\"M13.33,9.8 L -13.33 -9.8\" class=\"primitive\"/>\n",
       "  </g>\n",
       "  <g transform=\"translate(66.69,74.72)\">\n",
       "    <path fill=\"none\" d=\"M-22.45,7.05 L 22.45 -7.05\" class=\"primitive\"/>\n",
       "  </g>\n",
       "  <g transform=\"translate(25.26,71.28)\">\n",
       "    <path fill=\"none\" d=\"M9.78,8.86 L -9.78 -8.86\" class=\"primitive\"/>\n",
       "  </g>\n",
       "  <g transform=\"translate(53.21,62.5)\">\n",
       "    <path fill=\"none\" d=\"M35.46,2.94 L -35.46 -2.94\" class=\"primitive\"/>\n",
       "  </g>\n",
       "  <g transform=\"translate(79.6,51.48)\">\n",
       "    <path fill=\"none\" d=\"M11.48,11.03 L -11.48 -11.03\" class=\"primitive\"/>\n",
       "  </g>\n",
       "  <g transform=\"translate(38.17,48.05)\">\n",
       "    <path fill=\"none\" d=\"M-21.21,8.86 L 21.21 -8.86\" class=\"primitive\"/>\n",
       "  </g>\n",
       "  <g transform=\"translate(66.83,22.68)\">\n",
       "    <path fill=\"none\" d=\"M-1.6,10.12 L 1.6 -10.12\" class=\"primitive\"/>\n",
       "  </g>\n",
       "</g>\n",
       "<g stroke-width=\"1.22\" stroke=\"#D3D3D3\" id=\"img-48bbf539-2\">\n",
       "</g>\n",
       "<g font-size=\"4\" stroke=\"#000000\" stroke-opacity=\"0.000\" fill=\"#000000\" id=\"img-48bbf539-3\">\n",
       "</g>\n",
       "<g stroke-width=\"0\" stroke=\"#000000\" stroke-opacity=\"0.000\" fill=\"#40E0D0\" id=\"img-48bbf539-4\">\n",
       "  <g transform=\"translate(129.64,91.67)\">\n",
       "    <circle cx=\"0\" cy=\"0\" r=\"5.77\" class=\"primitive\"/>\n",
       "  </g>\n",
       "  <g transform=\"translate(38.74,83.5)\">\n",
       "    <circle cx=\"0\" cy=\"0\" r=\"5.77\" class=\"primitive\"/>\n",
       "  </g>\n",
       "  <g transform=\"translate(94.64,65.94)\">\n",
       "    <circle cx=\"0\" cy=\"0\" r=\"5.77\" class=\"primitive\"/>\n",
       "  </g>\n",
       "  <g transform=\"translate(11.79,59.07)\">\n",
       "    <circle cx=\"0\" cy=\"0\" r=\"5.77\" class=\"primitive\"/>\n",
       "  </g>\n",
       "  <g transform=\"translate(64.55,37.02)\">\n",
       "    <circle cx=\"0\" cy=\"0\" r=\"5.77\" class=\"primitive\"/>\n",
       "  </g>\n",
       "  <g transform=\"translate(69.1,8.33)\">\n",
       "    <circle cx=\"0\" cy=\"0\" r=\"5.77\" class=\"primitive\"/>\n",
       "  </g>\n",
       "</g>\n",
       "<g font-size=\"4\" stroke=\"#000000\" stroke-opacity=\"0.000\" fill=\"#000000\" id=\"img-48bbf539-5\">\n",
       "  <g transform=\"translate(129.64,91.67)\">\n",
       "    <g class=\"primitive\">\n",
       "      <text text-anchor=\"middle\" dy=\"0.35em\">1</text>\n",
       "    </g>\n",
       "  </g>\n",
       "  <g transform=\"translate(38.74,83.5)\">\n",
       "    <g class=\"primitive\">\n",
       "      <text text-anchor=\"middle\" dy=\"0.35em\">2</text>\n",
       "    </g>\n",
       "  </g>\n",
       "  <g transform=\"translate(94.64,65.94)\">\n",
       "    <g class=\"primitive\">\n",
       "      <text text-anchor=\"middle\" dy=\"0.35em\">3</text>\n",
       "    </g>\n",
       "  </g>\n",
       "  <g transform=\"translate(11.79,59.07)\">\n",
       "    <g class=\"primitive\">\n",
       "      <text text-anchor=\"middle\" dy=\"0.35em\">4</text>\n",
       "    </g>\n",
       "  </g>\n",
       "  <g transform=\"translate(64.55,37.02)\">\n",
       "    <g class=\"primitive\">\n",
       "      <text text-anchor=\"middle\" dy=\"0.35em\">5</text>\n",
       "    </g>\n",
       "  </g>\n",
       "  <g transform=\"translate(69.1,8.33)\">\n",
       "    <g class=\"primitive\">\n",
       "      <text text-anchor=\"middle\" dy=\"0.35em\">6</text>\n",
       "    </g>\n",
       "  </g>\n",
       "</g>\n",
       "</svg>\n"
      ],
      "text/html": [
       "<?xml version=\"1.0\" encoding=\"UTF-8\"?>\n",
       "<svg xmlns=\"http://www.w3.org/2000/svg\"\n",
       "     xmlns:xlink=\"http://www.w3.org/1999/xlink\"\n",
       "     version=\"1.2\"\n",
       "     width=\"141.42mm\" height=\"100mm\" viewBox=\"0 0 141.42 100\"\n",
       "     stroke=\"none\"\n",
       "     fill=\"#000000\"\n",
       "     stroke-width=\"0.3\"\n",
       "     font-size=\"3.88\"\n",
       "\n",
       "     id=\"img-5b8e6745\">\n",
       "<defs>\n",
       "  <marker id=\"arrow\" markerWidth=\"15\" markerHeight=\"7\" refX=\"5\" refY=\"3.5\" orient=\"auto\" markerUnits=\"strokeWidth\">\n",
       "    <path d=\"M0,0 L15,3.5 L0,7 z\" stroke=\"context-stroke\" fill=\"context-stroke\"/>\n",
       "  </marker>\n",
       "</defs>\n",
       "<g stroke-width=\"1.22\" fill=\"#000000\" fill-opacity=\"0.000\" stroke=\"#D3D3D3\" id=\"img-5b8e6745-1\">\n",
       "  <g transform=\"translate(84.19,87.58)\">\n",
       "    <path fill=\"none\" d=\"M39.48,3.55 L -39.48 -3.55\" class=\"primitive\"/>\n",
       "  </g>\n",
       "  <g transform=\"translate(112.14,78.8)\">\n",
       "    <path fill=\"none\" d=\"M13.33,9.8 L -13.33 -9.8\" class=\"primitive\"/>\n",
       "  </g>\n",
       "  <g transform=\"translate(66.69,74.72)\">\n",
       "    <path fill=\"none\" d=\"M-22.45,7.05 L 22.45 -7.05\" class=\"primitive\"/>\n",
       "  </g>\n",
       "  <g transform=\"translate(25.26,71.28)\">\n",
       "    <path fill=\"none\" d=\"M9.78,8.86 L -9.78 -8.86\" class=\"primitive\"/>\n",
       "  </g>\n",
       "  <g transform=\"translate(53.21,62.5)\">\n",
       "    <path fill=\"none\" d=\"M35.46,2.94 L -35.46 -2.94\" class=\"primitive\"/>\n",
       "  </g>\n",
       "  <g transform=\"translate(79.6,51.48)\">\n",
       "    <path fill=\"none\" d=\"M11.48,11.03 L -11.48 -11.03\" class=\"primitive\"/>\n",
       "  </g>\n",
       "  <g transform=\"translate(38.17,48.05)\">\n",
       "    <path fill=\"none\" d=\"M-21.21,8.86 L 21.21 -8.86\" class=\"primitive\"/>\n",
       "  </g>\n",
       "  <g transform=\"translate(66.83,22.68)\">\n",
       "    <path fill=\"none\" d=\"M-1.6,10.12 L 1.6 -10.12\" class=\"primitive\"/>\n",
       "  </g>\n",
       "</g>\n",
       "<g stroke-width=\"1.22\" stroke=\"#D3D3D3\" id=\"img-5b8e6745-2\">\n",
       "</g>\n",
       "<g font-size=\"4\" stroke=\"#000000\" stroke-opacity=\"0.000\" fill=\"#000000\" id=\"img-5b8e6745-3\">\n",
       "</g>\n",
       "<g stroke-width=\"0\" stroke=\"#000000\" stroke-opacity=\"0.000\" fill=\"#40E0D0\" id=\"img-5b8e6745-4\">\n",
       "  <g transform=\"translate(129.64,91.67)\">\n",
       "    <circle cx=\"0\" cy=\"0\" r=\"5.77\" class=\"primitive\"/>\n",
       "  </g>\n",
       "  <g transform=\"translate(38.74,83.5)\">\n",
       "    <circle cx=\"0\" cy=\"0\" r=\"5.77\" class=\"primitive\"/>\n",
       "  </g>\n",
       "  <g transform=\"translate(94.64,65.94)\">\n",
       "    <circle cx=\"0\" cy=\"0\" r=\"5.77\" class=\"primitive\"/>\n",
       "  </g>\n",
       "  <g transform=\"translate(11.79,59.07)\">\n",
       "    <circle cx=\"0\" cy=\"0\" r=\"5.77\" class=\"primitive\"/>\n",
       "  </g>\n",
       "  <g transform=\"translate(64.55,37.02)\">\n",
       "    <circle cx=\"0\" cy=\"0\" r=\"5.77\" class=\"primitive\"/>\n",
       "  </g>\n",
       "  <g transform=\"translate(69.1,8.33)\">\n",
       "    <circle cx=\"0\" cy=\"0\" r=\"5.77\" class=\"primitive\"/>\n",
       "  </g>\n",
       "</g>\n",
       "<g font-size=\"4\" stroke=\"#000000\" stroke-opacity=\"0.000\" fill=\"#000000\" id=\"img-5b8e6745-5\">\n",
       "  <g transform=\"translate(129.64,91.67)\">\n",
       "    <g class=\"primitive\">\n",
       "      <text text-anchor=\"middle\" dy=\"0.35em\">1</text>\n",
       "    </g>\n",
       "  </g>\n",
       "  <g transform=\"translate(38.74,83.5)\">\n",
       "    <g class=\"primitive\">\n",
       "      <text text-anchor=\"middle\" dy=\"0.35em\">2</text>\n",
       "    </g>\n",
       "  </g>\n",
       "  <g transform=\"translate(94.64,65.94)\">\n",
       "    <g class=\"primitive\">\n",
       "      <text text-anchor=\"middle\" dy=\"0.35em\">3</text>\n",
       "    </g>\n",
       "  </g>\n",
       "  <g transform=\"translate(11.79,59.07)\">\n",
       "    <g class=\"primitive\">\n",
       "      <text text-anchor=\"middle\" dy=\"0.35em\">4</text>\n",
       "    </g>\n",
       "  </g>\n",
       "  <g transform=\"translate(64.55,37.02)\">\n",
       "    <g class=\"primitive\">\n",
       "      <text text-anchor=\"middle\" dy=\"0.35em\">5</text>\n",
       "    </g>\n",
       "  </g>\n",
       "  <g transform=\"translate(69.1,8.33)\">\n",
       "    <g class=\"primitive\">\n",
       "      <text text-anchor=\"middle\" dy=\"0.35em\">6</text>\n",
       "    </g>\n",
       "  </g>\n",
       "</g>\n",
       "<script> <![CDATA[\n",
       "(function(N){var k=/[\\.\\/]/,L=/\\s*,\\s*/,C=function(a,d){return a-d},a,v,y={n:{}},M=function(){for(var a=0,d=this.length;a<d;a++)if(\"undefined\"!=typeof this[a])return this[a]},A=function(){for(var a=this.length;--a;)if(\"undefined\"!=typeof this[a])return this[a]},w=function(k,d){k=String(k);var f=v,n=Array.prototype.slice.call(arguments,2),u=w.listeners(k),p=0,b,q=[],e={},l=[],r=a;l.firstDefined=M;l.lastDefined=A;a=k;for(var s=v=0,x=u.length;s<x;s++)\"zIndex\"in u[s]&&(q.push(u[s].zIndex),0>u[s].zIndex&&\n",
       "(e[u[s].zIndex]=u[s]));for(q.sort(C);0>q[p];)if(b=e[q[p++] ],l.push(b.apply(d,n)),v)return v=f,l;for(s=0;s<x;s++)if(b=u[s],\"zIndex\"in b)if(b.zIndex==q[p]){l.push(b.apply(d,n));if(v)break;do if(p++,(b=e[q[p] ])&&l.push(b.apply(d,n)),v)break;while(b)}else e[b.zIndex]=b;else if(l.push(b.apply(d,n)),v)break;v=f;a=r;return l};w._events=y;w.listeners=function(a){a=a.split(k);var d=y,f,n,u,p,b,q,e,l=[d],r=[];u=0;for(p=a.length;u<p;u++){e=[];b=0;for(q=l.length;b<q;b++)for(d=l[b].n,f=[d[a[u] ],d[\"*\"] ],n=2;n--;)if(d=\n",
       "f[n])e.push(d),r=r.concat(d.f||[]);l=e}return r};w.on=function(a,d){a=String(a);if(\"function\"!=typeof d)return function(){};for(var f=a.split(L),n=0,u=f.length;n<u;n++)(function(a){a=a.split(k);for(var b=y,f,e=0,l=a.length;e<l;e++)b=b.n,b=b.hasOwnProperty(a[e])&&b[a[e] ]||(b[a[e] ]={n:{}});b.f=b.f||[];e=0;for(l=b.f.length;e<l;e++)if(b.f[e]==d){f=!0;break}!f&&b.f.push(d)})(f[n]);return function(a){+a==+a&&(d.zIndex=+a)}};w.f=function(a){var d=[].slice.call(arguments,1);return function(){w.apply(null,\n",
       "[a,null].concat(d).concat([].slice.call(arguments,0)))}};w.stop=function(){v=1};w.nt=function(k){return k?(new RegExp(\"(?:\\\\.|\\\\/|^)\"+k+\"(?:\\\\.|\\\\/|$)\")).test(a):a};w.nts=function(){return a.split(k)};w.off=w.unbind=function(a,d){if(a){var f=a.split(L);if(1<f.length)for(var n=0,u=f.length;n<u;n++)w.off(f[n],d);else{for(var f=a.split(k),p,b,q,e,l=[y],n=0,u=f.length;n<u;n++)for(e=0;e<l.length;e+=q.length-2){q=[e,1];p=l[e].n;if(\"*\"!=f[n])p[f[n] ]&&q.push(p[f[n] ]);else for(b in p)p.hasOwnProperty(b)&&\n",
       "q.push(p[b]);l.splice.apply(l,q)}n=0;for(u=l.length;n<u;n++)for(p=l[n];p.n;){if(d){if(p.f){e=0;for(f=p.f.length;e<f;e++)if(p.f[e]==d){p.f.splice(e,1);break}!p.f.length&&delete p.f}for(b in p.n)if(p.n.hasOwnProperty(b)&&p.n[b].f){q=p.n[b].f;e=0;for(f=q.length;e<f;e++)if(q[e]==d){q.splice(e,1);break}!q.length&&delete p.n[b].f}}else for(b in delete p.f,p.n)p.n.hasOwnProperty(b)&&p.n[b].f&&delete p.n[b].f;p=p.n}}}else w._events=y={n:{}}};w.once=function(a,d){var f=function(){w.unbind(a,f);return d.apply(this,\n",
       "arguments)};return w.on(a,f)};w.version=\"0.4.2\";w.toString=function(){return\"You are running Eve 0.4.2\"};\"undefined\"!=typeof module&&module.exports?module.exports=w:\"function\"===typeof define&&define.amd?define(\"eve\",[],function(){return w}):N.eve=w})(this);\n",
       "(function(N,k){\"function\"===typeof define&&define.amd?define(\"Snap.svg\",[\"eve\"],function(L){return k(N,L)}):k(N,N.eve)})(this,function(N,k){var L=function(a){var k={},y=N.requestAnimationFrame||N.webkitRequestAnimationFrame||N.mozRequestAnimationFrame||N.oRequestAnimationFrame||N.msRequestAnimationFrame||function(a){setTimeout(a,16)},M=Array.isArray||function(a){return a instanceof Array||\"[object Array]\"==Object.prototype.toString.call(a)},A=0,w=\"M\"+(+new Date).toString(36),z=function(a){if(null==\n",
       "a)return this.s;var b=this.s-a;this.b+=this.dur*b;this.B+=this.dur*b;this.s=a},d=function(a){if(null==a)return this.spd;this.spd=a},f=function(a){if(null==a)return this.dur;this.s=this.s*a/this.dur;this.dur=a},n=function(){delete k[this.id];this.update();a(\"mina.stop.\"+this.id,this)},u=function(){this.pdif||(delete k[this.id],this.update(),this.pdif=this.get()-this.b)},p=function(){this.pdif&&(this.b=this.get()-this.pdif,delete this.pdif,k[this.id]=this)},b=function(){var a;if(M(this.start)){a=[];\n",
       "for(var b=0,e=this.start.length;b<e;b++)a[b]=+this.start[b]+(this.end[b]-this.start[b])*this.easing(this.s)}else a=+this.start+(this.end-this.start)*this.easing(this.s);this.set(a)},q=function(){var l=0,b;for(b in k)if(k.hasOwnProperty(b)){var e=k[b],f=e.get();l++;e.s=(f-e.b)/(e.dur/e.spd);1<=e.s&&(delete k[b],e.s=1,l--,function(b){setTimeout(function(){a(\"mina.finish.\"+b.id,b)})}(e));e.update()}l&&y(q)},e=function(a,r,s,x,G,h,J){a={id:w+(A++).toString(36),start:a,end:r,b:s,s:0,dur:x-s,spd:1,get:G,\n",
       "set:h,easing:J||e.linear,status:z,speed:d,duration:f,stop:n,pause:u,resume:p,update:b};k[a.id]=a;r=0;for(var K in k)if(k.hasOwnProperty(K)&&(r++,2==r))break;1==r&&y(q);return a};e.time=Date.now||function(){return+new Date};e.getById=function(a){return k[a]||null};e.linear=function(a){return a};e.easeout=function(a){return Math.pow(a,1.7)};e.easein=function(a){return Math.pow(a,0.48)};e.easeinout=function(a){if(1==a)return 1;if(0==a)return 0;var b=0.48-a/1.04,e=Math.sqrt(0.1734+b*b);a=e-b;a=Math.pow(Math.abs(a),\n",
       "1/3)*(0>a?-1:1);b=-e-b;b=Math.pow(Math.abs(b),1/3)*(0>b?-1:1);a=a+b+0.5;return 3*(1-a)*a*a+a*a*a};e.backin=function(a){return 1==a?1:a*a*(2.70158*a-1.70158)};e.backout=function(a){if(0==a)return 0;a-=1;return a*a*(2.70158*a+1.70158)+1};e.elastic=function(a){return a==!!a?a:Math.pow(2,-10*a)*Math.sin(2*(a-0.075)*Math.PI/0.3)+1};e.bounce=function(a){a<1/2.75?a*=7.5625*a:a<2/2.75?(a-=1.5/2.75,a=7.5625*a*a+0.75):a<2.5/2.75?(a-=2.25/2.75,a=7.5625*a*a+0.9375):(a-=2.625/2.75,a=7.5625*a*a+0.984375);return a};\n",
       "return N.mina=e}(\"undefined\"==typeof k?function(){}:k),C=function(){function a(c,t){if(c){if(c.tagName)return x(c);if(y(c,\"array\")&&a.set)return a.set.apply(a,c);if(c instanceof e)return c;if(null==t)return c=G.doc.querySelector(c),x(c)}return new s(null==c?\"100%\":c,null==t?\"100%\":t)}function v(c,a){if(a){\"#text\"==c&&(c=G.doc.createTextNode(a.text||\"\"));\"string\"==typeof c&&(c=v(c));if(\"string\"==typeof a)return\"xlink:\"==a.substring(0,6)?c.getAttributeNS(m,a.substring(6)):\"xml:\"==a.substring(0,4)?c.getAttributeNS(la,\n",
       "a.substring(4)):c.getAttribute(a);for(var da in a)if(a[h](da)){var b=J(a[da]);b?\"xlink:\"==da.substring(0,6)?c.setAttributeNS(m,da.substring(6),b):\"xml:\"==da.substring(0,4)?c.setAttributeNS(la,da.substring(4),b):c.setAttribute(da,b):c.removeAttribute(da)}}else c=G.doc.createElementNS(la,c);return c}function y(c,a){a=J.prototype.toLowerCase.call(a);return\"finite\"==a?isFinite(c):\"array\"==a&&(c instanceof Array||Array.isArray&&Array.isArray(c))?!0:\"null\"==a&&null===c||a==typeof c&&null!==c||\"object\"==\n",
       "a&&c===Object(c)||$.call(c).slice(8,-1).toLowerCase()==a}function M(c){if(\"function\"==typeof c||Object(c)!==c)return c;var a=new c.constructor,b;for(b in c)c[h](b)&&(a[b]=M(c[b]));return a}function A(c,a,b){function m(){var e=Array.prototype.slice.call(arguments,0),f=e.join(\"\\u2400\"),d=m.cache=m.cache||{},l=m.count=m.count||[];if(d[h](f)){a:for(var e=l,l=f,B=0,H=e.length;B<H;B++)if(e[B]===l){e.push(e.splice(B,1)[0]);break a}return b?b(d[f]):d[f]}1E3<=l.length&&delete d[l.shift()];l.push(f);d[f]=c.apply(a,\n",
       "e);return b?b(d[f]):d[f]}return m}function w(c,a,b,m,e,f){return null==e?(c-=b,a-=m,c||a?(180*I.atan2(-a,-c)/C+540)%360:0):w(c,a,e,f)-w(b,m,e,f)}function z(c){return c%360*C/180}function d(c){var a=[];c=c.replace(/(?:^|\\s)(\\w+)\\(([^)]+)\\)/g,function(c,b,m){m=m.split(/\\s*,\\s*|\\s+/);\"rotate\"==b&&1==m.length&&m.push(0,0);\"scale\"==b&&(2<m.length?m=m.slice(0,2):2==m.length&&m.push(0,0),1==m.length&&m.push(m[0],0,0));\"skewX\"==b?a.push([\"m\",1,0,I.tan(z(m[0])),1,0,0]):\"skewY\"==b?a.push([\"m\",1,I.tan(z(m[0])),\n",
       "0,1,0,0]):a.push([b.charAt(0)].concat(m));return c});return a}function f(c,t){var b=O(c),m=new a.Matrix;if(b)for(var e=0,f=b.length;e<f;e++){var h=b[e],d=h.length,B=J(h[0]).toLowerCase(),H=h[0]!=B,l=H?m.invert():0,E;\"t\"==B&&2==d?m.translate(h[1],0):\"t\"==B&&3==d?H?(d=l.x(0,0),B=l.y(0,0),H=l.x(h[1],h[2]),l=l.y(h[1],h[2]),m.translate(H-d,l-B)):m.translate(h[1],h[2]):\"r\"==B?2==d?(E=E||t,m.rotate(h[1],E.x+E.width/2,E.y+E.height/2)):4==d&&(H?(H=l.x(h[2],h[3]),l=l.y(h[2],h[3]),m.rotate(h[1],H,l)):m.rotate(h[1],\n",
       "h[2],h[3])):\"s\"==B?2==d||3==d?(E=E||t,m.scale(h[1],h[d-1],E.x+E.width/2,E.y+E.height/2)):4==d?H?(H=l.x(h[2],h[3]),l=l.y(h[2],h[3]),m.scale(h[1],h[1],H,l)):m.scale(h[1],h[1],h[2],h[3]):5==d&&(H?(H=l.x(h[3],h[4]),l=l.y(h[3],h[4]),m.scale(h[1],h[2],H,l)):m.scale(h[1],h[2],h[3],h[4])):\"m\"==B&&7==d&&m.add(h[1],h[2],h[3],h[4],h[5],h[6])}return m}function n(c,t){if(null==t){var m=!0;t=\"linearGradient\"==c.type||\"radialGradient\"==c.type?c.node.getAttribute(\"gradientTransform\"):\"pattern\"==c.type?c.node.getAttribute(\"patternTransform\"):\n",
       "c.node.getAttribute(\"transform\");if(!t)return new a.Matrix;t=d(t)}else t=a._.rgTransform.test(t)?J(t).replace(/\\.{3}|\\u2026/g,c._.transform||aa):d(t),y(t,\"array\")&&(t=a.path?a.path.toString.call(t):J(t)),c._.transform=t;var b=f(t,c.getBBox(1));if(m)return b;c.matrix=b}function u(c){c=c.node.ownerSVGElement&&x(c.node.ownerSVGElement)||c.node.parentNode&&x(c.node.parentNode)||a.select(\"svg\")||a(0,0);var t=c.select(\"defs\"),t=null==t?!1:t.node;t||(t=r(\"defs\",c.node).node);return t}function p(c){return c.node.ownerSVGElement&&\n",
       "x(c.node.ownerSVGElement)||a.select(\"svg\")}function b(c,a,m){function b(c){if(null==c)return aa;if(c==+c)return c;v(B,{width:c});try{return B.getBBox().width}catch(a){return 0}}function h(c){if(null==c)return aa;if(c==+c)return c;v(B,{height:c});try{return B.getBBox().height}catch(a){return 0}}function e(b,B){null==a?d[b]=B(c.attr(b)||0):b==a&&(d=B(null==m?c.attr(b)||0:m))}var f=p(c).node,d={},B=f.querySelector(\".svg---mgr\");B||(B=v(\"rect\"),v(B,{x:-9E9,y:-9E9,width:10,height:10,\"class\":\"svg---mgr\",\n",
       "fill:\"none\"}),f.appendChild(B));switch(c.type){case \"rect\":e(\"rx\",b),e(\"ry\",h);case \"image\":e(\"width\",b),e(\"height\",h);case \"text\":e(\"x\",b);e(\"y\",h);break;case \"circle\":e(\"cx\",b);e(\"cy\",h);e(\"r\",b);break;case \"ellipse\":e(\"cx\",b);e(\"cy\",h);e(\"rx\",b);e(\"ry\",h);break;case \"line\":e(\"x1\",b);e(\"x2\",b);e(\"y1\",h);e(\"y2\",h);break;case \"marker\":e(\"refX\",b);e(\"markerWidth\",b);e(\"refY\",h);e(\"markerHeight\",h);break;case \"radialGradient\":e(\"fx\",b);e(\"fy\",h);break;case \"tspan\":e(\"dx\",b);e(\"dy\",h);break;default:e(a,\n",
       "b)}f.removeChild(B);return d}function q(c){y(c,\"array\")||(c=Array.prototype.slice.call(arguments,0));for(var a=0,b=0,m=this.node;this[a];)delete this[a++];for(a=0;a<c.length;a++)\"set\"==c[a].type?c[a].forEach(function(c){m.appendChild(c.node)}):m.appendChild(c[a].node);for(var h=m.childNodes,a=0;a<h.length;a++)this[b++]=x(h[a]);return this}function e(c){if(c.snap in E)return E[c.snap];var a=this.id=V(),b;try{b=c.ownerSVGElement}catch(m){}this.node=c;b&&(this.paper=new s(b));this.type=c.tagName;this.anims=\n",
       "{};this._={transform:[]};c.snap=a;E[a]=this;\"g\"==this.type&&(this.add=q);if(this.type in{g:1,mask:1,pattern:1})for(var e in s.prototype)s.prototype[h](e)&&(this[e]=s.prototype[e])}function l(c){this.node=c}function r(c,a){var b=v(c);a.appendChild(b);return x(b)}function s(c,a){var b,m,f,d=s.prototype;if(c&&\"svg\"==c.tagName){if(c.snap in E)return E[c.snap];var l=c.ownerDocument;b=new e(c);m=c.getElementsByTagName(\"desc\")[0];f=c.getElementsByTagName(\"defs\")[0];m||(m=v(\"desc\"),m.appendChild(l.createTextNode(\"Created with Snap\")),\n",
       "b.node.appendChild(m));f||(f=v(\"defs\"),b.node.appendChild(f));b.defs=f;for(var ca in d)d[h](ca)&&(b[ca]=d[ca]);b.paper=b.root=b}else b=r(\"svg\",G.doc.body),v(b.node,{height:a,version:1.1,width:c,xmlns:la});return b}function x(c){return!c||c instanceof e||c instanceof l?c:c.tagName&&\"svg\"==c.tagName.toLowerCase()?new s(c):c.tagName&&\"object\"==c.tagName.toLowerCase()&&\"image/svg+xml\"==c.type?new s(c.contentDocument.getElementsByTagName(\"svg\")[0]):new e(c)}a.version=\"0.3.0\";a.toString=function(){return\"Snap v\"+\n",
       "this.version};a._={};var G={win:N,doc:N.document};a._.glob=G;var h=\"hasOwnProperty\",J=String,K=parseFloat,U=parseInt,I=Math,P=I.max,Q=I.min,Y=I.abs,C=I.PI,aa=\"\",$=Object.prototype.toString,F=/^\\s*((#[a-f\\d]{6})|(#[a-f\\d]{3})|rgba?\\(\\s*([\\d\\.]+%?\\s*,\\s*[\\d\\.]+%?\\s*,\\s*[\\d\\.]+%?(?:\\s*,\\s*[\\d\\.]+%?)?)\\s*\\)|hsba?\\(\\s*([\\d\\.]+(?:deg|\\xb0|%)?\\s*,\\s*[\\d\\.]+%?\\s*,\\s*[\\d\\.]+(?:%?\\s*,\\s*[\\d\\.]+)?%?)\\s*\\)|hsla?\\(\\s*([\\d\\.]+(?:deg|\\xb0|%)?\\s*,\\s*[\\d\\.]+%?\\s*,\\s*[\\d\\.]+(?:%?\\s*,\\s*[\\d\\.]+)?%?)\\s*\\))\\s*$/i;a._.separator=\n",
       "RegExp(\"[,\\t\\n\\x0B\\f\\r \\u00a0\\u1680\\u180e\\u2000\\u2001\\u2002\\u2003\\u2004\\u2005\\u2006\\u2007\\u2008\\u2009\\u200a\\u202f\\u205f\\u3000\\u2028\\u2029]+\");var S=RegExp(\"[\\t\\n\\x0B\\f\\r \\u00a0\\u1680\\u180e\\u2000\\u2001\\u2002\\u2003\\u2004\\u2005\\u2006\\u2007\\u2008\\u2009\\u200a\\u202f\\u205f\\u3000\\u2028\\u2029]*,[\\t\\n\\x0B\\f\\r \\u00a0\\u1680\\u180e\\u2000\\u2001\\u2002\\u2003\\u2004\\u2005\\u2006\\u2007\\u2008\\u2009\\u200a\\u202f\\u205f\\u3000\\u2028\\u2029]*\"),X={hs:1,rg:1},W=RegExp(\"([a-z])[\\t\\n\\x0B\\f\\r \\u00a0\\u1680\\u180e\\u2000\\u2001\\u2002\\u2003\\u2004\\u2005\\u2006\\u2007\\u2008\\u2009\\u200a\\u202f\\u205f\\u3000\\u2028\\u2029,]*((-?\\\\d*\\\\.?\\\\d*(?:e[\\\\-+]?\\\\d+)?[\\t\\n\\x0B\\f\\r \\u00a0\\u1680\\u180e\\u2000\\u2001\\u2002\\u2003\\u2004\\u2005\\u2006\\u2007\\u2008\\u2009\\u200a\\u202f\\u205f\\u3000\\u2028\\u2029]*,?[\\t\\n\\x0B\\f\\r \\u00a0\\u1680\\u180e\\u2000\\u2001\\u2002\\u2003\\u2004\\u2005\\u2006\\u2007\\u2008\\u2009\\u200a\\u202f\\u205f\\u3000\\u2028\\u2029]*)+)\",\n",
       "\"ig\"),ma=RegExp(\"([rstm])[\\t\\n\\x0B\\f\\r \\u00a0\\u1680\\u180e\\u2000\\u2001\\u2002\\u2003\\u2004\\u2005\\u2006\\u2007\\u2008\\u2009\\u200a\\u202f\\u205f\\u3000\\u2028\\u2029,]*((-?\\\\d*\\\\.?\\\\d*(?:e[\\\\-+]?\\\\d+)?[\\t\\n\\x0B\\f\\r \\u00a0\\u1680\\u180e\\u2000\\u2001\\u2002\\u2003\\u2004\\u2005\\u2006\\u2007\\u2008\\u2009\\u200a\\u202f\\u205f\\u3000\\u2028\\u2029]*,?[\\t\\n\\x0B\\f\\r \\u00a0\\u1680\\u180e\\u2000\\u2001\\u2002\\u2003\\u2004\\u2005\\u2006\\u2007\\u2008\\u2009\\u200a\\u202f\\u205f\\u3000\\u2028\\u2029]*)+)\",\"ig\"),Z=RegExp(\"(-?\\\\d*\\\\.?\\\\d*(?:e[\\\\-+]?\\\\d+)?)[\\t\\n\\x0B\\f\\r \\u00a0\\u1680\\u180e\\u2000\\u2001\\u2002\\u2003\\u2004\\u2005\\u2006\\u2007\\u2008\\u2009\\u200a\\u202f\\u205f\\u3000\\u2028\\u2029]*,?[\\t\\n\\x0B\\f\\r \\u00a0\\u1680\\u180e\\u2000\\u2001\\u2002\\u2003\\u2004\\u2005\\u2006\\u2007\\u2008\\u2009\\u200a\\u202f\\u205f\\u3000\\u2028\\u2029]*\",\n",
       "\"ig\"),na=0,ba=\"S\"+(+new Date).toString(36),V=function(){return ba+(na++).toString(36)},m=\"http://www.w3.org/1999/xlink\",la=\"http://www.w3.org/2000/svg\",E={},ca=a.url=function(c){return\"url('#\"+c+\"')\"};a._.$=v;a._.id=V;a.format=function(){var c=/\\{([^\\}]+)\\}/g,a=/(?:(?:^|\\.)(.+?)(?=\\[|\\.|$|\\()|\\[('|\")(.+?)\\2\\])(\\(\\))?/g,b=function(c,b,m){var h=m;b.replace(a,function(c,a,b,m,t){a=a||m;h&&(a in h&&(h=h[a]),\"function\"==typeof h&&t&&(h=h()))});return h=(null==h||h==m?c:h)+\"\"};return function(a,m){return J(a).replace(c,\n",
       "function(c,a){return b(c,a,m)})}}();a._.clone=M;a._.cacher=A;a.rad=z;a.deg=function(c){return 180*c/C%360};a.angle=w;a.is=y;a.snapTo=function(c,a,b){b=y(b,\"finite\")?b:10;if(y(c,\"array\"))for(var m=c.length;m--;){if(Y(c[m]-a)<=b)return c[m]}else{c=+c;m=a%c;if(m<b)return a-m;if(m>c-b)return a-m+c}return a};a.getRGB=A(function(c){if(!c||(c=J(c)).indexOf(\"-\")+1)return{r:-1,g:-1,b:-1,hex:\"none\",error:1,toString:ka};if(\"none\"==c)return{r:-1,g:-1,b:-1,hex:\"none\",toString:ka};!X[h](c.toLowerCase().substring(0,\n",
       "2))&&\"#\"!=c.charAt()&&(c=T(c));if(!c)return{r:-1,g:-1,b:-1,hex:\"none\",error:1,toString:ka};var b,m,e,f,d;if(c=c.match(F)){c[2]&&(e=U(c[2].substring(5),16),m=U(c[2].substring(3,5),16),b=U(c[2].substring(1,3),16));c[3]&&(e=U((d=c[3].charAt(3))+d,16),m=U((d=c[3].charAt(2))+d,16),b=U((d=c[3].charAt(1))+d,16));c[4]&&(d=c[4].split(S),b=K(d[0]),\"%\"==d[0].slice(-1)&&(b*=2.55),m=K(d[1]),\"%\"==d[1].slice(-1)&&(m*=2.55),e=K(d[2]),\"%\"==d[2].slice(-1)&&(e*=2.55),\"rgba\"==c[1].toLowerCase().slice(0,4)&&(f=K(d[3])),\n",
       "d[3]&&\"%\"==d[3].slice(-1)&&(f/=100));if(c[5])return d=c[5].split(S),b=K(d[0]),\"%\"==d[0].slice(-1)&&(b/=100),m=K(d[1]),\"%\"==d[1].slice(-1)&&(m/=100),e=K(d[2]),\"%\"==d[2].slice(-1)&&(e/=100),\"deg\"!=d[0].slice(-3)&&\"\\u00b0\"!=d[0].slice(-1)||(b/=360),\"hsba\"==c[1].toLowerCase().slice(0,4)&&(f=K(d[3])),d[3]&&\"%\"==d[3].slice(-1)&&(f/=100),a.hsb2rgb(b,m,e,f);if(c[6])return d=c[6].split(S),b=K(d[0]),\"%\"==d[0].slice(-1)&&(b/=100),m=K(d[1]),\"%\"==d[1].slice(-1)&&(m/=100),e=K(d[2]),\"%\"==d[2].slice(-1)&&(e/=100),\n",
       "\"deg\"!=d[0].slice(-3)&&\"\\u00b0\"!=d[0].slice(-1)||(b/=360),\"hsla\"==c[1].toLowerCase().slice(0,4)&&(f=K(d[3])),d[3]&&\"%\"==d[3].slice(-1)&&(f/=100),a.hsl2rgb(b,m,e,f);b=Q(I.round(b),255);m=Q(I.round(m),255);e=Q(I.round(e),255);f=Q(P(f,0),1);c={r:b,g:m,b:e,toString:ka};c.hex=\"#\"+(16777216|e|m<<8|b<<16).toString(16).slice(1);c.opacity=y(f,\"finite\")?f:1;return c}return{r:-1,g:-1,b:-1,hex:\"none\",error:1,toString:ka}},a);a.hsb=A(function(c,b,m){return a.hsb2rgb(c,b,m).hex});a.hsl=A(function(c,b,m){return a.hsl2rgb(c,\n",
       "b,m).hex});a.rgb=A(function(c,a,b,m){if(y(m,\"finite\")){var e=I.round;return\"rgba(\"+[e(c),e(a),e(b),+m.toFixed(2)]+\")\"}return\"#\"+(16777216|b|a<<8|c<<16).toString(16).slice(1)});var T=function(c){var a=G.doc.getElementsByTagName(\"head\")[0]||G.doc.getElementsByTagName(\"svg\")[0];T=A(function(c){if(\"red\"==c.toLowerCase())return\"rgb(255, 0, 0)\";a.style.color=\"rgb(255, 0, 0)\";a.style.color=c;c=G.doc.defaultView.getComputedStyle(a,aa).getPropertyValue(\"color\");return\"rgb(255, 0, 0)\"==c?null:c});return T(c)},\n",
       "qa=function(){return\"hsb(\"+[this.h,this.s,this.b]+\")\"},ra=function(){return\"hsl(\"+[this.h,this.s,this.l]+\")\"},ka=function(){return 1==this.opacity||null==this.opacity?this.hex:\"rgba(\"+[this.r,this.g,this.b,this.opacity]+\")\"},D=function(c,b,m){null==b&&y(c,\"object\")&&\"r\"in c&&\"g\"in c&&\"b\"in c&&(m=c.b,b=c.g,c=c.r);null==b&&y(c,string)&&(m=a.getRGB(c),c=m.r,b=m.g,m=m.b);if(1<c||1<b||1<m)c/=255,b/=255,m/=255;return[c,b,m]},oa=function(c,b,m,e){c=I.round(255*c);b=I.round(255*b);m=I.round(255*m);c={r:c,\n",
       "g:b,b:m,opacity:y(e,\"finite\")?e:1,hex:a.rgb(c,b,m),toString:ka};y(e,\"finite\")&&(c.opacity=e);return c};a.color=function(c){var b;y(c,\"object\")&&\"h\"in c&&\"s\"in c&&\"b\"in c?(b=a.hsb2rgb(c),c.r=b.r,c.g=b.g,c.b=b.b,c.opacity=1,c.hex=b.hex):y(c,\"object\")&&\"h\"in c&&\"s\"in c&&\"l\"in c?(b=a.hsl2rgb(c),c.r=b.r,c.g=b.g,c.b=b.b,c.opacity=1,c.hex=b.hex):(y(c,\"string\")&&(c=a.getRGB(c)),y(c,\"object\")&&\"r\"in c&&\"g\"in c&&\"b\"in c&&!(\"error\"in c)?(b=a.rgb2hsl(c),c.h=b.h,c.s=b.s,c.l=b.l,b=a.rgb2hsb(c),c.v=b.b):(c={hex:\"none\"},\n",
       "c.r=c.g=c.b=c.h=c.s=c.v=c.l=-1,c.error=1));c.toString=ka;return c};a.hsb2rgb=function(c,a,b,m){y(c,\"object\")&&\"h\"in c&&\"s\"in c&&\"b\"in c&&(b=c.b,a=c.s,c=c.h,m=c.o);var e,h,d;c=360*c%360/60;d=b*a;a=d*(1-Y(c%2-1));b=e=h=b-d;c=~~c;b+=[d,a,0,0,a,d][c];e+=[a,d,d,a,0,0][c];h+=[0,0,a,d,d,a][c];return oa(b,e,h,m)};a.hsl2rgb=function(c,a,b,m){y(c,\"object\")&&\"h\"in c&&\"s\"in c&&\"l\"in c&&(b=c.l,a=c.s,c=c.h);if(1<c||1<a||1<b)c/=360,a/=100,b/=100;var e,h,d;c=360*c%360/60;d=2*a*(0.5>b?b:1-b);a=d*(1-Y(c%2-1));b=e=\n",
       "h=b-d/2;c=~~c;b+=[d,a,0,0,a,d][c];e+=[a,d,d,a,0,0][c];h+=[0,0,a,d,d,a][c];return oa(b,e,h,m)};a.rgb2hsb=function(c,a,b){b=D(c,a,b);c=b[0];a=b[1];b=b[2];var m,e;m=P(c,a,b);e=m-Q(c,a,b);c=((0==e?0:m==c?(a-b)/e:m==a?(b-c)/e+2:(c-a)/e+4)+360)%6*60/360;return{h:c,s:0==e?0:e/m,b:m,toString:qa}};a.rgb2hsl=function(c,a,b){b=D(c,a,b);c=b[0];a=b[1];b=b[2];var m,e,h;m=P(c,a,b);e=Q(c,a,b);h=m-e;c=((0==h?0:m==c?(a-b)/h:m==a?(b-c)/h+2:(c-a)/h+4)+360)%6*60/360;m=(m+e)/2;return{h:c,s:0==h?0:0.5>m?h/(2*m):h/(2-2*\n",
       "m),l:m,toString:ra}};a.parsePathString=function(c){if(!c)return null;var b=a.path(c);if(b.arr)return a.path.clone(b.arr);var m={a:7,c:6,o:2,h:1,l:2,m:2,r:4,q:4,s:4,t:2,v:1,u:3,z:0},e=[];y(c,\"array\")&&y(c[0],\"array\")&&(e=a.path.clone(c));e.length||J(c).replace(W,function(c,a,b){var h=[];c=a.toLowerCase();b.replace(Z,function(c,a){a&&h.push(+a)});\"m\"==c&&2<h.length&&(e.push([a].concat(h.splice(0,2))),c=\"l\",a=\"m\"==a?\"l\":\"L\");\"o\"==c&&1==h.length&&e.push([a,h[0] ]);if(\"r\"==c)e.push([a].concat(h));else for(;h.length>=\n",
       "m[c]&&(e.push([a].concat(h.splice(0,m[c]))),m[c]););});e.toString=a.path.toString;b.arr=a.path.clone(e);return e};var O=a.parseTransformString=function(c){if(!c)return null;var b=[];y(c,\"array\")&&y(c[0],\"array\")&&(b=a.path.clone(c));b.length||J(c).replace(ma,function(c,a,m){var e=[];a.toLowerCase();m.replace(Z,function(c,a){a&&e.push(+a)});b.push([a].concat(e))});b.toString=a.path.toString;return b};a._.svgTransform2string=d;a._.rgTransform=RegExp(\"^[a-z][\\t\\n\\x0B\\f\\r \\u00a0\\u1680\\u180e\\u2000\\u2001\\u2002\\u2003\\u2004\\u2005\\u2006\\u2007\\u2008\\u2009\\u200a\\u202f\\u205f\\u3000\\u2028\\u2029]*-?\\\\.?\\\\d\",\n",
       "\"i\");a._.transform2matrix=f;a._unit2px=b;a._.getSomeDefs=u;a._.getSomeSVG=p;a.select=function(c){return x(G.doc.querySelector(c))};a.selectAll=function(c){c=G.doc.querySelectorAll(c);for(var b=(a.set||Array)(),m=0;m<c.length;m++)b.push(x(c[m]));return b};setInterval(function(){for(var c in E)if(E[h](c)){var a=E[c],b=a.node;(\"svg\"!=a.type&&!b.ownerSVGElement||\"svg\"==a.type&&(!b.parentNode||\"ownerSVGElement\"in b.parentNode&&!b.ownerSVGElement))&&delete E[c]}},1E4);(function(c){function m(c){function a(c,\n",
       "b){var m=v(c.node,b);(m=(m=m&&m.match(d))&&m[2])&&\"#\"==m.charAt()&&(m=m.substring(1))&&(f[m]=(f[m]||[]).concat(function(a){var m={};m[b]=ca(a);v(c.node,m)}))}function b(c){var a=v(c.node,\"xlink:href\");a&&\"#\"==a.charAt()&&(a=a.substring(1))&&(f[a]=(f[a]||[]).concat(function(a){c.attr(\"xlink:href\",\"#\"+a)}))}var e=c.selectAll(\"*\"),h,d=/^\\s*url\\((\"|'|)(.*)\\1\\)\\s*$/;c=[];for(var f={},l=0,E=e.length;l<E;l++){h=e[l];a(h,\"fill\");a(h,\"stroke\");a(h,\"filter\");a(h,\"mask\");a(h,\"clip-path\");b(h);var t=v(h.node,\n",
       "\"id\");t&&(v(h.node,{id:h.id}),c.push({old:t,id:h.id}))}l=0;for(E=c.length;l<E;l++)if(e=f[c[l].old])for(h=0,t=e.length;h<t;h++)e[h](c[l].id)}function e(c,a,b){return function(m){m=m.slice(c,a);1==m.length&&(m=m[0]);return b?b(m):m}}function d(c){return function(){var a=c?\"<\"+this.type:\"\",b=this.node.attributes,m=this.node.childNodes;if(c)for(var e=0,h=b.length;e<h;e++)a+=\" \"+b[e].name+'=\"'+b[e].value.replace(/\"/g,'\\\\\"')+'\"';if(m.length){c&&(a+=\">\");e=0;for(h=m.length;e<h;e++)3==m[e].nodeType?a+=m[e].nodeValue:\n",
       "1==m[e].nodeType&&(a+=x(m[e]).toString());c&&(a+=\"</\"+this.type+\">\")}else c&&(a+=\"/>\");return a}}c.attr=function(c,a){if(!c)return this;if(y(c,\"string\"))if(1<arguments.length){var b={};b[c]=a;c=b}else return k(\"snap.util.getattr.\"+c,this).firstDefined();for(var m in c)c[h](m)&&k(\"snap.util.attr.\"+m,this,c[m]);return this};c.getBBox=function(c){if(!a.Matrix||!a.path)return this.node.getBBox();var b=this,m=new a.Matrix;if(b.removed)return a._.box();for(;\"use\"==b.type;)if(c||(m=m.add(b.transform().localMatrix.translate(b.attr(\"x\")||\n",
       "0,b.attr(\"y\")||0))),b.original)b=b.original;else var e=b.attr(\"xlink:href\"),b=b.original=b.node.ownerDocument.getElementById(e.substring(e.indexOf(\"#\")+1));var e=b._,h=a.path.get[b.type]||a.path.get.deflt;try{if(c)return e.bboxwt=h?a.path.getBBox(b.realPath=h(b)):a._.box(b.node.getBBox()),a._.box(e.bboxwt);b.realPath=h(b);b.matrix=b.transform().localMatrix;e.bbox=a.path.getBBox(a.path.map(b.realPath,m.add(b.matrix)));return a._.box(e.bbox)}catch(d){return a._.box()}};var f=function(){return this.string};\n",
       "c.transform=function(c){var b=this._;if(null==c){var m=this;c=new a.Matrix(this.node.getCTM());for(var e=n(this),h=[e],d=new a.Matrix,l=e.toTransformString(),b=J(e)==J(this.matrix)?J(b.transform):l;\"svg\"!=m.type&&(m=m.parent());)h.push(n(m));for(m=h.length;m--;)d.add(h[m]);return{string:b,globalMatrix:c,totalMatrix:d,localMatrix:e,diffMatrix:c.clone().add(e.invert()),global:c.toTransformString(),total:d.toTransformString(),local:l,toString:f}}c instanceof a.Matrix?this.matrix=c:n(this,c);this.node&&\n",
       "(\"linearGradient\"==this.type||\"radialGradient\"==this.type?v(this.node,{gradientTransform:this.matrix}):\"pattern\"==this.type?v(this.node,{patternTransform:this.matrix}):v(this.node,{transform:this.matrix}));return this};c.parent=function(){return x(this.node.parentNode)};c.append=c.add=function(c){if(c){if(\"set\"==c.type){var a=this;c.forEach(function(c){a.add(c)});return this}c=x(c);this.node.appendChild(c.node);c.paper=this.paper}return this};c.appendTo=function(c){c&&(c=x(c),c.append(this));return this};\n",
       "c.prepend=function(c){if(c){if(\"set\"==c.type){var a=this,b;c.forEach(function(c){b?b.after(c):a.prepend(c);b=c});return this}c=x(c);var m=c.parent();this.node.insertBefore(c.node,this.node.firstChild);this.add&&this.add();c.paper=this.paper;this.parent()&&this.parent().add();m&&m.add()}return this};c.prependTo=function(c){c=x(c);c.prepend(this);return this};c.before=function(c){if(\"set\"==c.type){var a=this;c.forEach(function(c){var b=c.parent();a.node.parentNode.insertBefore(c.node,a.node);b&&b.add()});\n",
       "this.parent().add();return this}c=x(c);var b=c.parent();this.node.parentNode.insertBefore(c.node,this.node);this.parent()&&this.parent().add();b&&b.add();c.paper=this.paper;return this};c.after=function(c){c=x(c);var a=c.parent();this.node.nextSibling?this.node.parentNode.insertBefore(c.node,this.node.nextSibling):this.node.parentNode.appendChild(c.node);this.parent()&&this.parent().add();a&&a.add();c.paper=this.paper;return this};c.insertBefore=function(c){c=x(c);var a=this.parent();c.node.parentNode.insertBefore(this.node,\n",
       "c.node);this.paper=c.paper;a&&a.add();c.parent()&&c.parent().add();return this};c.insertAfter=function(c){c=x(c);var a=this.parent();c.node.parentNode.insertBefore(this.node,c.node.nextSibling);this.paper=c.paper;a&&a.add();c.parent()&&c.parent().add();return this};c.remove=function(){var c=this.parent();this.node.parentNode&&this.node.parentNode.removeChild(this.node);delete this.paper;this.removed=!0;c&&c.add();return this};c.select=function(c){return x(this.node.querySelector(c))};c.selectAll=\n",
       "function(c){c=this.node.querySelectorAll(c);for(var b=(a.set||Array)(),m=0;m<c.length;m++)b.push(x(c[m]));return b};c.asPX=function(c,a){null==a&&(a=this.attr(c));return+b(this,c,a)};c.use=function(){var c,a=this.node.id;a||(a=this.id,v(this.node,{id:a}));c=\"linearGradient\"==this.type||\"radialGradient\"==this.type||\"pattern\"==this.type?r(this.type,this.node.parentNode):r(\"use\",this.node.parentNode);v(c.node,{\"xlink:href\":\"#\"+a});c.original=this;return c};var l=/\\S+/g;c.addClass=function(c){var a=(c||\n",
       "\"\").match(l)||[];c=this.node;var b=c.className.baseVal,m=b.match(l)||[],e,h,d;if(a.length){for(e=0;d=a[e++];)h=m.indexOf(d),~h||m.push(d);a=m.join(\" \");b!=a&&(c.className.baseVal=a)}return this};c.removeClass=function(c){var a=(c||\"\").match(l)||[];c=this.node;var b=c.className.baseVal,m=b.match(l)||[],e,h;if(m.length){for(e=0;h=a[e++];)h=m.indexOf(h),~h&&m.splice(h,1);a=m.join(\" \");b!=a&&(c.className.baseVal=a)}return this};c.hasClass=function(c){return!!~(this.node.className.baseVal.match(l)||[]).indexOf(c)};\n",
       "c.toggleClass=function(c,a){if(null!=a)return a?this.addClass(c):this.removeClass(c);var b=(c||\"\").match(l)||[],m=this.node,e=m.className.baseVal,h=e.match(l)||[],d,f,E;for(d=0;E=b[d++];)f=h.indexOf(E),~f?h.splice(f,1):h.push(E);b=h.join(\" \");e!=b&&(m.className.baseVal=b);return this};c.clone=function(){var c=x(this.node.cloneNode(!0));v(c.node,\"id\")&&v(c.node,{id:c.id});m(c);c.insertAfter(this);return c};c.toDefs=function(){u(this).appendChild(this.node);return this};c.pattern=c.toPattern=function(c,\n",
       "a,b,m){var e=r(\"pattern\",u(this));null==c&&(c=this.getBBox());y(c,\"object\")&&\"x\"in c&&(a=c.y,b=c.width,m=c.height,c=c.x);v(e.node,{x:c,y:a,width:b,height:m,patternUnits:\"userSpaceOnUse\",id:e.id,viewBox:[c,a,b,m].join(\" \")});e.node.appendChild(this.node);return e};c.marker=function(c,a,b,m,e,h){var d=r(\"marker\",u(this));null==c&&(c=this.getBBox());y(c,\"object\")&&\"x\"in c&&(a=c.y,b=c.width,m=c.height,e=c.refX||c.cx,h=c.refY||c.cy,c=c.x);v(d.node,{viewBox:[c,a,b,m].join(\" \"),markerWidth:b,markerHeight:m,\n",
       "orient:\"auto\",refX:e||0,refY:h||0,id:d.id});d.node.appendChild(this.node);return d};var E=function(c,a,b,m){\"function\"!=typeof b||b.length||(m=b,b=L.linear);this.attr=c;this.dur=a;b&&(this.easing=b);m&&(this.callback=m)};a._.Animation=E;a.animation=function(c,a,b,m){return new E(c,a,b,m)};c.inAnim=function(){var c=[],a;for(a in this.anims)this.anims[h](a)&&function(a){c.push({anim:new E(a._attrs,a.dur,a.easing,a._callback),mina:a,curStatus:a.status(),status:function(c){return a.status(c)},stop:function(){a.stop()}})}(this.anims[a]);\n",
       "return c};a.animate=function(c,a,b,m,e,h){\"function\"!=typeof e||e.length||(h=e,e=L.linear);var d=L.time();c=L(c,a,d,d+m,L.time,b,e);h&&k.once(\"mina.finish.\"+c.id,h);return c};c.stop=function(){for(var c=this.inAnim(),a=0,b=c.length;a<b;a++)c[a].stop();return this};c.animate=function(c,a,b,m){\"function\"!=typeof b||b.length||(m=b,b=L.linear);c instanceof E&&(m=c.callback,b=c.easing,a=b.dur,c=c.attr);var d=[],f=[],l={},t,ca,n,T=this,q;for(q in c)if(c[h](q)){T.equal?(n=T.equal(q,J(c[q])),t=n.from,ca=\n",
       "n.to,n=n.f):(t=+T.attr(q),ca=+c[q]);var la=y(t,\"array\")?t.length:1;l[q]=e(d.length,d.length+la,n);d=d.concat(t);f=f.concat(ca)}t=L.time();var p=L(d,f,t,t+a,L.time,function(c){var a={},b;for(b in l)l[h](b)&&(a[b]=l[b](c));T.attr(a)},b);T.anims[p.id]=p;p._attrs=c;p._callback=m;k(\"snap.animcreated.\"+T.id,p);k.once(\"mina.finish.\"+p.id,function(){delete T.anims[p.id];m&&m.call(T)});k.once(\"mina.stop.\"+p.id,function(){delete T.anims[p.id]});return T};var T={};c.data=function(c,b){var m=T[this.id]=T[this.id]||\n",
       "{};if(0==arguments.length)return k(\"snap.data.get.\"+this.id,this,m,null),m;if(1==arguments.length){if(a.is(c,\"object\")){for(var e in c)c[h](e)&&this.data(e,c[e]);return this}k(\"snap.data.get.\"+this.id,this,m[c],c);return m[c]}m[c]=b;k(\"snap.data.set.\"+this.id,this,b,c);return this};c.removeData=function(c){null==c?T[this.id]={}:T[this.id]&&delete T[this.id][c];return this};c.outerSVG=c.toString=d(1);c.innerSVG=d()})(e.prototype);a.parse=function(c){var a=G.doc.createDocumentFragment(),b=!0,m=G.doc.createElement(\"div\");\n",
       "c=J(c);c.match(/^\\s*<\\s*svg(?:\\s|>)/)||(c=\"<svg>\"+c+\"</svg>\",b=!1);m.innerHTML=c;if(c=m.getElementsByTagName(\"svg\")[0])if(b)a=c;else for(;c.firstChild;)a.appendChild(c.firstChild);m.innerHTML=aa;return new l(a)};l.prototype.select=e.prototype.select;l.prototype.selectAll=e.prototype.selectAll;a.fragment=function(){for(var c=Array.prototype.slice.call(arguments,0),b=G.doc.createDocumentFragment(),m=0,e=c.length;m<e;m++){var h=c[m];h.node&&h.node.nodeType&&b.appendChild(h.node);h.nodeType&&b.appendChild(h);\n",
       "\"string\"==typeof h&&b.appendChild(a.parse(h).node)}return new l(b)};a._.make=r;a._.wrap=x;s.prototype.el=function(c,a){var b=r(c,this.node);a&&b.attr(a);return b};k.on(\"snap.util.getattr\",function(){var c=k.nt(),c=c.substring(c.lastIndexOf(\".\")+1),a=c.replace(/[A-Z]/g,function(c){return\"-\"+c.toLowerCase()});return pa[h](a)?this.node.ownerDocument.defaultView.getComputedStyle(this.node,null).getPropertyValue(a):v(this.node,c)});var pa={\"alignment-baseline\":0,\"baseline-shift\":0,clip:0,\"clip-path\":0,\n",
       "\"clip-rule\":0,color:0,\"color-interpolation\":0,\"color-interpolation-filters\":0,\"color-profile\":0,\"color-rendering\":0,cursor:0,direction:0,display:0,\"dominant-baseline\":0,\"enable-background\":0,fill:0,\"fill-opacity\":0,\"fill-rule\":0,filter:0,\"flood-color\":0,\"flood-opacity\":0,font:0,\"font-family\":0,\"font-size\":0,\"font-size-adjust\":0,\"font-stretch\":0,\"font-style\":0,\"font-variant\":0,\"font-weight\":0,\"glyph-orientation-horizontal\":0,\"glyph-orientation-vertical\":0,\"image-rendering\":0,kerning:0,\"letter-spacing\":0,\n",
       "\"lighting-color\":0,marker:0,\"marker-end\":0,\"marker-mid\":0,\"marker-start\":0,mask:0,opacity:0,overflow:0,\"pointer-events\":0,\"shape-rendering\":0,\"stop-color\":0,\"stop-opacity\":0,stroke:0,\"stroke-dasharray\":0,\"stroke-dashoffset\":0,\"stroke-linecap\":0,\"stroke-linejoin\":0,\"stroke-miterlimit\":0,\"stroke-opacity\":0,\"stroke-width\":0,\"text-anchor\":0,\"text-decoration\":0,\"text-rendering\":0,\"unicode-bidi\":0,visibility:0,\"word-spacing\":0,\"writing-mode\":0};k.on(\"snap.util.attr\",function(c){var a=k.nt(),b={},a=a.substring(a.lastIndexOf(\".\")+\n",
       "1);b[a]=c;var m=a.replace(/-(\\w)/gi,function(c,a){return a.toUpperCase()}),a=a.replace(/[A-Z]/g,function(c){return\"-\"+c.toLowerCase()});pa[h](a)?this.node.style[m]=null==c?aa:c:v(this.node,b)});a.ajax=function(c,a,b,m){var e=new XMLHttpRequest,h=V();if(e){if(y(a,\"function\"))m=b,b=a,a=null;else if(y(a,\"object\")){var d=[],f;for(f in a)a.hasOwnProperty(f)&&d.push(encodeURIComponent(f)+\"=\"+encodeURIComponent(a[f]));a=d.join(\"&\")}e.open(a?\"POST\":\"GET\",c,!0);a&&(e.setRequestHeader(\"X-Requested-With\",\"XMLHttpRequest\"),\n",
       "e.setRequestHeader(\"Content-type\",\"application/x-www-form-urlencoded\"));b&&(k.once(\"snap.ajax.\"+h+\".0\",b),k.once(\"snap.ajax.\"+h+\".200\",b),k.once(\"snap.ajax.\"+h+\".304\",b));e.onreadystatechange=function(){4==e.readyState&&k(\"snap.ajax.\"+h+\".\"+e.status,m,e)};if(4==e.readyState)return e;e.send(a);return e}};a.load=function(c,b,m){a.ajax(c,function(c){c=a.parse(c.responseText);m?b.call(m,c):b(c)})};a.getElementByPoint=function(c,a){var b,m,e=G.doc.elementFromPoint(c,a);if(G.win.opera&&\"svg\"==e.tagName){b=\n",
       "e;m=b.getBoundingClientRect();b=b.ownerDocument;var h=b.body,d=b.documentElement;b=m.top+(g.win.pageYOffset||d.scrollTop||h.scrollTop)-(d.clientTop||h.clientTop||0);m=m.left+(g.win.pageXOffset||d.scrollLeft||h.scrollLeft)-(d.clientLeft||h.clientLeft||0);h=e.createSVGRect();h.x=c-m;h.y=a-b;h.width=h.height=1;b=e.getIntersectionList(h,null);b.length&&(e=b[b.length-1])}return e?x(e):null};a.plugin=function(c){c(a,e,s,G,l)};return G.win.Snap=a}();C.plugin(function(a,k,y,M,A){function w(a,d,f,b,q,e){null==\n",
       "d&&\"[object SVGMatrix]\"==z.call(a)?(this.a=a.a,this.b=a.b,this.c=a.c,this.d=a.d,this.e=a.e,this.f=a.f):null!=a?(this.a=+a,this.b=+d,this.c=+f,this.d=+b,this.e=+q,this.f=+e):(this.a=1,this.c=this.b=0,this.d=1,this.f=this.e=0)}var z=Object.prototype.toString,d=String,f=Math;(function(n){function k(a){return a[0]*a[0]+a[1]*a[1]}function p(a){var d=f.sqrt(k(a));a[0]&&(a[0]/=d);a[1]&&(a[1]/=d)}n.add=function(a,d,e,f,n,p){var k=[[],[],[] ],u=[[this.a,this.c,this.e],[this.b,this.d,this.f],[0,0,1] ];d=[[a,\n",
       "e,n],[d,f,p],[0,0,1] ];a&&a instanceof w&&(d=[[a.a,a.c,a.e],[a.b,a.d,a.f],[0,0,1] ]);for(a=0;3>a;a++)for(e=0;3>e;e++){for(f=n=0;3>f;f++)n+=u[a][f]*d[f][e];k[a][e]=n}this.a=k[0][0];this.b=k[1][0];this.c=k[0][1];this.d=k[1][1];this.e=k[0][2];this.f=k[1][2];return this};n.invert=function(){var a=this.a*this.d-this.b*this.c;return new w(this.d/a,-this.b/a,-this.c/a,this.a/a,(this.c*this.f-this.d*this.e)/a,(this.b*this.e-this.a*this.f)/a)};n.clone=function(){return new w(this.a,this.b,this.c,this.d,this.e,\n",
       "this.f)};n.translate=function(a,d){return this.add(1,0,0,1,a,d)};n.scale=function(a,d,e,f){null==d&&(d=a);(e||f)&&this.add(1,0,0,1,e,f);this.add(a,0,0,d,0,0);(e||f)&&this.add(1,0,0,1,-e,-f);return this};n.rotate=function(b,d,e){b=a.rad(b);d=d||0;e=e||0;var l=+f.cos(b).toFixed(9);b=+f.sin(b).toFixed(9);this.add(l,b,-b,l,d,e);return this.add(1,0,0,1,-d,-e)};n.x=function(a,d){return a*this.a+d*this.c+this.e};n.y=function(a,d){return a*this.b+d*this.d+this.f};n.get=function(a){return+this[d.fromCharCode(97+\n",
       "a)].toFixed(4)};n.toString=function(){return\"matrix(\"+[this.get(0),this.get(1),this.get(2),this.get(3),this.get(4),this.get(5)].join()+\")\"};n.offset=function(){return[this.e.toFixed(4),this.f.toFixed(4)]};n.determinant=function(){return this.a*this.d-this.b*this.c};n.split=function(){var b={};b.dx=this.e;b.dy=this.f;var d=[[this.a,this.c],[this.b,this.d] ];b.scalex=f.sqrt(k(d[0]));p(d[0]);b.shear=d[0][0]*d[1][0]+d[0][1]*d[1][1];d[1]=[d[1][0]-d[0][0]*b.shear,d[1][1]-d[0][1]*b.shear];b.scaley=f.sqrt(k(d[1]));\n",
       "p(d[1]);b.shear/=b.scaley;0>this.determinant()&&(b.scalex=-b.scalex);var e=-d[0][1],d=d[1][1];0>d?(b.rotate=a.deg(f.acos(d)),0>e&&(b.rotate=360-b.rotate)):b.rotate=a.deg(f.asin(e));b.isSimple=!+b.shear.toFixed(9)&&(b.scalex.toFixed(9)==b.scaley.toFixed(9)||!b.rotate);b.isSuperSimple=!+b.shear.toFixed(9)&&b.scalex.toFixed(9)==b.scaley.toFixed(9)&&!b.rotate;b.noRotation=!+b.shear.toFixed(9)&&!b.rotate;return b};n.toTransformString=function(a){a=a||this.split();if(+a.shear.toFixed(9))return\"m\"+[this.get(0),\n",
       "this.get(1),this.get(2),this.get(3),this.get(4),this.get(5)];a.scalex=+a.scalex.toFixed(4);a.scaley=+a.scaley.toFixed(4);a.rotate=+a.rotate.toFixed(4);return(a.dx||a.dy?\"t\"+[+a.dx.toFixed(4),+a.dy.toFixed(4)]:\"\")+(1!=a.scalex||1!=a.scaley?\"s\"+[a.scalex,a.scaley,0,0]:\"\")+(a.rotate?\"r\"+[+a.rotate.toFixed(4),0,0]:\"\")}})(w.prototype);a.Matrix=w;a.matrix=function(a,d,f,b,k,e){return new w(a,d,f,b,k,e)}});C.plugin(function(a,v,y,M,A){function w(h){return function(d){k.stop();d instanceof A&&1==d.node.childNodes.length&&\n",
       "(\"radialGradient\"==d.node.firstChild.tagName||\"linearGradient\"==d.node.firstChild.tagName||\"pattern\"==d.node.firstChild.tagName)&&(d=d.node.firstChild,b(this).appendChild(d),d=u(d));if(d instanceof v)if(\"radialGradient\"==d.type||\"linearGradient\"==d.type||\"pattern\"==d.type){d.node.id||e(d.node,{id:d.id});var f=l(d.node.id)}else f=d.attr(h);else f=a.color(d),f.error?(f=a(b(this).ownerSVGElement).gradient(d))?(f.node.id||e(f.node,{id:f.id}),f=l(f.node.id)):f=d:f=r(f);d={};d[h]=f;e(this.node,d);this.node.style[h]=\n",
       "x}}function z(a){k.stop();a==+a&&(a+=\"px\");this.node.style.fontSize=a}function d(a){var b=[];a=a.childNodes;for(var e=0,f=a.length;e<f;e++){var l=a[e];3==l.nodeType&&b.push(l.nodeValue);\"tspan\"==l.tagName&&(1==l.childNodes.length&&3==l.firstChild.nodeType?b.push(l.firstChild.nodeValue):b.push(d(l)))}return b}function f(){k.stop();return this.node.style.fontSize}var n=a._.make,u=a._.wrap,p=a.is,b=a._.getSomeDefs,q=/^url\\(#?([^)]+)\\)$/,e=a._.$,l=a.url,r=String,s=a._.separator,x=\"\";k.on(\"snap.util.attr.mask\",\n",
       "function(a){if(a instanceof v||a instanceof A){k.stop();a instanceof A&&1==a.node.childNodes.length&&(a=a.node.firstChild,b(this).appendChild(a),a=u(a));if(\"mask\"==a.type)var d=a;else d=n(\"mask\",b(this)),d.node.appendChild(a.node);!d.node.id&&e(d.node,{id:d.id});e(this.node,{mask:l(d.id)})}});(function(a){k.on(\"snap.util.attr.clip\",a);k.on(\"snap.util.attr.clip-path\",a);k.on(\"snap.util.attr.clipPath\",a)})(function(a){if(a instanceof v||a instanceof A){k.stop();if(\"clipPath\"==a.type)var d=a;else d=\n",
       "n(\"clipPath\",b(this)),d.node.appendChild(a.node),!d.node.id&&e(d.node,{id:d.id});e(this.node,{\"clip-path\":l(d.id)})}});k.on(\"snap.util.attr.fill\",w(\"fill\"));k.on(\"snap.util.attr.stroke\",w(\"stroke\"));var G=/^([lr])(?:\\(([^)]*)\\))?(.*)$/i;k.on(\"snap.util.grad.parse\",function(a){a=r(a);var b=a.match(G);if(!b)return null;a=b[1];var e=b[2],b=b[3],e=e.split(/\\s*,\\s*/).map(function(a){return+a==a?+a:a});1==e.length&&0==e[0]&&(e=[]);b=b.split(\"-\");b=b.map(function(a){a=a.split(\":\");var b={color:a[0]};a[1]&&\n",
       "(b.offset=parseFloat(a[1]));return b});return{type:a,params:e,stops:b}});k.on(\"snap.util.attr.d\",function(b){k.stop();p(b,\"array\")&&p(b[0],\"array\")&&(b=a.path.toString.call(b));b=r(b);b.match(/[ruo]/i)&&(b=a.path.toAbsolute(b));e(this.node,{d:b})})(-1);k.on(\"snap.util.attr.#text\",function(a){k.stop();a=r(a);for(a=M.doc.createTextNode(a);this.node.firstChild;)this.node.removeChild(this.node.firstChild);this.node.appendChild(a)})(-1);k.on(\"snap.util.attr.path\",function(a){k.stop();this.attr({d:a})})(-1);\n",
       "k.on(\"snap.util.attr.class\",function(a){k.stop();this.node.className.baseVal=a})(-1);k.on(\"snap.util.attr.viewBox\",function(a){a=p(a,\"object\")&&\"x\"in a?[a.x,a.y,a.width,a.height].join(\" \"):p(a,\"array\")?a.join(\" \"):a;e(this.node,{viewBox:a});k.stop()})(-1);k.on(\"snap.util.attr.transform\",function(a){this.transform(a);k.stop()})(-1);k.on(\"snap.util.attr.r\",function(a){\"rect\"==this.type&&(k.stop(),e(this.node,{rx:a,ry:a}))})(-1);k.on(\"snap.util.attr.textpath\",function(a){k.stop();if(\"text\"==this.type){var d,\n",
       "f;if(!a&&this.textPath){for(a=this.textPath;a.node.firstChild;)this.node.appendChild(a.node.firstChild);a.remove();delete this.textPath}else if(p(a,\"string\")?(d=b(this),a=u(d.parentNode).path(a),d.appendChild(a.node),d=a.id,a.attr({id:d})):(a=u(a),a instanceof v&&(d=a.attr(\"id\"),d||(d=a.id,a.attr({id:d})))),d)if(a=this.textPath,f=this.node,a)a.attr({\"xlink:href\":\"#\"+d});else{for(a=e(\"textPath\",{\"xlink:href\":\"#\"+d});f.firstChild;)a.appendChild(f.firstChild);f.appendChild(a);this.textPath=u(a)}}})(-1);\n",
       "k.on(\"snap.util.attr.text\",function(a){if(\"text\"==this.type){for(var b=this.node,d=function(a){var b=e(\"tspan\");if(p(a,\"array\"))for(var f=0;f<a.length;f++)b.appendChild(d(a[f]));else b.appendChild(M.doc.createTextNode(a));b.normalize&&b.normalize();return b};b.firstChild;)b.removeChild(b.firstChild);for(a=d(a);a.firstChild;)b.appendChild(a.firstChild)}k.stop()})(-1);k.on(\"snap.util.attr.fontSize\",z)(-1);k.on(\"snap.util.attr.font-size\",z)(-1);k.on(\"snap.util.getattr.transform\",function(){k.stop();\n",
       "return this.transform()})(-1);k.on(\"snap.util.getattr.textpath\",function(){k.stop();return this.textPath})(-1);(function(){function b(d){return function(){k.stop();var b=M.doc.defaultView.getComputedStyle(this.node,null).getPropertyValue(\"marker-\"+d);return\"none\"==b?b:a(M.doc.getElementById(b.match(q)[1]))}}function d(a){return function(b){k.stop();var d=\"marker\"+a.charAt(0).toUpperCase()+a.substring(1);if(\"\"==b||!b)this.node.style[d]=\"none\";else if(\"marker\"==b.type){var f=b.node.id;f||e(b.node,{id:b.id});\n",
       "this.node.style[d]=l(f)}}}k.on(\"snap.util.getattr.marker-end\",b(\"end\"))(-1);k.on(\"snap.util.getattr.markerEnd\",b(\"end\"))(-1);k.on(\"snap.util.getattr.marker-start\",b(\"start\"))(-1);k.on(\"snap.util.getattr.markerStart\",b(\"start\"))(-1);k.on(\"snap.util.getattr.marker-mid\",b(\"mid\"))(-1);k.on(\"snap.util.getattr.markerMid\",b(\"mid\"))(-1);k.on(\"snap.util.attr.marker-end\",d(\"end\"))(-1);k.on(\"snap.util.attr.markerEnd\",d(\"end\"))(-1);k.on(\"snap.util.attr.marker-start\",d(\"start\"))(-1);k.on(\"snap.util.attr.markerStart\",\n",
       "d(\"start\"))(-1);k.on(\"snap.util.attr.marker-mid\",d(\"mid\"))(-1);k.on(\"snap.util.attr.markerMid\",d(\"mid\"))(-1)})();k.on(\"snap.util.getattr.r\",function(){if(\"rect\"==this.type&&e(this.node,\"rx\")==e(this.node,\"ry\"))return k.stop(),e(this.node,\"rx\")})(-1);k.on(\"snap.util.getattr.text\",function(){if(\"text\"==this.type||\"tspan\"==this.type){k.stop();var a=d(this.node);return 1==a.length?a[0]:a}})(-1);k.on(\"snap.util.getattr.#text\",function(){return this.node.textContent})(-1);k.on(\"snap.util.getattr.viewBox\",\n",
       "function(){k.stop();var b=e(this.node,\"viewBox\");if(b)return b=b.split(s),a._.box(+b[0],+b[1],+b[2],+b[3])})(-1);k.on(\"snap.util.getattr.points\",function(){var a=e(this.node,\"points\");k.stop();if(a)return a.split(s)})(-1);k.on(\"snap.util.getattr.path\",function(){var a=e(this.node,\"d\");k.stop();return a})(-1);k.on(\"snap.util.getattr.class\",function(){return this.node.className.baseVal})(-1);k.on(\"snap.util.getattr.fontSize\",f)(-1);k.on(\"snap.util.getattr.font-size\",f)(-1)});C.plugin(function(a,v,y,\n",
       "M,A){function w(a){return a}function z(a){return function(b){return+b.toFixed(3)+a}}var d={\"+\":function(a,b){return a+b},\"-\":function(a,b){return a-b},\"/\":function(a,b){return a/b},\"*\":function(a,b){return a*b}},f=String,n=/[a-z]+$/i,u=/^\\s*([+\\-\\/*])\\s*=\\s*([\\d.eE+\\-]+)\\s*([^\\d\\s]+)?\\s*$/;k.on(\"snap.util.attr\",function(a){if(a=f(a).match(u)){var b=k.nt(),b=b.substring(b.lastIndexOf(\".\")+1),q=this.attr(b),e={};k.stop();var l=a[3]||\"\",r=q.match(n),s=d[a[1] ];r&&r==l?a=s(parseFloat(q),+a[2]):(q=this.asPX(b),\n",
       "a=s(this.asPX(b),this.asPX(b,a[2]+l)));isNaN(q)||isNaN(a)||(e[b]=a,this.attr(e))}})(-10);k.on(\"snap.util.equal\",function(a,b){var q=f(this.attr(a)||\"\"),e=f(b).match(u);if(e){k.stop();var l=e[3]||\"\",r=q.match(n),s=d[e[1] ];if(r&&r==l)return{from:parseFloat(q),to:s(parseFloat(q),+e[2]),f:z(r)};q=this.asPX(a);return{from:q,to:s(q,this.asPX(a,e[2]+l)),f:w}}})(-10)});C.plugin(function(a,v,y,M,A){var w=y.prototype,z=a.is;w.rect=function(a,d,k,p,b,q){var e;null==q&&(q=b);z(a,\"object\")&&\"[object Object]\"==\n",
       "a?e=a:null!=a&&(e={x:a,y:d,width:k,height:p},null!=b&&(e.rx=b,e.ry=q));return this.el(\"rect\",e)};w.circle=function(a,d,k){var p;z(a,\"object\")&&\"[object Object]\"==a?p=a:null!=a&&(p={cx:a,cy:d,r:k});return this.el(\"circle\",p)};var d=function(){function a(){this.parentNode.removeChild(this)}return function(d,k){var p=M.doc.createElement(\"img\"),b=M.doc.body;p.style.cssText=\"position:absolute;left:-9999em;top:-9999em\";p.onload=function(){k.call(p);p.onload=p.onerror=null;b.removeChild(p)};p.onerror=a;\n",
       "b.appendChild(p);p.src=d}}();w.image=function(f,n,k,p,b){var q=this.el(\"image\");if(z(f,\"object\")&&\"src\"in f)q.attr(f);else if(null!=f){var e={\"xlink:href\":f,preserveAspectRatio:\"none\"};null!=n&&null!=k&&(e.x=n,e.y=k);null!=p&&null!=b?(e.width=p,e.height=b):d(f,function(){a._.$(q.node,{width:this.offsetWidth,height:this.offsetHeight})});a._.$(q.node,e)}return q};w.ellipse=function(a,d,k,p){var b;z(a,\"object\")&&\"[object Object]\"==a?b=a:null!=a&&(b={cx:a,cy:d,rx:k,ry:p});return this.el(\"ellipse\",b)};\n",
       "w.path=function(a){var d;z(a,\"object\")&&!z(a,\"array\")?d=a:a&&(d={d:a});return this.el(\"path\",d)};w.group=w.g=function(a){var d=this.el(\"g\");1==arguments.length&&a&&!a.type?d.attr(a):arguments.length&&d.add(Array.prototype.slice.call(arguments,0));return d};w.svg=function(a,d,k,p,b,q,e,l){var r={};z(a,\"object\")&&null==d?r=a:(null!=a&&(r.x=a),null!=d&&(r.y=d),null!=k&&(r.width=k),null!=p&&(r.height=p),null!=b&&null!=q&&null!=e&&null!=l&&(r.viewBox=[b,q,e,l]));return this.el(\"svg\",r)};w.mask=function(a){var d=\n",
       "this.el(\"mask\");1==arguments.length&&a&&!a.type?d.attr(a):arguments.length&&d.add(Array.prototype.slice.call(arguments,0));return d};w.ptrn=function(a,d,k,p,b,q,e,l){if(z(a,\"object\"))var r=a;else arguments.length?(r={},null!=a&&(r.x=a),null!=d&&(r.y=d),null!=k&&(r.width=k),null!=p&&(r.height=p),null!=b&&null!=q&&null!=e&&null!=l&&(r.viewBox=[b,q,e,l])):r={patternUnits:\"userSpaceOnUse\"};return this.el(\"pattern\",r)};w.use=function(a){return null!=a?(make(\"use\",this.node),a instanceof v&&(a.attr(\"id\")||\n",
       "a.attr({id:ID()}),a=a.attr(\"id\")),this.el(\"use\",{\"xlink:href\":a})):v.prototype.use.call(this)};w.text=function(a,d,k){var p={};z(a,\"object\")?p=a:null!=a&&(p={x:a,y:d,text:k||\"\"});return this.el(\"text\",p)};w.line=function(a,d,k,p){var b={};z(a,\"object\")?b=a:null!=a&&(b={x1:a,x2:k,y1:d,y2:p});return this.el(\"line\",b)};w.polyline=function(a){1<arguments.length&&(a=Array.prototype.slice.call(arguments,0));var d={};z(a,\"object\")&&!z(a,\"array\")?d=a:null!=a&&(d={points:a});return this.el(\"polyline\",d)};\n",
       "w.polygon=function(a){1<arguments.length&&(a=Array.prototype.slice.call(arguments,0));var d={};z(a,\"object\")&&!z(a,\"array\")?d=a:null!=a&&(d={points:a});return this.el(\"polygon\",d)};(function(){function d(){return this.selectAll(\"stop\")}function n(b,d){var f=e(\"stop\"),k={offset:+d+\"%\"};b=a.color(b);k[\"stop-color\"]=b.hex;1>b.opacity&&(k[\"stop-opacity\"]=b.opacity);e(f,k);this.node.appendChild(f);return this}function u(){if(\"linearGradient\"==this.type){var b=e(this.node,\"x1\")||0,d=e(this.node,\"x2\")||\n",
       "1,f=e(this.node,\"y1\")||0,k=e(this.node,\"y2\")||0;return a._.box(b,f,math.abs(d-b),math.abs(k-f))}b=this.node.r||0;return a._.box((this.node.cx||0.5)-b,(this.node.cy||0.5)-b,2*b,2*b)}function p(a,d){function f(a,b){for(var d=(b-u)/(a-w),e=w;e<a;e++)h[e].offset=+(+u+d*(e-w)).toFixed(2);w=a;u=b}var n=k(\"snap.util.grad.parse\",null,d).firstDefined(),p;if(!n)return null;n.params.unshift(a);p=\"l\"==n.type.toLowerCase()?b.apply(0,n.params):q.apply(0,n.params);n.type!=n.type.toLowerCase()&&e(p.node,{gradientUnits:\"userSpaceOnUse\"});\n",
       "var h=n.stops,n=h.length,u=0,w=0;n--;for(var v=0;v<n;v++)\"offset\"in h[v]&&f(v,h[v].offset);h[n].offset=h[n].offset||100;f(n,h[n].offset);for(v=0;v<=n;v++){var y=h[v];p.addStop(y.color,y.offset)}return p}function b(b,k,p,q,w){b=a._.make(\"linearGradient\",b);b.stops=d;b.addStop=n;b.getBBox=u;null!=k&&e(b.node,{x1:k,y1:p,x2:q,y2:w});return b}function q(b,k,p,q,w,h){b=a._.make(\"radialGradient\",b);b.stops=d;b.addStop=n;b.getBBox=u;null!=k&&e(b.node,{cx:k,cy:p,r:q});null!=w&&null!=h&&e(b.node,{fx:w,fy:h});\n",
       "return b}var e=a._.$;w.gradient=function(a){return p(this.defs,a)};w.gradientLinear=function(a,d,e,f){return b(this.defs,a,d,e,f)};w.gradientRadial=function(a,b,d,e,f){return q(this.defs,a,b,d,e,f)};w.toString=function(){var b=this.node.ownerDocument,d=b.createDocumentFragment(),b=b.createElement(\"div\"),e=this.node.cloneNode(!0);d.appendChild(b);b.appendChild(e);a._.$(e,{xmlns:\"http://www.w3.org/2000/svg\"});b=b.innerHTML;d.removeChild(d.firstChild);return b};w.clear=function(){for(var a=this.node.firstChild,\n",
       "b;a;)b=a.nextSibling,\"defs\"!=a.tagName?a.parentNode.removeChild(a):w.clear.call({node:a}),a=b}})()});C.plugin(function(a,k,y,M){function A(a){var b=A.ps=A.ps||{};b[a]?b[a].sleep=100:b[a]={sleep:100};setTimeout(function(){for(var d in b)b[L](d)&&d!=a&&(b[d].sleep--,!b[d].sleep&&delete b[d])});return b[a]}function w(a,b,d,e){null==a&&(a=b=d=e=0);null==b&&(b=a.y,d=a.width,e=a.height,a=a.x);return{x:a,y:b,width:d,w:d,height:e,h:e,x2:a+d,y2:b+e,cx:a+d/2,cy:b+e/2,r1:F.min(d,e)/2,r2:F.max(d,e)/2,r0:F.sqrt(d*\n",
       "d+e*e)/2,path:s(a,b,d,e),vb:[a,b,d,e].join(\" \")}}function z(){return this.join(\",\").replace(N,\"$1\")}function d(a){a=C(a);a.toString=z;return a}function f(a,b,d,h,f,k,l,n,p){if(null==p)return e(a,b,d,h,f,k,l,n);if(0>p||e(a,b,d,h,f,k,l,n)<p)p=void 0;else{var q=0.5,O=1-q,s;for(s=e(a,b,d,h,f,k,l,n,O);0.01<Z(s-p);)q/=2,O+=(s<p?1:-1)*q,s=e(a,b,d,h,f,k,l,n,O);p=O}return u(a,b,d,h,f,k,l,n,p)}function n(b,d){function e(a){return+(+a).toFixed(3)}return a._.cacher(function(a,h,l){a instanceof k&&(a=a.attr(\"d\"));\n",
       "a=I(a);for(var n,p,D,q,O=\"\",s={},c=0,t=0,r=a.length;t<r;t++){D=a[t];if(\"M\"==D[0])n=+D[1],p=+D[2];else{q=f(n,p,D[1],D[2],D[3],D[4],D[5],D[6]);if(c+q>h){if(d&&!s.start){n=f(n,p,D[1],D[2],D[3],D[4],D[5],D[6],h-c);O+=[\"C\"+e(n.start.x),e(n.start.y),e(n.m.x),e(n.m.y),e(n.x),e(n.y)];if(l)return O;s.start=O;O=[\"M\"+e(n.x),e(n.y)+\"C\"+e(n.n.x),e(n.n.y),e(n.end.x),e(n.end.y),e(D[5]),e(D[6])].join();c+=q;n=+D[5];p=+D[6];continue}if(!b&&!d)return n=f(n,p,D[1],D[2],D[3],D[4],D[5],D[6],h-c)}c+=q;n=+D[5];p=+D[6]}O+=\n",
       "D.shift()+D}s.end=O;return n=b?c:d?s:u(n,p,D[0],D[1],D[2],D[3],D[4],D[5],1)},null,a._.clone)}function u(a,b,d,e,h,f,k,l,n){var p=1-n,q=ma(p,3),s=ma(p,2),c=n*n,t=c*n,r=q*a+3*s*n*d+3*p*n*n*h+t*k,q=q*b+3*s*n*e+3*p*n*n*f+t*l,s=a+2*n*(d-a)+c*(h-2*d+a),t=b+2*n*(e-b)+c*(f-2*e+b),x=d+2*n*(h-d)+c*(k-2*h+d),c=e+2*n*(f-e)+c*(l-2*f+e);a=p*a+n*d;b=p*b+n*e;h=p*h+n*k;f=p*f+n*l;l=90-180*F.atan2(s-x,t-c)/S;return{x:r,y:q,m:{x:s,y:t},n:{x:x,y:c},start:{x:a,y:b},end:{x:h,y:f},alpha:l}}function p(b,d,e,h,f,n,k,l){a.is(b,\n",
       "\"array\")||(b=[b,d,e,h,f,n,k,l]);b=U.apply(null,b);return w(b.min.x,b.min.y,b.max.x-b.min.x,b.max.y-b.min.y)}function b(a,b,d){return b>=a.x&&b<=a.x+a.width&&d>=a.y&&d<=a.y+a.height}function q(a,d){a=w(a);d=w(d);return b(d,a.x,a.y)||b(d,a.x2,a.y)||b(d,a.x,a.y2)||b(d,a.x2,a.y2)||b(a,d.x,d.y)||b(a,d.x2,d.y)||b(a,d.x,d.y2)||b(a,d.x2,d.y2)||(a.x<d.x2&&a.x>d.x||d.x<a.x2&&d.x>a.x)&&(a.y<d.y2&&a.y>d.y||d.y<a.y2&&d.y>a.y)}function e(a,b,d,e,h,f,n,k,l){null==l&&(l=1);l=(1<l?1:0>l?0:l)/2;for(var p=[-0.1252,\n",
       "0.1252,-0.3678,0.3678,-0.5873,0.5873,-0.7699,0.7699,-0.9041,0.9041,-0.9816,0.9816],q=[0.2491,0.2491,0.2335,0.2335,0.2032,0.2032,0.1601,0.1601,0.1069,0.1069,0.0472,0.0472],s=0,c=0;12>c;c++)var t=l*p[c]+l,r=t*(t*(-3*a+9*d-9*h+3*n)+6*a-12*d+6*h)-3*a+3*d,t=t*(t*(-3*b+9*e-9*f+3*k)+6*b-12*e+6*f)-3*b+3*e,s=s+q[c]*F.sqrt(r*r+t*t);return l*s}function l(a,b,d){a=I(a);b=I(b);for(var h,f,l,n,k,s,r,O,x,c,t=d?0:[],w=0,v=a.length;w<v;w++)if(x=a[w],\"M\"==x[0])h=k=x[1],f=s=x[2];else{\"C\"==x[0]?(x=[h,f].concat(x.slice(1)),\n",
       "h=x[6],f=x[7]):(x=[h,f,h,f,k,s,k,s],h=k,f=s);for(var G=0,y=b.length;G<y;G++)if(c=b[G],\"M\"==c[0])l=r=c[1],n=O=c[2];else{\"C\"==c[0]?(c=[l,n].concat(c.slice(1)),l=c[6],n=c[7]):(c=[l,n,l,n,r,O,r,O],l=r,n=O);var z;var K=x,B=c;z=d;var H=p(K),J=p(B);if(q(H,J)){for(var H=e.apply(0,K),J=e.apply(0,B),H=~~(H/8),J=~~(J/8),U=[],A=[],F={},M=z?0:[],P=0;P<H+1;P++){var C=u.apply(0,K.concat(P/H));U.push({x:C.x,y:C.y,t:P/H})}for(P=0;P<J+1;P++)C=u.apply(0,B.concat(P/J)),A.push({x:C.x,y:C.y,t:P/J});for(P=0;P<H;P++)for(K=\n",
       "0;K<J;K++){var Q=U[P],L=U[P+1],B=A[K],C=A[K+1],N=0.001>Z(L.x-Q.x)?\"y\":\"x\",S=0.001>Z(C.x-B.x)?\"y\":\"x\",R;R=Q.x;var Y=Q.y,V=L.x,ea=L.y,fa=B.x,ga=B.y,ha=C.x,ia=C.y;if(W(R,V)<X(fa,ha)||X(R,V)>W(fa,ha)||W(Y,ea)<X(ga,ia)||X(Y,ea)>W(ga,ia))R=void 0;else{var $=(R*ea-Y*V)*(fa-ha)-(R-V)*(fa*ia-ga*ha),aa=(R*ea-Y*V)*(ga-ia)-(Y-ea)*(fa*ia-ga*ha),ja=(R-V)*(ga-ia)-(Y-ea)*(fa-ha);if(ja){var $=$/ja,aa=aa/ja,ja=+$.toFixed(2),ba=+aa.toFixed(2);R=ja<+X(R,V).toFixed(2)||ja>+W(R,V).toFixed(2)||ja<+X(fa,ha).toFixed(2)||\n",
       "ja>+W(fa,ha).toFixed(2)||ba<+X(Y,ea).toFixed(2)||ba>+W(Y,ea).toFixed(2)||ba<+X(ga,ia).toFixed(2)||ba>+W(ga,ia).toFixed(2)?void 0:{x:$,y:aa}}else R=void 0}R&&F[R.x.toFixed(4)]!=R.y.toFixed(4)&&(F[R.x.toFixed(4)]=R.y.toFixed(4),Q=Q.t+Z((R[N]-Q[N])/(L[N]-Q[N]))*(L.t-Q.t),B=B.t+Z((R[S]-B[S])/(C[S]-B[S]))*(C.t-B.t),0<=Q&&1>=Q&&0<=B&&1>=B&&(z?M++:M.push({x:R.x,y:R.y,t1:Q,t2:B})))}z=M}else z=z?0:[];if(d)t+=z;else{H=0;for(J=z.length;H<J;H++)z[H].segment1=w,z[H].segment2=G,z[H].bez1=x,z[H].bez2=c;t=t.concat(z)}}}return t}\n",
       "function r(a){var b=A(a);if(b.bbox)return C(b.bbox);if(!a)return w();a=I(a);for(var d=0,e=0,h=[],f=[],l,n=0,k=a.length;n<k;n++)l=a[n],\"M\"==l[0]?(d=l[1],e=l[2],h.push(d),f.push(e)):(d=U(d,e,l[1],l[2],l[3],l[4],l[5],l[6]),h=h.concat(d.min.x,d.max.x),f=f.concat(d.min.y,d.max.y),d=l[5],e=l[6]);a=X.apply(0,h);l=X.apply(0,f);h=W.apply(0,h);f=W.apply(0,f);f=w(a,l,h-a,f-l);b.bbox=C(f);return f}function s(a,b,d,e,h){if(h)return[[\"M\",+a+ +h,b],[\"l\",d-2*h,0],[\"a\",h,h,0,0,1,h,h],[\"l\",0,e-2*h],[\"a\",h,h,0,0,1,\n",
       "-h,h],[\"l\",2*h-d,0],[\"a\",h,h,0,0,1,-h,-h],[\"l\",0,2*h-e],[\"a\",h,h,0,0,1,h,-h],[\"z\"] ];a=[[\"M\",a,b],[\"l\",d,0],[\"l\",0,e],[\"l\",-d,0],[\"z\"] ];a.toString=z;return a}function x(a,b,d,e,h){null==h&&null==e&&(e=d);a=+a;b=+b;d=+d;e=+e;if(null!=h){var f=Math.PI/180,l=a+d*Math.cos(-e*f);a+=d*Math.cos(-h*f);var n=b+d*Math.sin(-e*f);b+=d*Math.sin(-h*f);d=[[\"M\",l,n],[\"A\",d,d,0,+(180<h-e),0,a,b] ]}else d=[[\"M\",a,b],[\"m\",0,-e],[\"a\",d,e,0,1,1,0,2*e],[\"a\",d,e,0,1,1,0,-2*e],[\"z\"] ];d.toString=z;return d}function G(b){var e=\n",
       "A(b);if(e.abs)return d(e.abs);Q(b,\"array\")&&Q(b&&b[0],\"array\")||(b=a.parsePathString(b));if(!b||!b.length)return[[\"M\",0,0] ];var h=[],f=0,l=0,n=0,k=0,p=0;\"M\"==b[0][0]&&(f=+b[0][1],l=+b[0][2],n=f,k=l,p++,h[0]=[\"M\",f,l]);for(var q=3==b.length&&\"M\"==b[0][0]&&\"R\"==b[1][0].toUpperCase()&&\"Z\"==b[2][0].toUpperCase(),s,r,w=p,c=b.length;w<c;w++){h.push(s=[]);r=b[w];p=r[0];if(p!=p.toUpperCase())switch(s[0]=p.toUpperCase(),s[0]){case \"A\":s[1]=r[1];s[2]=r[2];s[3]=r[3];s[4]=r[4];s[5]=r[5];s[6]=+r[6]+f;s[7]=+r[7]+\n",
       "l;break;case \"V\":s[1]=+r[1]+l;break;case \"H\":s[1]=+r[1]+f;break;case \"R\":for(var t=[f,l].concat(r.slice(1)),u=2,v=t.length;u<v;u++)t[u]=+t[u]+f,t[++u]=+t[u]+l;h.pop();h=h.concat(P(t,q));break;case \"O\":h.pop();t=x(f,l,r[1],r[2]);t.push(t[0]);h=h.concat(t);break;case \"U\":h.pop();h=h.concat(x(f,l,r[1],r[2],r[3]));s=[\"U\"].concat(h[h.length-1].slice(-2));break;case \"M\":n=+r[1]+f,k=+r[2]+l;default:for(u=1,v=r.length;u<v;u++)s[u]=+r[u]+(u%2?f:l)}else if(\"R\"==p)t=[f,l].concat(r.slice(1)),h.pop(),h=h.concat(P(t,\n",
       "q)),s=[\"R\"].concat(r.slice(-2));else if(\"O\"==p)h.pop(),t=x(f,l,r[1],r[2]),t.push(t[0]),h=h.concat(t);else if(\"U\"==p)h.pop(),h=h.concat(x(f,l,r[1],r[2],r[3])),s=[\"U\"].concat(h[h.length-1].slice(-2));else for(t=0,u=r.length;t<u;t++)s[t]=r[t];p=p.toUpperCase();if(\"O\"!=p)switch(s[0]){case \"Z\":f=+n;l=+k;break;case \"H\":f=s[1];break;case \"V\":l=s[1];break;case \"M\":n=s[s.length-2],k=s[s.length-1];default:f=s[s.length-2],l=s[s.length-1]}}h.toString=z;e.abs=d(h);return h}function h(a,b,d,e){return[a,b,d,e,d,\n",
       "e]}function J(a,b,d,e,h,f){var l=1/3,n=2/3;return[l*a+n*d,l*b+n*e,l*h+n*d,l*f+n*e,h,f]}function K(b,d,e,h,f,l,n,k,p,s){var r=120*S/180,q=S/180*(+f||0),c=[],t,x=a._.cacher(function(a,b,c){var d=a*F.cos(c)-b*F.sin(c);a=a*F.sin(c)+b*F.cos(c);return{x:d,y:a}});if(s)v=s[0],t=s[1],l=s[2],u=s[3];else{t=x(b,d,-q);b=t.x;d=t.y;t=x(k,p,-q);k=t.x;p=t.y;F.cos(S/180*f);F.sin(S/180*f);t=(b-k)/2;v=(d-p)/2;u=t*t/(e*e)+v*v/(h*h);1<u&&(u=F.sqrt(u),e*=u,h*=u);var u=e*e,w=h*h,u=(l==n?-1:1)*F.sqrt(Z((u*w-u*v*v-w*t*t)/\n",
       "(u*v*v+w*t*t)));l=u*e*v/h+(b+k)/2;var u=u*-h*t/e+(d+p)/2,v=F.asin(((d-u)/h).toFixed(9));t=F.asin(((p-u)/h).toFixed(9));v=b<l?S-v:v;t=k<l?S-t:t;0>v&&(v=2*S+v);0>t&&(t=2*S+t);n&&v>t&&(v-=2*S);!n&&t>v&&(t-=2*S)}if(Z(t-v)>r){var c=t,w=k,G=p;t=v+r*(n&&t>v?1:-1);k=l+e*F.cos(t);p=u+h*F.sin(t);c=K(k,p,e,h,f,0,n,w,G,[t,c,l,u])}l=t-v;f=F.cos(v);r=F.sin(v);n=F.cos(t);t=F.sin(t);l=F.tan(l/4);e=4/3*e*l;l*=4/3*h;h=[b,d];b=[b+e*r,d-l*f];d=[k+e*t,p-l*n];k=[k,p];b[0]=2*h[0]-b[0];b[1]=2*h[1]-b[1];if(s)return[b,d,k].concat(c);\n",
       "c=[b,d,k].concat(c).join().split(\",\");s=[];k=0;for(p=c.length;k<p;k++)s[k]=k%2?x(c[k-1],c[k],q).y:x(c[k],c[k+1],q).x;return s}function U(a,b,d,e,h,f,l,k){for(var n=[],p=[[],[] ],s,r,c,t,q=0;2>q;++q)0==q?(r=6*a-12*d+6*h,s=-3*a+9*d-9*h+3*l,c=3*d-3*a):(r=6*b-12*e+6*f,s=-3*b+9*e-9*f+3*k,c=3*e-3*b),1E-12>Z(s)?1E-12>Z(r)||(s=-c/r,0<s&&1>s&&n.push(s)):(t=r*r-4*c*s,c=F.sqrt(t),0>t||(t=(-r+c)/(2*s),0<t&&1>t&&n.push(t),s=(-r-c)/(2*s),0<s&&1>s&&n.push(s)));for(r=q=n.length;q--;)s=n[q],c=1-s,p[0][q]=c*c*c*a+3*\n",
       "c*c*s*d+3*c*s*s*h+s*s*s*l,p[1][q]=c*c*c*b+3*c*c*s*e+3*c*s*s*f+s*s*s*k;p[0][r]=a;p[1][r]=b;p[0][r+1]=l;p[1][r+1]=k;p[0].length=p[1].length=r+2;return{min:{x:X.apply(0,p[0]),y:X.apply(0,p[1])},max:{x:W.apply(0,p[0]),y:W.apply(0,p[1])}}}function I(a,b){var e=!b&&A(a);if(!b&&e.curve)return d(e.curve);var f=G(a),l=b&&G(b),n={x:0,y:0,bx:0,by:0,X:0,Y:0,qx:null,qy:null},k={x:0,y:0,bx:0,by:0,X:0,Y:0,qx:null,qy:null},p=function(a,b,c){if(!a)return[\"C\",b.x,b.y,b.x,b.y,b.x,b.y];a[0]in{T:1,Q:1}||(b.qx=b.qy=null);\n",
       "switch(a[0]){case \"M\":b.X=a[1];b.Y=a[2];break;case \"A\":a=[\"C\"].concat(K.apply(0,[b.x,b.y].concat(a.slice(1))));break;case \"S\":\"C\"==c||\"S\"==c?(c=2*b.x-b.bx,b=2*b.y-b.by):(c=b.x,b=b.y);a=[\"C\",c,b].concat(a.slice(1));break;case \"T\":\"Q\"==c||\"T\"==c?(b.qx=2*b.x-b.qx,b.qy=2*b.y-b.qy):(b.qx=b.x,b.qy=b.y);a=[\"C\"].concat(J(b.x,b.y,b.qx,b.qy,a[1],a[2]));break;case \"Q\":b.qx=a[1];b.qy=a[2];a=[\"C\"].concat(J(b.x,b.y,a[1],a[2],a[3],a[4]));break;case \"L\":a=[\"C\"].concat(h(b.x,b.y,a[1],a[2]));break;case \"H\":a=[\"C\"].concat(h(b.x,\n",
       "b.y,a[1],b.y));break;case \"V\":a=[\"C\"].concat(h(b.x,b.y,b.x,a[1]));break;case \"Z\":a=[\"C\"].concat(h(b.x,b.y,b.X,b.Y))}return a},s=function(a,b){if(7<a[b].length){a[b].shift();for(var c=a[b];c.length;)q[b]=\"A\",l&&(u[b]=\"A\"),a.splice(b++,0,[\"C\"].concat(c.splice(0,6)));a.splice(b,1);v=W(f.length,l&&l.length||0)}},r=function(a,b,c,d,e){a&&b&&\"M\"==a[e][0]&&\"M\"!=b[e][0]&&(b.splice(e,0,[\"M\",d.x,d.y]),c.bx=0,c.by=0,c.x=a[e][1],c.y=a[e][2],v=W(f.length,l&&l.length||0))},q=[],u=[],c=\"\",t=\"\",x=0,v=W(f.length,\n",
       "l&&l.length||0);for(;x<v;x++){f[x]&&(c=f[x][0]);\"C\"!=c&&(q[x]=c,x&&(t=q[x-1]));f[x]=p(f[x],n,t);\"A\"!=q[x]&&\"C\"==c&&(q[x]=\"C\");s(f,x);l&&(l[x]&&(c=l[x][0]),\"C\"!=c&&(u[x]=c,x&&(t=u[x-1])),l[x]=p(l[x],k,t),\"A\"!=u[x]&&\"C\"==c&&(u[x]=\"C\"),s(l,x));r(f,l,n,k,x);r(l,f,k,n,x);var w=f[x],z=l&&l[x],y=w.length,U=l&&z.length;n.x=w[y-2];n.y=w[y-1];n.bx=$(w[y-4])||n.x;n.by=$(w[y-3])||n.y;k.bx=l&&($(z[U-4])||k.x);k.by=l&&($(z[U-3])||k.y);k.x=l&&z[U-2];k.y=l&&z[U-1]}l||(e.curve=d(f));return l?[f,l]:f}function P(a,\n",
       "b){for(var d=[],e=0,h=a.length;h-2*!b>e;e+=2){var f=[{x:+a[e-2],y:+a[e-1]},{x:+a[e],y:+a[e+1]},{x:+a[e+2],y:+a[e+3]},{x:+a[e+4],y:+a[e+5]}];b?e?h-4==e?f[3]={x:+a[0],y:+a[1]}:h-2==e&&(f[2]={x:+a[0],y:+a[1]},f[3]={x:+a[2],y:+a[3]}):f[0]={x:+a[h-2],y:+a[h-1]}:h-4==e?f[3]=f[2]:e||(f[0]={x:+a[e],y:+a[e+1]});d.push([\"C\",(-f[0].x+6*f[1].x+f[2].x)/6,(-f[0].y+6*f[1].y+f[2].y)/6,(f[1].x+6*f[2].x-f[3].x)/6,(f[1].y+6*f[2].y-f[3].y)/6,f[2].x,f[2].y])}return d}y=k.prototype;var Q=a.is,C=a._.clone,L=\"hasOwnProperty\",\n",
       "N=/,?([a-z]),?/gi,$=parseFloat,F=Math,S=F.PI,X=F.min,W=F.max,ma=F.pow,Z=F.abs;M=n(1);var na=n(),ba=n(0,1),V=a._unit2px;a.path=A;a.path.getTotalLength=M;a.path.getPointAtLength=na;a.path.getSubpath=function(a,b,d){if(1E-6>this.getTotalLength(a)-d)return ba(a,b).end;a=ba(a,d,1);return b?ba(a,b).end:a};y.getTotalLength=function(){if(this.node.getTotalLength)return this.node.getTotalLength()};y.getPointAtLength=function(a){return na(this.attr(\"d\"),a)};y.getSubpath=function(b,d){return a.path.getSubpath(this.attr(\"d\"),\n",
       "b,d)};a._.box=w;a.path.findDotsAtSegment=u;a.path.bezierBBox=p;a.path.isPointInsideBBox=b;a.path.isBBoxIntersect=q;a.path.intersection=function(a,b){return l(a,b)};a.path.intersectionNumber=function(a,b){return l(a,b,1)};a.path.isPointInside=function(a,d,e){var h=r(a);return b(h,d,e)&&1==l(a,[[\"M\",d,e],[\"H\",h.x2+10] ],1)%2};a.path.getBBox=r;a.path.get={path:function(a){return a.attr(\"path\")},circle:function(a){a=V(a);return x(a.cx,a.cy,a.r)},ellipse:function(a){a=V(a);return x(a.cx||0,a.cy||0,a.rx,\n",
       "a.ry)},rect:function(a){a=V(a);return s(a.x||0,a.y||0,a.width,a.height,a.rx,a.ry)},image:function(a){a=V(a);return s(a.x||0,a.y||0,a.width,a.height)},line:function(a){return\"M\"+[a.attr(\"x1\")||0,a.attr(\"y1\")||0,a.attr(\"x2\"),a.attr(\"y2\")]},polyline:function(a){return\"M\"+a.attr(\"points\")},polygon:function(a){return\"M\"+a.attr(\"points\")+\"z\"},deflt:function(a){a=a.node.getBBox();return s(a.x,a.y,a.width,a.height)}};a.path.toRelative=function(b){var e=A(b),h=String.prototype.toLowerCase;if(e.rel)return d(e.rel);\n",
       "a.is(b,\"array\")&&a.is(b&&b[0],\"array\")||(b=a.parsePathString(b));var f=[],l=0,n=0,k=0,p=0,s=0;\"M\"==b[0][0]&&(l=b[0][1],n=b[0][2],k=l,p=n,s++,f.push([\"M\",l,n]));for(var r=b.length;s<r;s++){var q=f[s]=[],x=b[s];if(x[0]!=h.call(x[0]))switch(q[0]=h.call(x[0]),q[0]){case \"a\":q[1]=x[1];q[2]=x[2];q[3]=x[3];q[4]=x[4];q[5]=x[5];q[6]=+(x[6]-l).toFixed(3);q[7]=+(x[7]-n).toFixed(3);break;case \"v\":q[1]=+(x[1]-n).toFixed(3);break;case \"m\":k=x[1],p=x[2];default:for(var c=1,t=x.length;c<t;c++)q[c]=+(x[c]-(c%2?l:\n",
       "n)).toFixed(3)}else for(f[s]=[],\"m\"==x[0]&&(k=x[1]+l,p=x[2]+n),q=0,c=x.length;q<c;q++)f[s][q]=x[q];x=f[s].length;switch(f[s][0]){case \"z\":l=k;n=p;break;case \"h\":l+=+f[s][x-1];break;case \"v\":n+=+f[s][x-1];break;default:l+=+f[s][x-2],n+=+f[s][x-1]}}f.toString=z;e.rel=d(f);return f};a.path.toAbsolute=G;a.path.toCubic=I;a.path.map=function(a,b){if(!b)return a;var d,e,h,f,l,n,k;a=I(a);h=0;for(l=a.length;h<l;h++)for(k=a[h],f=1,n=k.length;f<n;f+=2)d=b.x(k[f],k[f+1]),e=b.y(k[f],k[f+1]),k[f]=d,k[f+1]=e;return a};\n",
       "a.path.toString=z;a.path.clone=d});C.plugin(function(a,v,y,C){var A=Math.max,w=Math.min,z=function(a){this.items=[];this.bindings={};this.length=0;this.type=\"set\";if(a)for(var f=0,n=a.length;f<n;f++)a[f]&&(this[this.items.length]=this.items[this.items.length]=a[f],this.length++)};v=z.prototype;v.push=function(){for(var a,f,n=0,k=arguments.length;n<k;n++)if(a=arguments[n])f=this.items.length,this[f]=this.items[f]=a,this.length++;return this};v.pop=function(){this.length&&delete this[this.length--];\n",
       "return this.items.pop()};v.forEach=function(a,f){for(var n=0,k=this.items.length;n<k&&!1!==a.call(f,this.items[n],n);n++);return this};v.animate=function(d,f,n,u){\"function\"!=typeof n||n.length||(u=n,n=L.linear);d instanceof a._.Animation&&(u=d.callback,n=d.easing,f=n.dur,d=d.attr);var p=arguments;if(a.is(d,\"array\")&&a.is(p[p.length-1],\"array\"))var b=!0;var q,e=function(){q?this.b=q:q=this.b},l=0,r=u&&function(){l++==this.length&&u.call(this)};return this.forEach(function(a,l){k.once(\"snap.animcreated.\"+\n",
       "a.id,e);b?p[l]&&a.animate.apply(a,p[l]):a.animate(d,f,n,r)})};v.remove=function(){for(;this.length;)this.pop().remove();return this};v.bind=function(a,f,k){var u={};if(\"function\"==typeof f)this.bindings[a]=f;else{var p=k||a;this.bindings[a]=function(a){u[p]=a;f.attr(u)}}return this};v.attr=function(a){var f={},k;for(k in a)if(this.bindings[k])this.bindings[k](a[k]);else f[k]=a[k];a=0;for(k=this.items.length;a<k;a++)this.items[a].attr(f);return this};v.clear=function(){for(;this.length;)this.pop()};\n",
       "v.splice=function(a,f,k){a=0>a?A(this.length+a,0):a;f=A(0,w(this.length-a,f));var u=[],p=[],b=[],q;for(q=2;q<arguments.length;q++)b.push(arguments[q]);for(q=0;q<f;q++)p.push(this[a+q]);for(;q<this.length-a;q++)u.push(this[a+q]);var e=b.length;for(q=0;q<e+u.length;q++)this.items[a+q]=this[a+q]=q<e?b[q]:u[q-e];for(q=this.items.length=this.length-=f-e;this[q];)delete this[q++];return new z(p)};v.exclude=function(a){for(var f=0,k=this.length;f<k;f++)if(this[f]==a)return this.splice(f,1),!0;return!1};\n",
       "v.insertAfter=function(a){for(var f=this.items.length;f--;)this.items[f].insertAfter(a);return this};v.getBBox=function(){for(var a=[],f=[],k=[],u=[],p=this.items.length;p--;)if(!this.items[p].removed){var b=this.items[p].getBBox();a.push(b.x);f.push(b.y);k.push(b.x+b.width);u.push(b.y+b.height)}a=w.apply(0,a);f=w.apply(0,f);k=A.apply(0,k);u=A.apply(0,u);return{x:a,y:f,x2:k,y2:u,width:k-a,height:u-f,cx:a+(k-a)/2,cy:f+(u-f)/2}};v.clone=function(a){a=new z;for(var f=0,k=this.items.length;f<k;f++)a.push(this.items[f].clone());\n",
       "return a};v.toString=function(){return\"Snap\\u2018s set\"};v.type=\"set\";a.set=function(){var a=new z;arguments.length&&a.push.apply(a,Array.prototype.slice.call(arguments,0));return a}});C.plugin(function(a,v,y,C){function A(a){var b=a[0];switch(b.toLowerCase()){case \"t\":return[b,0,0];case \"m\":return[b,1,0,0,1,0,0];case \"r\":return 4==a.length?[b,0,a[2],a[3] ]:[b,0];case \"s\":return 5==a.length?[b,1,1,a[3],a[4] ]:3==a.length?[b,1,1]:[b,1]}}function w(b,d,f){d=q(d).replace(/\\.{3}|\\u2026/g,b);b=a.parseTransformString(b)||\n",
       "[];d=a.parseTransformString(d)||[];for(var k=Math.max(b.length,d.length),p=[],v=[],h=0,w,z,y,I;h<k;h++){y=b[h]||A(d[h]);I=d[h]||A(y);if(y[0]!=I[0]||\"r\"==y[0].toLowerCase()&&(y[2]!=I[2]||y[3]!=I[3])||\"s\"==y[0].toLowerCase()&&(y[3]!=I[3]||y[4]!=I[4])){b=a._.transform2matrix(b,f());d=a._.transform2matrix(d,f());p=[[\"m\",b.a,b.b,b.c,b.d,b.e,b.f] ];v=[[\"m\",d.a,d.b,d.c,d.d,d.e,d.f] ];break}p[h]=[];v[h]=[];w=0;for(z=Math.max(y.length,I.length);w<z;w++)w in y&&(p[h][w]=y[w]),w in I&&(v[h][w]=I[w])}return{from:u(p),\n",
       "to:u(v),f:n(p)}}function z(a){return a}function d(a){return function(b){return+b.toFixed(3)+a}}function f(b){return a.rgb(b[0],b[1],b[2])}function n(a){var b=0,d,f,k,n,h,p,q=[];d=0;for(f=a.length;d<f;d++){h=\"[\";p=['\"'+a[d][0]+'\"'];k=1;for(n=a[d].length;k<n;k++)p[k]=\"val[\"+b++ +\"]\";h+=p+\"]\";q[d]=h}return Function(\"val\",\"return Snap.path.toString.call([\"+q+\"])\")}function u(a){for(var b=[],d=0,f=a.length;d<f;d++)for(var k=1,n=a[d].length;k<n;k++)b.push(a[d][k]);return b}var p={},b=/[a-z]+$/i,q=String;\n",
       "p.stroke=p.fill=\"colour\";v.prototype.equal=function(a,b){return k(\"snap.util.equal\",this,a,b).firstDefined()};k.on(\"snap.util.equal\",function(e,k){var r,s;r=q(this.attr(e)||\"\");var x=this;if(r==+r&&k==+k)return{from:+r,to:+k,f:z};if(\"colour\"==p[e])return r=a.color(r),s=a.color(k),{from:[r.r,r.g,r.b,r.opacity],to:[s.r,s.g,s.b,s.opacity],f:f};if(\"transform\"==e||\"gradientTransform\"==e||\"patternTransform\"==e)return k instanceof a.Matrix&&(k=k.toTransformString()),a._.rgTransform.test(k)||(k=a._.svgTransform2string(k)),\n",
       "w(r,k,function(){return x.getBBox(1)});if(\"d\"==e||\"path\"==e)return r=a.path.toCubic(r,k),{from:u(r[0]),to:u(r[1]),f:n(r[0])};if(\"points\"==e)return r=q(r).split(a._.separator),s=q(k).split(a._.separator),{from:r,to:s,f:function(a){return a}};aUnit=r.match(b);s=q(k).match(b);return aUnit&&aUnit==s?{from:parseFloat(r),to:parseFloat(k),f:d(aUnit)}:{from:this.asPX(e),to:this.asPX(e,k),f:z}})});C.plugin(function(a,v,y,C){var A=v.prototype,w=\"createTouch\"in C.doc;v=\"click dblclick mousedown mousemove mouseout mouseover mouseup touchstart touchmove touchend touchcancel\".split(\" \");\n",
       "var z={mousedown:\"touchstart\",mousemove:\"touchmove\",mouseup:\"touchend\"},d=function(a,b){var d=\"y\"==a?\"scrollTop\":\"scrollLeft\",e=b&&b.node?b.node.ownerDocument:C.doc;return e[d in e.documentElement?\"documentElement\":\"body\"][d]},f=function(){this.returnValue=!1},n=function(){return this.originalEvent.preventDefault()},u=function(){this.cancelBubble=!0},p=function(){return this.originalEvent.stopPropagation()},b=function(){if(C.doc.addEventListener)return function(a,b,e,f){var k=w&&z[b]?z[b]:b,l=function(k){var l=\n",
       "d(\"y\",f),q=d(\"x\",f);if(w&&z.hasOwnProperty(b))for(var r=0,u=k.targetTouches&&k.targetTouches.length;r<u;r++)if(k.targetTouches[r].target==a||a.contains(k.targetTouches[r].target)){u=k;k=k.targetTouches[r];k.originalEvent=u;k.preventDefault=n;k.stopPropagation=p;break}return e.call(f,k,k.clientX+q,k.clientY+l)};b!==k&&a.addEventListener(b,l,!1);a.addEventListener(k,l,!1);return function(){b!==k&&a.removeEventListener(b,l,!1);a.removeEventListener(k,l,!1);return!0}};if(C.doc.attachEvent)return function(a,\n",
       "b,e,h){var k=function(a){a=a||h.node.ownerDocument.window.event;var b=d(\"y\",h),k=d(\"x\",h),k=a.clientX+k,b=a.clientY+b;a.preventDefault=a.preventDefault||f;a.stopPropagation=a.stopPropagation||u;return e.call(h,a,k,b)};a.attachEvent(\"on\"+b,k);return function(){a.detachEvent(\"on\"+b,k);return!0}}}(),q=[],e=function(a){for(var b=a.clientX,e=a.clientY,f=d(\"y\"),l=d(\"x\"),n,p=q.length;p--;){n=q[p];if(w)for(var r=a.touches&&a.touches.length,u;r--;){if(u=a.touches[r],u.identifier==n.el._drag.id||n.el.node.contains(u.target)){b=\n",
       "u.clientX;e=u.clientY;(a.originalEvent?a.originalEvent:a).preventDefault();break}}else a.preventDefault();b+=l;e+=f;k(\"snap.drag.move.\"+n.el.id,n.move_scope||n.el,b-n.el._drag.x,e-n.el._drag.y,b,e,a)}},l=function(b){a.unmousemove(e).unmouseup(l);for(var d=q.length,f;d--;)f=q[d],f.el._drag={},k(\"snap.drag.end.\"+f.el.id,f.end_scope||f.start_scope||f.move_scope||f.el,b);q=[]};for(y=v.length;y--;)(function(d){a[d]=A[d]=function(e,f){a.is(e,\"function\")&&(this.events=this.events||[],this.events.push({name:d,\n",
       "f:e,unbind:b(this.node||document,d,e,f||this)}));return this};a[\"un\"+d]=A[\"un\"+d]=function(a){for(var b=this.events||[],e=b.length;e--;)if(b[e].name==d&&(b[e].f==a||!a)){b[e].unbind();b.splice(e,1);!b.length&&delete this.events;break}return this}})(v[y]);A.hover=function(a,b,d,e){return this.mouseover(a,d).mouseout(b,e||d)};A.unhover=function(a,b){return this.unmouseover(a).unmouseout(b)};var r=[];A.drag=function(b,d,f,h,n,p){function u(r,v,w){(r.originalEvent||r).preventDefault();this._drag.x=v;\n",
       "this._drag.y=w;this._drag.id=r.identifier;!q.length&&a.mousemove(e).mouseup(l);q.push({el:this,move_scope:h,start_scope:n,end_scope:p});d&&k.on(\"snap.drag.start.\"+this.id,d);b&&k.on(\"snap.drag.move.\"+this.id,b);f&&k.on(\"snap.drag.end.\"+this.id,f);k(\"snap.drag.start.\"+this.id,n||h||this,v,w,r)}if(!arguments.length){var v;return this.drag(function(a,b){this.attr({transform:v+(v?\"T\":\"t\")+[a,b]})},function(){v=this.transform().local})}this._drag={};r.push({el:this,start:u});this.mousedown(u);return this};\n",
       "A.undrag=function(){for(var b=r.length;b--;)r[b].el==this&&(this.unmousedown(r[b].start),r.splice(b,1),k.unbind(\"snap.drag.*.\"+this.id));!r.length&&a.unmousemove(e).unmouseup(l);return this}});C.plugin(function(a,v,y,C){y=y.prototype;var A=/^\\s*url\\((.+)\\)/,w=String,z=a._.$;a.filter={};y.filter=function(d){var f=this;\"svg\"!=f.type&&(f=f.paper);d=a.parse(w(d));var k=a._.id(),u=z(\"filter\");z(u,{id:k,filterUnits:\"userSpaceOnUse\"});u.appendChild(d.node);f.defs.appendChild(u);return new v(u)};k.on(\"snap.util.getattr.filter\",\n",
       "function(){k.stop();var d=z(this.node,\"filter\");if(d)return(d=w(d).match(A))&&a.select(d[1])});k.on(\"snap.util.attr.filter\",function(d){if(d instanceof v&&\"filter\"==d.type){k.stop();var f=d.node.id;f||(z(d.node,{id:d.id}),f=d.id);z(this.node,{filter:a.url(f)})}d&&\"none\"!=d||(k.stop(),this.node.removeAttribute(\"filter\"))});a.filter.blur=function(d,f){null==d&&(d=2);return a.format('<feGaussianBlur stdDeviation=\"{def}\"/>',{def:null==f?d:[d,f]})};a.filter.blur.toString=function(){return this()};a.filter.shadow=\n",
       "function(d,f,k,u,p){\"string\"==typeof k&&(p=u=k,k=4);\"string\"!=typeof u&&(p=u,u=\"#000\");null==k&&(k=4);null==p&&(p=1);null==d&&(d=0,f=2);null==f&&(f=d);u=a.color(u||\"#000\");return a.format('<feGaussianBlur in=\"SourceAlpha\" stdDeviation=\"{blur}\"/><feOffset dx=\"{dx}\" dy=\"{dy}\" result=\"offsetblur\"/><feFlood flood-color=\"{color}\"/><feComposite in2=\"offsetblur\" operator=\"in\"/><feComponentTransfer><feFuncA type=\"linear\" slope=\"{opacity}\"/></feComponentTransfer><feMerge><feMergeNode/><feMergeNode in=\"SourceGraphic\"/></feMerge>',\n",
       "{color:u,dx:d,dy:f,blur:k,opacity:p})};a.filter.shadow.toString=function(){return this()};a.filter.grayscale=function(d){null==d&&(d=1);return a.format('<feColorMatrix type=\"matrix\" values=\"{a} {b} {c} 0 0 {d} {e} {f} 0 0 {g} {b} {h} 0 0 0 0 0 1 0\"/>',{a:0.2126+0.7874*(1-d),b:0.7152-0.7152*(1-d),c:0.0722-0.0722*(1-d),d:0.2126-0.2126*(1-d),e:0.7152+0.2848*(1-d),f:0.0722-0.0722*(1-d),g:0.2126-0.2126*(1-d),h:0.0722+0.9278*(1-d)})};a.filter.grayscale.toString=function(){return this()};a.filter.sepia=\n",
       "function(d){null==d&&(d=1);return a.format('<feColorMatrix type=\"matrix\" values=\"{a} {b} {c} 0 0 {d} {e} {f} 0 0 {g} {h} {i} 0 0 0 0 0 1 0\"/>',{a:0.393+0.607*(1-d),b:0.769-0.769*(1-d),c:0.189-0.189*(1-d),d:0.349-0.349*(1-d),e:0.686+0.314*(1-d),f:0.168-0.168*(1-d),g:0.272-0.272*(1-d),h:0.534-0.534*(1-d),i:0.131+0.869*(1-d)})};a.filter.sepia.toString=function(){return this()};a.filter.saturate=function(d){null==d&&(d=1);return a.format('<feColorMatrix type=\"saturate\" values=\"{amount}\"/>',{amount:1-\n",
       "d})};a.filter.saturate.toString=function(){return this()};a.filter.hueRotate=function(d){return a.format('<feColorMatrix type=\"hueRotate\" values=\"{angle}\"/>',{angle:d||0})};a.filter.hueRotate.toString=function(){return this()};a.filter.invert=function(d){null==d&&(d=1);return a.format('<feComponentTransfer><feFuncR type=\"table\" tableValues=\"{amount} {amount2}\"/><feFuncG type=\"table\" tableValues=\"{amount} {amount2}\"/><feFuncB type=\"table\" tableValues=\"{amount} {amount2}\"/></feComponentTransfer>',{amount:d,\n",
       "amount2:1-d})};a.filter.invert.toString=function(){return this()};a.filter.brightness=function(d){null==d&&(d=1);return a.format('<feComponentTransfer><feFuncR type=\"linear\" slope=\"{amount}\"/><feFuncG type=\"linear\" slope=\"{amount}\"/><feFuncB type=\"linear\" slope=\"{amount}\"/></feComponentTransfer>',{amount:d})};a.filter.brightness.toString=function(){return this()};a.filter.contrast=function(d){null==d&&(d=1);return a.format('<feComponentTransfer><feFuncR type=\"linear\" slope=\"{amount}\" intercept=\"{amount2}\"/><feFuncG type=\"linear\" slope=\"{amount}\" intercept=\"{amount2}\"/><feFuncB type=\"linear\" slope=\"{amount}\" intercept=\"{amount2}\"/></feComponentTransfer>',\n",
       "{amount:d,amount2:0.5-d/2})};a.filter.contrast.toString=function(){return this()}});return C});\n",
       "\n",
       "]]> </script>\n",
       "</svg>\n"
      ],
      "text/plain": [
       "Compose.Context(Measures.BoundingBox{Tuple{Measures.Length{:w,Float64},Measures.Length{:h,Float64}},Tuple{Measures.Length{:w,Float64},Measures.Length{:h,Float64}}}((0.0w, 0.0h), (1.0w, 1.0h)), Compose.UnitBox{Float64,Float64,Float64,Float64}(-1.2, -1.2, 2.4, 2.4, 0.0mm, 0.0mm, 0.0mm, 0.0mm), nothing, nothing, nothing, List([Compose.Context(Measures.BoundingBox{Tuple{Measures.Length{:w,Float64},Measures.Length{:h,Float64}},Tuple{Measures.Length{:w,Float64},Measures.Length{:h,Float64}}}((0.0w, 0.0h), (1.0w, 1.0h)), nothing, nothing, nothing, nothing, List([]), List([Compose.Form{Compose.LinePrimitive}(Compose.LinePrimitive[LinePrimitive{Tuple{Measure,Measure}}(Tuple{Measures.Measure,Measures.Measure}[(0.898752cx, 0.987133cy), (-0.441254cx, 0.816833cy)]), LinePrimitive{Tuple{Measure,Measure}}(Tuple{Measures.Measure,Measures.Measure}[(0.929251cx, 0.926439cy), (0.476872cx, 0.456078cy)]), LinePrimitive{Tuple{Measure,Measure}}(Tuple{Measures.Measure,Measures.Measure}[(-0.44923cx, 0.762527cy), (0.312852cx, 0.423955cy)]), LinePrimitive{Tuple{Measure,Measure}}(Tuple{Measures.Measure,Measures.Measure}[(-0.605289cx, 0.723501cy), (-0.937213cx, 0.298123cy)]), LinePrimitive{Tuple{Measure,Measure}}(Tuple{Measures.Measure,Measures.Measure}[(0.304756cx, 0.370633cy), (-0.898632cx, 0.229544cy)]), LinePrimitive{Tuple{Measure,Measure}}(Tuple{Measures.Measure,Measures.Measure}[(0.345637cx, 0.30031cy), (-0.0440112cx, -0.229266cy)]), LinePrimitive{Tuple{Measure,Measure}}(Tuple{Measures.Measure,Measures.Measure}[(-0.912131cx, 0.165739cy), (-0.192367cx, -0.259554cy)]), LinePrimitive{Tuple{Measure,Measure}}(Tuple{Measures.Measure,Measures.Measure}[(-0.093137cx, -0.412902cy), (-0.0387391cx, -0.898572cy)])], Symbol(\"\"))]), List([Compose.Property{Compose.LineWidthPrimitive}(Compose.LineWidthPrimitive[LineWidthPrimitive(1.22474mm)]), Compose.Property{Compose.FillPrimitive}(Compose.FillPrimitive[FillPrimitive(RGBA{Float64}(0.0,0.0,0.0,0.0))]), Compose.Property{Compose.StrokePrimitive}(Compose.StrokePrimitive[StrokePrimitive(RGBA{Float64}(0.827451,0.827451,0.827451,1.0))])]), 0, false, false, false, false, nothing, nothing, 0.0, Symbol(\"\")), Compose.Context(Measures.BoundingBox{Tuple{Measures.Length{:w,Float64},Measures.Length{:h,Float64}},Tuple{Measures.Length{:w,Float64},Measures.Length{:h,Float64}}}((0.0w, 0.0h), (1.0w, 1.0h)), nothing, nothing, nothing, nothing, List([]), List([]), List([Compose.Property{Compose.LineWidthPrimitive}(Compose.LineWidthPrimitive[LineWidthPrimitive(1.22474mm)]), Compose.Property{Compose.StrokePrimitive}(Compose.StrokePrimitive[StrokePrimitive(RGBA{Float64}(0.827451,0.827451,0.827451,1.0))])]), 0, false, false, false, false, nothing, nothing, 0.0, Symbol(\"\")), Compose.Context(Measures.BoundingBox{Tuple{Measures.Length{:w,Float64},Measures.Length{:h,Float64}},Tuple{Measures.Length{:w,Float64},Measures.Length{:h,Float64}}}((0.0w, 0.0h), (1.0w, 1.0h)), nothing, nothing, nothing, nothing, List([]), List([]), List([Compose.Property{Compose.FontSizePrimitive}(Compose.FontSizePrimitive[FontSizePrimitive(4.0mm)]), Compose.Property{Compose.StrokePrimitive}(Compose.StrokePrimitive[StrokePrimitive(RGBA{Float64}(0.0,0.0,0.0,0.0))]), Compose.Property{Compose.FillPrimitive}(Compose.FillPrimitive[FillPrimitive(RGBA{Float64}(0.0,0.0,0.0,1.0))])]), 0, false, false, false, false, nothing, nothing, 0.0, Symbol(\"\")), Compose.Context(Measures.BoundingBox{Tuple{Measures.Length{:w,Float64},Measures.Length{:h,Float64}},Tuple{Measures.Length{:w,Float64},Measures.Length{:h,Float64}}}((0.0w, 0.0h), (1.0w, 1.0h)), nothing, nothing, nothing, nothing, List([]), List([Compose.Form{Compose.CirclePrimitive{Tuple{Measures.Measure,Measures.Measure},Measures.Measure}}(Compose.CirclePrimitive{Tuple{Measures.Measure,Measures.Measure},Measures.Measure}[CirclePrimitive{Tuple{Measure,Measure},Measure}((1.0cx, 1.0cy), 0.0408248w), CirclePrimitive{Tuple{Measure,Measure},Measure}((-0.542502cx, 0.803965cy), 0.0408248w), CirclePrimitive{Tuple{Measure,Measure},Measure}((0.406124cx, 0.382517cy), 0.0408248w), CirclePrimitive{Tuple{Measure,Measure},Measure}((-1.0cx, 0.217659cy), 0.0408248w), CirclePrimitive{Tuple{Measure,Measure},Measure}((-0.104497cx, -0.311474cy), 0.0408248w), CirclePrimitive{Tuple{Measure,Measure},Measure}((-0.0273787cx, -1.0cy), 0.0408248w)], Symbol(\"\"))]), List([Compose.Property{Compose.LineWidthPrimitive}(Compose.LineWidthPrimitive[LineWidthPrimitive(0.0mm)]), Compose.Property{Compose.StrokePrimitive}(Compose.StrokePrimitive[StrokePrimitive(RGBA{Float64}(0.0,0.0,0.0,0.0))]), Compose.Property{Compose.FillPrimitive}(Compose.FillPrimitive[FillPrimitive(RGBA{Float64}(0.25098,0.878431,0.815686,1.0))])]), 0, false, false, false, false, nothing, nothing, 0.0, Symbol(\"\")), Compose.Context(Measures.BoundingBox{Tuple{Measures.Length{:w,Float64},Measures.Length{:h,Float64}},Tuple{Measures.Length{:w,Float64},Measures.Length{:h,Float64}}}((0.0w, 0.0h), (1.0w, 1.0h)), nothing, nothing, nothing, nothing, List([]), List([Compose.Form{Compose.TextPrimitive{Tuple{Measures.Length{:cx,Float64},Measures.Length{:cy,Float64}},Compose.Rotation{Tuple{Measures.Length{:w,Float64},Measures.Length{:h,Float64}}},Tuple{Measures.Length{:mm,Float64},Measures.Length{:mm,Float64}}}}(Compose.TextPrimitive{Tuple{Measures.Length{:cx,Float64},Measures.Length{:cy,Float64}},Compose.Rotation{Tuple{Measures.Length{:w,Float64},Measures.Length{:h,Float64}}},Tuple{Measures.Length{:mm,Float64},Measures.Length{:mm,Float64}}}[TextPrimitive{Tuple{Length{:cx,Float64},Length{:cy,Float64}},Rotation{Tuple{Length{:w,Float64},Length{:h,Float64}}},Tuple{Length{:mm,Float64},Length{:mm,Float64}}}((1.0cx, 1.0cy), \"1\", HCenter(), VCenter(), Rotation{Tuple{Length{:w,Float64},Length{:h,Float64}}}(0.0, (0.5w, 0.5h)), (0.0mm, 0.0mm)), TextPrimitive{Tuple{Length{:cx,Float64},Length{:cy,Float64}},Rotation{Tuple{Length{:w,Float64},Length{:h,Float64}}},Tuple{Length{:mm,Float64},Length{:mm,Float64}}}((-0.542502cx, 0.803965cy), \"2\", HCenter(), VCenter(), Rotation{Tuple{Length{:w,Float64},Length{:h,Float64}}}(0.0, (0.5w, 0.5h)), (0.0mm, 0.0mm)), TextPrimitive{Tuple{Length{:cx,Float64},Length{:cy,Float64}},Rotation{Tuple{Length{:w,Float64},Length{:h,Float64}}},Tuple{Length{:mm,Float64},Length{:mm,Float64}}}((0.406124cx, 0.382517cy), \"3\", HCenter(), VCenter(), Rotation{Tuple{Length{:w,Float64},Length{:h,Float64}}}(0.0, (0.5w, 0.5h)), (0.0mm, 0.0mm)), TextPrimitive{Tuple{Length{:cx,Float64},Length{:cy,Float64}},Rotation{Tuple{Length{:w,Float64},Length{:h,Float64}}},Tuple{Length{:mm,Float64},Length{:mm,Float64}}}((-1.0cx, 0.217659cy), \"4\", HCenter(), VCenter(), Rotation{Tuple{Length{:w,Float64},Length{:h,Float64}}}(0.0, (0.5w, 0.5h)), (0.0mm, 0.0mm)), TextPrimitive{Tuple{Length{:cx,Float64},Length{:cy,Float64}},Rotation{Tuple{Length{:w,Float64},Length{:h,Float64}}},Tuple{Length{:mm,Float64},Length{:mm,Float64}}}((-0.104497cx, -0.311474cy), \"5\", HCenter(), VCenter(), Rotation{Tuple{Length{:w,Float64},Length{:h,Float64}}}(0.0, (0.5w, 0.5h)), (0.0mm, 0.0mm)), TextPrimitive{Tuple{Length{:cx,Float64},Length{:cy,Float64}},Rotation{Tuple{Length{:w,Float64},Length{:h,Float64}}},Tuple{Length{:mm,Float64},Length{:mm,Float64}}}((-0.0273787cx, -1.0cy), \"6\", HCenter(), VCenter(), Rotation{Tuple{Length{:w,Float64},Length{:h,Float64}}}(0.0, (0.5w, 0.5h)), (0.0mm, 0.0mm))], Symbol(\"\"))]), List([Compose.Property{Compose.FontSizePrimitive}(Compose.FontSizePrimitive[FontSizePrimitive(4.0mm)]), Compose.Property{Compose.StrokePrimitive}(Compose.StrokePrimitive[StrokePrimitive(RGBA{Float64}(0.0,0.0,0.0,0.0))]), Compose.Property{Compose.FillPrimitive}(Compose.FillPrimitive[FillPrimitive(RGBA{Float64}(0.0,0.0,0.0,1.0))])]), 0, false, false, false, false, nothing, nothing, 0.0, Symbol(\"\"))]), List([]), List([]), 0, false, false, false, false, nothing, nothing, 0.0, Symbol(\"\"))"
      ]
     },
     "execution_count": 30,
     "metadata": {},
     "output_type": "execute_result"
    }
   ],
   "source": [
    "gplot(t, nodelabel=1:LightGraphs.nv(t))"
   ]
  },
  {
   "cell_type": "markdown",
   "metadata": {
    "slideshow": {
     "slide_type": "slide"
    }
   },
   "source": [
    "# Hypergraph Visualization\n",
    "\n",
    "SimpleHypergraph.jl provides several kind of visualization using the _plot_ function.\n",
    "\n",
    "- `color-edge` provides a visualization of hyperedges as a single edge that connects several vertices.\n",
    "- `radial` provides a radial visualization of an hypergraph.\n",
    "- `venn` (ongoing) classical visualization of an hypergraph (not trivial)."
   ]
  },
  {
   "cell_type": "markdown",
   "metadata": {
    "slideshow": {
     "slide_type": "slide"
    }
   },
   "source": [
    "## Color-Edge Visualization"
   ]
  },
  {
   "cell_type": "code",
   "execution_count": 31,
   "metadata": {
    "slideshow": {
     "slide_type": "fragment"
    }
   },
   "outputs": [
    {
     "data": {
      "text/plain": [
       "6×5 Hypergraph{Float64,Nothing,Nothing}:\n",
       " 1.5        nothing   nothing   nothing   nothing\n",
       " 1.5        nothing  3.5        nothing   nothing\n",
       " 1.5        nothing   nothing  2.5        nothing\n",
       "  nothing   nothing  4.5       4.5        nothing\n",
       "  nothing  6.5        nothing  5.5       1.2     \n",
       "  nothing   nothing   nothing   nothing  1.3     "
      ]
     },
     "execution_count": 31,
     "metadata": {},
     "output_type": "execute_result"
    }
   ],
   "source": [
    "h"
   ]
  },
  {
   "cell_type": "code",
   "execution_count": 32,
   "metadata": {
    "slideshow": {
     "slide_type": "fragment"
    }
   },
   "outputs": [
    {
     "data": {
      "text/html": [
       "<head>\n",
       "<link rel=\"stylesheet\" type=\"text/css\" href=\"https://isislab-unisa.github.io/hypergraphs-plot/css/color-edge-style.css\">\n",
       "</head>\n",
       "<div class=\"hg-plot4\"></div>\n",
       "<script src=\"https://isislab-unisa.github.io/hypergraphs-plot//bundle.v1.0.js\"></script>\n",
       "<script>\n",
       "hgplot.drawing.hgColorEdgePlot({graph:{\n",
       "    \"nodes\":[\n",
       "        {\"id\":\"1\" , \"links\":[\"1\"]},\n",
       "        {\"id\":\"2\" , \"links\":[\"1\",\"3\"]},\n",
       "        {\"id\":\"3\" , \"links\":[\"1\",\"4\"]},\n",
       "        {\"id\":\"4\" , \"links\":[\"3\",\"4\"]},\n",
       "        {\"id\":\"5\" , \"links\":[\"2\",\"4\",\"5\"]},\n",
       "        {\"id\":\"6\" , \"links\":[\"5\"]}\n",
       "    ],\n",
       "    \"links\":[\n",
       "        {\"id\":\"1\", \"nodes\": [\"1\",\"2\",\"3\"]},\n",
       "        {\"id\":\"2\", \"nodes\": [\"5\"]},\n",
       "        {\"id\":\"3\", \"nodes\": [\"2\",\"4\"]},\n",
       "        {\"id\":\"4\", \"nodes\": [\"3\",\"4\",\"5\"]},\n",
       "        {\"id\":\"5\", \"nodes\": [\"5\",\"6\"]}\n",
       "    ],\n",
       "    \"nodelinks\":[\n",
       "                    {\"node\":\"1\",\"link\":\"1\",\"value\":\"1.5\"},\n",
       "                    {\"node\":\"2\",\"link\":\"1\",\"value\":\"1.5\"},\n",
       "                    {\"node\":\"2\",\"link\":\"3\",\"value\":\"3.5\"},\n",
       "                    {\"node\":\"3\",\"link\":\"1\",\"value\":\"1.5\"},\n",
       "                    {\"node\":\"3\",\"link\":\"4\",\"value\":\"2.5\"},\n",
       "                    {\"node\":\"4\",\"link\":\"3\",\"value\":\"4.5\"},\n",
       "                    {\"node\":\"4\",\"link\":\"4\",\"value\":\"4.5\"},\n",
       "                    {\"node\":\"5\",\"link\":\"2\",\"value\":\"6.5\"},\n",
       "                    {\"node\":\"5\",\"link\":\"4\",\"value\":\"5.5\"},\n",
       "                    {\"node\":\"5\",\"link\":\"5\",\"value\":\"1.2\"},\n",
       "                    {\"node\":\"6\",\"link\":\"5\",\"value\":\"1.3\"}\n",
       "        ]\n",
       "    }},{preferences:{\"colorEdges\":\"default\",\"colorNodes\":\"default\",\"sizeNodes\":\"default\"}},{idColorEdge:\"4\"});\n",
       "</script>\n"
      ],
      "text/plain": [
       "HTML{String}(\"<head>\\n<link rel=\\\"stylesheet\\\" type=\\\"text/css\\\" href=\\\"https://isislab-unisa.github.io/hypergraphs-plot/css/color-edge-style.css\\\">\\n</head>\\n<div class=\\\"hg-plot4\\\"></div>\\n<script src=\\\"https://isislab-unisa.github.io/hypergraphs-plot//bundle.v1.0.js\\\"></script>\\n<script>\\nhgplot.drawing.hgColorEdgePlot({graph:{\\n    \\\"nodes\\\":[\\n        {\\\"id\\\":\\\"1\\\" , \\\"links\\\":[\\\"1\\\"]},\\n        {\\\"id\\\":\\\"2\\\" , \\\"links\\\":[\\\"1\\\",\\\"3\\\"]},\\n        {\\\"id\\\":\\\"3\\\" , \\\"links\\\":[\\\"1\\\",\\\"4\\\"]},\\n        {\\\"id\\\":\\\"4\\\" , \\\"links\\\":[\\\"3\\\",\\\"4\\\"]},\\n        {\\\"id\\\":\\\"5\\\" , \\\"links\\\":[\\\"2\\\",\\\"4\\\",\\\"5\\\"]},\\n        {\\\"id\\\":\\\"6\\\" , \\\"links\\\":[\\\"5\\\"]}\\n    ],\\n    \\\"links\\\":[\\n        {\\\"id\\\":\\\"1\\\", \\\"nodes\\\": [\\\"1\\\",\\\"2\\\",\\\"3\\\"]},\\n        {\\\"id\\\":\\\"2\\\", \\\"nodes\\\": [\\\"5\\\"]},\\n        {\\\"id\\\":\\\"3\\\", \\\"nodes\\\": [\\\"2\\\",\\\"4\\\"]},\\n        {\\\"id\\\":\\\"4\\\", \\\"nodes\\\": [\\\"3\\\",\\\"4\\\",\\\"5\\\"]},\\n        {\\\"id\\\":\\\"5\\\", \\\"nodes\\\": [\\\"5\\\",\\\"6\\\"]}\\n    ],\\n    \\\"nodelinks\\\":[\\n                    {\\\"node\\\":\\\"1\\\",\\\"link\\\":\\\"1\\\",\\\"value\\\":\\\"1.5\\\"},\\n                    {\\\"node\\\":\\\"2\\\",\\\"link\\\":\\\"1\\\",\\\"value\\\":\\\"1.5\\\"},\\n                    {\\\"node\\\":\\\"2\\\",\\\"link\\\":\\\"3\\\",\\\"value\\\":\\\"3.5\\\"},\\n                    {\\\"node\\\":\\\"3\\\",\\\"link\\\":\\\"1\\\",\\\"value\\\":\\\"1.5\\\"},\\n                    {\\\"node\\\":\\\"3\\\",\\\"link\\\":\\\"4\\\",\\\"value\\\":\\\"2.5\\\"},\\n                    {\\\"node\\\":\\\"4\\\",\\\"link\\\":\\\"3\\\",\\\"value\\\":\\\"4.5\\\"},\\n                    {\\\"node\\\":\\\"4\\\",\\\"link\\\":\\\"4\\\",\\\"value\\\":\\\"4.5\\\"},\\n                    {\\\"node\\\":\\\"5\\\",\\\"link\\\":\\\"2\\\",\\\"value\\\":\\\"6.5\\\"},\\n                    {\\\"node\\\":\\\"5\\\",\\\"link\\\":\\\"4\\\",\\\"value\\\":\\\"5.5\\\"},\\n                    {\\\"node\\\":\\\"5\\\",\\\"link\\\":\\\"5\\\",\\\"value\\\":\\\"1.2\\\"},\\n                    {\\\"node\\\":\\\"6\\\",\\\"link\\\":\\\"5\\\",\\\"value\\\":\\\"1.3\\\"}\\n        ]\\n    }},{preferences:{\\\"colorEdges\\\":\\\"default\\\",\\\"colorNodes\\\":\\\"default\\\",\\\"sizeNodes\\\":\\\"default\\\"}},{idColorEdge:\\\"4\\\"});\\n</script>\\n\")"
      ]
     },
     "execution_count": 32,
     "metadata": {},
     "output_type": "execute_result"
    }
   ],
   "source": [
    "plot(h, type=\"color-edge\")"
   ]
  },
  {
   "cell_type": "markdown",
   "metadata": {
    "slideshow": {
     "slide_type": "slide"
    }
   },
   "source": [
    "# Other functionalities\n",
    "You can also compute\n",
    "- A `random partition` of a hypergraph `h` into `n` subsets;\n",
    "- `Hypergraph communities` using various community search patterns (CFModularityRandom, CFModularityCNMLike)."
   ]
  },
  {
   "cell_type": "markdown",
   "metadata": {
    "slideshow": {
     "slide_type": "slide"
    }
   },
   "source": [
    "## Computing a random partition of h and evaluating its modularity\n",
    "- Generates a random partition `P` for vertices of a hypergraph `h` into `n` subsets;\n",
    "- Calculates the strict modularity of a hypergraph `h` for a given partition using the precomputed aggregates vertex and edge basic stats `ha` for a hypergraph `h`."
   ]
  },
  {
   "cell_type": "code",
   "execution_count": 33,
   "metadata": {
    "slideshow": {
     "slide_type": "fragment"
    }
   },
   "outputs": [
    {
     "data": {
      "text/plain": [
       "3-element Array{Set{Int64},1}:\n",
       " Set([4, 2, 3, 1])\n",
       " Set([6])         \n",
       " Set([5])         "
      ]
     },
     "execution_count": 33,
     "metadata": {},
     "output_type": "execute_result"
    }
   ],
   "source": [
    "sets = randompartition(h, 3)\n",
    "\n",
    "sets"
   ]
  },
  {
   "cell_type": "code",
   "execution_count": 34,
   "metadata": {
    "slideshow": {
     "slide_type": "fragment"
    }
   },
   "outputs": [
    {
     "data": {
      "text/plain": [
       "0.09346356123215634"
      ]
     },
     "execution_count": 34,
     "metadata": {},
     "output_type": "execute_result"
    }
   ],
   "source": [
    "modularity(h, sets)"
   ]
  },
  {
   "cell_type": "markdown",
   "metadata": {
    "slideshow": {
     "slide_type": "slide"
    }
   },
   "source": [
    "## Computing hypergraph communities"
   ]
  },
  {
   "cell_type": "markdown",
   "metadata": {
    "slideshow": {
     "slide_type": "fragment"
    }
   },
   "source": [
    "- `CFModularityRandom`\n",
    "    - Represents a random search over the hypergraph `h` that finds a partition into `n` communities (subsets) having the maximum modularity value.\n",
    "    - During the search `reps` random `n`-partitions will be evaluated.\n",
    "    - If there are many partitions having the same value the first one that was randomly found will be returned."
   ]
  },
  {
   "cell_type": "code",
   "execution_count": 35,
   "metadata": {
    "slideshow": {
     "slide_type": "fragment"
    }
   },
   "outputs": [
    {
     "data": {
      "text/plain": [
       "(bp = Set{Int64}[Set([4, 2, 3, 1]), Set([5, 6])], bm = 0.26280991735537196)"
      ]
     },
     "execution_count": 35,
     "metadata": {},
     "output_type": "execute_result"
    }
   ],
   "source": [
    "pmethod = CFModularityRandom(2,100)\n",
    "\n",
    "communities = findcommunities(h, pmethod)\n",
    "\n",
    "communities"
   ]
  },
  {
   "cell_type": "markdown",
   "metadata": {
    "slideshow": {
     "slide_type": "slide"
    }
   },
   "source": [
    "# Hypergraph IO\n",
    "You can save and load a hypergraph `h` to/from a file in `hgf` format.\n",
    "<br>\n",
    "\n",
    "*Example format*\n",
    "\n",
    "6 5 <br>\n",
    "1=1.5 2=1.5 3=1.5 <br>\n",
    "5=6.5 <br>\n",
    "2=3.5 4=4.5 <br>\n",
    "3=2.5 4=4.5 5=5.5 <br>\n",
    "5=1.2 6=1.3 <br>\n"
   ]
  },
  {
   "cell_type": "code",
   "execution_count": 36,
   "metadata": {
    "slideshow": {
     "slide_type": "fragment"
    }
   },
   "outputs": [
    {
     "data": {
      "text/plain": [
       "6×5 Hypergraph{Float64,Nothing,Nothing}:\n",
       " 1.5        nothing   nothing   nothing   nothing\n",
       " 1.5        nothing  3.5        nothing   nothing\n",
       " 1.5        nothing   nothing  2.5        nothing\n",
       "  nothing   nothing  4.5       4.5        nothing\n",
       "  nothing  6.5        nothing  5.5       1.2     \n",
       "  nothing   nothing   nothing   nothing  1.3     "
      ]
     },
     "execution_count": 36,
     "metadata": {},
     "output_type": "execute_result"
    }
   ],
   "source": [
    "h"
   ]
  },
  {
   "cell_type": "code",
   "execution_count": 37,
   "metadata": {
    "slideshow": {
     "slide_type": "slide"
    }
   },
   "outputs": [],
   "source": [
    "hg_save(\"myhg.hgf\", h)"
   ]
  },
  {
   "cell_type": "code",
   "execution_count": 38,
   "metadata": {
    "slideshow": {
     "slide_type": "fragment"
    }
   },
   "outputs": [
    {
     "data": {
      "text/plain": [
       "6×5 Hypergraph{Float64,Nothing,Nothing}:\n",
       " 1.5        nothing   nothing   nothing   nothing\n",
       " 1.5        nothing  3.5        nothing   nothing\n",
       " 1.5        nothing   nothing  2.5        nothing\n",
       "  nothing   nothing  4.5       4.5        nothing\n",
       "  nothing  6.5        nothing  5.5       1.2     \n",
       "  nothing   nothing   nothing   nothing  1.3     "
      ]
     },
     "execution_count": 38,
     "metadata": {},
     "output_type": "execute_result"
    }
   ],
   "source": [
    "h = hg_load(\"myhg.hgf\", Float64)"
   ]
  },
  {
   "cell_type": "markdown",
   "metadata": {
    "slideshow": {
     "slide_type": "slide"
    }
   },
   "source": [
    "# Hypergraph IO (1)\n",
    "You can save and load a hypergraph `h` to/from a file in `json` format. In this case, vertices and hyperedges metadata will be aved as well. "
   ]
  },
  {
   "cell_type": "markdown",
   "metadata": {
    "slideshow": {
     "slide_type": "slide"
    }
   },
   "source": [
    "```{\n",
    "   \"hg\":{\n",
    "      \"nvertices\":5,\n",
    "      \"nhyperedges\":4,\n",
    "      \"vertices\":{\n",
    "         \"1\":[\"a\", \"b\"],\n",
    "         \"2\":{\n",
    "            \"id\":\"id_b\",\n",
    "            \"stars\":3.5,\n",
    "            \"reviewcount\":10,\n",
    "            \"categories\":[\"cat1\",\"cat2\"]\n",
    "         },\n",
    "         \"3\":null, \"4\":null, \"5\":null\n",
    "      },\n",
    "      \"hyperedges\":{\n",
    "         \"1\":{\n",
    "            \"metadata\":null,\n",
    "            \"vertices\":{\n",
    "               \"2\":1.5,\n",
    "               \"3\":1.5,\n",
    "               \"1\":1.5\n",
    "            }\n",
    "         },\n",
    "         \"2\":{\n",
    "            \"metadata\":null,\n",
    "            \"vertices\":{ \"5\":6.5 }\n",
    "         },\n",
    "         \"3\":{\n",
    "            \"metadata\":null,\n",
    "            \"vertices\":{ \"4\":4.5, \"2\":3.5 }\n",
    "         },\n",
    "         \"4\":{\n",
    "            \"metadata\":null,\n",
    "            \"vertices\":{ \"4\":4.5, \"3\":2.5, \"5\":5.5 }\n",
    "         }\n",
    "      }\n",
    "   }\n",
    "}```"
   ]
  },
  {
   "cell_type": "code",
   "execution_count": 41,
   "metadata": {
    "slideshow": {
     "slide_type": "slide"
    }
   },
   "outputs": [],
   "source": [
    "export_json(\"myhgs.json\", h2)"
   ]
  },
  {
   "cell_type": "code",
   "execution_count": 42,
   "metadata": {
    "slideshow": {
     "slide_type": "fragment"
    }
   },
   "outputs": [
    {
     "data": {
      "text/plain": [
       "4×4 Hypergraph{Int64,String,Float64}:\n",
       " 1          nothing  4         nothing\n",
       " 2         3          nothing  nothing\n",
       "  nothing   nothing  5         nothing\n",
       "  nothing   nothing  6         nothing"
      ]
     },
     "execution_count": 42,
     "metadata": {},
     "output_type": "execute_result"
    }
   ],
   "source": [
    "h2 = load_json(\"myhgs.json\", Int, String, Float64)"
   ]
  },
  {
   "cell_type": "code",
   "execution_count": 43,
   "metadata": {
    "slideshow": {
     "slide_type": "fragment"
    }
   },
   "outputs": [
    {
     "data": {
      "text/plain": [
       "10.2"
      ]
     },
     "execution_count": 43,
     "metadata": {},
     "output_type": "execute_result"
    }
   ],
   "source": [
    "get_hyperedge_meta(h2,1)"
   ]
  },
  {
   "cell_type": "markdown",
   "metadata": {
    "slideshow": {
     "slide_type": "slide"
    }
   },
   "source": [
    "# Use case: a Facebook communities example"
   ]
  },
  {
   "cell_type": "markdown",
   "metadata": {
    "slideshow": {
     "slide_type": "fragment"
    }
   },
   "source": [
    "In this example, we will:\n",
    "\n",
    "1. Use real world data - in particular - some Facebook friend circles to construct a hypergraph `h`, where each circle represents a hyperedge. [Example graphs - Facebook circles](https://snap.stanford.edu/data/ego-Facebook.html);\n",
    "2. Visualize the hypergraph;\n",
    "3. Evaluate the best partition;\n",
    "4. Visualize the hyperedges size distribution;\n",
    "5. Visualize the degree distribution."
   ]
  },
  {
   "cell_type": "markdown",
   "metadata": {
    "slideshow": {
     "slide_type": "slide"
    }
   },
   "source": [
    "### Our dataset (fragment)\n",
    "circle0\t71\t215\t54\t61\t298\t229\t81\t253\t193\t97\t264\t29\t132\t110\t163\t259\t183\t334\t245\t222 <br>\n",
    "circle1\t173 <br>\n",
    "circle2\t155\t99\t327\t140\t116\t147\t144\t150\t270 <br>\n",
    "circle3\t51\t83\t237 <br>\n",
    "circle6\t337\t289\t93\t17\t111\t52\t137\t343\t192\t35\t326\t310\t214\t32\t115\t321\t209\t312\t41\t20 "
   ]
  },
  {
   "cell_type": "code",
   "execution_count": 47,
   "metadata": {
    "slideshow": {
     "slide_type": "slide"
    }
   },
   "outputs": [
    {
     "data": {
      "text/plain": [
       "load_example (generic function with 1 method)"
      ]
     },
     "execution_count": 47,
     "metadata": {},
     "output_type": "execute_result"
    }
   ],
   "source": [
    "function load_example(fname::AbstractString, T::Type{<:Real}, sep::AbstractChar)\n",
    "    \"\"\"\n",
    "    Ad-hoc loads a hypergraph from a file `fname`, where each line:\n",
    "     - represents a hyperedge\n",
    "     - it is a list of vertex_ids separated by `sep`\n",
    "     - the first id it is the hyperedge id\n",
    "\n",
    "     The second argument `T` represents type of data in the hypegraph\n",
    "    \"\"\"\n",
    "    h = Hypergraph{T}(0,0)\n",
    "    weight = convert(T, 1)\n",
    "    vertices_ids_mapping = Dict{Int, Int}() #map vertex_ids into consecutive ids\n",
    "    new_id = 1\n",
    "    io = open(fname, \"r\")\n",
    "    for line in eachline(io) #for each he\n",
    "        vertices_ids = split(line, sep)[2:end] #the first id is the he_id\n",
    "        vertices_dict = Dict{Int, T}() #each dict represents a he\n",
    "        for v_id in vertices_ids\n",
    "            old_id = parse(Int, v_id)\n",
    "            if !haskey(vertices_ids_mapping, old_id)\n",
    "                add_vertex!(h)\n",
    "                vertices_ids_mapping[old_id] = new_id #map old_id into new_id\n",
    "                new_id += 1\n",
    "            end\n",
    "            vertices_dict[vertices_ids_mapping[old_id]] = weight\n",
    "        end\n",
    "        add_hyperedge!(h, vertices = vertices_dict)\n",
    "    end\n",
    "    close(io)\n",
    "    h\n",
    "end"
   ]
  },
  {
   "cell_type": "code",
   "execution_count": 48,
   "metadata": {
    "slideshow": {
     "slide_type": "slide"
    }
   },
   "outputs": [],
   "source": [
    "fbh = load_example(\"0.circles\", Int, '\\t');"
   ]
  },
  {
   "cell_type": "code",
   "execution_count": 49,
   "metadata": {
    "slideshow": {
     "slide_type": "slide"
    }
   },
   "outputs": [
    {
     "data": {
      "text/html": [
       "<head>\n",
       "<link rel=\"stylesheet\" type=\"text/css\" href=\"https://isislab-unisa.github.io/hypergraphs-plot/css/color-edge-style.css\">\n",
       "</head>\n",
       "<div class=\"hg-plot5\"></div>\n",
       "<script src=\"https://isislab-unisa.github.io/hypergraphs-plot//bundle.v1.0.js\"></script>\n",
       "<script>\n",
       "hgplot.drawing.hgColorEdgePlot({graph:{\n",
       "    \"nodes\":[\n",
       "        {\"id\":\"1\" , \"links\":[\"1\"]},\n",
       "        {\"id\":\"2\" , \"links\":[\"1\"]},\n",
       "        {\"id\":\"3\" , \"links\":[\"1\",\"12\"]},\n",
       "        {\"id\":\"4\" , \"links\":[\"1\"]},\n",
       "        {\"id\":\"5\" , \"links\":[\"1\",\"12\"]},\n",
       "        {\"id\":\"6\" , \"links\":[\"1\"]},\n",
       "        {\"id\":\"7\" , \"links\":[\"1\"]},\n",
       "        {\"id\":\"8\" , \"links\":[\"1\"]},\n",
       "        {\"id\":\"9\" , \"links\":[\"1\"]},\n",
       "        {\"id\":\"10\" , \"links\":[\"1\",\"12\"]},\n",
       "        {\"id\":\"11\" , \"links\":[\"1\"]},\n",
       "        {\"id\":\"12\" , \"links\":[\"1\"]},\n",
       "        {\"id\":\"13\" , \"links\":[\"1\"]},\n",
       "        {\"id\":\"14\" , \"links\":[\"1\"]},\n",
       "        {\"id\":\"15\" , \"links\":[\"1\"]},\n",
       "        {\"id\":\"16\" , \"links\":[\"1\"]},\n",
       "        {\"id\":\"17\" , \"links\":[\"1\",\"16\"]},\n",
       "        {\"id\":\"18\" , \"links\":[\"1\"]},\n",
       "        {\"id\":\"19\" , \"links\":[\"1\"]},\n",
       "        {\"id\":\"20\" , \"links\":[\"1\"]},\n",
       "        {\"id\":\"21\" , \"links\":[\"2\",\"17\"]},\n",
       "        {\"id\":\"22\" , \"links\":[\"3\"]},\n",
       "        {\"id\":\"23\" , \"links\":[\"3\"]},\n",
       "        {\"id\":\"24\" , \"links\":[\"3\"]},\n",
       "        {\"id\":\"25\" , \"links\":[\"3\"]},\n",
       "        {\"id\":\"26\" , \"links\":[\"3\"]},\n",
       "        {\"id\":\"27\" , \"links\":[\"3\"]},\n",
       "        {\"id\":\"28\" , \"links\":[\"3\"]},\n",
       "        {\"id\":\"29\" , \"links\":[\"3\"]},\n",
       "        {\"id\":\"30\" , \"links\":[\"3\"]},\n",
       "        {\"id\":\"31\" , \"links\":[\"4\"]},\n",
       "        {\"id\":\"32\" , \"links\":[\"4\"]},\n",
       "        {\"id\":\"33\" , \"links\":[\"4\"]},\n",
       "        {\"id\":\"34\" , \"links\":[\"5\",\"16\"]},\n",
       "        {\"id\":\"35\" , \"links\":[\"5\"]},\n",
       "        {\"id\":\"36\" , \"links\":[\"5\"]},\n",
       "        {\"id\":\"37\" , \"links\":[\"5\"]},\n",
       "        {\"id\":\"38\" , \"links\":[\"5\",\"16\"]},\n",
       "        {\"id\":\"39\" , \"links\":[\"5\",\"16\"]},\n",
       "        {\"id\":\"40\" , \"links\":[\"5\"]},\n",
       "        {\"id\":\"41\" , \"links\":[\"5\"]},\n",
       "        {\"id\":\"42\" , \"links\":[\"5\"]},\n",
       "        {\"id\":\"43\" , \"links\":[\"5\",\"16\"]},\n",
       "        {\"id\":\"44\" , \"links\":[\"5\"]},\n",
       "        {\"id\":\"45\" , \"links\":[\"5\"]},\n",
       "        {\"id\":\"46\" , \"links\":[\"5\",\"17\"]},\n",
       "        {\"id\":\"47\" , \"links\":[\"5\",\"16\"]},\n",
       "        {\"id\":\"48\" , \"links\":[\"5\"]},\n",
       "        {\"id\":\"49\" , \"links\":[\"5\"]},\n",
       "        {\"id\":\"50\" , \"links\":[\"5\",\"16\"]},\n",
       "        {\"id\":\"51\" , \"links\":[\"6\",\"16\"]},\n",
       "        {\"id\":\"52\" , \"links\":[\"7\"]},\n",
       "        {\"id\":\"53\" , \"links\":[\"7\"]},\n",
       "        {\"id\":\"54\" , \"links\":[\"7\",\"20\"]},\n",
       "        {\"id\":\"55\" , \"links\":[\"7\",\"20\"]},\n",
       "        {\"id\":\"56\" , \"links\":[\"7\"]},\n",
       "        {\"id\":\"57\" , \"links\":[\"7\",\"18\"]},\n",
       "        {\"id\":\"58\" , \"links\":[\"7\",\"20\"]},\n",
       "        {\"id\":\"59\" , \"links\":[\"7\",\"20\"]},\n",
       "        {\"id\":\"60\" , \"links\":[\"7\"]},\n",
       "        {\"id\":\"61\" , \"links\":[\"7\"]},\n",
       "        {\"id\":\"62\" , \"links\":[\"7\",\"20\"]},\n",
       "        {\"id\":\"63\" , \"links\":[\"7\"]},\n",
       "        {\"id\":\"64\" , \"links\":[\"7\",\"20\"]},\n",
       "        {\"id\":\"65\" , \"links\":[\"7\"]},\n",
       "        {\"id\":\"66\" , \"links\":[\"7\",\"20\"]},\n",
       "        {\"id\":\"67\" , \"links\":[\"7\"]},\n",
       "        {\"id\":\"68\" , \"links\":[\"7\"]},\n",
       "        {\"id\":\"69\" , \"links\":[\"7\",\"20\"]},\n",
       "        {\"id\":\"70\" , \"links\":[\"7\",\"20\"]},\n",
       "        {\"id\":\"71\" , \"links\":[\"7\",\"20\"]},\n",
       "        {\"id\":\"72\" , \"links\":[\"8\"]},\n",
       "        {\"id\":\"73\" , \"links\":[\"8\"]},\n",
       "        {\"id\":\"74\" , \"links\":[\"9\",\"21\"]},\n",
       "        {\"id\":\"75\" , \"links\":[\"10\"]},\n",
       "        {\"id\":\"76\" , \"links\":[\"10\"]},\n",
       "        {\"id\":\"77\" , \"links\":[\"10\"]},\n",
       "        {\"id\":\"78\" , \"links\":[\"10\"]},\n",
       "        {\"id\":\"79\" , \"links\":[\"10\"]},\n",
       "        {\"id\":\"80\" , \"links\":[\"10\",\"16\"]},\n",
       "        {\"id\":\"81\" , \"links\":[\"10\"]},\n",
       "        {\"id\":\"82\" , \"links\":[\"10\"]},\n",
       "        {\"id\":\"83\" , \"links\":[\"10\"]},\n",
       "        {\"id\":\"84\" , \"links\":[\"10\"]},\n",
       "        {\"id\":\"85\" , \"links\":[\"11\"]},\n",
       "        {\"id\":\"86\" , \"links\":[\"11\"]},\n",
       "        {\"id\":\"87\" , \"links\":[\"11\"]},\n",
       "        {\"id\":\"88\" , \"links\":[\"11\"]},\n",
       "        {\"id\":\"89\" , \"links\":[\"12\"]},\n",
       "        {\"id\":\"90\" , \"links\":[\"12\"]},\n",
       "        {\"id\":\"91\" , \"links\":[\"12\"]},\n",
       "        {\"id\":\"92\" , \"links\":[\"12\"]},\n",
       "        {\"id\":\"93\" , \"links\":[\"12\"]},\n",
       "        {\"id\":\"94\" , \"links\":[\"12\"]},\n",
       "        {\"id\":\"95\" , \"links\":[\"12\"]},\n",
       "        {\"id\":\"96\" , \"links\":[\"12\"]},\n",
       "        {\"id\":\"97\" , \"links\":[\"12\"]},\n",
       "        {\"id\":\"98\" , \"links\":[\"12\"]},\n",
       "        {\"id\":\"99\" , \"links\":[\"12\"]},\n",
       "        {\"id\":\"100\" , \"links\":[\"12\"]},\n",
       "        {\"id\":\"101\" , \"links\":[\"12\"]},\n",
       "        {\"id\":\"102\" , \"links\":[\"12\"]},\n",
       "        {\"id\":\"103\" , \"links\":[\"12\"]},\n",
       "        {\"id\":\"104\" , \"links\":[\"12\"]},\n",
       "        {\"id\":\"105\" , \"links\":[\"12\"]},\n",
       "        {\"id\":\"106\" , \"links\":[\"12\"]},\n",
       "        {\"id\":\"107\" , \"links\":[\"12\"]},\n",
       "        {\"id\":\"108\" , \"links\":[\"12\"]},\n",
       "        {\"id\":\"109\" , \"links\":[\"12\"]},\n",
       "        {\"id\":\"110\" , \"links\":[\"12\"]},\n",
       "        {\"id\":\"111\" , \"links\":[\"12\"]},\n",
       "        {\"id\":\"112\" , \"links\":[\"12\",\"16\"]},\n",
       "        {\"id\":\"113\" , \"links\":[\"12\"]},\n",
       "        {\"id\":\"114\" , \"links\":[\"12\"]},\n",
       "        {\"id\":\"115\" , \"links\":[\"12\"]},\n",
       "        {\"id\":\"116\" , \"links\":[\"13\"]},\n",
       "        {\"id\":\"117\" , \"links\":[\"14\"]},\n",
       "        {\"id\":\"118\" , \"links\":[\"14\"]},\n",
       "        {\"id\":\"119\" , \"links\":[\"14\"]},\n",
       "        {\"id\":\"120\" , \"links\":[\"14\"]},\n",
       "        {\"id\":\"121\" , \"links\":[\"14\"]},\n",
       "        {\"id\":\"122\" , \"links\":[\"15\"]},\n",
       "        {\"id\":\"123\" , \"links\":[\"15\"]},\n",
       "        {\"id\":\"124\" , \"links\":[\"16\"]},\n",
       "        {\"id\":\"125\" , \"links\":[\"16\"]},\n",
       "        {\"id\":\"126\" , \"links\":[\"16\",\"17\"]},\n",
       "        {\"id\":\"127\" , \"links\":[\"16\"]},\n",
       "        {\"id\":\"128\" , \"links\":[\"16\"]},\n",
       "        {\"id\":\"129\" , \"links\":[\"16\"]},\n",
       "        {\"id\":\"130\" , \"links\":[\"16\"]},\n",
       "        {\"id\":\"131\" , \"links\":[\"16\"]},\n",
       "        {\"id\":\"132\" , \"links\":[\"16\"]},\n",
       "        {\"id\":\"133\" , \"links\":[\"16\"]},\n",
       "        {\"id\":\"134\" , \"links\":[\"16\"]},\n",
       "        {\"id\":\"135\" , \"links\":[\"16\"]},\n",
       "        {\"id\":\"136\" , \"links\":[\"16\"]},\n",
       "        {\"id\":\"137\" , \"links\":[\"16\"]},\n",
       "        {\"id\":\"138\" , \"links\":[\"16\"]},\n",
       "        {\"id\":\"139\" , \"links\":[\"16\"]},\n",
       "        {\"id\":\"140\" , \"links\":[\"16\"]},\n",
       "        {\"id\":\"141\" , \"links\":[\"16\"]},\n",
       "        {\"id\":\"142\" , \"links\":[\"16\"]},\n",
       "        {\"id\":\"143\" , \"links\":[\"16\"]},\n",
       "        {\"id\":\"144\" , \"links\":[\"16\"]},\n",
       "        {\"id\":\"145\" , \"links\":[\"16\"]},\n",
       "        {\"id\":\"146\" , \"links\":[\"16\"]},\n",
       "        {\"id\":\"147\" , \"links\":[\"16\"]},\n",
       "        {\"id\":\"148\" , \"links\":[\"16\"]},\n",
       "        {\"id\":\"149\" , \"links\":[\"16\"]},\n",
       "        {\"id\":\"150\" , \"links\":[\"16\"]},\n",
       "        {\"id\":\"151\" , \"links\":[\"16\"]},\n",
       "        {\"id\":\"152\" , \"links\":[\"16\"]},\n",
       "        {\"id\":\"153\" , \"links\":[\"16\"]},\n",
       "        {\"id\":\"154\" , \"links\":[\"16\"]},\n",
       "        {\"id\":\"155\" , \"links\":[\"16\"]},\n",
       "        {\"id\":\"156\" , \"links\":[\"16\"]},\n",
       "        {\"id\":\"157\" , \"links\":[\"16\"]},\n",
       "        {\"id\":\"158\" , \"links\":[\"16\"]},\n",
       "        {\"id\":\"159\" , \"links\":[\"16\"]},\n",
       "        {\"id\":\"160\" , \"links\":[\"16\"]},\n",
       "        {\"id\":\"161\" , \"links\":[\"16\"]},\n",
       "        {\"id\":\"162\" , \"links\":[\"16\"]},\n",
       "        {\"id\":\"163\" , \"links\":[\"16\"]},\n",
       "        {\"id\":\"164\" , \"links\":[\"16\"]},\n",
       "        {\"id\":\"165\" , \"links\":[\"16\"]},\n",
       "        {\"id\":\"166\" , \"links\":[\"16\",\"18\"]},\n",
       "        {\"id\":\"167\" , \"links\":[\"16\"]},\n",
       "        {\"id\":\"168\" , \"links\":[\"16\"]},\n",
       "        {\"id\":\"169\" , \"links\":[\"16\"]},\n",
       "        {\"id\":\"170\" , \"links\":[\"16\"]},\n",
       "        {\"id\":\"171\" , \"links\":[\"16\"]},\n",
       "        {\"id\":\"172\" , \"links\":[\"16\"]},\n",
       "        {\"id\":\"173\" , \"links\":[\"16\"]},\n",
       "        {\"id\":\"174\" , \"links\":[\"16\",\"18\"]},\n",
       "        {\"id\":\"175\" , \"links\":[\"16\"]},\n",
       "        {\"id\":\"176\" , \"links\":[\"16\"]},\n",
       "        {\"id\":\"177\" , \"links\":[\"16\"]},\n",
       "        {\"id\":\"178\" , \"links\":[\"16\"]},\n",
       "        {\"id\":\"179\" , \"links\":[\"16\"]},\n",
       "        {\"id\":\"180\" , \"links\":[\"16\"]},\n",
       "        {\"id\":\"181\" , \"links\":[\"16\"]},\n",
       "        {\"id\":\"182\" , \"links\":[\"16\"]},\n",
       "        {\"id\":\"183\" , \"links\":[\"16\"]},\n",
       "        {\"id\":\"184\" , \"links\":[\"16\"]},\n",
       "        {\"id\":\"185\" , \"links\":[\"16\"]},\n",
       "        {\"id\":\"186\" , \"links\":[\"16\"]},\n",
       "        {\"id\":\"187\" , \"links\":[\"16\"]},\n",
       "        {\"id\":\"188\" , \"links\":[\"16\"]},\n",
       "        {\"id\":\"189\" , \"links\":[\"16\",\"17\"]},\n",
       "        {\"id\":\"190\" , \"links\":[\"16\"]},\n",
       "        {\"id\":\"191\" , \"links\":[\"16\"]},\n",
       "        {\"id\":\"192\" , \"links\":[\"16\"]},\n",
       "        {\"id\":\"193\" , \"links\":[\"16\",\"17\"]},\n",
       "        {\"id\":\"194\" , \"links\":[\"16\",\"17\"]},\n",
       "        {\"id\":\"195\" , \"links\":[\"16\"]},\n",
       "        {\"id\":\"196\" , \"links\":[\"16\"]},\n",
       "        {\"id\":\"197\" , \"links\":[\"16\"]},\n",
       "        {\"id\":\"198\" , \"links\":[\"16\"]},\n",
       "        {\"id\":\"199\" , \"links\":[\"16\"]},\n",
       "        {\"id\":\"200\" , \"links\":[\"16\",\"17\"]},\n",
       "        {\"id\":\"201\" , \"links\":[\"16\"]},\n",
       "        {\"id\":\"202\" , \"links\":[\"16\"]},\n",
       "        {\"id\":\"203\" , \"links\":[\"16\"]},\n",
       "        {\"id\":\"204\" , \"links\":[\"16\"]},\n",
       "        {\"id\":\"205\" , \"links\":[\"16\",\"17\"]},\n",
       "        {\"id\":\"206\" , \"links\":[\"16\"]},\n",
       "        {\"id\":\"207\" , \"links\":[\"16\"]},\n",
       "        {\"id\":\"208\" , \"links\":[\"16\"]},\n",
       "        {\"id\":\"209\" , \"links\":[\"16\"]},\n",
       "        {\"id\":\"210\" , \"links\":[\"16\"]},\n",
       "        {\"id\":\"211\" , \"links\":[\"16\",\"17\"]},\n",
       "        {\"id\":\"212\" , \"links\":[\"16\"]},\n",
       "        {\"id\":\"213\" , \"links\":[\"16\"]},\n",
       "        {\"id\":\"214\" , \"links\":[\"16\"]},\n",
       "        {\"id\":\"215\" , \"links\":[\"16\",\"18\"]},\n",
       "        {\"id\":\"216\" , \"links\":[\"16\",\"17\"]},\n",
       "        {\"id\":\"217\" , \"links\":[\"16\"]},\n",
       "        {\"id\":\"218\" , \"links\":[\"16\"]},\n",
       "        {\"id\":\"219\" , \"links\":[\"16\"]},\n",
       "        {\"id\":\"220\" , \"links\":[\"16\"]},\n",
       "        {\"id\":\"221\" , \"links\":[\"16\"]},\n",
       "        {\"id\":\"222\" , \"links\":[\"16\"]},\n",
       "        {\"id\":\"223\" , \"links\":[\"16\"]},\n",
       "        {\"id\":\"224\" , \"links\":[\"16\"]},\n",
       "        {\"id\":\"225\" , \"links\":[\"16\"]},\n",
       "        {\"id\":\"226\" , \"links\":[\"16\"]},\n",
       "        {\"id\":\"227\" , \"links\":[\"16\"]},\n",
       "        {\"id\":\"228\" , \"links\":[\"16\"]},\n",
       "        {\"id\":\"229\" , \"links\":[\"16\"]},\n",
       "        {\"id\":\"230\" , \"links\":[\"16\"]},\n",
       "        {\"id\":\"231\" , \"links\":[\"16\"]},\n",
       "        {\"id\":\"232\" , \"links\":[\"16\"]},\n",
       "        {\"id\":\"233\" , \"links\":[\"16\"]},\n",
       "        {\"id\":\"234\" , \"links\":[\"16\"]},\n",
       "        {\"id\":\"235\" , \"links\":[\"16\"]},\n",
       "        {\"id\":\"236\" , \"links\":[\"16\"]},\n",
       "        {\"id\":\"237\" , \"links\":[\"16\"]},\n",
       "        {\"id\":\"238\" , \"links\":[\"16\",\"17\"]},\n",
       "        {\"id\":\"239\" , \"links\":[\"16\"]},\n",
       "        {\"id\":\"240\" , \"links\":[\"16\"]},\n",
       "        {\"id\":\"241\" , \"links\":[\"16\"]},\n",
       "        {\"id\":\"242\" , \"links\":[\"16\"]},\n",
       "        {\"id\":\"243\" , \"links\":[\"16\"]},\n",
       "        {\"id\":\"244\" , \"links\":[\"16\"]},\n",
       "        {\"id\":\"245\" , \"links\":[\"16\"]},\n",
       "        {\"id\":\"246\" , \"links\":[\"16\"]},\n",
       "        {\"id\":\"247\" , \"links\":[\"17\"]},\n",
       "        {\"id\":\"248\" , \"links\":[\"17\"]},\n",
       "        {\"id\":\"249\" , \"links\":[\"17\"]},\n",
       "        {\"id\":\"250\" , \"links\":[\"17\"]},\n",
       "        {\"id\":\"251\" , \"links\":[\"17\"]},\n",
       "        {\"id\":\"252\" , \"links\":[\"17\"]},\n",
       "        {\"id\":\"253\" , \"links\":[\"17\"]},\n",
       "        {\"id\":\"254\" , \"links\":[\"17\"]},\n",
       "        {\"id\":\"255\" , \"links\":[\"17\"]},\n",
       "        {\"id\":\"256\" , \"links\":[\"17\"]},\n",
       "        {\"id\":\"257\" , \"links\":[\"17\"]},\n",
       "        {\"id\":\"258\" , \"links\":[\"17\"]},\n",
       "        {\"id\":\"259\" , \"links\":[\"17\"]},\n",
       "        {\"id\":\"260\" , \"links\":[\"17\"]},\n",
       "        {\"id\":\"261\" , \"links\":[\"17\"]},\n",
       "        {\"id\":\"262\" , \"links\":[\"17\"]},\n",
       "        {\"id\":\"263\" , \"links\":[\"17\"]},\n",
       "        {\"id\":\"264\" , \"links\":[\"17\"]},\n",
       "        {\"id\":\"265\" , \"links\":[\"17\"]},\n",
       "        {\"id\":\"266\" , \"links\":[\"17\"]},\n",
       "        {\"id\":\"267\" , \"links\":[\"17\"]},\n",
       "        {\"id\":\"268\" , \"links\":[\"18\"]},\n",
       "        {\"id\":\"269\" , \"links\":[\"18\"]},\n",
       "        {\"id\":\"270\" , \"links\":[\"18\"]},\n",
       "        {\"id\":\"271\" , \"links\":[\"18\"]},\n",
       "        {\"id\":\"272\" , \"links\":[\"18\"]},\n",
       "        {\"id\":\"273\" , \"links\":[\"19\"]},\n",
       "        {\"id\":\"274\" , \"links\":[\"20\"]},\n",
       "        {\"id\":\"275\" , \"links\":[\"20\"]},\n",
       "        {\"id\":\"276\" , \"links\":[\"20\"]},\n",
       "        {\"id\":\"277\" , \"links\":[\"21\"]},\n",
       "        {\"id\":\"278\" , \"links\":[\"21\"]},\n",
       "        {\"id\":\"279\" , \"links\":[\"21\"]},\n",
       "        {\"id\":\"280\" , \"links\":[\"21\"]},\n",
       "        {\"id\":\"281\" , \"links\":[\"21\"]},\n",
       "        {\"id\":\"282\" , \"links\":[\"22\"]},\n",
       "        {\"id\":\"283\" , \"links\":[\"23\"]},\n",
       "        {\"id\":\"284\" , \"links\":[\"24\"]},\n",
       "        {\"id\":\"285\" , \"links\":[\"24\"]},\n",
       "        {\"id\":\"286\" , \"links\":[\"24\"]}\n",
       "    ],\n",
       "    \"links\":[\n",
       "        {\"id\":\"1\", \"nodes\": [\"1\",\"2\",\"3\",\"4\",\"5\",\"6\",\"7\",\"8\",\"9\",\"10\",\"11\",\"12\",\"13\",\"14\",\"15\",\"16\",\"17\",\"18\",\"19\",\"20\"]},\n",
       "        {\"id\":\"2\", \"nodes\": [\"21\"]},\n",
       "        {\"id\":\"3\", \"nodes\": [\"22\",\"23\",\"24\",\"25\",\"26\",\"27\",\"28\",\"29\",\"30\"]},\n",
       "        {\"id\":\"4\", \"nodes\": [\"31\",\"32\",\"33\"]},\n",
       "        {\"id\":\"5\", \"nodes\": [\"34\",\"35\",\"36\",\"37\",\"38\",\"39\",\"40\",\"41\",\"42\",\"43\",\"44\",\"45\",\"46\",\"47\",\"48\",\"49\",\"50\"]},\n",
       "        {\"id\":\"6\", \"nodes\": [\"51\"]},\n",
       "        {\"id\":\"7\", \"nodes\": [\"52\",\"53\",\"54\",\"55\",\"56\",\"57\",\"58\",\"59\",\"60\",\"61\",\"62\",\"63\",\"64\",\"65\",\"66\",\"67\",\"68\",\"69\",\"70\",\"71\"]},\n",
       "        {\"id\":\"8\", \"nodes\": [\"72\",\"73\"]},\n",
       "        {\"id\":\"9\", \"nodes\": [\"74\"]},\n",
       "        {\"id\":\"10\", \"nodes\": [\"75\",\"76\",\"77\",\"78\",\"79\",\"80\",\"81\",\"82\",\"83\",\"84\"]},\n",
       "        {\"id\":\"11\", \"nodes\": [\"85\",\"86\",\"87\",\"88\"]},\n",
       "        {\"id\":\"12\", \"nodes\": [\"3\",\"5\",\"10\",\"89\",\"90\",\"91\",\"92\",\"93\",\"94\",\"95\",\"96\",\"97\",\"98\",\"99\",\"100\",\"101\",\"102\",\"103\",\"104\",\"105\",\"106\",\"107\",\"108\",\"109\",\"110\",\"111\",\"112\",\"113\",\"114\",\"115\"]},\n",
       "        {\"id\":\"13\", \"nodes\": [\"116\"]},\n",
       "        {\"id\":\"14\", \"nodes\": [\"117\",\"118\",\"119\",\"120\",\"121\"]},\n",
       "        {\"id\":\"15\", \"nodes\": [\"122\",\"123\"]},\n",
       "        {\"id\":\"16\", \"nodes\": [\"17\",\"34\",\"38\",\"39\",\"43\",\"47\",\"50\",\"51\",\"80\",\"112\",\"124\",\"125\",\"126\",\"127\",\"128\",\"129\",\"130\",\"131\",\"132\",\"133\",\"134\",\"135\",\"136\",\"137\",\"138\",\"139\",\"140\",\"141\",\"142\",\"143\",\"144\",\"145\",\"146\",\"147\",\"148\",\"149\",\"150\",\"151\",\"152\",\"153\",\"154\",\"155\",\"156\",\"157\",\"158\",\"159\",\"160\",\"161\",\"162\",\"163\",\"164\",\"165\",\"166\",\"167\",\"168\",\"169\",\"170\",\"171\",\"172\",\"173\",\"174\",\"175\",\"176\",\"177\",\"178\",\"179\",\"180\",\"181\",\"182\",\"183\",\"184\",\"185\",\"186\",\"187\",\"188\",\"189\",\"190\",\"191\",\"192\",\"193\",\"194\",\"195\",\"196\",\"197\",\"198\",\"199\",\"200\",\"201\",\"202\",\"203\",\"204\",\"205\",\"206\",\"207\",\"208\",\"209\",\"210\",\"211\",\"212\",\"213\",\"214\",\"215\",\"216\",\"217\",\"218\",\"219\",\"220\",\"221\",\"222\",\"223\",\"224\",\"225\",\"226\",\"227\",\"228\",\"229\",\"230\",\"231\",\"232\",\"233\",\"234\",\"235\",\"236\",\"237\",\"238\",\"239\",\"240\",\"241\",\"242\",\"243\",\"244\",\"245\",\"246\"]},\n",
       "        {\"id\":\"17\", \"nodes\": [\"21\",\"46\",\"126\",\"189\",\"193\",\"194\",\"200\",\"205\",\"211\",\"216\",\"238\",\"247\",\"248\",\"249\",\"250\",\"251\",\"252\",\"253\",\"254\",\"255\",\"256\",\"257\",\"258\",\"259\",\"260\",\"261\",\"262\",\"263\",\"264\",\"265\",\"266\",\"267\"]},\n",
       "        {\"id\":\"18\", \"nodes\": [\"57\",\"166\",\"174\",\"215\",\"268\",\"269\",\"270\",\"271\",\"272\"]},\n",
       "        {\"id\":\"19\", \"nodes\": [\"273\"]},\n",
       "        {\"id\":\"20\", \"nodes\": [\"54\",\"55\",\"58\",\"59\",\"62\",\"64\",\"66\",\"69\",\"70\",\"71\",\"274\",\"275\",\"276\"]},\n",
       "        {\"id\":\"21\", \"nodes\": [\"74\",\"277\",\"278\",\"279\",\"280\",\"281\"]},\n",
       "        {\"id\":\"22\", \"nodes\": [\"282\"]},\n",
       "        {\"id\":\"23\", \"nodes\": [\"283\"]},\n",
       "        {\"id\":\"24\", \"nodes\": [\"284\",\"285\",\"286\"]}\n",
       "    ],\n",
       "    \"nodelinks\":[\n",
       "                    {\"node\":\"1\",\"link\":\"1\",\"value\":\"1\"},\n",
       "                    {\"node\":\"2\",\"link\":\"1\",\"value\":\"1\"},\n",
       "                    {\"node\":\"3\",\"link\":\"1\",\"value\":\"1\"},\n",
       "                    {\"node\":\"3\",\"link\":\"12\",\"value\":\"1\"},\n",
       "                    {\"node\":\"4\",\"link\":\"1\",\"value\":\"1\"},\n",
       "                    {\"node\":\"5\",\"link\":\"1\",\"value\":\"1\"},\n",
       "                    {\"node\":\"5\",\"link\":\"12\",\"value\":\"1\"},\n",
       "                    {\"node\":\"6\",\"link\":\"1\",\"value\":\"1\"},\n",
       "                    {\"node\":\"7\",\"link\":\"1\",\"value\":\"1\"},\n",
       "                    {\"node\":\"8\",\"link\":\"1\",\"value\":\"1\"},\n",
       "                    {\"node\":\"9\",\"link\":\"1\",\"value\":\"1\"},\n",
       "                    {\"node\":\"10\",\"link\":\"1\",\"value\":\"1\"},\n",
       "                    {\"node\":\"10\",\"link\":\"12\",\"value\":\"1\"},\n",
       "                    {\"node\":\"11\",\"link\":\"1\",\"value\":\"1\"},\n",
       "                    {\"node\":\"12\",\"link\":\"1\",\"value\":\"1\"},\n",
       "                    {\"node\":\"13\",\"link\":\"1\",\"value\":\"1\"},\n",
       "                    {\"node\":\"14\",\"link\":\"1\",\"value\":\"1\"},\n",
       "                    {\"node\":\"15\",\"link\":\"1\",\"value\":\"1\"},\n",
       "                    {\"node\":\"16\",\"link\":\"1\",\"value\":\"1\"},\n",
       "                    {\"node\":\"17\",\"link\":\"1\",\"value\":\"1\"},\n",
       "                    {\"node\":\"17\",\"link\":\"16\",\"value\":\"1\"},\n",
       "                    {\"node\":\"18\",\"link\":\"1\",\"value\":\"1\"},\n",
       "                    {\"node\":\"19\",\"link\":\"1\",\"value\":\"1\"},\n",
       "                    {\"node\":\"20\",\"link\":\"1\",\"value\":\"1\"},\n",
       "                    {\"node\":\"21\",\"link\":\"2\",\"value\":\"1\"},\n",
       "                    {\"node\":\"21\",\"link\":\"17\",\"value\":\"1\"},\n",
       "                    {\"node\":\"22\",\"link\":\"3\",\"value\":\"1\"},\n",
       "                    {\"node\":\"23\",\"link\":\"3\",\"value\":\"1\"},\n",
       "                    {\"node\":\"24\",\"link\":\"3\",\"value\":\"1\"},\n",
       "                    {\"node\":\"25\",\"link\":\"3\",\"value\":\"1\"},\n",
       "                    {\"node\":\"26\",\"link\":\"3\",\"value\":\"1\"},\n",
       "                    {\"node\":\"27\",\"link\":\"3\",\"value\":\"1\"},\n",
       "                    {\"node\":\"28\",\"link\":\"3\",\"value\":\"1\"},\n",
       "                    {\"node\":\"29\",\"link\":\"3\",\"value\":\"1\"},\n",
       "                    {\"node\":\"30\",\"link\":\"3\",\"value\":\"1\"},\n",
       "                    {\"node\":\"31\",\"link\":\"4\",\"value\":\"1\"},\n",
       "                    {\"node\":\"32\",\"link\":\"4\",\"value\":\"1\"},\n",
       "                    {\"node\":\"33\",\"link\":\"4\",\"value\":\"1\"},\n",
       "                    {\"node\":\"34\",\"link\":\"5\",\"value\":\"1\"},\n",
       "                    {\"node\":\"34\",\"link\":\"16\",\"value\":\"1\"},\n",
       "                    {\"node\":\"35\",\"link\":\"5\",\"value\":\"1\"},\n",
       "                    {\"node\":\"36\",\"link\":\"5\",\"value\":\"1\"},\n",
       "                    {\"node\":\"37\",\"link\":\"5\",\"value\":\"1\"},\n",
       "                    {\"node\":\"38\",\"link\":\"5\",\"value\":\"1\"},\n",
       "                    {\"node\":\"38\",\"link\":\"16\",\"value\":\"1\"},\n",
       "                    {\"node\":\"39\",\"link\":\"5\",\"value\":\"1\"},\n",
       "                    {\"node\":\"39\",\"link\":\"16\",\"value\":\"1\"},\n",
       "                    {\"node\":\"40\",\"link\":\"5\",\"value\":\"1\"},\n",
       "                    {\"node\":\"41\",\"link\":\"5\",\"value\":\"1\"},\n",
       "                    {\"node\":\"42\",\"link\":\"5\",\"value\":\"1\"},\n",
       "                    {\"node\":\"43\",\"link\":\"5\",\"value\":\"1\"},\n",
       "                    {\"node\":\"43\",\"link\":\"16\",\"value\":\"1\"},\n",
       "                    {\"node\":\"44\",\"link\":\"5\",\"value\":\"1\"},\n",
       "                    {\"node\":\"45\",\"link\":\"5\",\"value\":\"1\"},\n",
       "                    {\"node\":\"46\",\"link\":\"5\",\"value\":\"1\"},\n",
       "                    {\"node\":\"46\",\"link\":\"17\",\"value\":\"1\"},\n",
       "                    {\"node\":\"47\",\"link\":\"5\",\"value\":\"1\"},\n",
       "                    {\"node\":\"47\",\"link\":\"16\",\"value\":\"1\"},\n",
       "                    {\"node\":\"48\",\"link\":\"5\",\"value\":\"1\"},\n",
       "                    {\"node\":\"49\",\"link\":\"5\",\"value\":\"1\"},\n",
       "                    {\"node\":\"50\",\"link\":\"5\",\"value\":\"1\"},\n",
       "                    {\"node\":\"50\",\"link\":\"16\",\"value\":\"1\"},\n",
       "                    {\"node\":\"51\",\"link\":\"6\",\"value\":\"1\"},\n",
       "                    {\"node\":\"51\",\"link\":\"16\",\"value\":\"1\"},\n",
       "                    {\"node\":\"52\",\"link\":\"7\",\"value\":\"1\"},\n",
       "                    {\"node\":\"53\",\"link\":\"7\",\"value\":\"1\"},\n",
       "                    {\"node\":\"54\",\"link\":\"7\",\"value\":\"1\"},\n",
       "                    {\"node\":\"54\",\"link\":\"20\",\"value\":\"1\"},\n",
       "                    {\"node\":\"55\",\"link\":\"7\",\"value\":\"1\"},\n",
       "                    {\"node\":\"55\",\"link\":\"20\",\"value\":\"1\"},\n",
       "                    {\"node\":\"56\",\"link\":\"7\",\"value\":\"1\"},\n",
       "                    {\"node\":\"57\",\"link\":\"7\",\"value\":\"1\"},\n",
       "                    {\"node\":\"57\",\"link\":\"18\",\"value\":\"1\"},\n",
       "                    {\"node\":\"58\",\"link\":\"7\",\"value\":\"1\"},\n",
       "                    {\"node\":\"58\",\"link\":\"20\",\"value\":\"1\"},\n",
       "                    {\"node\":\"59\",\"link\":\"7\",\"value\":\"1\"},\n",
       "                    {\"node\":\"59\",\"link\":\"20\",\"value\":\"1\"},\n",
       "                    {\"node\":\"60\",\"link\":\"7\",\"value\":\"1\"},\n",
       "                    {\"node\":\"61\",\"link\":\"7\",\"value\":\"1\"},\n",
       "                    {\"node\":\"62\",\"link\":\"7\",\"value\":\"1\"},\n",
       "                    {\"node\":\"62\",\"link\":\"20\",\"value\":\"1\"},\n",
       "                    {\"node\":\"63\",\"link\":\"7\",\"value\":\"1\"},\n",
       "                    {\"node\":\"64\",\"link\":\"7\",\"value\":\"1\"},\n",
       "                    {\"node\":\"64\",\"link\":\"20\",\"value\":\"1\"},\n",
       "                    {\"node\":\"65\",\"link\":\"7\",\"value\":\"1\"},\n",
       "                    {\"node\":\"66\",\"link\":\"7\",\"value\":\"1\"},\n",
       "                    {\"node\":\"66\",\"link\":\"20\",\"value\":\"1\"},\n",
       "                    {\"node\":\"67\",\"link\":\"7\",\"value\":\"1\"},\n",
       "                    {\"node\":\"68\",\"link\":\"7\",\"value\":\"1\"},\n",
       "                    {\"node\":\"69\",\"link\":\"7\",\"value\":\"1\"},\n",
       "                    {\"node\":\"69\",\"link\":\"20\",\"value\":\"1\"},\n",
       "                    {\"node\":\"70\",\"link\":\"7\",\"value\":\"1\"},\n",
       "                    {\"node\":\"70\",\"link\":\"20\",\"value\":\"1\"},\n",
       "                    {\"node\":\"71\",\"link\":\"7\",\"value\":\"1\"},\n",
       "                    {\"node\":\"71\",\"link\":\"20\",\"value\":\"1\"},\n",
       "                    {\"node\":\"72\",\"link\":\"8\",\"value\":\"1\"},\n",
       "                    {\"node\":\"73\",\"link\":\"8\",\"value\":\"1\"},\n",
       "                    {\"node\":\"74\",\"link\":\"9\",\"value\":\"1\"},\n",
       "                    {\"node\":\"74\",\"link\":\"21\",\"value\":\"1\"},\n",
       "                    {\"node\":\"75\",\"link\":\"10\",\"value\":\"1\"},\n",
       "                    {\"node\":\"76\",\"link\":\"10\",\"value\":\"1\"},\n",
       "                    {\"node\":\"77\",\"link\":\"10\",\"value\":\"1\"},\n",
       "                    {\"node\":\"78\",\"link\":\"10\",\"value\":\"1\"},\n",
       "                    {\"node\":\"79\",\"link\":\"10\",\"value\":\"1\"},\n",
       "                    {\"node\":\"80\",\"link\":\"10\",\"value\":\"1\"},\n",
       "                    {\"node\":\"80\",\"link\":\"16\",\"value\":\"1\"},\n",
       "                    {\"node\":\"81\",\"link\":\"10\",\"value\":\"1\"},\n",
       "                    {\"node\":\"82\",\"link\":\"10\",\"value\":\"1\"},\n",
       "                    {\"node\":\"83\",\"link\":\"10\",\"value\":\"1\"},\n",
       "                    {\"node\":\"84\",\"link\":\"10\",\"value\":\"1\"},\n",
       "                    {\"node\":\"85\",\"link\":\"11\",\"value\":\"1\"},\n",
       "                    {\"node\":\"86\",\"link\":\"11\",\"value\":\"1\"},\n",
       "                    {\"node\":\"87\",\"link\":\"11\",\"value\":\"1\"},\n",
       "                    {\"node\":\"88\",\"link\":\"11\",\"value\":\"1\"},\n",
       "                    {\"node\":\"89\",\"link\":\"12\",\"value\":\"1\"},\n",
       "                    {\"node\":\"90\",\"link\":\"12\",\"value\":\"1\"},\n",
       "                    {\"node\":\"91\",\"link\":\"12\",\"value\":\"1\"},\n",
       "                    {\"node\":\"92\",\"link\":\"12\",\"value\":\"1\"},\n",
       "                    {\"node\":\"93\",\"link\":\"12\",\"value\":\"1\"},\n",
       "                    {\"node\":\"94\",\"link\":\"12\",\"value\":\"1\"},\n",
       "                    {\"node\":\"95\",\"link\":\"12\",\"value\":\"1\"},\n",
       "                    {\"node\":\"96\",\"link\":\"12\",\"value\":\"1\"},\n",
       "                    {\"node\":\"97\",\"link\":\"12\",\"value\":\"1\"},\n",
       "                    {\"node\":\"98\",\"link\":\"12\",\"value\":\"1\"},\n",
       "                    {\"node\":\"99\",\"link\":\"12\",\"value\":\"1\"},\n",
       "                    {\"node\":\"100\",\"link\":\"12\",\"value\":\"1\"},\n",
       "                    {\"node\":\"101\",\"link\":\"12\",\"value\":\"1\"},\n",
       "                    {\"node\":\"102\",\"link\":\"12\",\"value\":\"1\"},\n",
       "                    {\"node\":\"103\",\"link\":\"12\",\"value\":\"1\"},\n",
       "                    {\"node\":\"104\",\"link\":\"12\",\"value\":\"1\"},\n",
       "                    {\"node\":\"105\",\"link\":\"12\",\"value\":\"1\"},\n",
       "                    {\"node\":\"106\",\"link\":\"12\",\"value\":\"1\"},\n",
       "                    {\"node\":\"107\",\"link\":\"12\",\"value\":\"1\"},\n",
       "                    {\"node\":\"108\",\"link\":\"12\",\"value\":\"1\"},\n",
       "                    {\"node\":\"109\",\"link\":\"12\",\"value\":\"1\"},\n",
       "                    {\"node\":\"110\",\"link\":\"12\",\"value\":\"1\"},\n",
       "                    {\"node\":\"111\",\"link\":\"12\",\"value\":\"1\"},\n",
       "                    {\"node\":\"112\",\"link\":\"12\",\"value\":\"1\"},\n",
       "                    {\"node\":\"112\",\"link\":\"16\",\"value\":\"1\"},\n",
       "                    {\"node\":\"113\",\"link\":\"12\",\"value\":\"1\"},\n",
       "                    {\"node\":\"114\",\"link\":\"12\",\"value\":\"1\"},\n",
       "                    {\"node\":\"115\",\"link\":\"12\",\"value\":\"1\"},\n",
       "                    {\"node\":\"116\",\"link\":\"13\",\"value\":\"1\"},\n",
       "                    {\"node\":\"117\",\"link\":\"14\",\"value\":\"1\"},\n",
       "                    {\"node\":\"118\",\"link\":\"14\",\"value\":\"1\"},\n",
       "                    {\"node\":\"119\",\"link\":\"14\",\"value\":\"1\"},\n",
       "                    {\"node\":\"120\",\"link\":\"14\",\"value\":\"1\"},\n",
       "                    {\"node\":\"121\",\"link\":\"14\",\"value\":\"1\"},\n",
       "                    {\"node\":\"122\",\"link\":\"15\",\"value\":\"1\"},\n",
       "                    {\"node\":\"123\",\"link\":\"15\",\"value\":\"1\"},\n",
       "                    {\"node\":\"124\",\"link\":\"16\",\"value\":\"1\"},\n",
       "                    {\"node\":\"125\",\"link\":\"16\",\"value\":\"1\"},\n",
       "                    {\"node\":\"126\",\"link\":\"16\",\"value\":\"1\"},\n",
       "                    {\"node\":\"126\",\"link\":\"17\",\"value\":\"1\"},\n",
       "                    {\"node\":\"127\",\"link\":\"16\",\"value\":\"1\"},\n",
       "                    {\"node\":\"128\",\"link\":\"16\",\"value\":\"1\"},\n",
       "                    {\"node\":\"129\",\"link\":\"16\",\"value\":\"1\"},\n",
       "                    {\"node\":\"130\",\"link\":\"16\",\"value\":\"1\"},\n",
       "                    {\"node\":\"131\",\"link\":\"16\",\"value\":\"1\"},\n",
       "                    {\"node\":\"132\",\"link\":\"16\",\"value\":\"1\"},\n",
       "                    {\"node\":\"133\",\"link\":\"16\",\"value\":\"1\"},\n",
       "                    {\"node\":\"134\",\"link\":\"16\",\"value\":\"1\"},\n",
       "                    {\"node\":\"135\",\"link\":\"16\",\"value\":\"1\"},\n",
       "                    {\"node\":\"136\",\"link\":\"16\",\"value\":\"1\"},\n",
       "                    {\"node\":\"137\",\"link\":\"16\",\"value\":\"1\"},\n",
       "                    {\"node\":\"138\",\"link\":\"16\",\"value\":\"1\"},\n",
       "                    {\"node\":\"139\",\"link\":\"16\",\"value\":\"1\"},\n",
       "                    {\"node\":\"140\",\"link\":\"16\",\"value\":\"1\"},\n",
       "                    {\"node\":\"141\",\"link\":\"16\",\"value\":\"1\"},\n",
       "                    {\"node\":\"142\",\"link\":\"16\",\"value\":\"1\"},\n",
       "                    {\"node\":\"143\",\"link\":\"16\",\"value\":\"1\"},\n",
       "                    {\"node\":\"144\",\"link\":\"16\",\"value\":\"1\"},\n",
       "                    {\"node\":\"145\",\"link\":\"16\",\"value\":\"1\"},\n",
       "                    {\"node\":\"146\",\"link\":\"16\",\"value\":\"1\"},\n",
       "                    {\"node\":\"147\",\"link\":\"16\",\"value\":\"1\"},\n",
       "                    {\"node\":\"148\",\"link\":\"16\",\"value\":\"1\"},\n",
       "                    {\"node\":\"149\",\"link\":\"16\",\"value\":\"1\"},\n",
       "                    {\"node\":\"150\",\"link\":\"16\",\"value\":\"1\"},\n",
       "                    {\"node\":\"151\",\"link\":\"16\",\"value\":\"1\"},\n",
       "                    {\"node\":\"152\",\"link\":\"16\",\"value\":\"1\"},\n",
       "                    {\"node\":\"153\",\"link\":\"16\",\"value\":\"1\"},\n",
       "                    {\"node\":\"154\",\"link\":\"16\",\"value\":\"1\"},\n",
       "                    {\"node\":\"155\",\"link\":\"16\",\"value\":\"1\"},\n",
       "                    {\"node\":\"156\",\"link\":\"16\",\"value\":\"1\"},\n",
       "                    {\"node\":\"157\",\"link\":\"16\",\"value\":\"1\"},\n",
       "                    {\"node\":\"158\",\"link\":\"16\",\"value\":\"1\"},\n",
       "                    {\"node\":\"159\",\"link\":\"16\",\"value\":\"1\"},\n",
       "                    {\"node\":\"160\",\"link\":\"16\",\"value\":\"1\"},\n",
       "                    {\"node\":\"161\",\"link\":\"16\",\"value\":\"1\"},\n",
       "                    {\"node\":\"162\",\"link\":\"16\",\"value\":\"1\"},\n",
       "                    {\"node\":\"163\",\"link\":\"16\",\"value\":\"1\"},\n",
       "                    {\"node\":\"164\",\"link\":\"16\",\"value\":\"1\"},\n",
       "                    {\"node\":\"165\",\"link\":\"16\",\"value\":\"1\"},\n",
       "                    {\"node\":\"166\",\"link\":\"16\",\"value\":\"1\"},\n",
       "                    {\"node\":\"166\",\"link\":\"18\",\"value\":\"1\"},\n",
       "                    {\"node\":\"167\",\"link\":\"16\",\"value\":\"1\"},\n",
       "                    {\"node\":\"168\",\"link\":\"16\",\"value\":\"1\"},\n",
       "                    {\"node\":\"169\",\"link\":\"16\",\"value\":\"1\"},\n",
       "                    {\"node\":\"170\",\"link\":\"16\",\"value\":\"1\"},\n",
       "                    {\"node\":\"171\",\"link\":\"16\",\"value\":\"1\"},\n",
       "                    {\"node\":\"172\",\"link\":\"16\",\"value\":\"1\"},\n",
       "                    {\"node\":\"173\",\"link\":\"16\",\"value\":\"1\"},\n",
       "                    {\"node\":\"174\",\"link\":\"16\",\"value\":\"1\"},\n",
       "                    {\"node\":\"174\",\"link\":\"18\",\"value\":\"1\"},\n",
       "                    {\"node\":\"175\",\"link\":\"16\",\"value\":\"1\"},\n",
       "                    {\"node\":\"176\",\"link\":\"16\",\"value\":\"1\"},\n",
       "                    {\"node\":\"177\",\"link\":\"16\",\"value\":\"1\"},\n",
       "                    {\"node\":\"178\",\"link\":\"16\",\"value\":\"1\"},\n",
       "                    {\"node\":\"179\",\"link\":\"16\",\"value\":\"1\"},\n",
       "                    {\"node\":\"180\",\"link\":\"16\",\"value\":\"1\"},\n",
       "                    {\"node\":\"181\",\"link\":\"16\",\"value\":\"1\"},\n",
       "                    {\"node\":\"182\",\"link\":\"16\",\"value\":\"1\"},\n",
       "                    {\"node\":\"183\",\"link\":\"16\",\"value\":\"1\"},\n",
       "                    {\"node\":\"184\",\"link\":\"16\",\"value\":\"1\"},\n",
       "                    {\"node\":\"185\",\"link\":\"16\",\"value\":\"1\"},\n",
       "                    {\"node\":\"186\",\"link\":\"16\",\"value\":\"1\"},\n",
       "                    {\"node\":\"187\",\"link\":\"16\",\"value\":\"1\"},\n",
       "                    {\"node\":\"188\",\"link\":\"16\",\"value\":\"1\"},\n",
       "                    {\"node\":\"189\",\"link\":\"16\",\"value\":\"1\"},\n",
       "                    {\"node\":\"189\",\"link\":\"17\",\"value\":\"1\"},\n",
       "                    {\"node\":\"190\",\"link\":\"16\",\"value\":\"1\"},\n",
       "                    {\"node\":\"191\",\"link\":\"16\",\"value\":\"1\"},\n",
       "                    {\"node\":\"192\",\"link\":\"16\",\"value\":\"1\"},\n",
       "                    {\"node\":\"193\",\"link\":\"16\",\"value\":\"1\"},\n",
       "                    {\"node\":\"193\",\"link\":\"17\",\"value\":\"1\"},\n",
       "                    {\"node\":\"194\",\"link\":\"16\",\"value\":\"1\"},\n",
       "                    {\"node\":\"194\",\"link\":\"17\",\"value\":\"1\"},\n",
       "                    {\"node\":\"195\",\"link\":\"16\",\"value\":\"1\"},\n",
       "                    {\"node\":\"196\",\"link\":\"16\",\"value\":\"1\"},\n",
       "                    {\"node\":\"197\",\"link\":\"16\",\"value\":\"1\"},\n",
       "                    {\"node\":\"198\",\"link\":\"16\",\"value\":\"1\"},\n",
       "                    {\"node\":\"199\",\"link\":\"16\",\"value\":\"1\"},\n",
       "                    {\"node\":\"200\",\"link\":\"16\",\"value\":\"1\"},\n",
       "                    {\"node\":\"200\",\"link\":\"17\",\"value\":\"1\"},\n",
       "                    {\"node\":\"201\",\"link\":\"16\",\"value\":\"1\"},\n",
       "                    {\"node\":\"202\",\"link\":\"16\",\"value\":\"1\"},\n",
       "                    {\"node\":\"203\",\"link\":\"16\",\"value\":\"1\"},\n",
       "                    {\"node\":\"204\",\"link\":\"16\",\"value\":\"1\"},\n",
       "                    {\"node\":\"205\",\"link\":\"16\",\"value\":\"1\"},\n",
       "                    {\"node\":\"205\",\"link\":\"17\",\"value\":\"1\"},\n",
       "                    {\"node\":\"206\",\"link\":\"16\",\"value\":\"1\"},\n",
       "                    {\"node\":\"207\",\"link\":\"16\",\"value\":\"1\"},\n",
       "                    {\"node\":\"208\",\"link\":\"16\",\"value\":\"1\"},\n",
       "                    {\"node\":\"209\",\"link\":\"16\",\"value\":\"1\"},\n",
       "                    {\"node\":\"210\",\"link\":\"16\",\"value\":\"1\"},\n",
       "                    {\"node\":\"211\",\"link\":\"16\",\"value\":\"1\"},\n",
       "                    {\"node\":\"211\",\"link\":\"17\",\"value\":\"1\"},\n",
       "                    {\"node\":\"212\",\"link\":\"16\",\"value\":\"1\"},\n",
       "                    {\"node\":\"213\",\"link\":\"16\",\"value\":\"1\"},\n",
       "                    {\"node\":\"214\",\"link\":\"16\",\"value\":\"1\"},\n",
       "                    {\"node\":\"215\",\"link\":\"16\",\"value\":\"1\"},\n",
       "                    {\"node\":\"215\",\"link\":\"18\",\"value\":\"1\"},\n",
       "                    {\"node\":\"216\",\"link\":\"16\",\"value\":\"1\"},\n",
       "                    {\"node\":\"216\",\"link\":\"17\",\"value\":\"1\"},\n",
       "                    {\"node\":\"217\",\"link\":\"16\",\"value\":\"1\"},\n",
       "                    {\"node\":\"218\",\"link\":\"16\",\"value\":\"1\"},\n",
       "                    {\"node\":\"219\",\"link\":\"16\",\"value\":\"1\"},\n",
       "                    {\"node\":\"220\",\"link\":\"16\",\"value\":\"1\"},\n",
       "                    {\"node\":\"221\",\"link\":\"16\",\"value\":\"1\"},\n",
       "                    {\"node\":\"222\",\"link\":\"16\",\"value\":\"1\"},\n",
       "                    {\"node\":\"223\",\"link\":\"16\",\"value\":\"1\"},\n",
       "                    {\"node\":\"224\",\"link\":\"16\",\"value\":\"1\"},\n",
       "                    {\"node\":\"225\",\"link\":\"16\",\"value\":\"1\"},\n",
       "                    {\"node\":\"226\",\"link\":\"16\",\"value\":\"1\"},\n",
       "                    {\"node\":\"227\",\"link\":\"16\",\"value\":\"1\"},\n",
       "                    {\"node\":\"228\",\"link\":\"16\",\"value\":\"1\"},\n",
       "                    {\"node\":\"229\",\"link\":\"16\",\"value\":\"1\"},\n",
       "                    {\"node\":\"230\",\"link\":\"16\",\"value\":\"1\"},\n",
       "                    {\"node\":\"231\",\"link\":\"16\",\"value\":\"1\"},\n",
       "                    {\"node\":\"232\",\"link\":\"16\",\"value\":\"1\"},\n",
       "                    {\"node\":\"233\",\"link\":\"16\",\"value\":\"1\"},\n",
       "                    {\"node\":\"234\",\"link\":\"16\",\"value\":\"1\"},\n",
       "                    {\"node\":\"235\",\"link\":\"16\",\"value\":\"1\"},\n",
       "                    {\"node\":\"236\",\"link\":\"16\",\"value\":\"1\"},\n",
       "                    {\"node\":\"237\",\"link\":\"16\",\"value\":\"1\"},\n",
       "                    {\"node\":\"238\",\"link\":\"16\",\"value\":\"1\"},\n",
       "                    {\"node\":\"238\",\"link\":\"17\",\"value\":\"1\"},\n",
       "                    {\"node\":\"239\",\"link\":\"16\",\"value\":\"1\"},\n",
       "                    {\"node\":\"240\",\"link\":\"16\",\"value\":\"1\"},\n",
       "                    {\"node\":\"241\",\"link\":\"16\",\"value\":\"1\"},\n",
       "                    {\"node\":\"242\",\"link\":\"16\",\"value\":\"1\"},\n",
       "                    {\"node\":\"243\",\"link\":\"16\",\"value\":\"1\"},\n",
       "                    {\"node\":\"244\",\"link\":\"16\",\"value\":\"1\"},\n",
       "                    {\"node\":\"245\",\"link\":\"16\",\"value\":\"1\"},\n",
       "                    {\"node\":\"246\",\"link\":\"16\",\"value\":\"1\"},\n",
       "                    {\"node\":\"247\",\"link\":\"17\",\"value\":\"1\"},\n",
       "                    {\"node\":\"248\",\"link\":\"17\",\"value\":\"1\"},\n",
       "                    {\"node\":\"249\",\"link\":\"17\",\"value\":\"1\"},\n",
       "                    {\"node\":\"250\",\"link\":\"17\",\"value\":\"1\"},\n",
       "                    {\"node\":\"251\",\"link\":\"17\",\"value\":\"1\"},\n",
       "                    {\"node\":\"252\",\"link\":\"17\",\"value\":\"1\"},\n",
       "                    {\"node\":\"253\",\"link\":\"17\",\"value\":\"1\"},\n",
       "                    {\"node\":\"254\",\"link\":\"17\",\"value\":\"1\"},\n",
       "                    {\"node\":\"255\",\"link\":\"17\",\"value\":\"1\"},\n",
       "                    {\"node\":\"256\",\"link\":\"17\",\"value\":\"1\"},\n",
       "                    {\"node\":\"257\",\"link\":\"17\",\"value\":\"1\"},\n",
       "                    {\"node\":\"258\",\"link\":\"17\",\"value\":\"1\"},\n",
       "                    {\"node\":\"259\",\"link\":\"17\",\"value\":\"1\"},\n",
       "                    {\"node\":\"260\",\"link\":\"17\",\"value\":\"1\"},\n",
       "                    {\"node\":\"261\",\"link\":\"17\",\"value\":\"1\"},\n",
       "                    {\"node\":\"262\",\"link\":\"17\",\"value\":\"1\"},\n",
       "                    {\"node\":\"263\",\"link\":\"17\",\"value\":\"1\"},\n",
       "                    {\"node\":\"264\",\"link\":\"17\",\"value\":\"1\"},\n",
       "                    {\"node\":\"265\",\"link\":\"17\",\"value\":\"1\"},\n",
       "                    {\"node\":\"266\",\"link\":\"17\",\"value\":\"1\"},\n",
       "                    {\"node\":\"267\",\"link\":\"17\",\"value\":\"1\"},\n",
       "                    {\"node\":\"268\",\"link\":\"18\",\"value\":\"1\"},\n",
       "                    {\"node\":\"269\",\"link\":\"18\",\"value\":\"1\"},\n",
       "                    {\"node\":\"270\",\"link\":\"18\",\"value\":\"1\"},\n",
       "                    {\"node\":\"271\",\"link\":\"18\",\"value\":\"1\"},\n",
       "                    {\"node\":\"272\",\"link\":\"18\",\"value\":\"1\"},\n",
       "                    {\"node\":\"273\",\"link\":\"19\",\"value\":\"1\"},\n",
       "                    {\"node\":\"274\",\"link\":\"20\",\"value\":\"1\"},\n",
       "                    {\"node\":\"275\",\"link\":\"20\",\"value\":\"1\"},\n",
       "                    {\"node\":\"276\",\"link\":\"20\",\"value\":\"1\"},\n",
       "                    {\"node\":\"277\",\"link\":\"21\",\"value\":\"1\"},\n",
       "                    {\"node\":\"278\",\"link\":\"21\",\"value\":\"1\"},\n",
       "                    {\"node\":\"279\",\"link\":\"21\",\"value\":\"1\"},\n",
       "                    {\"node\":\"280\",\"link\":\"21\",\"value\":\"1\"},\n",
       "                    {\"node\":\"281\",\"link\":\"21\",\"value\":\"1\"},\n",
       "                    {\"node\":\"282\",\"link\":\"22\",\"value\":\"1\"},\n",
       "                    {\"node\":\"283\",\"link\":\"23\",\"value\":\"1\"},\n",
       "                    {\"node\":\"284\",\"link\":\"24\",\"value\":\"1\"},\n",
       "                    {\"node\":\"285\",\"link\":\"24\",\"value\":\"1\"},\n",
       "                    {\"node\":\"286\",\"link\":\"24\",\"value\":\"1\"}\n",
       "        ]\n",
       "    }},{preferences:{\"colorEdges\":\"default\",\"colorNodes\":\"default\",\"sizeNodes\":\"default\"}},{idColorEdge:\"5\"});\n",
       "</script>\n"
      ],
      "text/plain": [
       "HTML{String}(\"<head>\\n<link rel=\\\"stylesheet\\\" type=\\\"text/css\\\" href=\\\"https://isislab-unisa.github.io/hypergraphs-plot/css/color-edge-style.css\\\">\\n</head>\\n<div class=\\\"hg-plot5\\\"></div>\\n<script src=\\\"https://isislab-unisa.github.io/hypergraphs-plot//bundle.v1.0.js\\\"></script>\\n<script>\\nhgplot.drawing.hgColorEdgePlot({graph:{\\n    \\\"nodes\\\":[\\n        {\\\"id\\\":\\\"1\\\" , \\\"links\\\":[\\\"1\\\"]},\\n        {\\\"id\\\":\\\"2\\\" , \\\"links\\\":[\\\"1\\\"]},\\n        {\\\"id\\\":\\\"3\\\" , \\\"links\\\":[\\\"1\\\",\\\"12\\\"]},\\n        {\\\"id\\\":\\\"4\\\" , \\\"links\\\":[\\\"1\\\"]},\\n        {\\\"id\\\":\\\"5\\\" , \\\"links\\\":[\\\"1\\\",\\\"12\\\"]},\\n        {\\\"id\\\":\\\"6\\\" , \\\"links\\\":[\\\"1\\\"]},\\n        {\\\"id\\\":\\\"7\\\" , \\\"links\\\":[\\\"1\\\"]},\\n        {\\\"id\\\":\\\"8\\\" , \\\"links\\\":[\\\"1\\\"]},\\n        {\\\"id\\\":\\\"9\\\" , \\\"links\\\":[\\\"1\\\"]},\\n        {\\\"id\\\":\\\"10\\\" , \\\"links\\\":[\\\"1\\\",\\\"12\\\"]},\\n        {\\\"id\\\":\\\"11\\\" , \\\"links\\\":[\\\"1\\\"]},\\n        {\\\"id\\\":\\\"12\\\" , \\\"links\\\":[\\\"1\\\"]},\\n        {\\\"id\\\":\\\"13\\\" , \\\"links\\\":[\\\"1\\\"]},\\n        {\\\"id\\\":\\\"14\\\" , \\\"links\\\":[\\\"1\\\"]},\\n        {\\\"id\\\":\\\"15\\\" , \\\"links\\\":[\\\"1\\\"]},\\n        {\\\"id\\\":\\\"16\\\" , \\\"links\\\":[\\\"1\\\"]},\\n        {\\\"id\\\":\\\"17\\\" , \\\"links\\\":[\\\"1\\\",\\\"16\\\"]},\\n        {\\\"id\\\":\\\"18\\\" , \\\"links\\\":[\\\"1\\\"]},\\n        {\\\"id\\\":\\\"19\\\" , \\\"links\\\":[\\\"1\\\"]},\\n        {\\\"id\\\":\\\"20\\\" , \\\"links\\\":[\\\"1\\\"]},\\n        {\\\"id\\\":\\\"21\\\" , \\\"links\\\":[\\\"2\\\",\\\"17\\\"]},\\n        {\\\"id\\\":\\\"22\\\" , \\\"links\\\":[\\\"3\\\"]},\\n        {\\\"id\\\":\\\"23\\\" , \\\"links\\\":[\\\"3\\\"]},\\n        {\\\"id\\\":\\\"24\\\" , \\\"links\\\":[\\\"3\\\"]},\\n        {\\\"id\\\":\\\"25\\\" , \\\"links\\\":[\\\"3\\\"]},\\n        {\\\"id\\\":\\\"26\\\" , \\\"links\\\":[\\\"3\\\"]},\\n        {\\\"id\\\":\\\"27\\\" , \\\"links\\\":[\\\"3\\\"]},\\n        {\\\"id\\\":\\\"28\\\" , \\\"links\\\":[\\\"3\\\"]},\\n        {\\\"id\\\":\\\"29\\\" , \\\"links\\\":[\\\"3\\\"]},\\n        {\\\"id\\\":\\\"30\\\" , \\\"links\\\":[\\\"3\\\"]},\\n        {\\\"id\\\":\\\"31\\\" , \\\"links\\\":[\\\"4\\\"]},\\n        {\\\"id\\\":\\\"32\\\" , \\\"links\\\":[\\\"4\\\"]},\\n        {\\\"id\\\":\\\"33\\\" , \\\"links\\\":[\\\"4\\\"]},\\n        {\\\"id\\\":\\\"34\\\" , \\\"links\\\":[\\\"5\\\",\\\"16\\\"]},\\n        {\\\"id\\\":\\\"35\\\" , \\\"links\\\":[\\\"5\\\"]},\\n        {\\\"id\\\":\\\"36\\\" , \\\"links\\\":[\\\"5\\\"]},\\n        {\\\"id\\\":\\\"37\\\" , \\\"links\\\":[\\\"5\\\"]},\\n        {\\\"id\\\":\\\"38\\\" , \\\"links\\\":[\\\"5\\\",\\\"16\\\"]},\\n        {\\\"id\\\":\\\"39\\\" , \\\"links\\\":[\\\"5\\\",\\\"16\\\"]},\\n        {\\\"id\\\":\\\"40\\\" , \\\"links\\\":[\\\"5\\\"]},\\n        {\\\"id\\\":\\\"41\\\" , \\\"links\\\":[\\\"5\\\"]},\\n        {\\\"id\\\":\\\"42\\\" , \\\"links\\\":[\\\"5\\\"]},\\n        {\\\"id\\\":\\\"43\\\" , \\\"links\\\":[\\\"5\\\",\\\"16\\\"]},\\n        {\\\"id\\\":\\\"44\\\" , \\\"links\\\":[\\\"5\\\"]},\\n        {\\\"id\\\":\\\"45\\\" , \\\"links\\\":[\\\"5\\\"]},\\n        {\\\"id\\\":\\\"46\\\" , \\\"links\\\":[\\\"5\\\",\\\"17\\\"]},\\n        {\\\"id\\\":\\\"47\\\" , \\\"links\\\":[\\\"5\\\",\\\"16\\\"]},\\n        {\\\"id\\\":\\\"48\\\" , \\\"links\\\":[\\\"5\\\"]},\\n        {\\\"id\\\":\\\"49\\\" , \\\"links\\\":[\\\"5\\\"]},\\n        {\\\"id\\\":\\\"50\\\" , \\\"links\\\":[\\\"5\\\",\\\"16\\\"]},\\n        {\\\"id\\\":\\\"51\\\" , \\\"links\\\":[\\\"6\\\",\\\"16\\\"]},\\n        {\\\"id\\\":\\\"52\\\" , \\\"links\\\":[\\\"7\\\"]},\\n        {\\\"id\\\":\\\"53\\\" , \\\"links\\\":[\\\"7\\\"]},\\n        {\\\"id\\\":\\\"54\\\" , \\\"links\\\":[\\\"7\\\",\\\"20\\\"]},\\n        {\\\"id\\\":\\\"55\\\" , \\\"links\\\":[\\\"7\\\",\\\"20\\\"]},\\n        {\\\"id\\\":\\\"56\\\" , \\\"links\\\":[\\\"7\\\"]},\\n        {\\\"id\\\":\\\"57\\\" , \\\"links\\\":[\\\"7\\\",\\\"18\\\"]},\\n        {\\\"id\\\":\\\"58\\\" , \\\"links\\\":[\\\"7\\\",\\\"20\\\"]},\\n        {\\\"id\\\":\\\"59\\\" , \\\"links\\\":[\\\"7\\\",\\\"20\\\"]},\\n        {\\\"id\\\":\\\"60\\\" , \\\"links\\\":[\\\"7\\\"]},\\n        {\\\"id\\\":\\\"61\\\" , \\\"links\\\":[\\\"7\\\"]},\\n        {\\\"id\\\":\\\"62\\\" , \\\"links\\\":[\\\"7\\\",\\\"20\\\"]},\\n        {\\\"id\\\":\\\"63\\\" , \\\"links\\\":[\\\"7\\\"]},\\n        {\\\"id\\\":\\\"64\\\" , \\\"links\\\":[\\\"7\\\",\\\"20\\\"]},\\n        {\\\"id\\\":\\\"65\\\" , \\\"links\\\":[\\\"7\\\"]},\\n        {\\\"id\\\":\\\"66\\\" , \\\"links\\\":[\\\"7\\\",\\\"20\\\"]},\\n        {\\\"id\\\":\\\"67\\\" , \\\"links\\\":[\\\"7\\\"]},\\n        {\\\"id\\\":\\\"68\\\" , \\\"links\\\":[\\\"7\\\"]},\\n        {\\\"id\\\":\\\"69\\\" , \\\"links\\\":[\\\"7\\\",\\\"20\\\"]},\\n        {\\\"id\\\":\\\"70\\\" , \\\"links\\\":[\\\"7\\\",\\\"20\\\"]},\\n        {\\\"id\\\":\\\"71\\\" , \\\"links\\\":[\\\"7\\\",\\\"20\\\"]},\\n        {\\\"id\\\":\\\"72\\\" , \\\"links\\\":[\\\"8\\\"]},\\n        {\\\"id\\\":\\\"73\\\" , \\\"links\\\":[\\\"8\\\"]},\\n        {\\\"id\\\":\\\"74\\\" , \\\"links\\\":[\\\"9\\\",\\\"21\\\"]},\\n        {\\\"id\\\":\\\"75\\\" , \\\"links\\\":[\\\"10\\\"]},\\n        {\\\"id\\\":\\\"76\\\" , \\\"links\\\":[\\\"10\\\"]},\\n        {\\\"id\\\":\\\"77\\\" , \\\"links\\\":[\\\"10\\\"]},\\n        {\\\"id\\\":\\\"78\\\" , \\\"links\\\":[\\\"10\\\"]},\\n        {\\\"id\\\":\\\"79\\\" , \\\"links\\\":[\\\"10\\\"]},\\n        {\\\"id\\\":\\\"80\\\" , \\\"links\\\":[\\\"10\\\",\\\"16\\\"]},\\n        {\\\"id\\\":\\\"81\\\" , \\\"links\\\":[\\\"10\\\"]},\\n        {\\\"id\\\":\\\"82\\\" , \\\"links\\\":[\\\"10\\\"]},\\n        {\\\"id\\\":\\\"83\\\" , \\\"links\\\":[\\\"10\\\"]},\\n        {\\\"id\\\":\\\"84\\\" , \\\"links\\\":[\\\"10\\\"]},\\n        {\\\"id\\\":\\\"85\\\" , \\\"links\\\":[\\\"11\\\"]},\\n        {\\\"id\\\":\\\"86\\\" , \\\"links\\\":[\\\"11\\\"]},\\n        {\\\"id\\\":\\\"87\\\" , \\\"links\\\":[\\\"11\\\"]},\\n        {\\\"id\\\":\\\"88\\\" , \\\"links\\\":[\\\"11\\\"]},\\n        {\\\"id\\\":\\\"89\\\" , \\\"links\\\":[\\\"12\\\"]},\\n        {\\\"id\\\":\\\"90\\\" , \\\"links\\\":[\\\"12\\\"]},\\n        {\\\"id\\\":\\\"91\\\" , \\\"links\\\":[\\\"12\\\"]},\\n        {\\\"id\\\":\\\"92\\\" , \\\"links\\\":[\\\"12\\\"]},\\n        {\\\"id\\\":\\\"93\\\" , \\\"links\\\":[\\\"12\\\"]},\\n        {\\\"id\\\":\\\"94\\\" , \\\"links\\\":[\\\"12\\\"]},\\n        {\\\"id\\\":\\\"95\\\" , \\\"links\\\":[\\\"12\\\"]},\\n        {\\\"id\\\":\\\"96\\\" , \\\"links\\\":[\\\"12\\\"]},\\n        {\\\"id\\\":\\\"97\\\" , \\\"links\\\":[\\\"12\\\"]},\\n        {\\\"id\\\":\\\"98\\\" , \\\"links\\\":[\\\"12\\\"]},\\n        {\\\"id\\\":\\\"99\\\" , \\\"links\\\":[\\\"12\\\"]},\\n        {\\\"id\\\":\\\"100\\\" , \\\"links\\\":[\\\"12\\\"]},\\n        {\\\"id\\\":\\\"101\\\" , \\\"links\\\":[\\\"12\\\"]},\\n        {\\\"id\\\":\\\"102\\\" , \\\"links\\\":[\\\"12\\\"]},\\n        {\\\"id\\\":\\\"103\\\" , \\\"links\\\":[\\\"12\\\"]},\\n        {\\\"id\\\":\\\"104\\\" , \\\"links\\\":[\\\"12\\\"]},\\n        {\\\"id\\\":\\\"105\\\" , \\\"links\\\":[\\\"12\\\"]},\\n        {\\\"id\\\":\\\"106\\\" , \\\"links\\\":[\\\"12\\\"]},\\n        {\\\"id\\\":\\\"107\\\" , \\\"links\\\":[\\\"12\\\"]},\\n        {\\\"id\\\":\\\"108\\\" , \\\"links\\\":[\\\"12\\\"]},\\n        {\\\"id\\\":\\\"109\\\" , \\\"links\\\":[\\\"12\\\"]},\\n        {\\\"id\\\":\\\"110\\\" , \\\"links\\\":[\\\"12\\\"]},\\n        {\\\"id\\\":\\\"111\\\" , \\\"links\\\":[\\\"12\\\"]},\\n        {\\\"id\\\":\\\"112\\\" , \\\"links\\\":[\\\"12\\\",\\\"16\\\"]},\\n        {\\\"id\\\":\\\"113\\\" , \\\"links\\\":[\\\"12\\\"]},\\n        {\\\"id\\\":\\\"114\\\" , \\\"links\\\":[\\\"12\\\"]},\\n        {\\\"id\\\":\\\"115\\\" , \\\"links\\\":[\\\"12\\\"]},\\n        {\\\"id\\\":\\\"116\\\" , \\\"links\\\":[\\\"13\\\"]},\\n        {\\\"id\\\":\\\"117\\\" , \\\"links\\\":[\\\"14\\\"]},\\n        {\\\"id\\\":\\\"118\\\" , \\\"links\\\":[\\\"14\\\"]},\\n        {\\\"id\\\":\\\"119\\\" , \\\"links\\\":[\\\"14\\\"]},\\n        {\\\"id\\\":\\\"120\\\" , \\\"links\\\":[\\\"14\\\"]},\\n        {\\\"id\\\":\\\"121\\\" , \\\"links\\\":[\\\"14\\\"]},\\n        {\\\"id\\\":\\\"122\\\" , \\\"links\\\":[\\\"15\\\"]},\\n        {\\\"id\\\":\\\"123\\\" , \\\"links\\\":[\\\"15\\\"]},\\n        {\\\"id\\\":\\\"124\\\" , \\\"links\\\":[\\\"16\\\"]},\\n        {\\\"id\\\":\\\"125\\\" , \\\"links\\\":[\\\"16\\\"]},\\n        {\\\"id\\\":\\\"126\\\" , \\\"links\\\":[\\\"16\\\",\\\"17\\\"]},\\n        {\\\"id\\\":\\\"127\\\" , \\\"links\\\":[\\\"16\\\"]},\\n        {\\\"id\\\":\\\"128\\\" , \\\"links\\\":[\\\"16\\\"]},\\n        {\\\"id\\\":\\\"129\\\" , \\\"links\\\":[\\\"16\\\"]},\\n        {\\\"id\\\":\\\"130\\\" , \\\"links\\\":[\\\"16\\\"]},\\n        {\\\"id\\\":\\\"131\\\" , \\\"links\\\":[\\\"16\\\"]},\\n        {\\\"id\\\":\\\"132\\\" , \\\"links\\\":[\\\"16\\\"]},\\n        {\\\"id\\\":\\\"133\\\" , \\\"links\\\":[\\\"16\\\"]},\\n        {\\\"id\\\":\\\"134\\\" , \\\"links\\\":[\\\"16\\\"]},\\n        {\\\"id\\\":\\\"135\\\" , \\\"links\\\":[\\\"16\\\"]},\\n        {\\\"id\\\":\\\"136\\\" , \\\"links\\\":[\\\"16\\\"]},\\n        {\\\"id\\\":\\\"137\\\" , \\\"links\\\":[\\\"16\\\"]},\\n        {\\\"id\\\":\\\"138\\\" , \\\"links\\\":[\\\"16\\\"]},\\n        {\\\"id\\\":\\\"139\\\" , \\\"links\\\":[\\\"16\\\"]},\\n        {\\\"id\\\":\\\"140\\\" , \\\"links\\\":[\\\"16\\\"]},\\n        {\\\"id\\\":\\\"141\\\" , \\\"links\\\":[\\\"16\\\"]},\\n        {\\\"id\\\":\\\"142\\\" , \\\"links\\\":[\\\"16\\\"]},\\n        {\\\"id\\\":\\\"143\\\" , \\\"links\\\":[\\\"16\\\"]},\\n        {\\\"id\\\":\\\"144\\\" , \\\"links\\\":[\\\"16\\\"]},\\n        {\\\"id\\\":\\\"145\\\" , \\\"links\\\":[\\\"16\\\"]},\\n        {\\\"id\\\":\\\"146\\\" , \\\"links\\\":[\\\"16\\\"]},\\n        {\\\"id\\\":\\\"147\\\" , \\\"links\\\":[\\\"16\\\"]},\\n        {\\\"id\\\":\\\"148\\\" , \\\"links\\\":[\\\"16\\\"]},\\n        {\\\"id\\\":\\\"149\\\" , \\\"links\\\":[\\\"16\\\"]},\\n        {\\\"id\\\":\\\"150\\\" , \\\"links\\\":[\\\"16\\\"]},\\n        {\\\"id\\\":\\\"151\\\" , \\\"links\\\":[\\\"16\\\"]},\\n        {\\\"id\\\":\\\"152\\\" , \\\"links\\\":[\\\"16\\\"]},\\n        {\\\"id\\\":\\\"153\\\" , \\\"links\\\":[\\\"16\\\"]},\\n        {\\\"id\\\":\\\"154\\\" , \\\"links\\\":[\\\"16\\\"]},\\n        {\\\"id\\\":\\\"155\\\" , \\\"links\\\":[\\\"16\\\"]},\\n        {\\\"id\\\":\\\"156\\\" , \\\"links\\\":[\\\"16\\\"]},\\n        {\\\"id\\\":\\\"157\\\" , \\\"links\\\":[\\\"16\\\"]},\\n        {\\\"id\\\":\\\"158\\\" , \\\"links\\\":[\\\"16\\\"]},\\n        {\\\"id\\\":\\\"159\\\" , \\\"links\\\":[\\\"16\\\"]},\\n        {\\\"id\\\":\\\"160\\\" , \\\"links\\\":[\\\"16\\\"]},\\n        {\\\"id\\\":\\\"161\\\" , \\\"links\\\":[\\\"16\\\"]},\\n        {\\\"id\\\":\\\"162\\\" , \\\"links\\\":[\\\"16\\\"]},\\n        {\\\"id\\\":\\\"163\\\" , \\\"links\\\":[\\\"16\\\"]},\\n        {\\\"id\\\":\\\"164\\\" , \\\"links\\\":[\\\"16\\\"]},\\n        {\\\"id\\\":\\\"165\\\" , \\\"links\\\":[\\\"16\\\"]},\\n        {\\\"id\\\":\\\"166\\\" , \\\"links\\\":[\\\"16\\\",\\\"18\\\"]},\\n        {\\\"id\\\":\\\"167\\\" , \\\"links\\\":[\\\"16\\\"]},\\n        {\\\"id\\\":\\\"168\\\" , \\\"links\\\":[\\\"16\\\"]},\\n        {\\\"id\\\":\\\"169\\\" , \\\"links\\\":[\\\"16\\\"]},\\n        {\\\"id\\\":\\\"170\\\" , \\\"links\\\":[\\\"16\\\"]},\\n        {\\\"id\\\":\\\"171\\\" , \\\"links\\\":[\\\"16\\\"]},\\n        {\\\"id\\\":\\\"172\\\" , \\\"links\\\":[\\\"16\\\"]},\\n        {\\\"id\\\":\\\"173\\\" , \\\"links\\\":[\\\"16\\\"]},\\n        {\\\"id\\\":\\\"174\\\" , \\\"links\\\":[\\\"16\\\",\\\"18\\\"]},\\n        {\\\"id\\\":\\\"175\\\" , \\\"links\\\":[\\\"16\\\"]},\\n        {\\\"id\\\":\\\"176\\\" , \\\"links\\\":[\\\"16\\\"]},\\n        {\\\"id\\\":\\\"177\\\" , \\\"links\\\":[\\\"16\\\"]},\\n        {\\\"id\\\":\\\"178\\\" , \\\"links\\\":[\\\"16\\\"]},\\n        {\\\"id\\\":\\\"179\\\" , \\\"links\\\":[\\\"16\\\"]},\\n        {\\\"id\\\":\\\"180\\\" , \\\"links\\\":[\\\"16\\\"]},\\n        {\\\"id\\\":\\\"181\\\" , \\\"links\\\":[\\\"16\\\"]},\\n        {\\\"id\\\":\\\"182\\\" , \\\"links\\\":[\\\"16\\\"]},\\n        {\\\"id\\\":\\\"183\\\" , \\\"links\\\":[\\\"16\\\"]},\\n        {\\\"id\\\":\\\"184\\\" , \\\"links\\\":[\\\"16\\\"]},\\n        {\\\"id\\\":\\\"185\\\" , \\\"links\\\":[\\\"16\\\"]},\\n        {\\\"id\\\":\\\"186\\\" , \\\"links\\\":[\\\"16\\\"]},\\n        {\\\"id\\\":\\\"187\\\" , \\\"links\\\":[\\\"16\\\"]},\\n        {\\\"id\\\":\\\"188\\\" , \\\"links\\\":[\\\"16\\\"]},\\n        {\\\"id\\\":\\\"189\\\" , \\\"links\\\":[\\\"16\\\",\\\"17\\\"]},\\n        {\\\"id\\\":\\\"190\\\" , \\\"links\\\":[\\\"16\\\"]},\\n        {\\\"id\\\":\\\"191\\\" , \\\"links\\\":[\\\"16\\\"]},\\n        {\\\"id\\\":\\\"192\\\" , \\\"links\\\":[\\\"16\\\"]},\\n        {\\\"id\\\":\\\"193\\\" , \\\"links\\\":[\\\"16\\\",\\\"17\\\"]},\\n        {\\\"id\\\":\\\"194\\\" , \\\"links\\\":[\\\"16\\\",\\\"17\\\"]},\\n        {\\\"id\\\":\\\"195\\\" , \\\"links\\\":[\\\"16\\\"]},\\n        {\\\"id\\\":\\\"196\\\" , \\\"links\\\":[\\\"16\\\"]},\\n        {\\\"id\\\":\\\"197\\\" , \\\"links\\\":[\\\"16\\\"]},\\n        {\\\"id\\\":\\\"198\\\" , \\\"links\\\":[\\\"16\\\"]},\\n        {\\\"id\\\":\\\"199\\\" , \\\"links\\\":[\\\"16\\\"]},\\n        {\\\"id\\\":\\\"200\\\" , \\\"links\\\":[\\\"16\\\",\\\"17\\\"]},\\n        {\\\"id\\\":\\\"201\\\" , \\\"links\\\":[\\\"16\\\"]},\\n        {\\\"id\\\":\\\"202\\\" , \\\"links\\\":[\\\"16\\\"]},\\n        {\\\"id\\\":\\\"203\\\" , \\\"links\\\":[\\\"16\\\"]},\\n        {\\\"id\\\":\\\"204\\\" , \\\"links\\\":[\\\"16\\\"]},\\n        {\\\"id\\\":\\\"205\\\" , \\\"links\\\":[\\\"16\\\",\\\"17\\\"]},\\n        {\\\"id\\\":\\\"206\\\" , \\\"links\\\":[\\\"16\\\"]},\\n        {\\\"id\\\":\\\"207\\\" , \\\"links\\\":[\\\"16\\\"]},\\n        {\\\"id\\\":\\\"208\\\" , \\\"links\\\":[\\\"16\\\"]},\\n        {\\\"id\\\":\\\"209\\\" , \\\"links\\\":[\\\"16\\\"]},\\n        {\\\"id\\\":\\\"210\\\" , \\\"links\\\":[\\\"16\\\"]},\\n        {\\\"id\\\":\\\"211\\\" , \\\"links\\\":[\\\"16\\\",\\\"17\\\"]},\\n        {\\\"id\\\":\\\"212\\\" , \\\"links\\\":[\\\"16\\\"]},\\n        {\\\"id\\\":\\\"213\\\" , \\\"links\\\":[\\\"16\\\"]},\\n        {\\\"id\\\":\\\"214\\\" , \\\"links\\\":[\\\"16\\\"]},\\n        {\\\"id\\\":\\\"215\\\" , \\\"links\\\":[\\\"16\\\",\\\"18\\\"]},\\n        {\\\"id\\\":\\\"216\\\" , \\\"links\\\":[\\\"16\\\",\\\"17\\\"]},\\n        {\\\"id\\\":\\\"217\\\" , \\\"links\\\":[\\\"16\\\"]},\\n        {\\\"id\\\":\\\"218\\\" , \\\"links\\\":[\\\"16\\\"]},\\n        {\\\"id\\\":\\\"219\\\" , \\\"links\\\":[\\\"16\\\"]},\\n        {\\\"id\\\":\\\"220\\\" , \\\"links\\\":[\\\"16\\\"]},\\n        {\\\"id\\\":\\\"221\\\" , \\\"links\\\":[\\\"16\\\"]},\\n        {\\\"id\\\":\\\"222\\\" , \\\"links\\\":[\\\"16\\\"]},\\n        {\\\"id\\\":\\\"223\\\" , \\\"links\\\":[\\\"16\\\"]},\\n        {\\\"id\\\":\\\"224\\\" , \\\"links\\\":[\\\"16\\\"]},\\n        {\\\"id\\\":\\\"225\\\" , \\\"links\\\":[\\\"16\\\"]},\\n        {\\\"id\\\":\\\"226\\\" , \\\"links\\\":[\\\"16\\\"]},\\n        {\\\"id\\\":\\\"227\\\" , \\\"links\\\":[\\\"16\\\"]},\\n        {\\\"id\\\":\\\"228\\\" , \\\"links\\\":[\\\"16\\\"]},\\n        {\\\"id\\\":\\\"229\\\" , \\\"links\\\":[\\\"16\\\"]},\\n        {\\\"id\\\":\\\"230\\\" , \\\"links\\\":[\\\"16\\\"]},\\n        {\\\"id\\\":\\\"231\\\" , \\\"links\\\":[\\\"16\\\"]},\\n        {\\\"id\\\":\\\"232\\\" , \\\"links\\\":[\\\"16\\\"]},\\n        {\\\"id\\\":\\\"233\\\" , \\\"links\\\":[\\\"16\\\"]},\\n        {\\\"id\\\":\\\"234\\\" , \\\"links\\\":[\\\"16\\\"]},\\n        {\\\"id\\\":\\\"235\\\" , \\\"links\\\":[\\\"16\\\"]},\\n        {\\\"id\\\":\\\"236\\\" , \\\"links\\\":[\\\"16\\\"]},\\n        {\\\"id\\\":\\\"237\\\" , \\\"links\\\":[\\\"16\\\"]},\\n        {\\\"id\\\":\\\"238\\\" , \\\"links\\\":[\\\"16\\\",\\\"17\\\"]},\\n        {\\\"id\\\":\\\"239\\\" , \\\"links\\\":[\\\"16\\\"]},\\n        {\\\"id\\\":\\\"240\\\" , \\\"links\\\":[\\\"16\\\"]},\\n        {\\\"id\\\":\\\"241\\\" , \\\"links\\\":[\\\"16\\\"]},\\n        {\\\"id\\\":\\\"242\\\" , \\\"links\\\":[\\\"16\\\"]},\\n        {\\\"id\\\":\\\"243\\\" , \\\"links\\\":[\\\"16\\\"]},\\n        {\\\"id\\\":\\\"244\\\" , \\\"links\\\":[\\\"16\\\"]},\\n        {\\\"id\\\":\\\"245\\\" , \\\"links\\\":[\\\"16\\\"]},\\n        {\\\"id\\\":\\\"246\\\" , \\\"links\\\":[\\\"16\\\"]},\\n        {\\\"id\\\":\\\"247\\\" , \\\"links\\\":[\\\"17\\\"]},\\n        {\\\"id\\\":\\\"248\\\" , \\\"links\\\":[\\\"17\\\"]},\\n        {\\\"id\\\":\\\"249\\\" , \\\"links\\\":[\\\"17\\\"]},\\n        {\\\"id\\\":\\\"250\\\" , \\\"links\\\":[\\\"17\\\"]},\\n        {\\\"id\\\":\\\"251\\\" , \\\"links\\\":[\\\"17\\\"]},\\n        {\\\"id\\\":\\\"252\\\" , \\\"links\\\":[\\\"17\\\"]},\\n        {\\\"id\\\":\\\"253\\\" , \\\"links\\\":[\\\"17\\\"]},\\n        {\\\"id\\\":\\\"254\\\" , \\\"links\\\":[\\\"17\\\"]},\\n        {\\\"id\\\":\\\"255\\\" , \\\"links\\\":[\\\"17\\\"]},\\n        {\\\"id\\\":\\\"256\\\" , \\\"links\\\":[\\\"17\\\"]},\\n        {\\\"id\\\":\\\"257\\\" , \\\"links\\\":[\\\"17\\\"]},\\n        {\\\"id\\\":\\\"258\\\" , \\\"links\\\":[\\\"17\\\"]},\\n        {\\\"id\\\":\\\"259\\\" , \\\"links\\\":[\\\"17\\\"]},\\n        {\\\"id\\\":\\\"260\\\" , \\\"links\\\":[\\\"17\\\"]},\\n        {\\\"id\\\":\\\"261\\\" , \\\"links\\\":[\\\"17\\\"]},\\n        {\\\"id\\\":\\\"262\\\" , \\\"links\\\":[\\\"17\\\"]},\\n        {\\\"id\\\":\\\"263\\\" , \\\"links\\\":[\\\"17\\\"]},\\n        {\\\"id\\\":\\\"264\\\" , \\\"links\\\":[\\\"17\\\"]},\\n        {\\\"id\\\":\\\"265\\\" , \\\"links\\\":[\\\"17\\\"]},\\n        {\\\"id\\\":\\\"266\\\" , \\\"links\\\":[\\\"17\\\"]},\\n        {\\\"id\\\":\\\"267\\\" , \\\"links\\\":[\\\"17\\\"]},\\n        {\\\"id\\\":\\\"268\\\" , \\\"links\\\":[\\\"18\\\"]},\\n        {\\\"id\\\":\\\"269\\\" , \\\"links\\\":[\\\"18\\\"]},\\n        {\\\"id\\\":\\\"270\\\" , \\\"links\\\":[\\\"18\\\"]},\\n        {\\\"id\\\":\\\"271\\\" , \\\"links\\\":[\\\"18\\\"]},\\n        {\\\"id\\\":\\\"272\\\" , \\\"links\\\":[\\\"18\\\"]},\\n        {\\\"id\\\":\\\"273\\\" , \\\"links\\\":[\\\"19\\\"]},\\n        {\\\"id\\\":\\\"274\\\" , \\\"links\\\":[\\\"20\\\"]},\\n        {\\\"id\\\":\\\"275\\\" , \\\"links\\\":[\\\"20\\\"]},\\n        {\\\"id\\\":\\\"276\\\" , \\\"links\\\":[\\\"20\\\"]},\\n        {\\\"id\\\":\\\"277\\\" , \\\"links\\\":[\\\"21\\\"]},\\n        {\\\"id\\\":\\\"278\\\" , \\\"links\\\":[\\\"21\\\"]},\\n        {\\\"id\\\":\\\"279\\\" , \\\"links\\\":[\\\"21\\\"]},\\n        {\\\"id\\\":\\\"280\\\" , \\\"links\\\":[\\\"21\\\"]},\\n        {\\\"id\\\":\\\"281\\\" , \\\"links\\\":[\\\"21\\\"]},\\n        {\\\"id\\\":\\\"282\\\" , \\\"links\\\":[\\\"22\\\"]},\\n        {\\\"id\\\":\\\"283\\\" , \\\"links\\\":[\\\"23\\\"]},\\n        {\\\"id\\\":\\\"284\\\" , \\\"links\\\":[\\\"24\\\"]},\\n        {\\\"id\\\":\\\"285\\\" , \\\"links\\\":[\\\"24\\\"]},\\n        {\\\"id\\\":\\\"286\\\" , \\\"links\\\":[\\\"24\\\"]}\\n    ],\\n    \\\"links\\\":[\\n        {\\\"id\\\":\\\"1\\\", \\\"nodes\\\": [\\\"1\\\",\\\"2\\\",\\\"3\\\",\\\"4\\\",\\\"5\\\",\\\"6\\\",\\\"7\\\",\\\"8\\\",\\\"9\\\",\\\"10\\\",\\\"11\\\",\\\"12\\\",\\\"13\\\",\\\"14\\\",\\\"15\\\",\\\"16\\\",\\\"17\\\",\\\"18\\\",\\\"19\\\",\\\"20\\\"]},\\n        {\\\"id\\\":\\\"2\\\", \\\"nodes\\\": [\\\"21\\\"]},\\n        {\\\"id\\\":\\\"3\\\", \\\"nodes\\\": [\\\"22\\\",\\\"23\\\",\\\"24\\\",\\\"25\\\",\\\"26\\\",\\\"27\\\",\\\"28\\\",\\\"29\\\",\\\"30\\\"]},\\n        {\\\"id\\\":\\\"4\\\", \\\"nodes\\\": [\\\"31\\\",\\\"32\\\",\\\"33\\\"]},\\n        {\\\"id\\\":\\\"5\\\", \\\"nodes\\\": [\\\"34\\\",\\\"35\\\",\\\"36\\\",\\\"37\\\",\\\"38\\\",\\\"39\\\",\\\"40\\\",\\\"41\\\",\\\"42\\\",\\\"43\\\",\\\"44\\\",\\\"45\\\",\\\"46\\\",\\\"47\\\",\\\"48\\\",\\\"49\\\",\\\"50\\\"]},\\n        {\\\"id\\\":\\\"6\\\", \\\"nodes\\\": [\\\"51\\\"]},\\n        {\\\"id\\\":\\\"7\\\", \\\"nodes\\\": [\\\"52\\\",\\\"53\\\",\\\"54\\\",\\\"55\\\",\\\"56\\\",\\\"57\\\",\\\"58\\\",\\\"59\\\",\\\"60\\\",\\\"61\\\",\\\"62\\\",\\\"63\\\",\\\"64\\\",\\\"65\\\",\\\"66\\\",\\\"67\\\",\\\"68\\\",\\\"69\\\",\\\"70\\\",\\\"71\\\"]},\\n        {\\\"id\\\":\\\"8\\\", \\\"nodes\\\": [\\\"72\\\",\\\"73\\\"]},\\n        {\\\"id\\\":\\\"9\\\", \\\"nodes\\\": [\\\"74\\\"]},\\n        {\\\"id\\\":\\\"10\\\", \\\"nodes\\\": [\\\"75\\\",\\\"76\\\",\\\"77\\\",\\\"78\\\",\\\"79\\\",\\\"80\\\",\\\"81\\\",\\\"82\\\",\\\"83\\\",\\\"84\\\"]},\\n        {\\\"id\\\":\\\"11\\\", \\\"nodes\\\": [\\\"85\\\",\\\"86\\\",\\\"87\\\",\\\"88\\\"]},\\n        {\\\"id\\\":\\\"12\\\", \\\"nodes\\\": [\\\"3\\\",\\\"5\\\",\\\"10\\\",\\\"89\\\",\\\"90\\\",\\\"91\\\",\\\"92\\\",\\\"93\\\",\\\"94\\\",\\\"95\\\",\\\"96\\\",\\\"97\\\",\\\"98\\\",\\\"99\\\",\\\"100\\\",\\\"101\\\",\\\"102\\\",\\\"103\\\",\\\"104\\\",\\\"105\\\",\\\"106\\\",\\\"107\\\",\\\"108\\\",\\\"109\\\",\\\"110\\\",\\\"111\\\",\\\"112\\\",\\\"113\\\",\\\"114\\\",\\\"115\\\"]},\\n        {\\\"id\\\":\\\"13\\\", \\\"nodes\\\": [\\\"116\\\"]},\\n        {\\\"id\\\":\\\"14\\\", \\\"nodes\\\": [\\\"117\\\",\\\"118\\\",\\\"119\\\",\\\"120\\\",\\\"121\\\"]},\\n        {\\\"id\\\":\\\"15\\\", \\\"nodes\\\": [\\\"122\\\",\\\"123\\\"]},\\n        {\\\"id\\\":\\\"16\\\", \\\"nodes\\\": [\\\"17\\\",\\\"34\\\",\\\"38\\\",\\\"39\\\",\\\"43\\\",\\\"47\\\",\\\"50\\\",\\\"51\\\",\\\"80\\\",\\\"112\\\",\\\"124\\\",\\\"125\\\",\\\"126\\\",\\\"127\\\",\\\"128\\\",\\\"129\\\",\\\"130\\\",\\\"131\\\",\\\"132\\\",\\\"133\\\",\\\"134\\\",\\\"135\\\",\\\"136\\\",\\\"137\\\",\\\"138\\\",\\\"139\\\",\\\"140\\\",\\\"141\\\",\\\"142\\\",\\\"143\\\",\\\"144\\\",\\\"145\\\",\\\"146\\\",\\\"147\\\",\\\"148\\\",\\\"149\\\",\\\"150\\\",\\\"151\\\",\\\"152\\\",\\\"153\\\",\\\"154\\\",\\\"155\\\",\\\"156\\\",\\\"157\\\",\\\"158\\\",\\\"159\\\",\\\"160\\\",\\\"161\\\",\\\"162\\\",\\\"163\\\",\\\"164\\\",\\\"165\\\",\\\"166\\\",\\\"167\\\",\\\"168\\\",\\\"169\\\",\\\"170\\\",\\\"171\\\",\\\"172\\\",\\\"173\\\",\\\"174\\\",\\\"175\\\",\\\"176\\\",\\\"177\\\",\\\"178\\\",\\\"179\\\",\\\"180\\\",\\\"181\\\",\\\"182\\\",\\\"183\\\",\\\"184\\\",\\\"185\\\",\\\"186\\\",\\\"187\\\",\\\"188\\\",\\\"189\\\",\\\"190\\\",\\\"191\\\",\\\"192\\\",\\\"193\\\",\\\"194\\\",\\\"195\\\",\\\"196\\\",\\\"197\\\",\\\"198\\\",\\\"199\\\",\\\"200\\\",\\\"201\\\",\\\"202\\\",\\\"203\\\",\\\"204\\\",\\\"205\\\",\\\"206\\\",\\\"207\\\",\\\"208\\\",\\\"209\\\",\\\"210\\\",\\\"211\\\",\\\"212\\\",\\\"213\\\",\\\"214\\\",\\\"215\\\",\\\"216\\\",\\\"217\\\",\\\"218\\\",\\\"219\\\",\\\"220\\\",\\\"221\\\",\\\"222\\\",\\\"223\\\",\\\"224\\\",\\\"225\\\",\\\"226\\\",\\\"227\\\",\\\"228\\\",\\\"229\\\",\\\"230\\\",\\\"231\\\",\\\"232\\\",\\\"233\\\",\\\"234\\\",\\\"235\\\",\\\"236\\\",\\\"237\\\",\\\"238\\\",\\\"239\\\",\\\"240\\\",\\\"241\\\",\\\"242\\\",\\\"243\\\",\\\"244\\\",\\\"245\\\",\\\"246\\\"]},\\n        {\\\"id\\\":\\\"17\\\", \\\"nodes\\\": [\\\"21\\\",\\\"46\\\",\\\"126\\\",\\\"189\\\",\\\"193\\\",\\\"194\\\",\\\"200\\\",\\\"205\\\",\\\"211\\\",\\\"216\\\",\\\"238\\\",\\\"247\\\",\\\"248\\\",\\\"249\\\",\\\"250\\\",\\\"251\\\",\\\"252\\\",\\\"253\\\",\\\"254\\\",\\\"255\\\",\\\"256\\\",\\\"257\\\",\\\"258\\\",\\\"259\\\",\\\"260\\\",\\\"261\\\",\\\"262\\\",\\\"263\\\",\\\"264\\\",\\\"265\\\",\\\"266\\\",\\\"267\\\"]},\\n        {\\\"id\\\":\\\"18\\\", \\\"nodes\\\": [\\\"57\\\",\\\"166\\\",\\\"174\\\",\\\"215\\\",\\\"268\\\",\\\"269\\\",\\\"270\\\",\\\"271\\\",\\\"272\\\"]},\\n        {\\\"id\\\":\\\"19\\\", \\\"nodes\\\": [\\\"273\\\"]},\\n        {\\\"id\\\":\\\"20\\\", \\\"nodes\\\": [\\\"54\\\",\\\"55\\\",\\\"58\\\",\\\"59\\\",\\\"62\\\",\\\"64\\\",\\\"66\\\",\\\"69\\\",\\\"70\\\",\\\"71\\\",\\\"274\\\",\\\"275\\\",\\\"276\\\"]},\\n        {\\\"id\\\":\\\"21\\\", \\\"nodes\\\": [\\\"74\\\",\\\"277\\\",\\\"278\\\",\\\"279\\\",\\\"280\\\",\\\"281\\\"]},\\n        {\\\"id\\\":\\\"22\\\", \\\"nodes\\\": [\\\"282\\\"]},\\n        {\\\"id\\\":\\\"23\\\", \\\"nodes\\\": [\\\"283\\\"]},\\n        {\\\"id\\\":\\\"24\\\", \\\"nodes\\\": [\\\"284\\\",\\\"285\\\",\\\"286\\\"]}\\n    ],\\n    \\\"nodelinks\\\":[\\n                    {\\\"node\\\":\\\"1\\\",\\\"link\\\":\\\"1\\\",\\\"value\\\":\\\"1\\\"},\\n                    {\\\"node\\\":\\\"2\\\",\\\"link\\\":\\\"1\\\",\\\"value\\\":\\\"1\\\"},\\n                    {\\\"node\\\":\\\"3\\\",\\\"link\\\":\\\"1\\\",\\\"value\\\":\\\"1\\\"},\\n                    {\\\"node\\\":\\\"3\\\",\\\"link\\\":\\\"12\\\",\\\"value\\\":\\\"1\\\"},\\n                    {\\\"node\\\":\\\"4\\\",\\\"link\\\":\\\"1\\\",\\\"value\\\":\\\"1\\\"},\\n                    {\\\"node\\\":\\\"5\\\",\\\"link\\\":\\\"1\\\",\\\"value\\\":\\\"1\\\"},\\n                    {\\\"node\\\":\\\"5\\\",\\\"link\\\":\\\"12\\\",\\\"value\\\":\\\"1\\\"},\\n                    {\\\"node\\\":\\\"6\\\",\\\"link\\\":\\\"1\\\",\\\"value\\\":\\\"1\\\"},\\n                    {\\\"node\\\":\\\"7\\\",\\\"link\\\":\\\"1\\\",\\\"value\\\":\\\"1\\\"},\\n                    {\\\"node\\\":\\\"8\\\",\\\"link\\\":\\\"1\\\",\\\"value\\\":\\\"1\\\"},\\n                    {\\\"node\\\":\\\"9\\\",\\\"link\\\":\\\"1\\\",\\\"value\\\":\\\"1\\\"},\\n                    {\\\"node\\\":\\\"10\\\",\\\"link\\\":\\\"1\\\",\\\"value\\\":\\\"1\\\"},\\n                    {\\\"node\\\":\\\"10\\\",\\\"link\\\":\\\"12\\\",\\\"value\\\":\\\"1\\\"},\\n                    {\\\"node\\\":\\\"11\\\",\\\"link\\\":\\\"1\\\",\\\"value\\\":\\\"1\\\"},\\n                    {\\\"node\\\":\\\"12\\\",\\\"link\\\":\\\"1\\\",\\\"value\\\":\\\"1\\\"},\\n                    {\\\"node\\\":\\\"13\\\",\\\"link\\\":\\\"1\\\",\\\"value\\\":\\\"1\\\"},\\n                    {\\\"node\\\":\\\"14\\\",\\\"link\\\":\\\"1\\\",\\\"value\\\":\\\"1\\\"},\\n                    {\\\"node\\\":\\\"15\\\",\\\"link\\\":\\\"1\\\",\\\"value\\\":\\\"1\\\"},\\n                    {\\\"node\\\":\\\"16\\\",\\\"link\\\":\\\"1\\\",\\\"value\\\":\\\"1\\\"},\\n                    {\\\"node\\\":\\\"17\\\",\\\"link\\\":\\\"1\\\",\\\"value\\\":\\\"1\\\"},\\n                    {\\\"node\\\":\\\"17\\\",\\\"link\\\":\\\"16\\\",\\\"value\\\":\\\"1\\\"},\\n                    {\\\"node\\\":\\\"18\\\",\\\"link\\\":\\\"1\\\",\\\"value\\\":\\\"1\\\"},\\n                    {\\\"node\\\":\\\"19\\\",\\\"link\\\":\\\"1\\\",\\\"value\\\":\\\"1\\\"},\\n                    {\\\"node\\\":\\\"20\\\",\\\"link\\\":\\\"1\\\",\\\"value\\\":\\\"1\\\"},\\n                    {\\\"node\\\":\\\"21\\\",\\\"link\\\":\\\"2\\\",\\\"value\\\":\\\"1\\\"},\\n                    {\\\"node\\\":\\\"21\\\",\\\"link\\\":\\\"17\\\",\\\"value\\\":\\\"1\\\"},\\n                    {\\\"node\\\":\\\"22\\\",\\\"link\\\":\\\"3\\\",\\\"value\\\":\\\"1\\\"},\\n                    {\\\"node\\\":\\\"23\\\",\\\"link\\\":\\\"3\\\",\\\"value\\\":\\\"1\\\"},\\n                    {\\\"node\\\":\\\"24\\\",\\\"link\\\":\\\"3\\\",\\\"value\\\":\\\"1\\\"},\\n                    {\\\"node\\\":\\\"25\\\",\\\"link\\\":\\\"3\\\",\\\"value\\\":\\\"1\\\"},\\n                    {\\\"node\\\":\\\"26\\\",\\\"link\\\":\\\"3\\\",\\\"value\\\":\\\"1\\\"},\\n                    {\\\"node\\\":\\\"27\\\",\\\"link\\\":\\\"3\\\",\\\"value\\\":\\\"1\\\"},\\n                    {\\\"node\\\":\\\"28\\\",\\\"link\\\":\\\"3\\\",\\\"value\\\":\\\"1\\\"},\\n                    {\\\"node\\\":\\\"29\\\",\\\"link\\\":\\\"3\\\",\\\"value\\\":\\\"1\\\"},\\n                    {\\\"node\\\":\\\"30\\\",\\\"link\\\":\\\"3\\\",\\\"value\\\":\\\"1\\\"},\\n                    {\\\"node\\\":\\\"31\\\",\\\"link\\\":\\\"4\\\",\\\"value\\\":\\\"1\\\"},\\n                    {\\\"node\\\":\\\"32\\\",\\\"link\\\":\\\"4\\\",\\\"value\\\":\\\"1\\\"},\\n                    {\\\"node\\\":\\\"33\\\",\\\"link\\\":\\\"4\\\",\\\"value\\\":\\\"1\\\"},\\n                    {\\\"node\\\":\\\"34\\\",\\\"link\\\":\\\"5\\\",\\\"value\\\":\\\"1\\\"},\\n                    {\\\"node\\\":\\\"34\\\",\\\"link\\\":\\\"16\\\",\\\"value\\\":\\\"1\\\"},\\n                    {\\\"node\\\":\\\"35\\\",\\\"link\\\":\\\"5\\\",\\\"value\\\":\\\"1\\\"},\\n                    {\\\"node\\\":\\\"36\\\",\\\"link\\\":\\\"5\\\",\\\"value\\\":\\\"1\\\"},\\n                    {\\\"node\\\":\\\"37\\\",\\\"link\\\":\\\"5\\\",\\\"value\\\":\\\"1\\\"},\\n                    {\\\"node\\\":\\\"38\\\",\\\"link\\\":\\\"5\\\",\\\"value\\\":\\\"1\\\"},\\n                    {\\\"node\\\":\\\"38\\\",\\\"link\\\":\\\"16\\\",\\\"value\\\":\\\"1\\\"},\\n                    {\\\"node\\\":\\\"39\\\",\\\"link\\\":\\\"5\\\",\\\"value\\\":\\\"1\\\"},\\n                    {\\\"node\\\":\\\"39\\\",\\\"link\\\":\\\"16\\\",\\\"value\\\":\\\"1\\\"},\\n                    {\\\"node\\\":\\\"40\\\",\\\"link\\\":\\\"5\\\",\\\"value\\\":\\\"1\\\"},\\n                    {\\\"node\\\":\\\"41\\\",\\\"link\\\":\\\"5\\\",\\\"value\\\":\\\"1\\\"},\\n                    {\\\"node\\\":\\\"42\\\",\\\"link\\\":\\\"5\\\",\\\"value\\\":\\\"1\\\"},\\n                    {\\\"node\\\":\\\"43\\\",\\\"link\\\":\\\"5\\\",\\\"value\\\":\\\"1\\\"},\\n                    {\\\"node\\\":\\\"43\\\",\\\"link\\\":\\\"16\\\",\\\"value\\\":\\\"1\\\"},\\n                    {\\\"node\\\":\\\"44\\\",\\\"link\\\":\\\"5\\\",\\\"value\\\":\\\"1\\\"},\\n                    {\\\"node\\\":\\\"45\\\",\\\"link\\\":\\\"5\\\",\\\"value\\\":\\\"1\\\"},\\n                    {\\\"node\\\":\\\"46\\\",\\\"link\\\":\\\"5\\\",\\\"value\\\":\\\"1\\\"},\\n                    {\\\"node\\\":\\\"46\\\",\\\"link\\\":\\\"17\\\",\\\"value\\\":\\\"1\\\"},\\n                    {\\\"node\\\":\\\"47\\\",\\\"link\\\":\\\"5\\\",\\\"value\\\":\\\"1\\\"},\\n                    {\\\"node\\\":\\\"47\\\",\\\"link\\\":\\\"16\\\",\\\"value\\\":\\\"1\\\"},\\n                    {\\\"node\\\":\\\"48\\\",\\\"link\\\":\\\"5\\\",\\\"value\\\":\\\"1\\\"},\\n                    {\\\"node\\\":\\\"49\\\",\\\"link\\\":\\\"5\\\",\\\"value\\\":\\\"1\\\"},\\n                    {\\\"node\\\":\\\"50\\\",\\\"link\\\":\\\"5\\\",\\\"value\\\":\\\"1\\\"},\\n                    {\\\"node\\\":\\\"50\\\",\\\"link\\\":\\\"16\\\",\\\"value\\\":\\\"1\\\"},\\n                    {\\\"node\\\":\\\"51\\\",\\\"link\\\":\\\"6\\\",\\\"value\\\":\\\"1\\\"},\\n                    {\\\"node\\\":\\\"51\\\",\\\"link\\\":\\\"16\\\",\\\"value\\\":\\\"1\\\"},\\n                    {\\\"node\\\":\\\"52\\\",\\\"link\\\":\\\"7\\\",\\\"value\\\":\\\"1\\\"},\\n                    {\\\"node\\\":\\\"53\\\",\\\"link\\\":\\\"7\\\",\\\"value\\\":\\\"1\\\"},\\n                    {\\\"node\\\":\\\"54\\\",\\\"link\\\":\\\"7\\\",\\\"value\\\":\\\"1\\\"},\\n                    {\\\"node\\\":\\\"54\\\",\\\"link\\\":\\\"20\\\",\\\"value\\\":\\\"1\\\"},\\n                    {\\\"node\\\":\\\"55\\\",\\\"link\\\":\\\"7\\\",\\\"value\\\":\\\"1\\\"},\\n                    {\\\"node\\\":\\\"55\\\",\\\"link\\\":\\\"20\\\",\\\"value\\\":\\\"1\\\"},\\n                    {\\\"node\\\":\\\"56\\\",\\\"link\\\":\\\"7\\\",\\\"value\\\":\\\"1\\\"},\\n                    {\\\"node\\\":\\\"57\\\",\\\"link\\\":\\\"7\\\",\\\"value\\\":\\\"1\\\"},\\n                    {\\\"node\\\":\\\"57\\\",\\\"link\\\":\\\"18\\\",\\\"value\\\":\\\"1\\\"},\\n                    {\\\"node\\\":\\\"58\\\",\\\"link\\\":\\\"7\\\",\\\"value\\\":\\\"1\\\"},\\n                    {\\\"node\\\":\\\"58\\\",\\\"link\\\":\\\"20\\\",\\\"value\\\":\\\"1\\\"},\\n                    {\\\"node\\\":\\\"59\\\",\\\"link\\\":\\\"7\\\",\\\"value\\\":\\\"1\\\"},\\n                    {\\\"node\\\":\\\"59\\\",\\\"link\\\":\\\"20\\\",\\\"value\\\":\\\"1\\\"},\\n                    {\\\"node\\\":\\\"60\\\",\\\"link\\\":\\\"7\\\",\\\"value\\\":\\\"1\\\"},\\n                    {\\\"node\\\":\\\"61\\\",\\\"link\\\":\\\"7\\\",\\\"value\\\":\\\"1\\\"},\\n                    {\\\"node\\\":\\\"62\\\",\\\"link\\\":\\\"7\\\",\\\"value\\\":\\\"1\\\"},\\n                    {\\\"node\\\":\\\"62\\\",\\\"link\\\":\\\"20\\\",\\\"value\\\":\\\"1\\\"},\\n                    {\\\"node\\\":\\\"63\\\",\\\"link\\\":\\\"7\\\",\\\"value\\\":\\\"1\\\"},\\n                    {\\\"node\\\":\\\"64\\\",\\\"link\\\":\\\"7\\\",\\\"value\\\":\\\"1\\\"},\\n                    {\\\"node\\\":\\\"64\\\",\\\"link\\\":\\\"20\\\",\\\"value\\\":\\\"1\\\"},\\n                    {\\\"node\\\":\\\"65\\\",\\\"link\\\":\\\"7\\\",\\\"value\\\":\\\"1\\\"},\\n                    {\\\"node\\\":\\\"66\\\",\\\"link\\\":\\\"7\\\",\\\"value\\\":\\\"1\\\"},\\n                    {\\\"node\\\":\\\"66\\\",\\\"link\\\":\\\"20\\\",\\\"value\\\":\\\"1\\\"},\\n                    {\\\"node\\\":\\\"67\\\",\\\"link\\\":\\\"7\\\",\\\"value\\\":\\\"1\\\"},\\n                    {\\\"node\\\":\\\"68\\\",\\\"link\\\":\\\"7\\\",\\\"value\\\":\\\"1\\\"},\\n                    {\\\"node\\\":\\\"69\\\",\\\"link\\\":\\\"7\\\",\\\"value\\\":\\\"1\\\"},\\n                    {\\\"node\\\":\\\"69\\\",\\\"link\\\":\\\"20\\\",\\\"value\\\":\\\"1\\\"},\\n                    {\\\"node\\\":\\\"70\\\",\\\"link\\\":\\\"7\\\",\\\"value\\\":\\\"1\\\"},\\n                    {\\\"node\\\":\\\"70\\\",\\\"link\\\":\\\"20\\\",\\\"value\\\":\\\"1\\\"},\\n                    {\\\"node\\\":\\\"71\\\",\\\"link\\\":\\\"7\\\",\\\"value\\\":\\\"1\\\"},\\n                    {\\\"node\\\":\\\"71\\\",\\\"link\\\":\\\"20\\\",\\\"value\\\":\\\"1\\\"},\\n                    {\\\"node\\\":\\\"72\\\",\\\"link\\\":\\\"8\\\",\\\"value\\\":\\\"1\\\"},\\n                    {\\\"node\\\":\\\"73\\\",\\\"link\\\":\\\"8\\\",\\\"value\\\":\\\"1\\\"},\\n                    {\\\"node\\\":\\\"74\\\",\\\"link\\\":\\\"9\\\",\\\"value\\\":\\\"1\\\"},\\n                    {\\\"node\\\":\\\"74\\\",\\\"link\\\":\\\"21\\\",\\\"value\\\":\\\"1\\\"},\\n                    {\\\"node\\\":\\\"75\\\",\\\"link\\\":\\\"10\\\",\\\"value\\\":\\\"1\\\"},\\n                    {\\\"node\\\":\\\"76\\\",\\\"link\\\":\\\"10\\\",\\\"value\\\":\\\"1\\\"},\\n                    {\\\"node\\\":\\\"77\\\",\\\"link\\\":\\\"10\\\",\\\"value\\\":\\\"1\\\"},\\n                    {\\\"node\\\":\\\"78\\\",\\\"link\\\":\\\"10\\\",\\\"value\\\":\\\"1\\\"},\\n                    {\\\"node\\\":\\\"79\\\",\\\"link\\\":\\\"10\\\",\\\"value\\\":\\\"1\\\"},\\n                    {\\\"node\\\":\\\"80\\\",\\\"link\\\":\\\"10\\\",\\\"value\\\":\\\"1\\\"},\\n                    {\\\"node\\\":\\\"80\\\",\\\"link\\\":\\\"16\\\",\\\"value\\\":\\\"1\\\"},\\n                    {\\\"node\\\":\\\"81\\\",\\\"link\\\":\\\"10\\\",\\\"value\\\":\\\"1\\\"},\\n                    {\\\"node\\\":\\\"82\\\",\\\"link\\\":\\\"10\\\",\\\"value\\\":\\\"1\\\"},\\n                    {\\\"node\\\":\\\"83\\\",\\\"link\\\":\\\"10\\\",\\\"value\\\":\\\"1\\\"},\\n                    {\\\"node\\\":\\\"84\\\",\\\"link\\\":\\\"10\\\",\\\"value\\\":\\\"1\\\"},\\n                    {\\\"node\\\":\\\"85\\\",\\\"link\\\":\\\"11\\\",\\\"value\\\":\\\"1\\\"},\\n                    {\\\"node\\\":\\\"86\\\",\\\"link\\\":\\\"11\\\",\\\"value\\\":\\\"1\\\"},\\n                    {\\\"node\\\":\\\"87\\\",\\\"link\\\":\\\"11\\\",\\\"value\\\":\\\"1\\\"},\\n                    {\\\"node\\\":\\\"88\\\",\\\"link\\\":\\\"11\\\",\\\"value\\\":\\\"1\\\"},\\n                    {\\\"node\\\":\\\"89\\\",\\\"link\\\":\\\"12\\\",\\\"value\\\":\\\"1\\\"},\\n                    {\\\"node\\\":\\\"90\\\",\\\"link\\\":\\\"12\\\",\\\"value\\\":\\\"1\\\"},\\n                    {\\\"node\\\":\\\"91\\\",\\\"link\\\":\\\"12\\\",\\\"value\\\":\\\"1\\\"},\\n                    {\\\"node\\\":\\\"92\\\",\\\"link\\\":\\\"12\\\",\\\"value\\\":\\\"1\\\"},\\n                    {\\\"node\\\":\\\"93\\\",\\\"link\\\":\\\"12\\\",\\\"value\\\":\\\"1\\\"},\\n                    {\\\"node\\\":\\\"94\\\",\\\"link\\\":\\\"12\\\",\\\"value\\\":\\\"1\\\"},\\n                    {\\\"node\\\":\\\"95\\\",\\\"link\\\":\\\"12\\\",\\\"value\\\":\\\"1\\\"},\\n                    {\\\"node\\\":\\\"96\\\",\\\"link\\\":\\\"12\\\",\\\"value\\\":\\\"1\\\"},\\n                    {\\\"node\\\":\\\"97\\\",\\\"link\\\":\\\"12\\\",\\\"value\\\":\\\"1\\\"},\\n                    {\\\"node\\\":\\\"98\\\",\\\"link\\\":\\\"12\\\",\\\"value\\\":\\\"1\\\"},\\n                    {\\\"node\\\":\\\"99\\\",\\\"link\\\":\\\"12\\\",\\\"value\\\":\\\"1\\\"},\\n                    {\\\"node\\\":\\\"100\\\",\\\"link\\\":\\\"12\\\",\\\"value\\\":\\\"1\\\"},\\n                    {\\\"node\\\":\\\"101\\\",\\\"link\\\":\\\"12\\\",\\\"value\\\":\\\"1\\\"},\\n                    {\\\"node\\\":\\\"102\\\",\\\"link\\\":\\\"12\\\",\\\"value\\\":\\\"1\\\"},\\n                    {\\\"node\\\":\\\"103\\\",\\\"link\\\":\\\"12\\\",\\\"value\\\":\\\"1\\\"},\\n                    {\\\"node\\\":\\\"104\\\",\\\"link\\\":\\\"12\\\",\\\"value\\\":\\\"1\\\"},\\n                    {\\\"node\\\":\\\"105\\\",\\\"link\\\":\\\"12\\\",\\\"value\\\":\\\"1\\\"},\\n                    {\\\"node\\\":\\\"106\\\",\\\"link\\\":\\\"12\\\",\\\"value\\\":\\\"1\\\"},\\n                    {\\\"node\\\":\\\"107\\\",\\\"link\\\":\\\"12\\\",\\\"value\\\":\\\"1\\\"},\\n                    {\\\"node\\\":\\\"108\\\",\\\"link\\\":\\\"12\\\",\\\"value\\\":\\\"1\\\"},\\n                    {\\\"node\\\":\\\"109\\\",\\\"link\\\":\\\"12\\\",\\\"value\\\":\\\"1\\\"},\\n                    {\\\"node\\\":\\\"110\\\",\\\"link\\\":\\\"12\\\",\\\"value\\\":\\\"1\\\"},\\n                    {\\\"node\\\":\\\"111\\\",\\\"link\\\":\\\"12\\\",\\\"value\\\":\\\"1\\\"},\\n                    {\\\"node\\\":\\\"112\\\",\\\"link\\\":\\\"12\\\",\\\"value\\\":\\\"1\\\"},\\n                    {\\\"node\\\":\\\"112\\\",\\\"link\\\":\\\"16\\\",\\\"value\\\":\\\"1\\\"},\\n                    {\\\"node\\\":\\\"113\\\",\\\"link\\\":\\\"12\\\",\\\"value\\\":\\\"1\\\"},\\n                    {\\\"node\\\":\\\"114\\\",\\\"link\\\":\\\"12\\\",\\\"value\\\":\\\"1\\\"},\\n                    {\\\"node\\\":\\\"115\\\",\\\"link\\\":\\\"12\\\",\\\"value\\\":\\\"1\\\"},\\n                    {\\\"node\\\":\\\"116\\\",\\\"link\\\":\\\"13\\\",\\\"value\\\":\\\"1\\\"},\\n                    {\\\"node\\\":\\\"117\\\",\\\"link\\\":\\\"14\\\",\\\"value\\\":\\\"1\\\"},\\n                    {\\\"node\\\":\\\"118\\\",\\\"link\\\":\\\"14\\\",\\\"value\\\":\\\"1\\\"},\\n                    {\\\"node\\\":\\\"119\\\",\\\"link\\\":\\\"14\\\",\\\"value\\\":\\\"1\\\"},\\n                    {\\\"node\\\":\\\"120\\\",\\\"link\\\":\\\"14\\\",\\\"value\\\":\\\"1\\\"},\\n                    {\\\"node\\\":\\\"121\\\",\\\"link\\\":\\\"14\\\",\\\"value\\\":\\\"1\\\"},\\n                    {\\\"node\\\":\\\"122\\\",\\\"link\\\":\\\"15\\\",\\\"value\\\":\\\"1\\\"},\\n                    {\\\"node\\\":\\\"123\\\",\\\"link\\\":\\\"15\\\",\\\"value\\\":\\\"1\\\"},\\n                    {\\\"node\\\":\\\"124\\\",\\\"link\\\":\\\"16\\\",\\\"value\\\":\\\"1\\\"},\\n                    {\\\"node\\\":\\\"125\\\",\\\"link\\\":\\\"16\\\",\\\"value\\\":\\\"1\\\"},\\n                    {\\\"node\\\":\\\"126\\\",\\\"link\\\":\\\"16\\\",\\\"value\\\":\\\"1\\\"},\\n                    {\\\"node\\\":\\\"126\\\",\\\"link\\\":\\\"17\\\",\\\"value\\\":\\\"1\\\"},\\n                    {\\\"node\\\":\\\"127\\\",\\\"link\\\":\\\"16\\\",\\\"value\\\":\\\"1\\\"},\\n                    {\\\"node\\\":\\\"128\\\",\\\"link\\\":\\\"16\\\",\\\"value\\\":\\\"1\\\"},\\n                    {\\\"node\\\":\\\"129\\\",\\\"link\\\":\\\"16\\\",\\\"value\\\":\\\"1\\\"},\\n                    {\\\"node\\\":\\\"130\\\",\\\"link\\\":\\\"16\\\",\\\"value\\\":\\\"1\\\"},\\n                    {\\\"node\\\":\\\"131\\\",\\\"link\\\":\\\"16\\\",\\\"value\\\":\\\"1\\\"},\\n                    {\\\"node\\\":\\\"132\\\",\\\"link\\\":\\\"16\\\",\\\"value\\\":\\\"1\\\"},\\n                    {\\\"node\\\":\\\"133\\\",\\\"link\\\":\\\"16\\\",\\\"value\\\":\\\"1\\\"},\\n                    {\\\"node\\\":\\\"134\\\",\\\"link\\\":\\\"16\\\",\\\"value\\\":\\\"1\\\"},\\n                    {\\\"node\\\":\\\"135\\\",\\\"link\\\":\\\"16\\\",\\\"value\\\":\\\"1\\\"},\\n                    {\\\"node\\\":\\\"136\\\",\\\"link\\\":\\\"16\\\",\\\"value\\\":\\\"1\\\"},\\n                    {\\\"node\\\":\\\"137\\\",\\\"link\\\":\\\"16\\\",\\\"value\\\":\\\"1\\\"},\\n                    {\\\"node\\\":\\\"138\\\",\\\"link\\\":\\\"16\\\",\\\"value\\\":\\\"1\\\"},\\n                    {\\\"node\\\":\\\"139\\\",\\\"link\\\":\\\"16\\\",\\\"value\\\":\\\"1\\\"},\\n                    {\\\"node\\\":\\\"140\\\",\\\"link\\\":\\\"16\\\",\\\"value\\\":\\\"1\\\"},\\n                    {\\\"node\\\":\\\"141\\\",\\\"link\\\":\\\"16\\\",\\\"value\\\":\\\"1\\\"},\\n                    {\\\"node\\\":\\\"142\\\",\\\"link\\\":\\\"16\\\",\\\"value\\\":\\\"1\\\"},\\n                    {\\\"node\\\":\\\"143\\\",\\\"link\\\":\\\"16\\\",\\\"value\\\":\\\"1\\\"},\\n                    {\\\"node\\\":\\\"144\\\",\\\"link\\\":\\\"16\\\",\\\"value\\\":\\\"1\\\"},\\n                    {\\\"node\\\":\\\"145\\\",\\\"link\\\":\\\"16\\\",\\\"value\\\":\\\"1\\\"},\\n                    {\\\"node\\\":\\\"146\\\",\\\"link\\\":\\\"16\\\",\\\"value\\\":\\\"1\\\"},\\n                    {\\\"node\\\":\\\"147\\\",\\\"link\\\":\\\"16\\\",\\\"value\\\":\\\"1\\\"},\\n                    {\\\"node\\\":\\\"148\\\",\\\"link\\\":\\\"16\\\",\\\"value\\\":\\\"1\\\"},\\n                    {\\\"node\\\":\\\"149\\\",\\\"link\\\":\\\"16\\\",\\\"value\\\":\\\"1\\\"},\\n                    {\\\"node\\\":\\\"150\\\",\\\"link\\\":\\\"16\\\",\\\"value\\\":\\\"1\\\"},\\n                    {\\\"node\\\":\\\"151\\\",\\\"link\\\":\\\"16\\\",\\\"value\\\":\\\"1\\\"},\\n                    {\\\"node\\\":\\\"152\\\",\\\"link\\\":\\\"16\\\",\\\"value\\\":\\\"1\\\"},\\n                    {\\\"node\\\":\\\"153\\\",\\\"link\\\":\\\"16\\\",\\\"value\\\":\\\"1\\\"},\\n                    {\\\"node\\\":\\\"154\\\",\\\"link\\\":\\\"16\\\",\\\"value\\\":\\\"1\\\"},\\n                    {\\\"node\\\":\\\"155\\\",\\\"link\\\":\\\"16\\\",\\\"value\\\":\\\"1\\\"},\\n                    {\\\"node\\\":\\\"156\\\",\\\"link\\\":\\\"16\\\",\\\"value\\\":\\\"1\\\"},\\n                    {\\\"node\\\":\\\"157\\\",\\\"link\\\":\\\"16\\\",\\\"value\\\":\\\"1\\\"},\\n                    {\\\"node\\\":\\\"158\\\",\\\"link\\\":\\\"16\\\",\\\"value\\\":\\\"1\\\"},\\n                    {\\\"node\\\":\\\"159\\\",\\\"link\\\":\\\"16\\\",\\\"value\\\":\\\"1\\\"},\\n                    {\\\"node\\\":\\\"160\\\",\\\"link\\\":\\\"16\\\",\\\"value\\\":\\\"1\\\"},\\n                    {\\\"node\\\":\\\"161\\\",\\\"link\\\":\\\"16\\\",\\\"value\\\":\\\"1\\\"},\\n                    {\\\"node\\\":\\\"162\\\",\\\"link\\\":\\\"16\\\",\\\"value\\\":\\\"1\\\"},\\n                    {\\\"node\\\":\\\"163\\\",\\\"link\\\":\\\"16\\\",\\\"value\\\":\\\"1\\\"},\\n                    {\\\"node\\\":\\\"164\\\",\\\"link\\\":\\\"16\\\",\\\"value\\\":\\\"1\\\"},\\n                    {\\\"node\\\":\\\"165\\\",\\\"link\\\":\\\"16\\\",\\\"value\\\":\\\"1\\\"},\\n                    {\\\"node\\\":\\\"166\\\",\\\"link\\\":\\\"16\\\",\\\"value\\\":\\\"1\\\"},\\n                    {\\\"node\\\":\\\"166\\\",\\\"link\\\":\\\"18\\\",\\\"value\\\":\\\"1\\\"},\\n                    {\\\"node\\\":\\\"167\\\",\\\"link\\\":\\\"16\\\",\\\"value\\\":\\\"1\\\"},\\n                    {\\\"node\\\":\\\"168\\\",\\\"link\\\":\\\"16\\\",\\\"value\\\":\\\"1\\\"},\\n                    {\\\"node\\\":\\\"169\\\",\\\"link\\\":\\\"16\\\",\\\"value\\\":\\\"1\\\"},\\n                    {\\\"node\\\":\\\"170\\\",\\\"link\\\":\\\"16\\\",\\\"value\\\":\\\"1\\\"},\\n                    {\\\"node\\\":\\\"171\\\",\\\"link\\\":\\\"16\\\",\\\"value\\\":\\\"1\\\"},\\n                    {\\\"node\\\":\\\"172\\\",\\\"link\\\":\\\"16\\\",\\\"value\\\":\\\"1\\\"},\\n                    {\\\"node\\\":\\\"173\\\",\\\"link\\\":\\\"16\\\",\\\"value\\\":\\\"1\\\"},\\n                    {\\\"node\\\":\\\"174\\\",\\\"link\\\":\\\"16\\\",\\\"value\\\":\\\"1\\\"},\\n                    {\\\"node\\\":\\\"174\\\",\\\"link\\\":\\\"18\\\",\\\"value\\\":\\\"1\\\"},\\n                    {\\\"node\\\":\\\"175\\\",\\\"link\\\":\\\"16\\\",\\\"value\\\":\\\"1\\\"},\\n                    {\\\"node\\\":\\\"176\\\",\\\"link\\\":\\\"16\\\",\\\"value\\\":\\\"1\\\"},\\n                    {\\\"node\\\":\\\"177\\\",\\\"link\\\":\\\"16\\\",\\\"value\\\":\\\"1\\\"},\\n                    {\\\"node\\\":\\\"178\\\",\\\"link\\\":\\\"16\\\",\\\"value\\\":\\\"1\\\"},\\n                    {\\\"node\\\":\\\"179\\\",\\\"link\\\":\\\"16\\\",\\\"value\\\":\\\"1\\\"},\\n                    {\\\"node\\\":\\\"180\\\",\\\"link\\\":\\\"16\\\",\\\"value\\\":\\\"1\\\"},\\n                    {\\\"node\\\":\\\"181\\\",\\\"link\\\":\\\"16\\\",\\\"value\\\":\\\"1\\\"},\\n                    {\\\"node\\\":\\\"182\\\",\\\"link\\\":\\\"16\\\",\\\"value\\\":\\\"1\\\"},\\n                    {\\\"node\\\":\\\"183\\\",\\\"link\\\":\\\"16\\\",\\\"value\\\":\\\"1\\\"},\\n                    {\\\"node\\\":\\\"184\\\",\\\"link\\\":\\\"16\\\",\\\"value\\\":\\\"1\\\"},\\n                    {\\\"node\\\":\\\"185\\\",\\\"link\\\":\\\"16\\\",\\\"value\\\":\\\"1\\\"},\\n                    {\\\"node\\\":\\\"186\\\",\\\"link\\\":\\\"16\\\",\\\"value\\\":\\\"1\\\"},\\n                    {\\\"node\\\":\\\"187\\\",\\\"link\\\":\\\"16\\\",\\\"value\\\":\\\"1\\\"},\\n                    {\\\"node\\\":\\\"188\\\",\\\"link\\\":\\\"16\\\",\\\"value\\\":\\\"1\\\"},\\n                    {\\\"node\\\":\\\"189\\\",\\\"link\\\":\\\"16\\\",\\\"value\\\":\\\"1\\\"},\\n                    {\\\"node\\\":\\\"189\\\",\\\"link\\\":\\\"17\\\",\\\"value\\\":\\\"1\\\"},\\n                    {\\\"node\\\":\\\"190\\\",\\\"link\\\":\\\"16\\\",\\\"value\\\":\\\"1\\\"},\\n                    {\\\"node\\\":\\\"191\\\",\\\"link\\\":\\\"16\\\",\\\"value\\\":\\\"1\\\"},\\n                    {\\\"node\\\":\\\"192\\\",\\\"link\\\":\\\"16\\\",\\\"value\\\":\\\"1\\\"},\\n                    {\\\"node\\\":\\\"193\\\",\\\"link\\\":\\\"16\\\",\\\"value\\\":\\\"1\\\"},\\n                    {\\\"node\\\":\\\"193\\\",\\\"link\\\":\\\"17\\\",\\\"value\\\":\\\"1\\\"},\\n                    {\\\"node\\\":\\\"194\\\",\\\"link\\\":\\\"16\\\",\\\"value\\\":\\\"1\\\"},\\n                    {\\\"node\\\":\\\"194\\\",\\\"link\\\":\\\"17\\\",\\\"value\\\":\\\"1\\\"},\\n                    {\\\"node\\\":\\\"195\\\",\\\"link\\\":\\\"16\\\",\\\"value\\\":\\\"1\\\"},\\n                    {\\\"node\\\":\\\"196\\\",\\\"link\\\":\\\"16\\\",\\\"value\\\":\\\"1\\\"},\\n                    {\\\"node\\\":\\\"197\\\",\\\"link\\\":\\\"16\\\",\\\"value\\\":\\\"1\\\"},\\n                    {\\\"node\\\":\\\"198\\\",\\\"link\\\":\\\"16\\\",\\\"value\\\":\\\"1\\\"},\\n                    {\\\"node\\\":\\\"199\\\",\\\"link\\\":\\\"16\\\",\\\"value\\\":\\\"1\\\"},\\n                    {\\\"node\\\":\\\"200\\\",\\\"link\\\":\\\"16\\\",\\\"value\\\":\\\"1\\\"},\\n                    {\\\"node\\\":\\\"200\\\",\\\"link\\\":\\\"17\\\",\\\"value\\\":\\\"1\\\"},\\n                    {\\\"node\\\":\\\"201\\\",\\\"link\\\":\\\"16\\\",\\\"value\\\":\\\"1\\\"},\\n                    {\\\"node\\\":\\\"202\\\",\\\"link\\\":\\\"16\\\",\\\"value\\\":\\\"1\\\"},\\n                    {\\\"node\\\":\\\"203\\\",\\\"link\\\":\\\"16\\\",\\\"value\\\":\\\"1\\\"},\\n                    {\\\"node\\\":\\\"204\\\",\\\"link\\\":\\\"16\\\",\\\"value\\\":\\\"1\\\"},\\n                    {\\\"node\\\":\\\"205\\\",\\\"link\\\":\\\"16\\\",\\\"value\\\":\\\"1\\\"},\\n                    {\\\"node\\\":\\\"205\\\",\\\"link\\\":\\\"17\\\",\\\"value\\\":\\\"1\\\"},\\n                    {\\\"node\\\":\\\"206\\\",\\\"link\\\":\\\"16\\\",\\\"value\\\":\\\"1\\\"},\\n                    {\\\"node\\\":\\\"207\\\",\\\"link\\\":\\\"16\\\",\\\"value\\\":\\\"1\\\"},\\n                    {\\\"node\\\":\\\"208\\\",\\\"link\\\":\\\"16\\\",\\\"value\\\":\\\"1\\\"},\\n                    {\\\"node\\\":\\\"209\\\",\\\"link\\\":\\\"16\\\",\\\"value\\\":\\\"1\\\"},\\n                    {\\\"node\\\":\\\"210\\\",\\\"link\\\":\\\"16\\\",\\\"value\\\":\\\"1\\\"},\\n                    {\\\"node\\\":\\\"211\\\",\\\"link\\\":\\\"16\\\",\\\"value\\\":\\\"1\\\"},\\n                    {\\\"node\\\":\\\"211\\\",\\\"link\\\":\\\"17\\\",\\\"value\\\":\\\"1\\\"},\\n                    {\\\"node\\\":\\\"212\\\",\\\"link\\\":\\\"16\\\",\\\"value\\\":\\\"1\\\"},\\n                    {\\\"node\\\":\\\"213\\\",\\\"link\\\":\\\"16\\\",\\\"value\\\":\\\"1\\\"},\\n                    {\\\"node\\\":\\\"214\\\",\\\"link\\\":\\\"16\\\",\\\"value\\\":\\\"1\\\"},\\n                    {\\\"node\\\":\\\"215\\\",\\\"link\\\":\\\"16\\\",\\\"value\\\":\\\"1\\\"},\\n                    {\\\"node\\\":\\\"215\\\",\\\"link\\\":\\\"18\\\",\\\"value\\\":\\\"1\\\"},\\n                    {\\\"node\\\":\\\"216\\\",\\\"link\\\":\\\"16\\\",\\\"value\\\":\\\"1\\\"},\\n                    {\\\"node\\\":\\\"216\\\",\\\"link\\\":\\\"17\\\",\\\"value\\\":\\\"1\\\"},\\n                    {\\\"node\\\":\\\"217\\\",\\\"link\\\":\\\"16\\\",\\\"value\\\":\\\"1\\\"},\\n                    {\\\"node\\\":\\\"218\\\",\\\"link\\\":\\\"16\\\",\\\"value\\\":\\\"1\\\"},\\n                    {\\\"node\\\":\\\"219\\\",\\\"link\\\":\\\"16\\\",\\\"value\\\":\\\"1\\\"},\\n                    {\\\"node\\\":\\\"220\\\",\\\"link\\\":\\\"16\\\",\\\"value\\\":\\\"1\\\"},\\n                    {\\\"node\\\":\\\"221\\\",\\\"link\\\":\\\"16\\\",\\\"value\\\":\\\"1\\\"},\\n                    {\\\"node\\\":\\\"222\\\",\\\"link\\\":\\\"16\\\",\\\"value\\\":\\\"1\\\"},\\n                    {\\\"node\\\":\\\"223\\\",\\\"link\\\":\\\"16\\\",\\\"value\\\":\\\"1\\\"},\\n                    {\\\"node\\\":\\\"224\\\",\\\"link\\\":\\\"16\\\",\\\"value\\\":\\\"1\\\"},\\n                    {\\\"node\\\":\\\"225\\\",\\\"link\\\":\\\"16\\\",\\\"value\\\":\\\"1\\\"},\\n                    {\\\"node\\\":\\\"226\\\",\\\"link\\\":\\\"16\\\",\\\"value\\\":\\\"1\\\"},\\n                    {\\\"node\\\":\\\"227\\\",\\\"link\\\":\\\"16\\\",\\\"value\\\":\\\"1\\\"},\\n                    {\\\"node\\\":\\\"228\\\",\\\"link\\\":\\\"16\\\",\\\"value\\\":\\\"1\\\"},\\n                    {\\\"node\\\":\\\"229\\\",\\\"link\\\":\\\"16\\\",\\\"value\\\":\\\"1\\\"},\\n                    {\\\"node\\\":\\\"230\\\",\\\"link\\\":\\\"16\\\",\\\"value\\\":\\\"1\\\"},\\n                    {\\\"node\\\":\\\"231\\\",\\\"link\\\":\\\"16\\\",\\\"value\\\":\\\"1\\\"},\\n                    {\\\"node\\\":\\\"232\\\",\\\"link\\\":\\\"16\\\",\\\"value\\\":\\\"1\\\"},\\n                    {\\\"node\\\":\\\"233\\\",\\\"link\\\":\\\"16\\\",\\\"value\\\":\\\"1\\\"},\\n                    {\\\"node\\\":\\\"234\\\",\\\"link\\\":\\\"16\\\",\\\"value\\\":\\\"1\\\"},\\n                    {\\\"node\\\":\\\"235\\\",\\\"link\\\":\\\"16\\\",\\\"value\\\":\\\"1\\\"},\\n                    {\\\"node\\\":\\\"236\\\",\\\"link\\\":\\\"16\\\",\\\"value\\\":\\\"1\\\"},\\n                    {\\\"node\\\":\\\"237\\\",\\\"link\\\":\\\"16\\\",\\\"value\\\":\\\"1\\\"},\\n                    {\\\"node\\\":\\\"238\\\",\\\"link\\\":\\\"16\\\",\\\"value\\\":\\\"1\\\"},\\n                    {\\\"node\\\":\\\"238\\\",\\\"link\\\":\\\"17\\\",\\\"value\\\":\\\"1\\\"},\\n                    {\\\"node\\\":\\\"239\\\",\\\"link\\\":\\\"16\\\",\\\"value\\\":\\\"1\\\"},\\n                    {\\\"node\\\":\\\"240\\\",\\\"link\\\":\\\"16\\\",\\\"value\\\":\\\"1\\\"},\\n                    {\\\"node\\\":\\\"241\\\",\\\"link\\\":\\\"16\\\",\\\"value\\\":\\\"1\\\"},\\n                    {\\\"node\\\":\\\"242\\\",\\\"link\\\":\\\"16\\\",\\\"value\\\":\\\"1\\\"},\\n                    {\\\"node\\\":\\\"243\\\",\\\"link\\\":\\\"16\\\",\\\"value\\\":\\\"1\\\"},\\n                    {\\\"node\\\":\\\"244\\\",\\\"link\\\":\\\"16\\\",\\\"value\\\":\\\"1\\\"},\\n                    {\\\"node\\\":\\\"245\\\",\\\"link\\\":\\\"16\\\",\\\"value\\\":\\\"1\\\"},\\n                    {\\\"node\\\":\\\"246\\\",\\\"link\\\":\\\"16\\\",\\\"value\\\":\\\"1\\\"},\\n                    {\\\"node\\\":\\\"247\\\",\\\"link\\\":\\\"17\\\",\\\"value\\\":\\\"1\\\"},\\n                    {\\\"node\\\":\\\"248\\\",\\\"link\\\":\\\"17\\\",\\\"value\\\":\\\"1\\\"},\\n                    {\\\"node\\\":\\\"249\\\",\\\"link\\\":\\\"17\\\",\\\"value\\\":\\\"1\\\"},\\n                    {\\\"node\\\":\\\"250\\\",\\\"link\\\":\\\"17\\\",\\\"value\\\":\\\"1\\\"},\\n                    {\\\"node\\\":\\\"251\\\",\\\"link\\\":\\\"17\\\",\\\"value\\\":\\\"1\\\"},\\n                    {\\\"node\\\":\\\"252\\\",\\\"link\\\":\\\"17\\\",\\\"value\\\":\\\"1\\\"},\\n                    {\\\"node\\\":\\\"253\\\",\\\"link\\\":\\\"17\\\",\\\"value\\\":\\\"1\\\"},\\n                    {\\\"node\\\":\\\"254\\\",\\\"link\\\":\\\"17\\\",\\\"value\\\":\\\"1\\\"},\\n                    {\\\"node\\\":\\\"255\\\",\\\"link\\\":\\\"17\\\",\\\"value\\\":\\\"1\\\"},\\n                    {\\\"node\\\":\\\"256\\\",\\\"link\\\":\\\"17\\\",\\\"value\\\":\\\"1\\\"},\\n                    {\\\"node\\\":\\\"257\\\",\\\"link\\\":\\\"17\\\",\\\"value\\\":\\\"1\\\"},\\n                    {\\\"node\\\":\\\"258\\\",\\\"link\\\":\\\"17\\\",\\\"value\\\":\\\"1\\\"},\\n                    {\\\"node\\\":\\\"259\\\",\\\"link\\\":\\\"17\\\",\\\"value\\\":\\\"1\\\"},\\n                    {\\\"node\\\":\\\"260\\\",\\\"link\\\":\\\"17\\\",\\\"value\\\":\\\"1\\\"},\\n                    {\\\"node\\\":\\\"261\\\",\\\"link\\\":\\\"17\\\",\\\"value\\\":\\\"1\\\"},\\n                    {\\\"node\\\":\\\"262\\\",\\\"link\\\":\\\"17\\\",\\\"value\\\":\\\"1\\\"},\\n                    {\\\"node\\\":\\\"263\\\",\\\"link\\\":\\\"17\\\",\\\"value\\\":\\\"1\\\"},\\n                    {\\\"node\\\":\\\"264\\\",\\\"link\\\":\\\"17\\\",\\\"value\\\":\\\"1\\\"},\\n                    {\\\"node\\\":\\\"265\\\",\\\"link\\\":\\\"17\\\",\\\"value\\\":\\\"1\\\"},\\n                    {\\\"node\\\":\\\"266\\\",\\\"link\\\":\\\"17\\\",\\\"value\\\":\\\"1\\\"},\\n                    {\\\"node\\\":\\\"267\\\",\\\"link\\\":\\\"17\\\",\\\"value\\\":\\\"1\\\"},\\n                    {\\\"node\\\":\\\"268\\\",\\\"link\\\":\\\"18\\\",\\\"value\\\":\\\"1\\\"},\\n                    {\\\"node\\\":\\\"269\\\",\\\"link\\\":\\\"18\\\",\\\"value\\\":\\\"1\\\"},\\n                    {\\\"node\\\":\\\"270\\\",\\\"link\\\":\\\"18\\\",\\\"value\\\":\\\"1\\\"},\\n                    {\\\"node\\\":\\\"271\\\",\\\"link\\\":\\\"18\\\",\\\"value\\\":\\\"1\\\"},\\n                    {\\\"node\\\":\\\"272\\\",\\\"link\\\":\\\"18\\\",\\\"value\\\":\\\"1\\\"},\\n                    {\\\"node\\\":\\\"273\\\",\\\"link\\\":\\\"19\\\",\\\"value\\\":\\\"1\\\"},\\n                    {\\\"node\\\":\\\"274\\\",\\\"link\\\":\\\"20\\\",\\\"value\\\":\\\"1\\\"},\\n                    {\\\"node\\\":\\\"275\\\",\\\"link\\\":\\\"20\\\",\\\"value\\\":\\\"1\\\"},\\n                    {\\\"node\\\":\\\"276\\\",\\\"link\\\":\\\"20\\\",\\\"value\\\":\\\"1\\\"},\\n                    {\\\"node\\\":\\\"277\\\",\\\"link\\\":\\\"21\\\",\\\"value\\\":\\\"1\\\"},\\n                    {\\\"node\\\":\\\"278\\\",\\\"link\\\":\\\"21\\\",\\\"value\\\":\\\"1\\\"},\\n                    {\\\"node\\\":\\\"279\\\",\\\"link\\\":\\\"21\\\",\\\"value\\\":\\\"1\\\"},\\n                    {\\\"node\\\":\\\"280\\\",\\\"link\\\":\\\"21\\\",\\\"value\\\":\\\"1\\\"},\\n                    {\\\"node\\\":\\\"281\\\",\\\"link\\\":\\\"21\\\",\\\"value\\\":\\\"1\\\"},\\n                    {\\\"node\\\":\\\"282\\\",\\\"link\\\":\\\"22\\\",\\\"value\\\":\\\"1\\\"},\\n                    {\\\"node\\\":\\\"283\\\",\\\"link\\\":\\\"23\\\",\\\"value\\\":\\\"1\\\"},\\n                    {\\\"node\\\":\\\"284\\\",\\\"link\\\":\\\"24\\\",\\\"value\\\":\\\"1\\\"},\\n                    {\\\"node\\\":\\\"285\\\",\\\"link\\\":\\\"24\\\",\\\"value\\\":\\\"1\\\"},\\n                    {\\\"node\\\":\\\"286\\\",\\\"link\\\":\\\"24\\\",\\\"value\\\":\\\"1\\\"}\\n        ]\\n    }},{preferences:{\\\"colorEdges\\\":\\\"default\\\",\\\"colorNodes\\\":\\\"default\\\",\\\"sizeNodes\\\":\\\"default\\\"}},{idColorEdge:\\\"5\\\"});\\n</script>\\n\")"
      ]
     },
     "execution_count": 49,
     "metadata": {},
     "output_type": "execute_result"
    }
   ],
   "source": [
    "plot(fbh)"
   ]
  },
  {
   "cell_type": "markdown",
   "metadata": {
    "slideshow": {
     "slide_type": "slide"
    }
   },
   "source": [
    "### Find Facebook communities"
   ]
  },
  {
   "cell_type": "code",
   "execution_count": 51,
   "metadata": {
    "slideshow": {
     "slide_type": "fragment"
    }
   },
   "outputs": [
    {
     "name": "stdout",
     "output_type": "stream",
     "text": [
      "bestnum: 5 -- maxm: 0.10404165061911756\n"
     ]
    }
   ],
   "source": [
    "bestp = findcommunities(fbh, CFModularityRandom(2,100))\n",
    "bestm = bestp.bm\n",
    "bestn = length(bestp.bp)\n",
    "\n",
    "for i=3:20\n",
    "    pmethod = CFModularityRandom(i,100)\n",
    "    communities = findcommunities(fbh, pmethod)\n",
    "    \n",
    "    if communities.bm > bestm\n",
    "        bestm = communities.bm\n",
    "        bestn = i\n",
    "        bestp = communities.bp\n",
    "    end\n",
    "end\n",
    "\n",
    "println(\"bestnum: $(bestn) -- maxm: $(bestm)\")"
   ]
  },
  {
   "cell_type": "code",
   "execution_count": 52,
   "metadata": {
    "slideshow": {
     "slide_type": "slide"
    }
   },
   "outputs": [
    {
     "data": {
      "text/plain": [
       "5-element Array{Set{Int64},1}:\n",
       " Set([124, 89, 210, 11, 39, 46, 151, 95, 111, 285  …  153, 217, 76, 98, 107, 21, 208, 281, 129, 22, 243])   \n",
       " Set([68, 148, 241, 267, 134, 170, 58, 239, 8, 173  …  180, 274, 24, 92, 156, 271, 261, 5, 23, 163, 56])    \n",
       " Set([2, 158, 215, 66, 181, 59, 207, 247, 139, 90  …  191, 177, 251, 116, 277, 149, 63, 218, 276, 164, 245])\n",
       " Set([275, 85, 42, 193, 131, 155, 142, 201, 20, 14  …  19, 162, 186, 51, 88, 240, 53, 123, 97, 108, 15])    \n",
       " Set([197, 136, 25, 55, 160, 29, 144, 249, 150, 209  …  161, 268, 6, 73, 260, 222, 255, 72, 28, 27, 41])    "
      ]
     },
     "execution_count": 52,
     "metadata": {},
     "output_type": "execute_result"
    }
   ],
   "source": [
    "bestp"
   ]
  },
  {
   "cell_type": "markdown",
   "metadata": {
    "slideshow": {
     "slide_type": "slide"
    }
   },
   "source": [
    "### Hyperedges Size Distribution"
   ]
  },
  {
   "cell_type": "code",
   "execution_count": 60,
   "metadata": {
    "slideshow": {
     "slide_type": "skip"
    }
   },
   "outputs": [
    {
     "name": "stdout",
     "output_type": "stream",
     "text": [
      "\u001b[32m\u001b[1m Resolving\u001b[22m\u001b[39m package versions...\n",
      "\u001b[32m\u001b[1m  Updating\u001b[22m\u001b[39m `~/.julia/environments/v1.1/Project.toml`\n",
      "\u001b[90m [no changes]\u001b[39m\n",
      "\u001b[32m\u001b[1m  Updating\u001b[22m\u001b[39m `~/.julia/environments/v1.1/Manifest.toml`\n",
      "\u001b[90m [no changes]\u001b[39m\n"
     ]
    }
   ],
   "source": [
    "] add StatsBase"
   ]
  },
  {
   "cell_type": "code",
   "execution_count": 61,
   "metadata": {},
   "outputs": [
    {
     "name": "stdout",
     "output_type": "stream",
     "text": [
      "\u001b[32m\u001b[1m Resolving\u001b[22m\u001b[39m package versions...\n",
      "\u001b[32m\u001b[1m  Updating\u001b[22m\u001b[39m `~/.julia/environments/v1.1/Project.toml`\n",
      " \u001b[90m [d330b81b]\u001b[39m\u001b[92m + PyPlot v2.8.2\u001b[39m\n",
      "\u001b[32m\u001b[1m  Updating\u001b[22m\u001b[39m `~/.julia/environments/v1.1/Manifest.toml`\n",
      "\u001b[90m [no changes]\u001b[39m\n"
     ]
    }
   ],
   "source": [
    "] add PyPlot"
   ]
  },
  {
   "cell_type": "code",
   "execution_count": 62,
   "metadata": {
    "slideshow": {
     "slide_type": "fragment"
    }
   },
   "outputs": [
    {
     "data": {
      "text/plain": [
       "Dict{Int64,Int64} with 14 entries:\n",
       "  30  => 1\n",
       "  32  => 1\n",
       "  2   => 2\n",
       "  9   => 2\n",
       "  133 => 1\n",
       "  10  => 1\n",
       "  17  => 1\n",
       "  6   => 1\n",
       "  4   => 1\n",
       "  3   => 2\n",
       "  5   => 1\n",
       "  20  => 2\n",
       "  13  => 1\n",
       "  1   => 7"
      ]
     },
     "execution_count": 62,
     "metadata": {},
     "output_type": "execute_result"
    }
   ],
   "source": [
    "using StatsBase\n",
    "\n",
    "he_data = Dict{Int, Int}()\n",
    "\n",
    "for he=1:nhe(fbh)\n",
    "    push!(\n",
    "        he_data,\n",
    "        he => length(getvertices(fbh, he)))\n",
    "end\n",
    "\n",
    "he_data;\n",
    "he_distribution = countmap(collect(values(he_data)))"
   ]
  },
  {
   "cell_type": "code",
   "execution_count": 64,
   "metadata": {
    "slideshow": {
     "slide_type": "slide"
    }
   },
   "outputs": [],
   "source": [
    "using PyPlot "
   ]
  },
  {
   "cell_type": "code",
   "execution_count": 65,
   "metadata": {
    "slideshow": {
     "slide_type": "fragment"
    }
   },
   "outputs": [
    {
     "data": {
      "image/png": "[encoded data removed]",
      "text/plain": [
       "Figure(PyObject <Figure size 640x480 with 1 Axes>)"
      ]
     },
     "metadata": {},
     "output_type": "display_data"
    }
   ],
   "source": [
    "PyPlot.title(\"Hyperedges Size Distribution\")\n",
    "PyPlot.xlabel(\"Hyperedges Size\")\n",
    "PyPlot.ylabel(\"Number of hyperedges\")\n",
    "\n",
    "scatter(collect(keys(he_distribution)), collect(values(he_distribution)));"
   ]
  },
  {
   "cell_type": "markdown",
   "metadata": {
    "slideshow": {
     "slide_type": "slide"
    }
   },
   "source": [
    "### Degree Distribution"
   ]
  },
  {
   "cell_type": "code",
   "execution_count": 66,
   "metadata": {
    "slideshow": {
     "slide_type": "fragment"
    }
   },
   "outputs": [
    {
     "data": {
      "text/plain": [
       "Dict{Int64,Int64} with 2 entries:\n",
       "  2 => 39\n",
       "  1 => 247"
      ]
     },
     "execution_count": 66,
     "metadata": {},
     "output_type": "execute_result"
    }
   ],
   "source": [
    "using StatsBase\n",
    "\n",
    "v_data = Dict{Int, Int}()\n",
    "\n",
    "for v=1:nhv(fbh)\n",
    "    push!(\n",
    "        v_data,\n",
    "        v => length(gethyperedges(fbh, v)))\n",
    "end\n",
    "\n",
    "v_data;\n",
    "v_distribution = countmap(collect(values(v_data)))"
   ]
  },
  {
   "cell_type": "markdown",
   "metadata": {
    "slideshow": {
     "slide_type": "slide"
    }
   },
   "source": [
    "# Environment Setup\n",
    "1. Install Julia: https://julialang.org/downloads/\n",
    "2. Install Atom: https://atom.io/\n",
    "3. Install Juno: https://junolab.org\n",
    "\n",
    "You can easily follow all the installation instruction at the following link http://docs.junolab.org/latest/man/installation/."
   ]
  },
  {
   "cell_type": "markdown",
   "metadata": {
    "slideshow": {
     "slide_type": "slide"
    }
   },
   "source": [
    "# How I made this presentation\n",
    "1. Install Jupyter Notebook: https://jupyter.org/\n",
    "2. Enable different cell types through View -> Cell Toolbar\n",
    "    - `Slide` creates a new slide\n",
    "    - `Fragment` creates a new piece within a slide"
   ]
  },
  {
   "cell_type": "markdown",
   "metadata": {
    "slideshow": {
     "slide_type": "slide"
    }
   },
   "source": [
    "# Thank you for your attention\n",
    "#### cspagnuolo@unisa.it"
   ]
  }
 ],
 "metadata": {
  "celltoolbar": "Slideshow",
  "kernelspec": {
   "display_name": "Julia 1.1.0",
   "language": "julia",
   "name": "julia-1.1"
  },
  "language_info": {
   "file_extension": ".jl",
   "mimetype": "application/julia",
   "name": "julia",
   "version": "1.1.0"
  }
 },
 "nbformat": 4,
 "nbformat_minor": 2
}
